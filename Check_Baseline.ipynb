{
 "cells": [
  {
   "cell_type": "code",
   "execution_count": 1,
   "metadata": {
    "collapsed": true
   },
   "outputs": [],
   "source": [
    "import logging\n",
    "import numpy as np\n",
    "import pandas as pd\n",
    "from tqdm import tqdm\n",
    "from pax import core\n",
    "import multihist\n",
    "import sys\n",
    "import os\n",
    "import scipy.integrate as integrate\n",
    "from runDB import get_name\n",
    "import stat\n",
    "import shutil"
   ]
  },
  {
   "cell_type": "code",
   "execution_count": 2,
   "metadata": {
    "collapsed": true
   },
   "outputs": [],
   "source": [
    "def get_run(run):\n",
    "    mypax = core.Processor(config_names='XENON1T', config_dict={\n",
    "        'pax': {\n",
    "            'plugin_group_names': ['input', 'preprocessing'],\n",
    "            'preprocessing':      ['CheckPulses.SortPulses',\n",
    "                                   'CheckPulses.ConcatenateAdjacentPulses',],\n",
    "            'input':              'Zip.ReadZipped',\n",
    "            'encoder_plugin':     None,\n",
    "            #'decoder_plugin':     'BSON.DecodeZBSON',\n",
    "            'input_name':          run\n",
    "        }\n",
    "    })\n",
    "    return mypax"
   ]
  },
  {
   "cell_type": "code",
   "execution_count": 3,
   "metadata": {
    "collapsed": false
   },
   "outputs": [
    {
     "name": "stderr",
     "output_type": "stream",
     "text": [
      "processor MainProcess L66 INFO This is PAX version 6.8.0, running with configuration for XENON1T.\n",
      "ReadZipped MainProcess L102 INFO InputFromFolder: Selecting file /project/lgrandi/xenon1t/spe_acceptance/rawdata/180409_1626/XENON1T-18287-000000000-000000999-000001000.zip (number 1/197 in folder) for reading\n"
     ]
    }
   ],
   "source": [
    "from spe_acceptance import get_name\n",
    "from spe_acceptance import rawdata_dir\n",
    "LED_run=18287\n",
    "run_name = get_name(LED_run)\n",
    "run_name=os.path.join(rawdata_dir, run_name)\n",
    "processor = get_run(run_name)"
   ]
  },
  {
   "cell_type": "code",
   "execution_count": null,
   "metadata": {
    "collapsed": true
   },
   "outputs": [],
   "source": [
    "# generator used to loop over events\n",
    "def get_events(RUN):\n",
    "    for event in RUN.get_events():\n",
    "        event = RUN.process_event(event)\n",
    "        yield event"
   ]
  },
  {
   "cell_type": "code",
   "execution_count": null,
   "metadata": {
    "collapsed": false
   },
   "outputs": [
    {
     "name": "stderr",
     "output_type": "stream",
     "text": [
      "997it [00:38, 37.52it/s]ReadZipped MainProcess L102 INFO InputFromFolder: Selecting file /project/lgrandi/xenon1t/spe_acceptance/rawdata/180409_1626/XENON1T-18287-000001000-000001999-000001000.zip (number 2/197 in folder) for reading\n",
      "2000it [01:14, 37.95it/s]ReadZipped MainProcess L102 INFO InputFromFolder: Selecting file /project/lgrandi/xenon1t/spe_acceptance/rawdata/180409_1626/XENON1T-18287-000002000-000002999-000001000.zip (number 3/197 in folder) for reading\n",
      "2996it [01:53, 33.54it/s]ReadZipped MainProcess L102 INFO InputFromFolder: Selecting file /project/lgrandi/xenon1t/spe_acceptance/rawdata/180409_1626/XENON1T-18287-000003000-000003999-000001000.zip (number 4/197 in folder) for reading\n",
      "3997it [02:29, 37.25it/s]ReadZipped MainProcess L102 INFO InputFromFolder: Selecting file /project/lgrandi/xenon1t/spe_acceptance/rawdata/180409_1626/XENON1T-18287-000004000-000004999-000001000.zip (number 5/197 in folder) for reading\n",
      "4999it [03:06, 37.57it/s]ReadZipped MainProcess L102 INFO InputFromFolder: Selecting file /project/lgrandi/xenon1t/spe_acceptance/rawdata/180409_1626/XENON1T-18287-000005000-000005999-000001000.zip (number 6/197 in folder) for reading\n",
      "6000it [03:43, 39.19it/s]ReadZipped MainProcess L102 INFO InputFromFolder: Selecting file /project/lgrandi/xenon1t/spe_acceptance/rawdata/180409_1626/XENON1T-18287-000006000-000006999-000001000.zip (number 7/197 in folder) for reading\n",
      "7000it [04:19, 37.22it/s]ReadZipped MainProcess L102 INFO InputFromFolder: Selecting file /project/lgrandi/xenon1t/spe_acceptance/rawdata/180409_1626/XENON1T-18287-000007000-000007999-000001000.zip (number 8/197 in folder) for reading\n",
      "7997it [04:57, 39.76it/s]ReadZipped MainProcess L102 INFO InputFromFolder: Selecting file /project/lgrandi/xenon1t/spe_acceptance/rawdata/180409_1626/XENON1T-18287-000008000-000008999-000001000.zip (number 9/197 in folder) for reading\n",
      "8999it [05:33, 37.24it/s]ReadZipped MainProcess L102 INFO InputFromFolder: Selecting file /project/lgrandi/xenon1t/spe_acceptance/rawdata/180409_1626/XENON1T-18287-000009000-000009999-000001000.zip (number 10/197 in folder) for reading\n",
      "9999it [06:12, 33.62it/s]ReadZipped MainProcess L102 INFO InputFromFolder: Selecting file /project/lgrandi/xenon1t/spe_acceptance/rawdata/180409_1626/XENON1T-18287-000010000-000010999-000001000.zip (number 11/197 in folder) for reading\n",
      "10995it [06:48, 33.70it/s]ReadZipped MainProcess L102 INFO InputFromFolder: Selecting file /project/lgrandi/xenon1t/spe_acceptance/rawdata/180409_1626/XENON1T-18287-000011000-000011999-000001000.zip (number 12/197 in folder) for reading\n",
      "11257it [06:58, 26.71it/s]"
     ]
    }
   ],
   "source": [
    "event_generator = get_events(processor)\n",
    "N = processor.get_events()\n",
    "\n",
    "n_channels=254\n",
    "channels=np.ones(n_channels)\n",
    "medians = []\n",
    "baselines = []\n",
    "diff_1=[]\n",
    "diff_2=[]\n",
    "\n",
    "for i in tqdm(N):\n",
    "    event = next(event_generator)\n",
    "    \n",
    "    for ch, p in enumerate(event.pulses):\n",
    "        w=p.raw_data\n",
    "        channels[ch]=p.channel\n",
    "        baseline1 = np.median(p.raw_data)\n",
    "        baseline2 = p.baseline\n",
    "        medians.append(baseline1)\n",
    "        baselines.append(baseline2)\n",
    "        diff_1.append(baseline1-w)\n",
    "        diff_2.append(baseline2-w)\n",
    "        \n",
    "    "
   ]
  },
  {
   "cell_type": "code",
   "execution_count": null,
   "metadata": {
    "collapsed": true
   },
   "outputs": [],
   "source": [
    "plt.hist(diff_1, bins=1000)\n",
    "plt.title(\"With Median\")\n",
    "plt.show()"
   ]
  },
  {
   "cell_type": "code",
   "execution_count": null,
   "metadata": {
    "collapsed": true
   },
   "outputs": [],
   "source": [
    "plt.hist(diff_2, bins=1000)\n",
    "plt.title(\"With Pax\")\n",
    "plt.show()"
   ]
  },
  {
   "cell_type": "code",
   "execution_count": null,
   "metadata": {
    "collapsed": true
   },
   "outputs": [],
   "source": []
  }
 ],
 "metadata": {
  "kernelspec": {
   "display_name": "Python 3",
   "language": "python",
   "name": "python3"
  },
  "language_info": {
   "codemirror_mode": {
    "name": "ipython",
    "version": 3
   },
   "file_extension": ".py",
   "mimetype": "text/x-python",
   "name": "python",
   "nbconvert_exporter": "python",
   "pygments_lexer": "ipython3",
   "version": "3.4.4"
  }
 },
 "nbformat": 4,
 "nbformat_minor": 2
}
