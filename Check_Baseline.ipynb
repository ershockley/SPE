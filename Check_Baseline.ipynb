{
 "cells": [
  {
   "cell_type": "code",
   "execution_count": 1,
   "metadata": {
    "collapsed": true
   },
   "outputs": [],
   "source": [
    "import logging\n",
    "import numpy as np\n",
    "import pandas as pd\n",
    "from tqdm import tqdm\n",
    "from pax import core\n",
    "import multihist\n",
    "import sys\n",
    "import os\n",
    "import scipy.integrate as integrate\n",
    "from runDB import get_name\n",
    "import stat\n",
    "import shutil"
   ]
  },
  {
   "cell_type": "code",
   "execution_count": 2,
   "metadata": {
    "collapsed": true
   },
   "outputs": [],
   "source": [
    "def get_run(run):\n",
    "    mypax = core.Processor(config_names='XENON1T', config_dict={\n",
    "        'pax': {\n",
    "            'plugin_group_names': ['input', 'preprocessing'],\n",
    "            'preprocessing':      ['CheckPulses.SortPulses',\n",
    "                                   'CheckPulses.ConcatenateAdjacentPulses',],\n",
    "            'input':              'Zip.ReadZipped',\n",
    "            'encoder_plugin':     None,\n",
    "            #'decoder_plugin':     'BSON.DecodeZBSON',\n",
    "            'input_name':          run\n",
    "        }\n",
    "    })\n",
    "    return mypax"
   ]
  },
  {
   "cell_type": "code",
   "execution_count": 3,
   "metadata": {
    "collapsed": false
   },
   "outputs": [
    {
     "name": "stderr",
     "output_type": "stream",
     "text": [
      "processor MainProcess L66 INFO This is PAX version 6.8.0, running with configuration for XENON1T.\n",
      "ReadZipped MainProcess L102 INFO InputFromFolder: Selecting file /project/lgrandi/xenon1t/spe_acceptance/rawdata/180409_1626/XENON1T-18287-000000000-000000999-000001000.zip (number 1/197 in folder) for reading\n"
     ]
    }
   ],
   "source": [
    "from spe_acceptance import get_name\n",
    "from spe_acceptance import rawdata_dir\n",
    "LED_run=18287\n",
    "run_name = get_name(LED_run)\n",
    "run_name=os.path.join(rawdata_dir, run_name)\n",
    "processor = get_run(run_name)"
   ]
  },
  {
   "cell_type": "code",
   "execution_count": null,
   "metadata": {
    "collapsed": true
   },
   "outputs": [],
   "source": [
    "# generator used to loop over events\n",
    "def get_events(RUN):\n",
    "    for event in RUN.get_events():\n",
    "        event = RUN.process_event(event)\n",
    "        yield event"
   ]
  },
  {
   "cell_type": "code",
   "execution_count": null,
   "metadata": {
    "collapsed": false
   },
   "outputs": [
    {
     "name": "stderr",
     "output_type": "stream",
     "text": [
      "998it [00:35, 41.49it/s]ReadZipped MainProcess L102 INFO InputFromFolder: Selecting file /project/lgrandi/xenon1t/spe_acceptance/rawdata/180409_1626/XENON1T-18287-000001000-000001999-000001000.zip (number 2/197 in folder) for reading\n",
      "1997it [01:10, 31.78it/s]ReadZipped MainProcess L102 INFO InputFromFolder: Selecting file /project/lgrandi/xenon1t/spe_acceptance/rawdata/180409_1626/XENON1T-18287-000002000-000002999-000001000.zip (number 3/197 in folder) for reading\n",
      "2995it [01:44, 34.79it/s]ReadZipped MainProcess L102 INFO InputFromFolder: Selecting file /project/lgrandi/xenon1t/spe_acceptance/rawdata/180409_1626/XENON1T-18287-000003000-000003999-000001000.zip (number 4/197 in folder) for reading\n",
      "4000it [02:17, 35.06it/s]ReadZipped MainProcess L102 INFO InputFromFolder: Selecting file /project/lgrandi/xenon1t/spe_acceptance/rawdata/180409_1626/XENON1T-18287-000004000-000004999-000001000.zip (number 5/197 in folder) for reading\n",
      "4999it [02:52, 42.77it/s]ReadZipped MainProcess L102 INFO InputFromFolder: Selecting file /project/lgrandi/xenon1t/spe_acceptance/rawdata/180409_1626/XENON1T-18287-000005000-000005999-000001000.zip (number 6/197 in folder) for reading\n",
      "5995it [03:26, 39.00it/s]ReadZipped MainProcess L102 INFO InputFromFolder: Selecting file /project/lgrandi/xenon1t/spe_acceptance/rawdata/180409_1626/XENON1T-18287-000006000-000006999-000001000.zip (number 7/197 in folder) for reading\n",
      "6996it [03:58, 40.47it/s]ReadZipped MainProcess L102 INFO InputFromFolder: Selecting file /project/lgrandi/xenon1t/spe_acceptance/rawdata/180409_1626/XENON1T-18287-000007000-000007999-000001000.zip (number 8/197 in folder) for reading\n",
      "7996it [04:33, 39.74it/s]ReadZipped MainProcess L102 INFO InputFromFolder: Selecting file /project/lgrandi/xenon1t/spe_acceptance/rawdata/180409_1626/XENON1T-18287-000008000-000008999-000001000.zip (number 9/197 in folder) for reading\n",
      "8994it [05:05, 34.54it/s]ReadZipped MainProcess L102 INFO InputFromFolder: Selecting file /project/lgrandi/xenon1t/spe_acceptance/rawdata/180409_1626/XENON1T-18287-000009000-000009999-000001000.zip (number 10/197 in folder) for reading\n",
      "10000it [05:39, 41.01it/s]ReadZipped MainProcess L102 INFO InputFromFolder: Selecting file /project/lgrandi/xenon1t/spe_acceptance/rawdata/180409_1626/XENON1T-18287-000010000-000010999-000001000.zip (number 11/197 in folder) for reading\n",
      "10997it [06:13, 39.53it/s]ReadZipped MainProcess L102 INFO InputFromFolder: Selecting file /project/lgrandi/xenon1t/spe_acceptance/rawdata/180409_1626/XENON1T-18287-000011000-000011999-000001000.zip (number 12/197 in folder) for reading\n",
      "11997it [06:46, 40.75it/s]ReadZipped MainProcess L102 INFO InputFromFolder: Selecting file /project/lgrandi/xenon1t/spe_acceptance/rawdata/180409_1626/XENON1T-18287-000012000-000012999-000001000.zip (number 13/197 in folder) for reading\n",
      "12996it [07:19, 37.99it/s]ReadZipped MainProcess L102 INFO InputFromFolder: Selecting file /project/lgrandi/xenon1t/spe_acceptance/rawdata/180409_1626/XENON1T-18287-000013000-000013999-000001000.zip (number 14/197 in folder) for reading\n",
      "13995it [07:53, 38.96it/s]ReadZipped MainProcess L102 INFO InputFromFolder: Selecting file /project/lgrandi/xenon1t/spe_acceptance/rawdata/180409_1626/XENON1T-18287-000014000-000014999-000001000.zip (number 15/197 in folder) for reading\n",
      "15000it [08:25, 41.73it/s]ReadZipped MainProcess L102 INFO InputFromFolder: Selecting file /project/lgrandi/xenon1t/spe_acceptance/rawdata/180409_1626/XENON1T-18287-000015000-000015999-000001000.zip (number 16/197 in folder) for reading\n",
      "15994it [09:01, 39.42it/s]ReadZipped MainProcess L102 INFO InputFromFolder: Selecting file /project/lgrandi/xenon1t/spe_acceptance/rawdata/180409_1626/XENON1T-18287-000016000-000016999-000001000.zip (number 17/197 in folder) for reading\n",
      "16997it [09:34, 40.34it/s]ReadZipped MainProcess L102 INFO InputFromFolder: Selecting file /project/lgrandi/xenon1t/spe_acceptance/rawdata/180409_1626/XENON1T-18287-000017000-000017999-000001000.zip (number 18/197 in folder) for reading\n",
      "17998it [10:06, 40.34it/s]ReadZipped MainProcess L102 INFO InputFromFolder: Selecting file /project/lgrandi/xenon1t/spe_acceptance/rawdata/180409_1626/XENON1T-18287-000018000-000018999-000001000.zip (number 19/197 in folder) for reading\n",
      "18995it [10:40, 37.56it/s]ReadZipped MainProcess L102 INFO InputFromFolder: Selecting file /project/lgrandi/xenon1t/spe_acceptance/rawdata/180409_1626/XENON1T-18287-000019000-000019999-000001000.zip (number 20/197 in folder) for reading\n",
      "19997it [11:13, 40.24it/s]ReadZipped MainProcess L102 INFO InputFromFolder: Selecting file /project/lgrandi/xenon1t/spe_acceptance/rawdata/180409_1626/XENON1T-18287-000020000-000020999-000001000.zip (number 21/197 in folder) for reading\n",
      "21000it [11:48, 41.67it/s]ReadZipped MainProcess L102 INFO InputFromFolder: Selecting file /project/lgrandi/xenon1t/spe_acceptance/rawdata/180409_1626/XENON1T-18287-000021000-000021999-000001000.zip (number 22/197 in folder) for reading\n",
      "21997it [12:21, 37.91it/s]ReadZipped MainProcess L102 INFO InputFromFolder: Selecting file /project/lgrandi/xenon1t/spe_acceptance/rawdata/180409_1626/XENON1T-18287-000022000-000022999-000001000.zip (number 23/197 in folder) for reading\n",
      "22994it [12:53, 42.13it/s]ReadZipped MainProcess L102 INFO InputFromFolder: Selecting file /project/lgrandi/xenon1t/spe_acceptance/rawdata/180409_1626/XENON1T-18287-000023000-000023999-000001000.zip (number 24/197 in folder) for reading\n",
      "23996it [13:28, 36.12it/s]ReadZipped MainProcess L102 INFO InputFromFolder: Selecting file /project/lgrandi/xenon1t/spe_acceptance/rawdata/180409_1626/XENON1T-18287-000024000-000024999-000001000.zip (number 25/197 in folder) for reading\n",
      "24998it [14:01, 41.12it/s]ReadZipped MainProcess L102 INFO InputFromFolder: Selecting file /project/lgrandi/xenon1t/spe_acceptance/rawdata/180409_1626/XENON1T-18287-000025000-000025999-000001000.zip (number 26/197 in folder) for reading\n",
      "25997it [14:34, 40.85it/s]ReadZipped MainProcess L102 INFO InputFromFolder: Selecting file /project/lgrandi/xenon1t/spe_acceptance/rawdata/180409_1626/XENON1T-18287-000026000-000026999-000001000.zip (number 27/197 in folder) for reading\n",
      "26997it [15:09, 38.68it/s]ReadZipped MainProcess L102 INFO InputFromFolder: Selecting file /project/lgrandi/xenon1t/spe_acceptance/rawdata/180409_1626/XENON1T-18287-000027000-000027999-000001000.zip (number 28/197 in folder) for reading\n",
      "27996it [15:41, 41.09it/s]ReadZipped MainProcess L102 INFO InputFromFolder: Selecting file /project/lgrandi/xenon1t/spe_acceptance/rawdata/180409_1626/XENON1T-18287-000028000-000028999-000001000.zip (number 29/197 in folder) for reading\n",
      "28997it [16:15, 37.02it/s]ReadZipped MainProcess L102 INFO InputFromFolder: Selecting file /project/lgrandi/xenon1t/spe_acceptance/rawdata/180409_1626/XENON1T-18287-000029000-000029999-000001000.zip (number 30/197 in folder) for reading\n",
      "29999it [16:48, 41.86it/s]ReadZipped MainProcess L102 INFO InputFromFolder: Selecting file /project/lgrandi/xenon1t/spe_acceptance/rawdata/180409_1626/XENON1T-18287-000030000-000030999-000001000.zip (number 31/197 in folder) for reading\n",
      "31000it [17:21, 42.56it/s]ReadZipped MainProcess L102 INFO InputFromFolder: Selecting file /project/lgrandi/xenon1t/spe_acceptance/rawdata/180409_1626/XENON1T-18287-000031000-000031999-000001000.zip (number 32/197 in folder) for reading\n",
      "31996it [17:56, 35.39it/s]ReadZipped MainProcess L102 INFO InputFromFolder: Selecting file /project/lgrandi/xenon1t/spe_acceptance/rawdata/180409_1626/XENON1T-18287-000032000-000032999-000001000.zip (number 33/197 in folder) for reading\n",
      "32996it [18:30, 40.61it/s]ReadZipped MainProcess L102 INFO InputFromFolder: Selecting file /project/lgrandi/xenon1t/spe_acceptance/rawdata/180409_1626/XENON1T-18287-000033000-000033999-000001000.zip (number 34/197 in folder) for reading\n",
      "33997it [19:02, 40.23it/s]ReadZipped MainProcess L102 INFO InputFromFolder: Selecting file /project/lgrandi/xenon1t/spe_acceptance/rawdata/180409_1626/XENON1T-18287-000034000-000034999-000001000.zip (number 35/197 in folder) for reading\n",
      "34998it [19:37, 41.13it/s]ReadZipped MainProcess L102 INFO InputFromFolder: Selecting file /project/lgrandi/xenon1t/spe_acceptance/rawdata/180409_1626/XENON1T-18287-000035000-000035999-000001000.zip (number 36/197 in folder) for reading\n",
      "35999it [20:09, 41.78it/s]ReadZipped MainProcess L102 INFO InputFromFolder: Selecting file /project/lgrandi/xenon1t/spe_acceptance/rawdata/180409_1626/XENON1T-18287-000036000-000036999-000001000.zip (number 37/197 in folder) for reading\n",
      "36997it [20:43, 34.44it/s]ReadZipped MainProcess L102 INFO InputFromFolder: Selecting file /project/lgrandi/xenon1t/spe_acceptance/rawdata/180409_1626/XENON1T-18287-000037000-000037999-000001000.zip (number 38/197 in folder) for reading\n",
      "179997it [1:41:12, 36.61it/s]ReadZipped MainProcess L102 INFO InputFromFolder: Selecting file /project/lgrandi/xenon1t/spe_acceptance/rawdata/180409_1626/XENON1T-18287-000180000-000180999-000001000.zip (number 181/197 in folder) for reading\n",
      "180997it [1:41:47, 43.13it/s]ReadZipped MainProcess L102 INFO InputFromFolder: Selecting file /project/lgrandi/xenon1t/spe_acceptance/rawdata/180409_1626/XENON1T-18287-000181000-000181999-000001000.zip (number 182/197 in folder) for reading\n",
      "181339it [1:41:59, 29.59it/s]"
     ]
    }
   ],
   "source": [
    "event_generator = get_events(processor)\n",
    "N = processor.get_events()\n",
    "\n",
    "medians = []\n",
    "baselines = []\n",
    "\n",
    "for i in tqdm(N):\n",
    "    event = next(event_generator)\n",
    "    \n",
    "    for ch, p in enumerate(event.pulses):\n",
    "        baseline1 = np.median(p.raw_data)\n",
    "        baseline2 = p.baseline\n",
    "        medians.append(baseline1)\n",
    "        baselines.append(baseline2)"
   ]
  },
  {
   "cell_type": "code",
   "execution_count": null,
   "metadata": {
    "collapsed": true
   },
   "outputs": [],
   "source": []
  }
 ],
 "metadata": {
  "kernelspec": {
   "display_name": "Python 3",
   "language": "python",
   "name": "python3"
  },
  "language_info": {
   "codemirror_mode": {
    "name": "ipython",
    "version": 3
   },
   "file_extension": ".py",
   "mimetype": "text/x-python",
   "name": "python",
   "nbconvert_exporter": "python",
   "pygments_lexer": "ipython3",
   "version": "3.4.4"
  }
 },
 "nbformat": 4,
 "nbformat_minor": 2
}
