{
 "cells": [
  {
   "cell_type": "code",
   "execution_count": 1,
   "metadata": {
    "collapsed": true
   },
   "outputs": [],
   "source": [
    "import logging\n",
    "import numpy as np\n",
    "import pandas as pd\n",
    "from tqdm import tqdm\n",
    "from pax import core\n",
    "import multihist\n",
    "import sys\n",
    "import os\n",
    "import scipy.integrate as integrate1\n",
    "from scipy.stats import norm\n",
    "from runDB import get_name\n",
    "import stat\n",
    "import shutil\n",
    "import matplotlib.pyplot as plt\n",
    "import matplotlib\n",
    "import analyze\n",
    "\n",
    "%matplotlib inline"
   ]
  },
  {
   "cell_type": "code",
   "execution_count": 2,
   "metadata": {
    "collapsed": true
   },
   "outputs": [],
   "source": [
    "def get_run(run):\n",
    "    mypax = core.Processor(config_names='XENON1T', config_dict={\n",
    "        'pax': {\n",
    "            'plugin_group_names': ['input', 'preprocessing'],\n",
    "            'preprocessing':      ['CheckPulses.SortPulses',\n",
    "                                   'CheckPulses.ConcatenateAdjacentPulses',],\n",
    "            'input':              'Zip.ReadZipped',\n",
    "            'encoder_plugin':     None,\n",
    "            #'decoder_plugin':     'BSON.DecodeZBSON',\n",
    "            'input_name':          run\n",
    "        }\n",
    "    })\n",
    "    return mypax"
   ]
  },
  {
   "cell_type": "code",
   "execution_count": 3,
   "metadata": {
    "collapsed": false
   },
   "outputs": [
    {
     "name": "stderr",
     "output_type": "stream",
     "text": [
      "processor MainProcess L66 INFO This is PAX version 6.8.0, running with configuration for XENON1T.\n",
      "ReadZipped MainProcess L102 INFO InputFromFolder: Selecting file /project/lgrandi/xenon1t/spe_acceptance/rawdata/180331_1359/XENON1T-17998-000000000-000000999-000001000.zip (number 1/197 in folder) for reading\n",
      "processor MainProcess L66 INFO This is PAX version 6.8.0, running with configuration for XENON1T.\n",
      "ReadZipped MainProcess L102 INFO InputFromFolder: Selecting file /project/lgrandi/xenon1t/spe_acceptance/rawdata/180331_1340/XENON1T-17997-000000000-000000999-000001000.zip (number 1/196 in folder) for reading\n"
     ]
    }
   ],
   "source": [
    "from spe_acceptance import get_name\n",
    "from spe_acceptance import rawdata_dir, data_dir_base\n",
    "LED_run=17998\n",
    "noise_run=17997\n",
    "run_name = get_name(LED_run)\n",
    "noise_name = get_name(noise_run)\n",
    "run_name=os.path.join(rawdata_dir, run_name)\n",
    "noise_name=os.path.join(rawdata_dir, noise_name)\n",
    "led_processor = get_run(run_name)\n",
    "noise_processor = get_run(noise_name)"
   ]
  },
  {
   "cell_type": "code",
   "execution_count": 4,
   "metadata": {
    "collapsed": true
   },
   "outputs": [],
   "source": [
    "# generator used to loop over events\n",
    "def get_events(RUN):\n",
    "    for event in RUN.get_events():\n",
    "        event = RUN.process_event(event)\n",
    "        yield event"
   ]
  },
  {
   "cell_type": "code",
   "execution_count": 5,
   "metadata": {
    "collapsed": false
   },
   "outputs": [
    {
     "name": "stderr",
     "output_type": "stream",
     "text": [
      " 10%|█         | 1000/10000 [01:17<08:29, 17.67it/s]ReadZipped MainProcess L102 INFO InputFromFolder: Selecting file /project/lgrandi/xenon1t/spe_acceptance/rawdata/180331_1359/XENON1T-17998-000001000-000001999-000001000.zip (number 2/197 in folder) for reading\n",
      "ReadZipped MainProcess L102 INFO InputFromFolder: Selecting file /project/lgrandi/xenon1t/spe_acceptance/rawdata/180331_1340/XENON1T-17997-000001000-000001999-000001000.zip (number 2/196 in folder) for reading\n",
      " 20%|█▉        | 1999/10000 [02:32<07:58, 16.73it/s]ReadZipped MainProcess L102 INFO InputFromFolder: Selecting file /project/lgrandi/xenon1t/spe_acceptance/rawdata/180331_1359/XENON1T-17998-000002000-000002999-000001000.zip (number 3/197 in folder) for reading\n",
      "ReadZipped MainProcess L102 INFO InputFromFolder: Selecting file /project/lgrandi/xenon1t/spe_acceptance/rawdata/180331_1340/XENON1T-17997-000002000-000002999-000001000.zip (number 3/196 in folder) for reading\n",
      " 30%|██▉       | 2998/10000 [03:51<05:46, 20.18it/s]ReadZipped MainProcess L102 INFO InputFromFolder: Selecting file /project/lgrandi/xenon1t/spe_acceptance/rawdata/180331_1359/XENON1T-17998-000003000-000003999-000001000.zip (number 4/197 in folder) for reading\n",
      "ReadZipped MainProcess L102 INFO InputFromFolder: Selecting file /project/lgrandi/xenon1t/spe_acceptance/rawdata/180331_1340/XENON1T-17997-000003000-000003999-000001000.zip (number 4/196 in folder) for reading\n",
      " 40%|███▉      | 3999/10000 [05:11<05:25, 18.46it/s]ReadZipped MainProcess L102 INFO InputFromFolder: Selecting file /project/lgrandi/xenon1t/spe_acceptance/rawdata/180331_1359/XENON1T-17998-000004000-000004999-000001000.zip (number 5/197 in folder) for reading\n",
      "ReadZipped MainProcess L102 INFO InputFromFolder: Selecting file /project/lgrandi/xenon1t/spe_acceptance/rawdata/180331_1340/XENON1T-17997-000004000-000004999-000001000.zip (number 5/196 in folder) for reading\n",
      " 50%|████▉     | 4999/10000 [06:27<04:34, 18.22it/s]ReadZipped MainProcess L102 INFO InputFromFolder: Selecting file /project/lgrandi/xenon1t/spe_acceptance/rawdata/180331_1359/XENON1T-17998-000005000-000005999-000001000.zip (number 6/197 in folder) for reading\n",
      "ReadZipped MainProcess L102 INFO InputFromFolder: Selecting file /project/lgrandi/xenon1t/spe_acceptance/rawdata/180331_1340/XENON1T-17997-000005000-000005999-000001000.zip (number 6/196 in folder) for reading\n",
      " 60%|█████▉    | 5998/10000 [07:48<03:44, 17.86it/s]ReadZipped MainProcess L102 INFO InputFromFolder: Selecting file /project/lgrandi/xenon1t/spe_acceptance/rawdata/180331_1359/XENON1T-17998-000006000-000006999-000001000.zip (number 7/197 in folder) for reading\n",
      "ReadZipped MainProcess L102 INFO InputFromFolder: Selecting file /project/lgrandi/xenon1t/spe_acceptance/rawdata/180331_1340/XENON1T-17997-000006000-000006999-000001000.zip (number 7/196 in folder) for reading\n",
      " 70%|██████▉   | 6998/10000 [09:09<02:25, 20.57it/s]ReadZipped MainProcess L102 INFO InputFromFolder: Selecting file /project/lgrandi/xenon1t/spe_acceptance/rawdata/180331_1359/XENON1T-17998-000007000-000007999-000001000.zip (number 8/197 in folder) for reading\n",
      "ReadZipped MainProcess L102 INFO InputFromFolder: Selecting file /project/lgrandi/xenon1t/spe_acceptance/rawdata/180331_1340/XENON1T-17997-000007000-000007999-000001000.zip (number 8/196 in folder) for reading\n",
      " 80%|███████▉  | 7999/10000 [10:27<01:38, 20.23it/s]ReadZipped MainProcess L102 INFO InputFromFolder: Selecting file /project/lgrandi/xenon1t/spe_acceptance/rawdata/180331_1359/XENON1T-17998-000008000-000008999-000001000.zip (number 9/197 in folder) for reading\n",
      "ReadZipped MainProcess L102 INFO InputFromFolder: Selecting file /project/lgrandi/xenon1t/spe_acceptance/rawdata/180331_1340/XENON1T-17997-000008000-000008999-000001000.zip (number 9/196 in folder) for reading\n",
      " 90%|████████▉ | 8998/10000 [11:44<00:49, 20.26it/s]ReadZipped MainProcess L102 INFO InputFromFolder: Selecting file /project/lgrandi/xenon1t/spe_acceptance/rawdata/180331_1359/XENON1T-17998-000009000-000009999-000001000.zip (number 10/197 in folder) for reading\n",
      "ReadZipped MainProcess L102 INFO InputFromFolder: Selecting file /project/lgrandi/xenon1t/spe_acceptance/rawdata/180331_1340/XENON1T-17997-000009000-000009999-000001000.zip (number 10/196 in folder) for reading\n",
      "100%|██████████| 10000/10000 [13:00<00:00, 12.80it/s]\n"
     ]
    }
   ],
   "source": [
    "led_event_generator = get_events(led_processor)\n",
    "noise_event_generator = get_events(noise_processor)\n",
    "N = 10000\n",
    "\n",
    "n_channels=254\n",
    "led_channels=np.ones(n_channels)\n",
    "noise_channels=np.ones(n_channels)\n",
    "\n",
    "led_amp_list1=np.ones(n_channels)\n",
    "led_amp_list2=np.ones(n_channels)\n",
    "noise_amp_list1=np.ones(n_channels)\n",
    "noise_amp_list2=np.ones(n_channels)\n",
    "\n",
    "led_medians = []\n",
    "led_baselines = []\n",
    "noise_medians = []\n",
    "noise_baselines = []\n",
    "\n",
    "led_abs_diffs=[]\n",
    "led_diffs=[]\n",
    "noise_abs_diffs= []\n",
    "noise_diffs = []\n",
    "\n",
    "amplitude_bounds=(-100,1000)\n",
    "\n",
    "led_array1=[ [], [] ]\n",
    "led_array2=[ [], [] ]\n",
    "noise_array1=[ [], [] ]\n",
    "noise_array2=[ [], [] ]\n",
    "LED_window=[125,175] #hardcoded in spe_acceptance.py\n",
    "\n",
    "for i in tqdm(range(N)):\n",
    "    led_event = next(led_event_generator)\n",
    "    noise_event = next(noise_event_generator)\n",
    "    \n",
    "    for ch, p in enumerate(led_event.pulses):\n",
    "        w=p.raw_data\n",
    "        led_channels[ch]=p.channel\n",
    "        #first baseline type is median of full raw data\n",
    "        led_baseline1 = np.median(p.raw_data)\n",
    "        #second baseline type is median of just the first few samples, should be similar\n",
    "        #to pax's baseline function\n",
    "        pbaseline=w[:47]\n",
    "        led_baseline2=np.mean(pbaseline)   \n",
    "        led_medians.append(led_baseline1)\n",
    "        led_baselines.append(led_baseline2)\n",
    "        \n",
    "        #flip and baseline in two ways\n",
    "        w1=led_baseline1-w\n",
    "        w2=led_baseline2-w\n",
    "        \n",
    "        led_diffs.append(led_baseline1-led_baseline2)\n",
    "        led_abs_diffs.append(abs(led_baseline1-led_baseline2))\n",
    "        \n",
    "        #look at only LED window\n",
    "        led_spe1=w1[LED_window[0]:LED_window[1]]\n",
    "        led_spe2=w2[LED_window[0]:LED_window[1]]\n",
    "        \n",
    "        led_spe1.clip(-100, 1000)\n",
    "        led_spe2.clip(-100,1000)\n",
    "        \n",
    "        led_amp_list1[ch]=max(led_spe1)\n",
    "        led_amp_list2[ch]=max(led_spe2)\n",
    "        \n",
    "    led_array1[0].extend(led_channels)\n",
    "    led_array1[1].extend(led_amp_list1)\n",
    "        \n",
    "    led_array2[0].extend(led_channels)\n",
    "    led_array2[1].extend(led_amp_list2)\n",
    "    \n",
    "    for ch, p in enumerate(noise_event.pulses):\n",
    "        w=p.raw_data\n",
    "        noise_channels[ch]=p.channel\n",
    "        #first baseline type is median of full raw data\n",
    "        noise_baseline1 = np.median(p.raw_data)\n",
    "        #second baseline type is median of just the first few samples, should be similar\n",
    "        #to pax's baseline function\n",
    "        pbaseline=w[:47]\n",
    "        noise_baseline2=np.mean(pbaseline)   \n",
    "        noise_medians.append(noise_baseline1)\n",
    "        noise_baselines.append(noise_baseline2)\n",
    "        \n",
    "        #flip and baseline in two ways\n",
    "        w1=noise_baseline1-w\n",
    "        w2=noise_baseline2-w\n",
    "        \n",
    "        noise_diffs.append(noise_baseline1-noise_baseline2)\n",
    "        noise_abs_diffs.append(abs(noise_baseline1-noise_baseline2))\n",
    "        \n",
    "        #look at only LED window\n",
    "        noise_spe1=w1[LED_window[0]:LED_window[1]]\n",
    "        noise_spe2=w2[LED_window[0]:LED_window[1]]\n",
    "        \n",
    "        noise_spe1.clip(-100, 1000)\n",
    "        noise_spe2.clip(-100,1000)\n",
    "        \n",
    "        noise_amp_list1[ch]=max(noise_spe1)\n",
    "        noise_amp_list2[ch]=max(noise_spe2)\n",
    "        \n",
    "    noise_array1[0].extend(noise_channels)\n",
    "    noise_array1[1].extend(noise_amp_list1)\n",
    "        \n",
    "    noise_array2[0].extend(noise_channels)\n",
    "    noise_array2[1].extend(noise_amp_list2)"
   ]
  },
  {
   "cell_type": "code",
   "execution_count": 6,
   "metadata": {
    "collapsed": false
   },
   "outputs": [],
   "source": [
    "LED_multihist1 = multihist.Histdd(*tuple(led_array1),\n",
    "                                  axis_names=['channel', 'amplitude'],\n",
    "                                  bins=(np.arange(-1, n_channels + 1), \n",
    "                                        np.arange(*amplitude_bounds)))\n",
    "    \n",
    "LED_multihist2 = multihist.Histdd(*tuple(led_array2),\n",
    "                                 axis_names=['channel', 'amplitude'],\n",
    "                                 bins=(np.arange(-1, n_channels + 1),\n",
    "                                       np.arange(*amplitude_bounds)))\n",
    "\n",
    "noise_multihist1=multihist.Histdd(*tuple(noise_array1),\n",
    "                                  axis_names=['channel', 'amplitude'],\n",
    "                                  bins=(np.arange(-1, n_channels+1),\n",
    "                                        np.arange(*amplitude_bounds)))\n",
    "\n",
    "noise_multihist2=multihist.Histdd(*tuple(noise_array2),\n",
    "                                  axis_names=['channel', 'amplitude'],\n",
    "                                  bins=(np.arange(-1, n_channels+1),\n",
    "                                        np.arange(*amplitude_bounds)))"
   ]
  },
  {
   "cell_type": "code",
   "execution_count": 7,
   "metadata": {
    "collapsed": false
   },
   "outputs": [],
   "source": [
    "LED_amp1=[]\n",
    "LED_amp2=[]\n",
    "\n",
    "noise_amp1=[]\n",
    "noise_amp2=[]\n",
    "\n",
    "for ch in range(248):\n",
    "    LED_amp1.append(LED_multihist1.slice(ch, ch, 'channel').project('amplitude').histogram)\n",
    "\n",
    "    LED_amp2.append(LED_multihist2.slice(ch, ch, 'channel').project('amplitude').histogram)\n",
    "    \n",
    "    noise_amp1.append(noise_multihist1.slice(ch, ch, 'channel').project('amplitude').histogram)\n",
    "    \n",
    "    noise_amp2.append(noise_multihist2.slice(ch, ch, 'channel').project('amplitude').histogram)"
   ]
  },
  {
   "cell_type": "code",
   "execution_count": 8,
   "metadata": {
    "collapsed": false
   },
   "outputs": [],
   "source": [
    "LED1=np.array(LED_amp1).T\n",
    "LED2=np.array(LED_amp2).T\n",
    "\n",
    "noise1=np.array(noise_amp1).T\n",
    "noise2=np.array(noise_amp2).T"
   ]
  },
  {
   "cell_type": "markdown",
   "metadata": {},
   "source": [
    "### Histograms of two different baseline methods"
   ]
  },
  {
   "cell_type": "code",
   "execution_count": 9,
   "metadata": {
    "collapsed": false
   },
   "outputs": [
    {
     "data": {
      "image/png": "[encoded data removed]",
      "text/plain": [
       "<matplotlib.figure.Figure at 0x7f3540197dd8>"
      ]
     },
     "metadata": {},
     "output_type": "display_data"
    }
   ],
   "source": [
    "plt.hist(led_medians,  bins=40, range=(15990, 16030))\n",
    "plt.title(\"With Median\")\n",
    "plt.yscale('log')\n",
    "plt.show()"
   ]
  },
  {
   "cell_type": "code",
   "execution_count": 10,
   "metadata": {
    "collapsed": false
   },
   "outputs": [
    {
     "data": {
      "image/png": "[encoded data removed]",
      "text/plain": [
       "<matplotlib.figure.Figure at 0x7f353ffde0f0>"
      ]
     },
     "metadata": {},
     "output_type": "display_data"
    }
   ],
   "source": [
    "plt.hist(led_baselines,  bins=40, range=(15990, 16030))\n",
    "plt.title(\"With Pax\")\n",
    "plt.yscale('log')\n",
    "plt.show()"
   ]
  },
  {
   "cell_type": "code",
   "execution_count": 11,
   "metadata": {
    "collapsed": false
   },
   "outputs": [
    {
     "name": "stdout",
     "output_type": "stream",
     "text": [
      "0.9924031496062992\n"
     ]
    }
   ],
   "source": [
    "score=0\n",
    "for diff in led_diffs:\n",
    "    if -2<=diff<=2:\n",
    "        score+=1\n",
    "    else:\n",
    "        continue\n",
    "        \n",
    "print(score/len(led_diffs))"
   ]
  },
  {
   "cell_type": "code",
   "execution_count": 12,
   "metadata": {
    "collapsed": false
   },
   "outputs": [
    {
     "data": {
      "image/png": "[encoded data removed]",
      "text/plain": [
       "<matplotlib.figure.Figure at 0x7f35407734e0>"
      ]
     },
     "metadata": {},
     "output_type": "display_data"
    }
   ],
   "source": [
    "plt.figure()\n",
    "plt.hist(led_abs_diffs, bins=80)\n",
    "plt.title(\"Absolute Difference between baselines\")\n",
    "plt.yscale('log')\n",
    "plt.xlim(0,100)\n",
    "plt.show()"
   ]
  },
  {
   "cell_type": "code",
   "execution_count": 13,
   "metadata": {
    "collapsed": false
   },
   "outputs": [
    {
     "data": {
      "image/png": "[encoded data removed]",
      "text/plain": [
       "<matplotlib.figure.Figure at 0x7f353fe70e10>"
      ]
     },
     "metadata": {},
     "output_type": "display_data"
    }
   ],
   "source": [
    "mu=np.mean(led_diffs)\n",
    "sigma=np.std(led_diffs)\n",
    "plt.figure(figsize=(9,6))\n",
    "plt.hist(led_diffs, bins=50, normed=True)\n",
    "plt.title(\"Difference between baselines\")\n",
    "x=np.linspace(mu-3*sigma, mu+3*sigma, num=1099)\n",
    "gauss=norm(loc=mu, scale=sigma)\n",
    "plt.plot(x, gauss.pdf(x), color='r')\n",
    "plt.xlim(-100,100)\n",
    "#plt.yscale('log')\n",
    "plt.show()"
   ]
  },
  {
   "cell_type": "code",
   "execution_count": 14,
   "metadata": {
    "collapsed": false
   },
   "outputs": [
    {
     "data": {
      "image/png": "[encoded data removed]",
      "text/plain": [
       "<matplotlib.figure.Figure at 0x7f353fd78ac8>"
      ]
     },
     "metadata": {},
     "output_type": "display_data"
    }
   ],
   "source": [
    "ch=50\n",
    "\n",
    "plt.figure()\n",
    "plt.plot(np.arange(1099), LED1.T[ch], color='r', marker='.',  label=\"W/ Median\")# linestyle='None')\n",
    "plt.plot(np.arange(1099), LED2.T[ch], color='b', marker='.', label=\"W/ Pax\")#linestyle=\"None\")\n",
    "plt.xlim(90, 350)\n",
    "plt.title('Both LED, Ch %d' %ch)\n",
    "plt.xlabel(\"Amplitude [Counts]\")\n",
    "plt.ylabel(\"Counts/Bin\")\n",
    "plt.yscale('log')\n",
    "plt.legend(loc='best')\n",
    "plt.show()"
   ]
  },
  {
   "cell_type": "code",
   "execution_count": 15,
   "metadata": {
    "collapsed": false
   },
   "outputs": [
    {
     "name": "stderr",
     "output_type": "stream",
     "text": [
      "/home/awalsh272/SPE/SPE/analyze.py:85: RuntimeWarning: invalid value encountered in true_divide\n",
      "  sigma_corr_noise=corr_noise*np.sqrt( (sigma_corr/corrections)**2 + (sigma_noise/noise)**2)\n"
     ]
    },
    {
     "data": {
      "image/png": "[encoded data removed]",
      "text/plain": [
       "<matplotlib.figure.Figure at 0x7f353fc689e8>"
      ]
     },
     "metadata": {},
     "output_type": "display_data"
    }
   ],
   "source": [
    "s=analyze.SPE(os.path.join(data_dir_base, 'run_%d.h5' %int(LED_run)))\n",
    "\n",
    "corr, sig_corr=s.make_correction(6, 'amplitude')\n",
    "occ=-1*np.log(corr)\n",
    "\n",
    "plt.figure()\n",
    "plt.hist(occ, bins=20)\n",
    "plt.xlabel(\"Occupancy\")\n",
    "plt.ylabel(\"Counts\")\n",
    "plt.show()"
   ]
  },
  {
   "cell_type": "code",
   "execution_count": 16,
   "metadata": {
    "collapsed": false
   },
   "outputs": [],
   "source": [
    "\n",
    "\n",
    "def make_correction(val2corr2, space):  \n",
    "    if space not in ['amplitude', 'charge']:\n",
    "        raise ValueError('must specify amplitude or charge')\n",
    "    #led = np.array(s.data['LED_%s' % space].copy())\n",
    "    #noise = np.array(s.data['noise_%s' % space].copy())\n",
    "    #print('noise: ',*noise)\n",
    "    #sigma_led=np.sqrt(led)\n",
    "    #sigma_noise=np.sqrt(noise)\n",
    "    #led1=np.array(LED1)\n",
    "    #led2=np.array(LED2)\n",
    "    #print('led1: ', *led1)\n",
    "    bin2corr2 = np.where(s.data['bin_centers'] == val2corr2 + 0.5)[0][0]\n",
    "    led1_firstN = LED1[:bin2corr2, :].sum(axis=0)\n",
    "    #print('ledfirstN:' ,led1_firstN)\n",
    "    #print(np.shape(led1_firstN))\n",
    "    led2_firstN = LED2[:bin2corr2, :].sum(axis=0)\n",
    "    noise1_firstN = noise1[:bin2corr2,:].sum(axis=0)\n",
    "    noise2_firstN = noise2[:bin2corr2,:].sum(axis=0)\n",
    "    #sigma_led_firstN=np.sqrt(np.sum(sigma_led[:bin2corr2, :]**2, axis=0))\n",
    "    #sigma_noise_firstN=np.sqrt(np.sum(sigma_noise[:bin2corr2,:]**2, axis=0))\n",
    "\n",
    "    corr1_1=led1_firstN / noise1_firstN\n",
    "    corr2_2=led2_firstN / noise2_firstN\n",
    "    #sigma_corr=corr*np.sqrt((sigma_led_firstN/led_firstN)**2 + (sigma_noise_firstN/noise_firstN)**2)\n",
    "    return corr1_1, corr2_2#, sigma_corr\n"
   ]
  },
  {
   "cell_type": "code",
   "execution_count": 17,
   "metadata": {
    "collapsed": false
   },
   "outputs": [
    {
     "name": "stdout",
     "output_type": "stream",
     "text": [
      "corr shape:  (248,)\n",
      "corr1:  [ 0.973292    1.02899137  1.01347368  0.98465985  0.96281224  1.08477918\n",
      "  0.97771406  0.97194772  0.97339102  0.96637376  0.9815658   0.96999423\n",
      "  0.9521967   0.95996411  0.96088616  0.97344353  0.97996751  0.96930892\n",
      "  0.96377735  0.92408759  0.96839047  0.9671078   0.96852146  1.06196297\n",
      "  0.96652406  0.95922438  0.99772339  0.94104185  0.95432569  0.96141375\n",
      "  0.96989314  0.96626054  0.91187739  0.96113765  0.99673984  0.97294538\n",
      "  0.98526225  0.94965298  0.96360738  0.92574541  1.00305632  0.93016156\n",
      "  0.9547013   0.89895924  0.95763644  0.9480752   0.95081179  0.90447484\n",
      "  0.97071038  0.96486964  0.96477931  0.95533141  0.95829323  0.97262795\n",
      "  0.95362285  0.96058065  0.9554154   0.95894671  0.94694751  0.95272727\n",
      "  0.94848318  0.95922598  1.00852605  0.93489755  0.89454501  0.96977484\n",
      "  0.70764618  0.96395228  0.99286216  0.94791667  0.94324045  0.95147039\n",
      "  0.958343    0.9596637   0.94220945  0.93727876  0.94236209  0.96923438\n",
      "  0.95064103  0.99928564  0.9415944   0.95014078  0.96012007  0.94522427\n",
      "  0.94784995  0.92704838  1.00150813  0.96096227  0.98495497  0.92249455\n",
      "  0.94798314  0.89543704  0.93129062  0.9466753   0.92938209  0.94917012\n",
      "  0.94787974  0.95291746  0.91753226  0.95011528  0.95284173  0.94317315\n",
      "  1.00106576  0.95264505  0.94735209  0.95383115  0.94437856  0.94148148\n",
      "  0.67516016  0.95587847  0.93582821  0.92609807  0.94160354  0.95199051\n",
      "  0.9441901   0.97040636  0.95382696  0.95170571  1.          0.87007738\n",
      "  0.95342431  0.98482584  0.94861619  0.93779614  0.94982159  0.92546133\n",
      "  0.97249482  0.86485895  0.81349665  0.8495168   0.96126675  0.86591373\n",
      "  0.83818157  0.79625952  1.00514657  0.97110754  0.83809742  1.00400717\n",
      "  0.85936728  1.0002006   0.86686992  0.85720016  0.89153114  0.82379259\n",
      "  0.70983664  0.83878427  0.85514518  0.8545262   1.07796039  0.83950936\n",
      "  1.01035803  0.83649196  1.0110696   0.86105882  0.77760393  0.84494992\n",
      "  0.85319783  0.83155814  0.83540659  0.8684826   0.85491913  0.86801471\n",
      "  1.00626959  0.83676531  0.85151385  0.83615888  0.82203298  0.88175087\n",
      "  0.8590287   0.8497483   0.83230141  0.83586158  0.82043734  0.79791725\n",
      "  0.79669796  0.84530387  0.83525937  0.83089638  1.006       0.85404876\n",
      "  0.84839876  0.86838902  0.86841205  1.0125453   0.86761557  0.86336703\n",
      "  0.84931694  0.84967665  0.84835916  0.83042768  0.97877597  0.85964177\n",
      "  0.87005896  0.84361263  0.88882856  0.85745192  0.8658156   0.82542308\n",
      "  1.02347418  0.81392085  0.84163402  0.83228308  0.83479409  0.88087859\n",
      "  0.88218459  0.71920772  0.98248118  0.79321799  0.86057259  0.83584608\n",
      "  0.83218982  0.82955282  0.83908046  1.00316289  1.0007007   0.82569012\n",
      "  0.86945721  0.860149    0.79669632  0.79871033  0.85097792  0.82931883\n",
      "  0.84058519  0.8474868   0.87954358  0.83325942  0.93086053  0.82713731\n",
      "  0.84021464  0.82411998  0.83540521  0.84636752  0.85120058  0.86509074\n",
      "  0.84959201  0.85784625  0.87599404  0.85669236  0.83295765  1.01738464\n",
      "  0.83703519  0.83656129  0.86592179  0.8809922   0.93717421  0.8356603\n",
      "  0.87830765  0.80321898]\n",
      "occ1:  [  2.70711395e-02  -2.85790700e-02  -1.33837213e-02   1.54590286e-02\n",
      "   3.78968635e-02  -8.13764454e-02   2.25380215e-02   2.84532612e-02\n",
      "   2.69694048e-02   3.42046095e-02   1.86062305e-02   3.04651563e-02\n",
      "   4.89836427e-02   4.08593770e-02   3.98993407e-02   2.69154670e-02\n",
      "   2.02358559e-02   3.11719134e-02   3.68949728e-02   7.89484161e-02\n",
      "   3.21198943e-02   3.34453119e-02   3.19846357e-02  -6.01190516e-02\n",
      "   3.40490824e-02   4.16302620e-02   2.27920327e-03   6.07676682e-02\n",
      "   4.67502752e-02   3.93504233e-02   3.05693826e-02   3.43217673e-02\n",
      "   9.22497337e-02   3.96376476e-02   3.26548674e-03   2.74273337e-02\n",
      "   1.48474343e-02   5.16586432e-02   3.70713445e-02   7.71560143e-02\n",
      "  -3.05166262e-03   7.23969907e-02   4.63567637e-02   1.06517588e-01\n",
      "   4.32870682e-02   5.33214535e-02   5.04391478e-02   1.00400787e-01\n",
      "   2.97271224e-02   3.57622727e-02   3.58558946e-02   4.56969703e-02\n",
      "   4.26014616e-02   2.77536470e-02   4.74870250e-02   4.02173302e-02\n",
      "   4.56090613e-02   4.19197701e-02   5.45116143e-02   4.84265939e-02\n",
      "   5.28912261e-02   4.16285856e-02  -8.48990388e-03   6.73183230e-02\n",
      "   1.11440056e-01   3.06913572e-02   3.45811060e-01   3.67134854e-02\n",
      "   7.16343854e-03   5.34886850e-02   5.84340404e-02   4.97467075e-02\n",
      "   4.25495244e-02   4.11723712e-02   5.95276822e-02   6.47745372e-02\n",
      "   5.93656904e-02   3.12488157e-02   5.06187581e-02   7.14613884e-04\n",
      "   6.01806706e-02   5.11451170e-02   4.06969309e-02   5.63330522e-02\n",
      "   5.35590654e-02   7.57495229e-02  -1.50699706e-03   3.98201273e-02\n",
      "   1.51593498e-02   8.06738149e-02   5.34185589e-02   1.10443366e-01\n",
      "   7.11838892e-02   5.47991144e-02   7.32353294e-02   5.21672293e-02\n",
      "   5.35276385e-02   4.82269926e-02   8.60675355e-02   5.11719546e-02\n",
      "   4.83064640e-02   5.85053968e-02  -1.06518970e-03   4.85128989e-02\n",
      "   5.40844604e-02   4.72686172e-02   5.72281785e-02   6.03006002e-02\n",
      "   3.92805338e-01   4.51244999e-02   6.63233605e-02   7.67751416e-02\n",
      "   6.01709684e-02   4.92002169e-02   5.74277534e-02   3.00403669e-02\n",
      "   4.72730128e-02   4.94994169e-02  -0.00000000e+00   1.39173133e-01\n",
      "   4.76952336e-02   1.52904635e-02   5.27510005e-02   6.42226920e-02\n",
      "   5.14811143e-02   7.74629294e-02   2.78905332e-02   1.45188843e-01\n",
      "   2.06413472e-01   1.63087565e-01   3.95033353e-02   1.43969991e-01\n",
      "   1.76520529e-01   2.27830120e-01  -5.13336692e-03   2.93180608e-02\n",
      "   1.76620937e-01  -3.99916340e-03   1.51558886e-01  -2.00581688e-04\n",
      "   1.42866350e-01   1.54083828e-01   1.14814907e-01   1.93836493e-01\n",
      "   3.42720415e-01   1.75801727e-01   1.56484029e-01   1.57208111e-01\n",
      "  -7.50707257e-02   1.74937652e-01  -1.03047507e-02   1.78538368e-01\n",
      "  -1.10087805e-02   1.49592457e-01   2.51537967e-01   1.68477924e-01\n",
      "   1.58763830e-01   1.84454058e-01   1.79836740e-01   1.41007731e-01\n",
      "   1.56748400e-01   1.41546622e-01  -6.25002035e-03   1.78211645e-01\n",
      "   1.60739513e-01   1.78936641e-01   1.95974757e-01   1.25845722e-01\n",
      "   1.51952943e-01   1.62815087e-01   1.83560633e-01   1.79292255e-01\n",
      "   1.97917737e-01   2.25750380e-01   2.27279643e-01   1.68059110e-01\n",
      "   1.80012976e-01   1.85250189e-01  -5.98207168e-03   1.57766992e-01\n",
      "   1.64404517e-01   1.41115489e-01   1.41088969e-01  -1.24672622e-02\n",
      "   1.42006556e-01   1.46915386e-01   1.63322853e-01   1.62899410e-01\n",
      "   1.64451200e-01   1.85814438e-01   2.14524997e-02   1.51239520e-01\n",
      "   1.39194294e-01   1.70061861e-01   1.17850908e-01   1.53790168e-01\n",
      "   1.44083323e-01   1.91859198e-01  -2.32028971e-02   2.05892150e-01\n",
      "   1.72410011e-01   1.83582652e-01   1.80570180e-01   1.26835474e-01\n",
      "   1.25353955e-01   3.29605058e-01   1.76740871e-02   2.31657198e-01\n",
      "   1.50157311e-01   1.79310792e-01   1.83694712e-01   1.86868495e-01\n",
      "   1.75448678e-01  -3.15789736e-03  -7.00455325e-04   1.91535738e-01\n",
      "   1.39886158e-01   1.50649649e-01   2.27281708e-01   2.24756940e-01\n",
      "   1.61369099e-01   1.87150603e-01   1.73656971e-01   1.65480012e-01\n",
      "   1.28352162e-01   1.82410253e-01   7.16458152e-02   1.89784559e-01\n",
      "   1.74097899e-01   1.93439153e-01   1.79838389e-01   1.66801591e-01\n",
      "   1.61107477e-01   1.44920881e-01   1.62999032e-01   1.53330390e-01\n",
      "   1.32395997e-01   1.54676396e-01   1.82772483e-01  -1.72352511e-02\n",
      "   1.77889168e-01   1.78455492e-01   1.43960689e-01   1.26706511e-01\n",
      "   6.48860895e-02   1.79533082e-01   1.29758351e-01   2.19127894e-01]\n"
     ]
    }
   ],
   "source": [
    "corr1_1, corr2_2= make_correction(6, 'amplitude')\n",
    "print('corr shape: ',np.shape(corr1_1))\n",
    "print('corr1: ',corr1_1)\n",
    "occ1=np.ones(248)\n",
    "occ2=np.ones(248)\n",
    "occ1=-1*np.log(corr1_1)\n",
    "occ2=-1*np.log(corr2_2)\n",
    "print('occ1: ', occ1)"
   ]
  },
  {
   "cell_type": "code",
   "execution_count": 18,
   "metadata": {
    "collapsed": false
   },
   "outputs": [
    {
     "data": {
      "image/png": "[encoded data removed]",
      "text/plain": [
       "<matplotlib.figure.Figure at 0x7f353fe8b198>"
      ]
     },
     "metadata": {},
     "output_type": "display_data"
    }
   ],
   "source": [
    "plt.figure()\n",
    "plt.hist(occ1, bins=20)\n",
    "plt.xlabel(\"Occupancy\")\n",
    "plt.ylabel(\"Counts\")\n",
    "plt.title(\"Occ with Median\")\n",
    "plt.xlim(0,0.3)\n",
    "plt.show()\n"
   ]
  },
  {
   "cell_type": "code",
   "execution_count": 19,
   "metadata": {
    "collapsed": false
   },
   "outputs": [
    {
     "data": {
      "image/png": "[encoded data removed]",
      "text/plain": [
       "<matplotlib.figure.Figure at 0x7f353fc7de10>"
      ]
     },
     "metadata": {},
     "output_type": "display_data"
    }
   ],
   "source": [
    "plt.figure()\n",
    "plt.hist(occ2, bins=20)\n",
    "plt.xlabel(\"Occupancy\")\n",
    "plt.ylabel(\"Counts\")\n",
    "plt.title(\"Occ with Pax\")\n",
    "plt.xlim(0,0.3)\n",
    "plt.show()"
   ]
  },
  {
   "cell_type": "code",
   "execution_count": 20,
   "metadata": {
    "collapsed": false
   },
   "outputs": [
    {
     "name": "stdout",
     "output_type": "stream",
     "text": [
      "0.0145289721152\n",
      "0.842741935483871\n"
     ]
    },
    {
     "name": "stderr",
     "output_type": "stream",
     "text": [
      "/project/lgrandi/anaconda3/envs/pax_v6.8.0/lib/python3.4/site-packages/matplotlib/axes/_axes.py:545: UserWarning: No labelled objects found. Use label='...' kwarg on individual plots.\n",
      "  warnings.warn(\"No labelled objects found. \"\n"
     ]
    },
    {
     "data": {
      "image/png": "[encoded data removed]",
      "text/plain": [
       "<matplotlib.figure.Figure at 0x7f3540034550>"
      ]
     },
     "metadata": {},
     "output_type": "display_data"
    }
   ],
   "source": [
    "occ_diff=occ1-occ2\n",
    "abs_occ_diff=abs(occ1-occ2)\n",
    "print(np.std(occ_diff))\n",
    "\n",
    "score=0\n",
    "for diff in occ_diff:\n",
    "    if -0.014<=diff<=0.014:\n",
    "        score+=1\n",
    "    else:\n",
    "        continue\n",
    "        \n",
    "print(score/len(occ_diff))\n",
    "\n",
    "plt.figure()\n",
    "plt.hist(occ_diff, bins=20)\n",
    "plt.xlabel(\"Occupancy\")\n",
    "plt.ylabel(\"Counts\")\n",
    "plt.title(\"Difference between Median and Pax Occs\")\n",
    "plt.legend()\n",
    "plt.show()"
   ]
  },
  {
   "cell_type": "code",
   "execution_count": 21,
   "metadata": {
    "collapsed": false
   },
   "outputs": [
    {
     "name": "stderr",
     "output_type": "stream",
     "text": [
      "/project/lgrandi/anaconda3/envs/pax_v6.8.0/lib/python3.4/site-packages/matplotlib/axes/_axes.py:545: UserWarning: No labelled objects found. Use label='...' kwarg on individual plots.\n",
      "  warnings.warn(\"No labelled objects found. \"\n"
     ]
    },
    {
     "data": {
      "image/png": "[encoded data removed]",
      "text/plain": [
       "<matplotlib.figure.Figure at 0x7f3540075f98>"
      ]
     },
     "metadata": {},
     "output_type": "display_data"
    }
   ],
   "source": [
    "plt.figure()\n",
    "plt.hist(abs_occ_diff, bins=20)\n",
    "plt.xlabel(\"Occupancy\")\n",
    "plt.ylabel(\"Counts\")\n",
    "plt.title(\"Difference between Median and Pax Occs\")\n",
    "plt.legend()\n",
    "plt.show()"
   ]
  },
  {
   "cell_type": "code",
   "execution_count": null,
   "metadata": {
    "collapsed": true
   },
   "outputs": [],
   "source": []
  }
 ],
 "metadata": {
  "kernelspec": {
   "display_name": "Python 3",
   "language": "python",
   "name": "python3"
  },
  "language_info": {
   "codemirror_mode": {
    "name": "ipython",
    "version": 3
   },
   "file_extension": ".py",
   "mimetype": "text/x-python",
   "name": "python",
   "nbconvert_exporter": "python",
   "pygments_lexer": "ipython3",
   "version": "3.4.4"
  }
 },
 "nbformat": 4,
 "nbformat_minor": 2
}
