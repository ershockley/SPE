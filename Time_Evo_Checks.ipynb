{
 "cells": [
  {
   "cell_type": "code",
   "execution_count": 1,
   "metadata": {
    "collapsed": false,
    "deletable": true,
    "editable": true
   },
   "outputs": [
    {
     "name": "stderr",
     "output_type": "stream",
     "text": [
      "Using TensorFlow backend.\n"
     ]
    }
   ],
   "source": [
    "import os\n",
    "import numpy as np\n",
    "import pandas as pd\n",
    "import matplotlib.pyplot as plt\n",
    "import matplotlib\n",
    "import analyze # takes some time since inits hax\n",
    "from channel_dict import channel_dict\n",
    "from tqdm import tqdm\n",
    "import datetime\n",
    "\n",
    "\n",
    "%matplotlib inline"
   ]
  },
  {
   "cell_type": "code",
   "execution_count": 2,
   "metadata": {
    "collapsed": true,
    "deletable": true,
    "editable": true
   },
   "outputs": [],
   "source": [
    "ACTUALLY_OFF = [1, 2, 12, 26, 34, 62, 65, 79, 86, 88, 102, 118, \n",
    "                130, 134, 135, 139, 148, 150, 152, 162, 178, 183,\n",
    "                190, 198, 206, 213, 214, 234, 239, 244]"
   ]
  },
  {
   "cell_type": "code",
   "execution_count": 3,
   "metadata": {
    "collapsed": false,
    "deletable": true,
    "editable": true
   },
   "outputs": [
    {
     "name": "stderr",
     "output_type": "stream",
     "text": [
      " 18%|█▊        | 18/100 [01:15<06:46,  4.96s/it]/home/awalsh272/SPE/SPE/analyze.py:63: RuntimeWarning: divide by zero encountered in true_divide\n",
      "  return 1 - residual.cumsum(axis=1) / residual.sum(axis=1)[:, np.newaxis]\n",
      "/home/awalsh272/SPE/SPE/analyze.py:63: RuntimeWarning: invalid value encountered in true_divide\n",
      "  return 1 - residual.cumsum(axis=1) / residual.sum(axis=1)[:, np.newaxis]\n",
      "/project/lgrandi/anaconda3/envs/pax_head/lib/python3.4/site-packages/numpy/core/_methods.py:112: RuntimeWarning: invalid value encountered in subtract\n",
      "  x = asanyarray(arr - arrmean)\n",
      " 29%|██▉       | 29/100 [02:44<10:10,  8.60s/it]"
     ]
    },
    {
     "name": "stdout",
     "output_type": "stream",
     "text": [
      "LED likely OFF for runlist_13433_13434_13435.txt\n"
     ]
    },
    {
     "name": "stderr",
     "output_type": "stream",
     "text": [
      " 32%|███▏      | 32/100 [03:10<10:04,  8.89s/it]"
     ]
    },
    {
     "name": "stdout",
     "output_type": "stream",
     "text": [
      "LED likely OFF for runlist_14088_14089_14090.txt\n"
     ]
    },
    {
     "name": "stderr",
     "output_type": "stream",
     "text": [
      " 54%|█████▍    | 54/100 [04:40<05:13,  6.81s/it]/home/awalsh272/SPE/SPE/analyze.py:31: RuntimeWarning: divide by zero encountered in log\n",
      "  occupancy_array[:,i] = -1*np.log(self.make_correction(val, 'amplitude'))\n",
      "100%|██████████| 100/100 [08:11<00:00,  5.69s/it]\n"
     ]
    }
   ],
   "source": [
    "#takes runlists and uses just bottom runs \n",
    "#finds acceptances and errors\n",
    "\n",
    "def data_exists(run_number):\n",
    "    return os.path.exists('./data/run_%05d.h5' % run_number)\n",
    "\n",
    "def all_data_exists(runlist):\n",
    "    return all([data_exists(run) for run in runlist])\n",
    "\n",
    "def file_to_list(runlist_file):\n",
    "    return [int(run) for run in runlist_file.split('.')[0].split('_')[1:4]]\n",
    "\n",
    "runlists = [f for f in os.listdir('./runlists')]\n",
    "\n",
    "bottom_runs = []\n",
    "accs = []\n",
    "errors = []\n",
    "\n",
    "missing_runs = []\n",
    "\n",
    "for f in tqdm(sorted(runlists)):\n",
    "    runlist = file_to_list(f)\n",
    "    if not all_data_exists(runlist):\n",
    "        #print('data missing for %s' % f)\n",
    "        for r in runlist:\n",
    "            if not data_exists(r):\n",
    "                missing_runs.append(r)\n",
    "        continue\n",
    "    bottom_run = runlist[0]\n",
    "    topbulk_run = runlist[1]\n",
    "    topring_run = runlist[2]\n",
    "    \n",
    "    thresholds = analyze.get_thresholds(analyze.find_regular_run(bottom_run))\n",
    "    \n",
    "    acc, acc_errs = analyze.acceptance_3runs(bottom_run, topbulk_run, topring_run, thresholds)\n",
    "    occ, occ_errs = analyze.occupancy_3runs(bottom_run, topbulk_run, topring_run)\n",
    "    \n",
    "    on_channels = np.where(occ > 0.05)[0]\n",
    "    \n",
    "    if len(on_channels) < 200:\n",
    "        print('LED likely OFF for %s' % f)\n",
    "        continue\n",
    "    \n",
    "    acc = acc[on_channels]\n",
    "    acc_errs = acc_errs[on_channels]\n",
    "    \n",
    "    accs.append(np.median(acc))\n",
    "    errors.append(np.sqrt((acc_errs**2).sum()) / len(on_channels))\n",
    "    bottom_runs.append(bottom_run)\n",
    "    "
   ]
  },
  {
   "cell_type": "code",
   "execution_count": 4,
   "metadata": {
    "collapsed": false,
    "deletable": true,
    "editable": true
   },
   "outputs": [
    {
     "name": "stdout",
     "output_type": "stream",
     "text": [
      "[13837]\n"
     ]
    }
   ],
   "source": [
    "#prints low acceptance bottom runs (<0.7)\n",
    "bottom_runs = np.array(bottom_runs)\n",
    "accs = np.array(accs)\n",
    "\n",
    "print(bottom_runs[np.where(accs < 0.7)])"
   ]
  },
  {
   "cell_type": "code",
   "execution_count": 5,
   "metadata": {
    "collapsed": false,
    "deletable": true,
    "editable": true
   },
   "outputs": [
    {
     "ename": "ValueError",
     "evalue": "shape mismatch: value array of shape (121,1099) could not be broadcast to indexing result of shape (121,)",
     "output_type": "error",
     "traceback": [
      "\u001b[0;31m---------------------------------------------------------------------------\u001b[0m",
      "\u001b[0;31mValueError\u001b[0m                                Traceback (most recent call last)",
      "\u001b[0;32m<ipython-input-5-aeb38a60b384>\u001b[0m in \u001b[0;36m<module>\u001b[0;34m()\u001b[0m\n\u001b[1;32m      2\u001b[0m \u001b[0mrunlist\u001b[0m \u001b[0;34m=\u001b[0m \u001b[0mtuple\u001b[0m\u001b[0;34m(\u001b[0m\u001b[0mfile_to_list\u001b[0m\u001b[0;34m(\u001b[0m\u001b[0;34m'runlist_13837_13838_13839.txt'\u001b[0m\u001b[0;34m)\u001b[0m\u001b[0;34m)\u001b[0m\u001b[0;34m\u001b[0m\u001b[0m\n\u001b[1;32m      3\u001b[0m \u001b[0;34m\u001b[0m\u001b[0m\n\u001b[0;32m----> 4\u001b[0;31m \u001b[0mx\u001b[0m\u001b[0;34m,\u001b[0m \u001b[0macc\u001b[0m\u001b[0;34m,\u001b[0m \u001b[0merrs\u001b[0m \u001b[0;34m=\u001b[0m \u001b[0manalyze\u001b[0m\u001b[0;34m.\u001b[0m\u001b[0macceptance_curve_3runs\u001b[0m\u001b[0;34m(\u001b[0m\u001b[0;34m*\u001b[0m\u001b[0mrunlist\u001b[0m\u001b[0;34m)\u001b[0m\u001b[0;34m\u001b[0m\u001b[0m\n\u001b[0m\u001b[1;32m      5\u001b[0m \u001b[0;34m\u001b[0m\u001b[0m\n\u001b[1;32m      6\u001b[0m \u001b[0mplt\u001b[0m\u001b[0;34m.\u001b[0m\u001b[0mfigure\u001b[0m\u001b[0;34m(\u001b[0m\u001b[0mfigsize\u001b[0m \u001b[0;34m=\u001b[0m \u001b[0;34m(\u001b[0m\u001b[0;36m9\u001b[0m\u001b[0;34m,\u001b[0m\u001b[0;36m6\u001b[0m\u001b[0;34m)\u001b[0m\u001b[0;34m)\u001b[0m\u001b[0;34m\u001b[0m\u001b[0m\n",
      "\u001b[0;32m/home/awalsh272/SPE/SPE/analyze.py\u001b[0m in \u001b[0;36macceptance_curve_3runs\u001b[0;34m(bottom_run, topbulk_run, topring_run)\u001b[0m\n\u001b[1;32m    140\u001b[0m         \u001b[0ms\u001b[0m \u001b[0;34m=\u001b[0m \u001b[0mSPE\u001b[0m\u001b[0;34m(\u001b[0m\u001b[0mpath\u001b[0m\u001b[0;34m)\u001b[0m\u001b[0;34m\u001b[0m\u001b[0m\n\u001b[1;32m    141\u001b[0m         \u001b[0mfrac\u001b[0m\u001b[0;34m,\u001b[0m \u001b[0merrs\u001b[0m \u001b[0;34m=\u001b[0m \u001b[0ms\u001b[0m\u001b[0;34m.\u001b[0m\u001b[0macceptance_by_channel\u001b[0m\u001b[0;34m\u001b[0m\u001b[0m\n\u001b[0;32m--> 142\u001b[0;31m         \u001b[0mret_acc\u001b[0m\u001b[0;34m[\u001b[0m\u001b[0mch_list\u001b[0m\u001b[0;34m]\u001b[0m \u001b[0;34m=\u001b[0m \u001b[0mfrac\u001b[0m\u001b[0;34m[\u001b[0m\u001b[0mch_list\u001b[0m\u001b[0;34m]\u001b[0m\u001b[0;34m\u001b[0m\u001b[0m\n\u001b[0m\u001b[1;32m    143\u001b[0m         \u001b[0mret_errs\u001b[0m\u001b[0;34m[\u001b[0m\u001b[0mch_list\u001b[0m\u001b[0;34m]\u001b[0m \u001b[0;34m=\u001b[0m \u001b[0merrs\u001b[0m\u001b[0;34m[\u001b[0m\u001b[0mch_list\u001b[0m\u001b[0;34m]\u001b[0m\u001b[0;34m\u001b[0m\u001b[0m\n\u001b[1;32m    144\u001b[0m     \u001b[0;32mreturn\u001b[0m \u001b[0mret_acc\u001b[0m\u001b[0;34m,\u001b[0m \u001b[0mret_errs\u001b[0m\u001b[0;34m\u001b[0m\u001b[0m\n",
      "\u001b[0;31mValueError\u001b[0m: shape mismatch: value array of shape (121,1099) could not be broadcast to indexing result of shape (121,)"
     ]
    }
   ],
   "source": [
    "#makes acceptance curve for a single runlist\n",
    "runlist = tuple(file_to_list('runlist_13837_13838_13839.txt'))\n",
    "\n",
    "x, acc, errs = analyze.acceptance_curve_3runs(*runlist)\n",
    "\n",
    "plt.figure(figsize = (9,6))\n",
    "for curve, err in zip(acc, errs):\n",
    "    plt.plot(x, curve, color='grey')\n",
    "plt.xlim(-10,150)\n",
    "plt.ylim(0, 1.2)\n",
    "plt.show()\n"
   ]
  },
  {
   "cell_type": "code",
   "execution_count": 6,
   "metadata": {
    "collapsed": false,
    "deletable": true,
    "editable": true
   },
   "outputs": [],
   "source": [
    "runlist='runlist_14192_14193_14195.txt'\n",
    "runs = runlist.split('_')[1:4]\n",
    "bot_run = int(runs[0])\n",
    "tb_run = int(runs[1])\n",
    "tr_run = int(runs[2][:-4])\n",
    "\n",
    "thresholds = analyze.get_thresholds(analyze.find_regular_run(bot_run))\n",
    "acc, err = analyze.acceptance_3runs(bot_run, tb_run, tr_run, thresholds)\n",
    "occ, occ_err = analyze.occupancy_3runs(bot_run, tb_run, tr_run)"
   ]
  },
  {
   "cell_type": "code",
   "execution_count": 7,
   "metadata": {
    "collapsed": false,
    "deletable": true,
    "editable": true
   },
   "outputs": [
    {
     "data": {
      "image/png": "[encoded data removed]",
      "text/plain": [
       "<matplotlib.figure.Figure at 0x7f9d584fd400>"
      ]
     },
     "metadata": {},
     "output_type": "display_data"
    }
   ],
   "source": [
    "#plot the occupancy of one runlist\n",
    "plt.hist(occ, bins=50, range=(0,1.1))\n",
    "plt.xlim(0,0.2)\n",
    "plt.show()"
   ]
  },
  {
   "cell_type": "code",
   "execution_count": 8,
   "metadata": {
    "collapsed": false,
    "deletable": true,
    "editable": true
   },
   "outputs": [
    {
     "data": {
      "image/png": "[encoded data removed]",
      "text/plain": [
       "<matplotlib.figure.Figure at 0x7f9d65c3f198>"
      ]
     },
     "metadata": {},
     "output_type": "display_data"
    }
   ],
   "source": [
    "#plot the acceptance of one runlist\n",
    "plt.hist(acc, bins=50, range=(0,1.1))\n",
    "plt.xlim(0, 1)\n",
    "plt.show()"
   ]
  },
  {
   "cell_type": "code",
   "execution_count": 33,
   "metadata": {
    "collapsed": false,
    "deletable": true,
    "editable": true
   },
   "outputs": [
    {
     "name": "stdout",
     "output_type": "stream",
     "text": [
      "y/m/d\n",
      "2017-11-03 09:45:07\n"
     ]
    }
   ],
   "source": [
    "#get date of specific run\n",
    "\n",
    "from make_runlist_new import get_dates\n",
    "date_dict=get_dates(bottom_runs)\n",
    "\n",
    "bad_run=14192\n",
    "bad_date=date_dict[bad_run]\n",
    "print('y/m/d')\n",
    "print(bad_date)"
   ]
  },
  {
   "cell_type": "code",
   "execution_count": 14,
   "metadata": {
    "collapsed": false,
    "deletable": true,
    "editable": true
   },
   "outputs": [
    {
     "name": "stdout",
     "output_type": "stream",
     "text": [
      "in my_off but not actually_off: [137]\n",
      "opposite:  []\n"
     ]
    }
   ],
   "source": [
    "my_off = np.where(occ < 0.07)[0]\n",
    "print('in my_off but not actually_off:', [ch for ch in my_off if ch not in ACTUALLY_OFF])\n",
    "print('opposite: ', [ch for ch in ACTUALLY_OFF if ch not in my_off])"
   ]
  },
  {
   "cell_type": "code",
   "execution_count": 15,
   "metadata": {
    "collapsed": false,
    "deletable": true,
    "editable": true
   },
   "outputs": [],
   "source": [
    "from spe_acceptance import data_dir_base #/project/lgrandi/xenon1t/spe_acceptance/data\n",
    "path = os.path.join(data_dir_base, 'run_%05d.h5' % tr_run)\n",
    "s = analyze.SPE(path)\n",
    "vals_to_check = [3,4,5,6,7,8,9]\n",
    "occ_array = np.ones((248, len(vals_to_check)))\n",
    "for i, val in enumerate(vals_to_check):\n",
    "    occ_array[:,i] = -1*np.log(s.make_correction(val, 'amplitude'))\n",
    "occ = np.mean(occ_array, axis=1)\n",
    "myoff = np.where(occ < 0.1)[0]"
   ]
  },
  {
   "cell_type": "code",
   "execution_count": 16,
   "metadata": {
    "collapsed": false,
    "deletable": true,
    "editable": true
   },
   "outputs": [
    {
     "data": {
      "image/png": "[encoded data removed]",
      "text/plain": [
       "<matplotlib.figure.Figure at 0x7f9d594f93c8>"
      ]
     },
     "metadata": {},
     "output_type": "display_data"
    }
   ],
   "source": [
    "plt.plot(s.data['bin_centers'], s.data['LED_amplitude'][:,0], color='black')\n",
    "plt.plot(s.data['bin_centers'], s.data['noise_amplitude'][:,0], color='red')\n",
    "plt.yscale('log')\n",
    "plt.xlim(-50, 250)\n",
    "plt.show()"
   ]
  },
  {
   "cell_type": "code",
   "execution_count": 17,
   "metadata": {
    "collapsed": false,
    "deletable": true,
    "editable": true
   },
   "outputs": [],
   "source": [
    "run_number = 15628\n",
    "path = os.path.join(data_dir_base, 'run_%05d.h5' % run_number)\n",
    "if not os.path.exists(path):\n",
    "    print(\"Acceptance data does not exist for run %d\" % run_number)\n",
    "s = analyze.SPE(path)\n",
    "acc_fracs = []\n",
    "\n",
    "        "
   ]
  },
  {
   "cell_type": "code",
   "execution_count": 18,
   "metadata": {
    "collapsed": false,
    "deletable": true,
    "editable": true
   },
   "outputs": [
    {
     "ename": "AttributeError",
     "evalue": "'SPE' object has no attribute 'acceptance_curves'",
     "output_type": "error",
     "traceback": [
      "\u001b[0;31m---------------------------------------------------------------------------\u001b[0m",
      "\u001b[0;31mAttributeError\u001b[0m                            Traceback (most recent call last)",
      "\u001b[0;32m<ipython-input-18-7048143fc386>\u001b[0m in \u001b[0;36m<module>\u001b[0;34m()\u001b[0m\n\u001b[1;32m      2\u001b[0m \u001b[0;34m\u001b[0m\u001b[0m\n\u001b[1;32m      3\u001b[0m \u001b[0macc\u001b[0m \u001b[0;34m=\u001b[0m \u001b[0ms\u001b[0m\u001b[0;34m.\u001b[0m\u001b[0macceptance\u001b[0m\u001b[0;34m(\u001b[0m\u001b[0;36m6\u001b[0m\u001b[0;34m,\u001b[0m \u001b[0;34m'amplitude'\u001b[0m\u001b[0;34m)\u001b[0m\u001b[0;34m\u001b[0m\u001b[0m\n\u001b[0;32m----> 4\u001b[0;31m \u001b[0macc2\u001b[0m \u001b[0;34m=\u001b[0m \u001b[0ms\u001b[0m\u001b[0;34m.\u001b[0m\u001b[0macceptance_curves\u001b[0m\u001b[0;34m[\u001b[0m\u001b[0mch\u001b[0m\u001b[0;34m]\u001b[0m\u001b[0;34m\u001b[0m\u001b[0m\n\u001b[0m\u001b[1;32m      5\u001b[0m \u001b[0macc2_errs\u001b[0m \u001b[0;34m=\u001b[0m \u001b[0ms\u001b[0m\u001b[0;34m.\u001b[0m\u001b[0macceptance_errors\u001b[0m\u001b[0;34m[\u001b[0m\u001b[0mch\u001b[0m\u001b[0;34m]\u001b[0m\u001b[0;34m\u001b[0m\u001b[0m\n\u001b[1;32m      6\u001b[0m \u001b[0mplt\u001b[0m\u001b[0;34m.\u001b[0m\u001b[0mplot\u001b[0m\u001b[0;34m(\u001b[0m\u001b[0ms\u001b[0m\u001b[0;34m.\u001b[0m\u001b[0mdata\u001b[0m\u001b[0;34m[\u001b[0m\u001b[0;34m'bin_centers'\u001b[0m\u001b[0;34m]\u001b[0m\u001b[0;34m,\u001b[0m \u001b[0macc\u001b[0m\u001b[0;34m[\u001b[0m\u001b[0mch\u001b[0m\u001b[0;34m]\u001b[0m\u001b[0;34m)\u001b[0m\u001b[0;34m\u001b[0m\u001b[0m\n",
      "\u001b[0;31mAttributeError\u001b[0m: 'SPE' object has no attribute 'acceptance_curves'"
     ]
    }
   ],
   "source": [
    "ch = 0\n",
    "\n",
    "acc = s.acceptance(6, 'amplitude')\n",
    "acc2 = s.acceptance_curves[ch]\n",
    "acc2_errs = s.acceptance_errors[ch]\n",
    "plt.plot(s.data['bin_centers'], acc[ch])\n",
    "plt.errorbar(s.data['bin_centers'], acc2, yerr=acc2_errs)\n",
    "plt.xlim(-10, 150)\n",
    "plt.show()"
   ]
  },
  {
   "cell_type": "code",
   "execution_count": 19,
   "metadata": {
    "collapsed": true,
    "deletable": true,
    "editable": true
   },
   "outputs": [],
   "source": [
    "def acceptance_fraction(run_number, thresholds):\n",
    "    path = os.path.join(data_dir_base, 'run_%05d.h5' % run_number)\n",
    "    if not os.path.exists(path):\n",
    "        print(\"Acceptance data does not exist for run %d\" % run_number)\n",
    "    s = analyze.SPE(path)\n",
    "    frac_array = np.ones((248, s.big_array.shape[-1]))\n",
    "    ch_index = np.arange(248)\n",
    "    thresholds = np.array(thresholds)\n",
    "    bin0 = np.where(s.data['bin_centers'] == 0.5)[0][0]\n",
    "    for i in range(s.big_array.shape[-1]):\n",
    "        frac_array[:,i] = s.big_array[...,i][ch_index, thresholds[:248] + bin0]\n",
    "    acc_frac = np.mean(frac_array, axis=1)\n",
    "    acc_errs = np.std(frac_array, axis=1)\n",
    "    return acc_frac, acc_errs"
   ]
  },
  {
   "cell_type": "code",
   "execution_count": 20,
   "metadata": {
    "collapsed": false,
    "deletable": true,
    "editable": true
   },
   "outputs": [],
   "source": [
    "run_number = 15628\n",
    "path=os.path.join(data_dir_base, 'run_%05d.h5' % run_number)\n",
    "s = analyze.SPE(path)\n",
    "thresh = analyze.get_thresholds(analyze.find_regular_run(run_number))\n",
    "\n",
    "#acceptance fraction defined above, otherwise need to do analyze.acceptance_fraction\n",
    "frac, errs = acceptance_fraction(run_number, thresh)"
   ]
  },
  {
   "cell_type": "code",
   "execution_count": 21,
   "metadata": {
    "collapsed": false,
    "deletable": true,
    "editable": true
   },
   "outputs": [
    {
     "data": {
      "text/plain": [
       "array([ 1.,  1.,  2.,  1.,  2.])"
      ]
     },
     "execution_count": 21,
     "metadata": {},
     "output_type": "execute_result"
    }
   ],
   "source": [
    "arr = np.ones(5)\n",
    "arr[[2,4]] = [2,2]\n",
    "arr"
   ]
  },
  {
   "cell_type": "code",
   "execution_count": 22,
   "metadata": {
    "collapsed": true,
    "deletable": true,
    "editable": true
   },
   "outputs": [],
   "source": [
    "from channel_dict import channel_dict\n",
    "\n",
    "bot_run = 15625\n",
    "tb_run = 15627\n",
    "tr_run = 15628\n",
    "\n",
    "bottom = channel_dict['bottom_channels']\n",
    "topbulk = channel_dict['top_bulk']\n",
    "topring = channel_dict['top_outer_ring']\n",
    "\n",
    "real_acc, real_errs = np.ones(248), np.ones(248)\n",
    "\n",
    "for run, channels in zip([bot_run, tb_run, tr_run], [bottom, topbulk, topring]):\n",
    "    frac, errs = acceptance_fraction(run_number, thresh)\n",
    "    real_acc[channels] = frac[channels]\n",
    "    real_errs[channels] = errs[channels]"
   ]
  },
  {
   "cell_type": "code",
   "execution_count": 23,
   "metadata": {
    "collapsed": true,
    "deletable": true,
    "editable": true
   },
   "outputs": [],
   "source": [
    "arr  = s.big_array"
   ]
  },
  {
   "cell_type": "code",
   "execution_count": 24,
   "metadata": {
    "collapsed": false,
    "deletable": true,
    "editable": true
   },
   "outputs": [
    {
     "data": {
      "text/plain": [
       "array([ 0.79991897,  0.99880324,  0.98918091,  0.81352794,  0.78571383,\n",
       "        0.81593702,  0.81633152,  0.83834987,  0.83783966,  0.83249716,\n",
       "        0.8076161 ,  0.82432882,  0.98404089,  0.80310046,  0.81949586,\n",
       "        0.81142035,  0.84269722,  0.8090832 ,  0.80821502,  0.82105526,\n",
       "        0.79936741,  0.82823907,  0.80227707,  0.80196338,  0.82010902,\n",
       "        0.82788516,  0.99004261,  0.82307384,  0.81445193,  0.80110233,\n",
       "        0.81281417,  0.82442472,  0.76577308,  0.79205264,  0.99223429,\n",
       "        0.79293717,  0.74634989,  0.77169871,  0.73485033,  0.73349638,\n",
       "        0.70838177,  0.73557611,  0.75136886,  0.73669887,  0.72476133,\n",
       "        0.74738406,  0.75012173,  0.74483102,  0.74989615,  0.78361772,\n",
       "        0.74428722,  0.7500445 ,  0.75568153,  0.73924573,  0.76124954,\n",
       "        0.74218054,  0.78479161,  0.76181326,  0.72265489,  0.7452085 ,\n",
       "        0.72366591,  0.76531571,  0.98304703,  0.73757062,  0.74372707,\n",
       "        0.99391906,  0.70814347,  0.71407053,  0.72385326,  0.71801559,\n",
       "        0.74728567,  0.73172935,  0.73762832,  0.78035703,  0.71196683,\n",
       "        0.74131157,  0.73842924,  0.76089891,  0.73764771,  0.99610156,\n",
       "        0.75032066,  0.74108298,  0.74466714,  0.73287223,  0.71178468,\n",
       "        0.73666484,  0.99498086,  0.70601705,  0.99787713,  0.72078292,\n",
       "        0.68601138,  0.73924555,  0.71654088,  0.71236083,  0.7259351 ,\n",
       "        0.72019054,  0.72416205,  0.73047999,  0.7074491 ,  0.719561  ,\n",
       "        0.71011142,  0.72380487,  1.00222924,  0.72571466,  0.72514708,\n",
       "        0.70436471,  0.70669348,  0.71890207,  0.71112648,  0.69739448,\n",
       "        0.70670035,  0.72823462,  0.70165755,  0.71757539,  0.72499417,\n",
       "        0.72681975,  0.7240039 ,  0.73544705,  1.00009687,  0.68363921,\n",
       "        0.69989099,  0.70573353,  0.70901959,  0.68511471,  0.69962218,\n",
       "        0.71314433,  0.72328907,  0.41426331,  0.39243831,  0.39537143,\n",
       "        0.99722436,  0.44833907,  0.43945017,  0.36559098,  0.99628952,\n",
       "        0.99141874,  0.41684005,  0.99135138,  0.40789044,  0.9997033 ,\n",
       "        0.4456796 ,  0.39917767,  0.41219773,  0.35720402,  0.34731466,\n",
       "        0.33751719,  0.40882766,  0.37564216,  0.97552405,  0.41086015,\n",
       "        0.9816505 ,  0.35332803,  0.99487482,  0.3872075 ,  0.3210914 ,\n",
       "        0.34080244,  0.35226523,  0.35952013,  0.37303151,  0.41034979,\n",
       "        0.37654297,  0.41202411,  0.9955961 ,  0.33561793,  0.34757433,\n",
       "        0.33319322,  0.34349824,  0.39773871,  0.39223511,  0.3867924 ,\n",
       "        0.41464964,  0.41514603,  0.37499392,  0.3704078 ,  0.33704747,\n",
       "        0.33951651,  0.33451597,  0.32532822,  0.99135789,  0.38646588,\n",
       "        0.39582107,  0.41224942,  0.39119948,  0.99049828,  0.42477539,\n",
       "        0.35965394,  0.34498744,  0.34633903,  0.35938554,  0.33799834,\n",
       "        0.98858027,  0.39258069,  0.41541707,  0.42661648,  0.41845032,\n",
       "        0.37081034,  0.35462972,  0.35119176,  1.00203556,  0.34817687,\n",
       "        0.32868647,  0.32289123,  0.33458528,  0.41691757,  0.446604  ,\n",
       "        0.48452731,  0.99300333,  0.38353412,  0.37769792,  0.34390121,\n",
       "        0.36284509,  0.35078309,  0.33497374,  0.9965904 ,  0.99996428,\n",
       "        0.38457753,  0.40160979,  0.40626392,  0.36300465,  0.35548327,\n",
       "        0.33144445,  0.37897333,  0.35163924,  0.37435611,  0.39913235,\n",
       "        0.39843829,  0.39613533,  0.35785977,  0.3928675 ,  0.34447315,\n",
       "        0.40049036,  0.36596863,  0.35562585,  0.41390218,  0.99506029,\n",
       "        0.45408238,  0.40240824,  0.38335497,  0.36600731,  0.99306421,\n",
       "        0.37753947,  0.38069171,  0.42551295,  0.45319409,  0.98948306,\n",
       "        0.41279806,  0.46265115,  0.42669747])"
      ]
     },
     "execution_count": 24,
     "metadata": {},
     "output_type": "execute_result"
    }
   ],
   "source": [
    "corrections = s.make_correction(6, 'amplitude')\n",
    "corrections"
   ]
  },
  {
   "cell_type": "code",
   "execution_count": 25,
   "metadata": {
    "collapsed": false,
    "deletable": true,
    "editable": true
   },
   "outputs": [
    {
     "data": {
      "text/plain": [
       "array([ -9.40316623e-04,  -3.12971995e-03,  -1.31163423e-02,\n",
       "        -6.25031076e-02,   2.72463883e+03,   5.44933399e+03,\n",
       "         5.44933399e+03,   5.44933399e+03])"
      ]
     },
     "execution_count": 25,
     "metadata": {},
     "output_type": "execute_result"
    },
    {
     "data": {
      "image/png": "[encoded data removed]",
      "text/plain": [
       "<matplotlib.figure.Figure at 0x7f9d65c97048>"
      ]
     },
     "metadata": {},
     "output_type": "display_data"
    }
   ],
   "source": [
    "chs = np.arange(248)\n",
    "thresh = np.array(thresh[:248])\n",
    "ch = 139\n",
    "\n",
    "frac_array = np.ones((248, arr.shape[-1]))\n",
    "plt.figure(figsize=(9,6))\n",
    "for i in range(s.big_array.shape[-1]):\n",
    "    tmp = arr[...,i]\n",
    "    frac_array[:,i] = tmp[chs, 100+thresh]\n",
    "    plt.plot(s.data['bin_centers'], s.big_array[ch,:,i])\n",
    "    #frac_array[:,i] = arr[...,i][list(np.arange(248)), thresh]\n",
    "\n",
    "\n",
    "plt.errorbar([thresh[ch]], np.mean(frac_array[ch]), yerr=np.std(frac_array[ch]))\n",
    "plt.xlim(0,150)\n",
    "frac_array[ch]"
   ]
  },
  {
   "cell_type": "code",
   "execution_count": 26,
   "metadata": {
    "collapsed": false,
    "deletable": true,
    "editable": true
   },
   "outputs": [
    {
     "data": {
      "text/plain": [
       "248"
      ]
     },
     "execution_count": 26,
     "metadata": {},
     "output_type": "execute_result"
    }
   ],
   "source": [
    "thresh = np.array(thresh)\n",
    "len(thresh)"
   ]
  },
  {
   "cell_type": "code",
   "execution_count": 27,
   "metadata": {
    "collapsed": false,
    "deletable": true,
    "editable": true
   },
   "outputs": [
    {
     "data": {
      "text/plain": [
       "(-20, 20)"
      ]
     },
     "execution_count": 27,
     "metadata": {},
     "output_type": "execute_result"
    },
    {
     "data": {
      "image/png": "[encoded data removed]",
      "text/plain": [
       "<matplotlib.figure.Figure at 0x7f9d583fe278>"
      ]
     },
     "metadata": {},
     "output_type": "display_data"
    }
   ],
   "source": [
    "plt.plot(s.data['bin_centers'], s.data['LED_amplitude'][:,ch])\n",
    "plt.plot(s.data['bin_centers'], s.data['noise_amplitude'][:,ch])\n",
    "plt.yscale('log')\n",
    "plt.xlim(-20,20)"
   ]
  },
  {
   "cell_type": "code",
   "execution_count": null,
   "metadata": {
    "collapsed": true,
    "deletable": true,
    "editable": true
   },
   "outputs": [],
   "source": []
  },
  {
   "cell_type": "code",
   "execution_count": null,
   "metadata": {
    "collapsed": true,
    "deletable": true,
    "editable": true
   },
   "outputs": [],
   "source": []
  }
 ],
 "metadata": {
  "kernelspec": {
   "display_name": "Python 3",
   "language": "python",
   "name": "python3"
  },
  "language_info": {
   "codemirror_mode": {
    "name": "ipython",
    "version": 3
   },
   "file_extension": ".py",
   "mimetype": "text/x-python",
   "name": "python",
   "nbconvert_exporter": "python",
   "pygments_lexer": "ipython3",
   "version": "3.4.4"
  }
 },
 "nbformat": 4,
 "nbformat_minor": 1
}
