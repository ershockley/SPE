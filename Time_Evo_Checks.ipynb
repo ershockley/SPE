{
 "cells": [
  {
   "cell_type": "code",
   "execution_count": 1,
   "metadata": {
    "collapsed": false,
    "deletable": true,
    "editable": true
   },
   "outputs": [],
   "source": [
    "import os\n",
    "import numpy as np\n",
    "import pandas as pd\n",
    "import matplotlib.pyplot as plt\n",
    "import matplotlib\n",
    "import analyze # takes some time since inits hax\n",
    "from channel_dict import channel_dict\n",
    "from tqdm import tqdm\n",
    "import datetime\n",
    "import pickle\n",
    "\n",
    "\n",
    "%matplotlib inline"
   ]
  },
  {
   "cell_type": "markdown",
   "metadata": {},
   "source": [
    "## Setup"
   ]
  },
  {
   "cell_type": "code",
   "execution_count": 2,
   "metadata": {
    "collapsed": true,
    "deletable": true,
    "editable": true
   },
   "outputs": [],
   "source": [
    "ACTUALLY_OFF = [1, 2, 12, 26, 34, 62, 65, 79, 86, 88, 102, 118, \n",
    "                130, 134, 135, 139, 148, 150, 152, 162, 178, 183,\n",
    "                190, 198, 206, 213, 214, 234, 239, 244]"
   ]
  },
  {
   "cell_type": "code",
   "execution_count": 3,
   "metadata": {
    "collapsed": true,
    "deletable": true,
    "editable": true
   },
   "outputs": [],
   "source": [
    "import hax\n",
    "#hax already initiated when analyze is imported\n",
    "\n",
    "from spe_acceptance import data_dir_base\n",
    "\n",
    "\n",
    "def data_exists(run_number):\n",
    "    data_path=os.path.join(data_dir_base, 'run_%05d.h5' %run_number)\n",
    "    return os.path.exists(data_path)\n",
    "\n",
    "def all_data_exists(runlist):\n",
    "    return all([data_exists(run) for run in runlist])\n",
    "\n",
    "def file_to_list(runlist_file):\n",
    "    return [int(run) for run in runlist_file.split('.')[0].split('_')[1:4]]\n",
    "\n",
    "def get_run_time(run):\n",
    "    return hax.runs.datasets[hax.runs.datasets.number == run].start.values[0]"
   ]
  },
  {
   "cell_type": "code",
   "execution_count": 4,
   "metadata": {
    "collapsed": false
   },
   "outputs": [
    {
     "name": "stdout",
     "output_type": "stream",
     "text": [
      "[9549, 12587, 7350, 6909, 6550, 7067, 12768, 11429, 7447, 16984, 10696, 6957, 12046, 17454, 7968, 7646, 18562, 11625, 17998, 18383, 10133, 8448, 7758, 6938, 16343, 9604, 9033, 7485, 11069, 7569, 16701, 8921, 15625, 14192, 13300, 15987, 6169, 6753, 7912, 12130, 5242, 5152, 8154, 13837, 18846, 17587, 12318, 8267, 10796, 6358, 5755, 9697, 13128, 5442, 10297, 9112, 11535, 17862, 9797, 11733, 12946, 8735, 7268, 16523, 10877, 8840, 7680, 6984, 11813, 15085, 18928, 10524, 8350, 5646, 6446, 8069, 15811, 10064, 18286, 17249, 14369, 17782, 7795, 6834, 14733, 10610, 9217, 5039, 15268, 13657, 12511, 11352, 8545, 14555, 18190, 9299, 15420, 8627, 12398, 14907, 5557, 12211, 10986, 5358, 17939, 7100, 6892]\n"
     ]
    }
   ],
   "source": [
    "#Load data from pickle file\n",
    "\n",
    "bottom_runs = []\n",
    "accs = []\n",
    "upper_errs=[]\n",
    "lower_errs=[]\n",
    "errors = []\n",
    "\n",
    "acc_dict={}\n",
    "\n",
    "missing_runs = []\n",
    "LED_off = []\n",
    "\n",
    "with open('/project/lgrandi/xenon1t/spe_acceptance/ch_data/ch_data.pkl', 'rb') as cd:\n",
    "    if os.stat('/project/lgrandi/xenon1t/spe_acceptance/ch_data/ch_data.pkl').st_size==0:\n",
    "        data=[]\n",
    "        print(\"No Data in the pickle file, load it in time_evolution_new\")\n",
    "    else:\n",
    "        data=pickle.load(cd)\n",
    "saved_runlists=[]\n",
    "\n",
    "for cd in data:\n",
    "    saved_runlists.append(cd.runlist)\n",
    "    \n",
    "    runlist = file_to_list(cd.runlist)\n",
    "            \n",
    "    bottom_run = runlist[0]\n",
    "    topbulk_run = runlist[1]\n",
    "    topring_run = runlist[2]\n",
    "    \n",
    "    acc=cd.acc\n",
    "    acc_errs_l=cd.acc_errs_l\n",
    "    acc_errs_u=cd.acc_errs_u\n",
    "    acc_sys=cd.acc_sys\n",
    "    acc_stat=cd.acc_stat\n",
    "    occ=cd.occ\n",
    "    occ_sys=cd.occ_sys\n",
    "    occ_stat=cd.occ_stat\n",
    "    \n",
    "    acc_dict[cd.runlist] = acc\n",
    "    \n",
    "    accs.append(np.mean(acc))\n",
    "    lower_errs.append(np.mean(acc_errs_l**2))\n",
    "    upper_errs.append(np.mean(acc_errs_u**2))\n",
    "    bottom_runs.append(bottom_run)\n",
    "            \n",
    "errors=np.array([lower_errs, upper_errs])\n",
    "print(bottom_runs)"
   ]
  },
  {
   "cell_type": "code",
   "execution_count": 5,
   "metadata": {
    "collapsed": false,
    "deletable": true,
    "editable": true
   },
   "outputs": [
    {
     "name": "stdout",
     "output_type": "stream",
     "text": [
      "low acceptance bottom runs:  []\n"
     ]
    }
   ],
   "source": [
    "#prints low acceptance bottom runs (<0.7)\n",
    "bottom_runs = np.array(bottom_runs)\n",
    "accs = np.array(accs)\n",
    "\n",
    "print('low acceptance bottom runs: ',bottom_runs[np.where(accs < 0.7)])"
   ]
  },
  {
   "cell_type": "code",
   "execution_count": 6,
   "metadata": {
    "collapsed": true,
    "deletable": true,
    "editable": true
   },
   "outputs": [],
   "source": [
    "def acceptance_curve_3runs(bottom_run, topbulk_run, topring_run):\n",
    "    ret_acc, ret_errs = np.ones((248, 1099)), np.ones((248, 1099))\n",
    "    run_list = [bottom_run, topbulk_run, topring_run]\n",
    "    channel_lists = [channel_dict['bottom_channels'],\n",
    "                     channel_dict['top_bulk'],\n",
    "                     channel_dict['top_outer_ring']]\n",
    "    for run, ch_list in zip(run_list, channel_lists):\n",
    "        path = os.path.join(data_dir_base, 'run_%05d.h5' % run)\n",
    "        if not os.path.exists(path):\n",
    "            print(\"Acceptance data does not exist for run %d\" % run)\n",
    "        s = analyze.SPE(path)\n",
    "        frac, errs = s.acceptance_by_channel\n",
    "        ret_acc[ch_list] = frac[ch_list]\n",
    "        ret_errs[ch_list] = errs[ch_list]\n",
    "    return ret_acc, ret_errs\n",
    "\n",
    "def find_file(run):\n",
    "    return [f for f in os.listdir('runlists') if str(run) in f]"
   ]
  },
  {
   "cell_type": "markdown",
   "metadata": {
    "deletable": true,
    "editable": true
   },
   "source": [
    "## Analysis on Outlier Runs"
   ]
  },
  {
   "cell_type": "code",
   "execution_count": 7,
   "metadata": {
    "collapsed": false,
    "deletable": true,
    "editable": true
   },
   "outputs": [
    {
     "ename": "IndexError",
     "evalue": "index 1 is out of bounds for axis 0 with size 0",
     "output_type": "error",
     "traceback": [
      "\u001b[0;31m---------------------------------------------------------------------------\u001b[0m",
      "\u001b[0;31mIndexError\u001b[0m                                Traceback (most recent call last)",
      "\u001b[0;32m<ipython-input-7-858f9ea604a7>\u001b[0m in \u001b[0;36m<module>\u001b[0;34m()\u001b[0m\n\u001b[1;32m      2\u001b[0m \u001b[0moutlier_indices\u001b[0m \u001b[0;34m=\u001b[0m \u001b[0mnp\u001b[0m\u001b[0;34m.\u001b[0m\u001b[0mwhere\u001b[0m\u001b[0;34m(\u001b[0m\u001b[0maccs\u001b[0m \u001b[0;34m<\u001b[0m \u001b[0;36m0.85\u001b[0m\u001b[0;34m)\u001b[0m\u001b[0;34m\u001b[0m\u001b[0m\n\u001b[1;32m      3\u001b[0m \u001b[0moutliers\u001b[0m \u001b[0;34m=\u001b[0m \u001b[0mbottom_runs\u001b[0m\u001b[0;34m[\u001b[0m\u001b[0moutlier_indices\u001b[0m\u001b[0;34m]\u001b[0m\u001b[0;34m\u001b[0m\u001b[0m\n\u001b[0;32m----> 4\u001b[0;31m \u001b[0mrun\u001b[0m \u001b[0;34m=\u001b[0m \u001b[0moutliers\u001b[0m\u001b[0;34m[\u001b[0m\u001b[0;36m1\u001b[0m\u001b[0;34m]\u001b[0m\u001b[0;34m\u001b[0m\u001b[0m\n\u001b[0m\u001b[1;32m      5\u001b[0m \u001b[0mprint\u001b[0m\u001b[0;34m(\u001b[0m\u001b[0;34m'Run: '\u001b[0m\u001b[0;34m,\u001b[0m\u001b[0mrun\u001b[0m\u001b[0;34m)\u001b[0m\u001b[0;34m\u001b[0m\u001b[0m\n\u001b[1;32m      6\u001b[0m \u001b[0ms\u001b[0m \u001b[0;34m=\u001b[0m \u001b[0manalyze\u001b[0m\u001b[0;34m.\u001b[0m\u001b[0mSPE\u001b[0m\u001b[0;34m(\u001b[0m\u001b[0;34m'data/run_%05d.h5'\u001b[0m \u001b[0;34m%\u001b[0m \u001b[0mrun\u001b[0m\u001b[0;34m)\u001b[0m\u001b[0;34m\u001b[0m\u001b[0m\n",
      "\u001b[0;31mIndexError\u001b[0m: index 1 is out of bounds for axis 0 with size 0"
     ]
    }
   ],
   "source": [
    "#Find outliers, plot acc of one of them\n",
    "outlier_indices = np.where(accs < 0.85)\n",
    "outliers = bottom_runs[outlier_indices]\n",
    "run = outliers[1]\n",
    "print('Run: ',run)\n",
    "s = analyze.SPE('data/run_%05d.h5' % run)\n",
    "x = s.data['bin_centers'].copy()\n",
    "runlist = file_to_list(find_file(run)[0])\n",
    "\n",
    "acc, err = acceptance_curve_3runs(runlist[0], runlist[1], runlist[2])\n",
    "thresholds = analyze.get_thresholds(analyze.find_regular_run(int(run)))\n",
    "\n",
    "acc_frac = acc[np.arange(248), 100 + np.array(thresholds[:248])]\n",
    "print('Acceptance: ', np.median(acc_frac))\n",
    "print(acc)\n",
    "plt.figure(figsize=(9,6))\n",
    "for ch, a in enumerate(acc):\n",
    "    plt.plot(x, a, color='black', linewidth=1, alpha=0.6)\n",
    "    \n",
    "plt.xlim(-10, 200)\n",
    "plt.xlabel('threshold')\n",
    "plt.ylabel('spe acceptance')\n",
    "#plt.savefig('acceptance_curve_%05d.png' % run)\n",
    "plt.show()\n"
   ]
  },
  {
   "cell_type": "code",
   "execution_count": 8,
   "metadata": {
    "collapsed": false,
    "deletable": true,
    "editable": true
   },
   "outputs": [
    {
     "name": "stdout",
     "output_type": "stream",
     "text": [
      "0.0\n"
     ]
    },
    {
     "ename": "IndexError",
     "evalue": "invalid index to scalar variable.",
     "output_type": "error",
     "traceback": [
      "\u001b[0;31m---------------------------------------------------------------------------\u001b[0m",
      "\u001b[0;31mIndexError\u001b[0m                                Traceback (most recent call last)",
      "\u001b[0;32m<ipython-input-8-f86e3ebd2784>\u001b[0m in \u001b[0;36m<module>\u001b[0;34m()\u001b[0m\n\u001b[1;32m     14\u001b[0m \u001b[0mprint\u001b[0m\u001b[0;34m(\u001b[0m\u001b[0mled\u001b[0m\u001b[0;34m)\u001b[0m\u001b[0;34m\u001b[0m\u001b[0m\n\u001b[1;32m     15\u001b[0m \u001b[0mnoise\u001b[0m \u001b[0;34m=\u001b[0m \u001b[0mnoise\u001b[0m\u001b[0;34m.\u001b[0m\u001b[0msum\u001b[0m\u001b[0;34m(\u001b[0m\u001b[0maxis\u001b[0m\u001b[0;34m=\u001b[0m\u001b[0;36m0\u001b[0m\u001b[0;34m)\u001b[0m\u001b[0;34m\u001b[0m\u001b[0m\n\u001b[0;32m---> 16\u001b[0;31m \u001b[0mcorr\u001b[0m \u001b[0;34m=\u001b[0m \u001b[0mled\u001b[0m\u001b[0;34m[\u001b[0m\u001b[0;34m:\u001b[0m\u001b[0;36m108\u001b[0m\u001b[0;34m,\u001b[0m \u001b[0;34m:\u001b[0m\u001b[0;34m]\u001b[0m\u001b[0;34m.\u001b[0m\u001b[0msum\u001b[0m\u001b[0;34m(\u001b[0m\u001b[0maxis\u001b[0m\u001b[0;34m=\u001b[0m\u001b[0;36m0\u001b[0m\u001b[0;34m)\u001b[0m \u001b[0;34m/\u001b[0m \u001b[0mnoise\u001b[0m\u001b[0;34m[\u001b[0m\u001b[0;34m:\u001b[0m\u001b[0;36m108\u001b[0m\u001b[0;34m,\u001b[0m \u001b[0;34m:\u001b[0m\u001b[0;34m]\u001b[0m\u001b[0;34m.\u001b[0m\u001b[0msum\u001b[0m\u001b[0;34m(\u001b[0m\u001b[0maxis\u001b[0m\u001b[0;34m=\u001b[0m\u001b[0;36m0\u001b[0m\u001b[0;34m)\u001b[0m\u001b[0;34m\u001b[0m\u001b[0m\n\u001b[0m\u001b[1;32m     17\u001b[0m \u001b[0mnoise\u001b[0m \u001b[0;34m*=\u001b[0m \u001b[0mcorr\u001b[0m\u001b[0;34m\u001b[0m\u001b[0m\n\u001b[1;32m     18\u001b[0m \u001b[0mprint\u001b[0m\u001b[0;34m(\u001b[0m\u001b[0mcorr\u001b[0m\u001b[0;34m)\u001b[0m\u001b[0;34m\u001b[0m\u001b[0m\n",
      "\u001b[0;31mIndexError\u001b[0m: invalid index to scalar variable."
     ]
    }
   ],
   "source": [
    "#recalculates acc instead of relying on analyze\n",
    "#Does this for all outlier runs\n",
    "led = []\n",
    "noise = []\n",
    "for run in outliers:\n",
    "    s = analyze.SPE('data/run_%05d.h5' % run)\n",
    "    led.append(s.data['LED_amplitude'])\n",
    "    noise.append(s.data['noise_amplitude'])\n",
    "\n",
    "\n",
    "led = np.array(led)\n",
    "noise = np.array(noise)\n",
    "led = led.sum(axis=0)\n",
    "print(led)\n",
    "noise = noise.sum(axis=0)\n",
    "corr = led[:108, :].sum(axis=0) / noise[:108, :].sum(axis=0)\n",
    "noise *= corr\n",
    "print(corr)\n",
    "print(noise)\n",
    "\n",
    "residual = (led - noise).T\n",
    "\n",
    "acceptance = 1 - residual.cumsum(axis=1) / residual.sum(axis=1)[:, np.newaxis]\n",
    "print(acceptance)\n",
    "acceptance = np.clip(acceptance, -0.1, 1.1)\n",
    "\n",
    "plt.figure(figsize=(9,6))\n",
    "for ch, acc in enumerate(acceptance):\n",
    "    plt.plot(x, acc, color='k')\n",
    "plt.xlabel('Threshold')\n",
    "plt.ylabel('SPE Acceptance')\n",
    "plt.xlim(-10,200)\n",
    "plt.show()"
   ]
  },
  {
   "cell_type": "code",
   "execution_count": null,
   "metadata": {
    "collapsed": false,
    "deletable": true,
    "editable": true
   },
   "outputs": [],
   "source": [
    "#finds thresholds, acc, occ and acc and occ errs for a single runlist\n",
    "#Should be runlist of an outlier run\n",
    "\n",
    "runlist='runlist_14192_14193_14195.txt'\n",
    "runs = runlist.split('_')[1:4]\n",
    "bot_run = int(runs[0])\n",
    "tb_run = int(runs[1])\n",
    "tr_run = int(runs[2][:-4])\n",
    "\n",
    "thresholds = analyze.get_thresholds(analyze.find_regular_run(bot_run))\n",
    "acc, err = analyze.acceptance_3runs(bot_run, tb_run, tr_run, thresholds)\n",
    "occ, occ_err = analyze.occupancy_3runs(bot_run, tb_run, tr_run)"
   ]
  },
  {
   "cell_type": "code",
   "execution_count": null,
   "metadata": {
    "collapsed": false,
    "deletable": true,
    "editable": true
   },
   "outputs": [],
   "source": [
    "#plot the occupancy of one runlist\n",
    "plt.hist(occ, bins=50, range=(0,1.1))\n",
    "plt.xlim(0,0.2)\n",
    "plt.show()"
   ]
  },
  {
   "cell_type": "code",
   "execution_count": 17,
   "metadata": {
    "collapsed": false,
    "deletable": true,
    "editable": true
   },
   "outputs": [
    {
     "data": {
      "image/png": "[encoded data removed]",
      "text/plain": [
       "<matplotlib.figure.Figure at 0x7f20ca444198>"
      ]
     },
     "metadata": {},
     "output_type": "display_data"
    }
   ],
   "source": [
    "#plot the acceptance of one runlist\n",
    "plt.hist(acc, bins=50, range=(0,1.1))\n",
    "plt.xlim(0, 1)\n",
    "plt.show()"
   ]
  },
  {
   "cell_type": "code",
   "execution_count": null,
   "metadata": {
    "collapsed": false,
    "deletable": true,
    "editable": true
   },
   "outputs": [],
   "source": [
    "# get date of specific run\n",
    "\n",
    "from make_runlist_new import get_dates\n",
    "date_dict=get_dates(bottom_runs)\n",
    "\n",
    "bad_run=14192\n",
    "bad_date=date_dict[bad_run]\n",
    "print('y/m/d')\n",
    "print(bad_date)"
   ]
  },
  {
   "cell_type": "code",
   "execution_count": 23,
   "metadata": {
    "collapsed": false,
    "deletable": true,
    "editable": true
   },
   "outputs": [
    {
     "name": "stdout",
     "output_type": "stream",
     "text": [
      "in my_off but not actually_off: [137]\n",
      "opposite:  []\n"
     ]
    }
   ],
   "source": [
    "#checks if channels that register as off are only the ones we know are actually off\n",
    "\n",
    "my_off = np.where(occ < 0.05)[0]\n",
    "print('in my_off but not actually_off:', [ch for ch in my_off if ch not in ACTUALLY_OFF])\n",
    "print('opposite: ', [ch for ch in ACTUALLY_OFF if ch not in my_off])"
   ]
  },
  {
   "cell_type": "markdown",
   "metadata": {},
   "source": [
    "## Individual Channels "
   ]
  },
  {
   "cell_type": "code",
   "execution_count": 31,
   "metadata": {
    "collapsed": false
   },
   "outputs": [
    {
     "name": "stdout",
     "output_type": "stream",
     "text": [
      "217\n",
      "217\n"
     ]
    },
    {
     "data": {
      "image/png": "[encoded data removed]",
      "text/plain": [
       "<matplotlib.figure.Figure at 0x7f20ca669e10>"
      ]
     },
     "metadata": {},
     "output_type": "display_data"
    }
   ],
   "source": [
    "runlist= 'runlist_12211_12213_12214.txt' #manually enter runlist\n",
    "\n",
    "bottom_run=file_to_list(runlist)[0]\n",
    "\n",
    "#get acceptances\n",
    "accs=acc_dict[runlist] \n",
    "\n",
    "ch=np.arange(248)\n",
    "on_ch=np.delete(ch, my_off)\n",
    "#plot acceptance of each channel\n",
    "plt.figure()\n",
    "plt.plot(on_ch, accs, marker='.', linestyle='none')\n",
    "plt.ylabel('Acceptance Fraction')\n",
    "plt.xlabel('Channel #')\n",
    "plt.title('Acc by Ch for %s' %runlist)\n",
    "plt.show()"
   ]
  },
  {
   "cell_type": "code",
   "execution_count": 38,
   "metadata": {
    "collapsed": false
   },
   "outputs": [
    {
     "name": "stdout",
     "output_type": "stream",
     "text": [
      "Low acc ch:  [27, 31, 45, 58, 73, 91, 96, 167, 188, 203]\n"
     ]
    }
   ],
   "source": [
    "ch_acc_dict={}\n",
    "\n",
    "for ch, acc in zip(on_ch, accs):\n",
    "    ch_acc_dict[acc]=ch\n",
    "\n",
    "low_acc_ch=[]\n",
    "for acc in accs:\n",
    "    if acc<0.8:\n",
    "        low_acc_ch.append(ch_acc_dict[acc])\n",
    "        \n",
    "print('Low acc ch: ', low_acc_ch)"
   ]
  },
  {
   "cell_type": "markdown",
   "metadata": {
    "deletable": true,
    "editable": true
   },
   "source": [
    "## Analysis of Systematic Errors"
   ]
  },
  {
   "cell_type": "code",
   "execution_count": null,
   "metadata": {
    "collapsed": false,
    "deletable": true,
    "editable": true
   },
   "outputs": [],
   "source": [
    "#Sets up checks for arbitrary bin choice\n",
    "from spe_acceptance import data_dir_base #/project/lgrandi/xenon1t/spe_acceptance/data\n",
    "path = os.path.join(data_dir_base, 'run_%05d.h5' % tr_run)\n",
    "s = analyze.SPE(path)\n",
    "vals_to_check = [3,4,5,6,7,8,9]\n",
    "occ_array = np.ones((248, len(vals_to_check)))\n",
    "for i, val in enumerate(vals_to_check):\n",
    "    occ_array[:,i] = -1*np.log(s.make_correction(val, 'amplitude'))\n",
    "occ = np.mean(occ_array, axis=1)\n",
    "myoff = np.where(occ < 0.1)[0]"
   ]
  },
  {
   "cell_type": "code",
   "execution_count": null,
   "metadata": {
    "collapsed": false,
    "deletable": true,
    "editable": true
   },
   "outputs": [],
   "source": [
    "#plot LED and noise vs bins\n",
    "plt.plot(s.data['bin_centers'], s.data['LED_amplitude'][:,0], color='black')\n",
    "plt.plot(s.data['bin_centers'], s.data['noise_amplitude'][:,0], color='red')\n",
    "plt.yscale('log')\n",
    "plt.ylabel('Amplitude')\n",
    "plt.xlabel('Bins')\n",
    "plt.xlim(-50, 250)\n",
    "plt.show()"
   ]
  },
  {
   "cell_type": "code",
   "execution_count": null,
   "metadata": {
    "collapsed": false,
    "deletable": true,
    "editable": true
   },
   "outputs": [],
   "source": [
    "#plot a single acc curve vs just a channel on the same run\n",
    "\n",
    "#checks if data for run exists\n",
    "run_number = 14192\n",
    "path = os.path.join(data_dir_base, 'run_%05d.h5' % run_number)\n",
    "if not os.path.exists(path):\n",
    "    print(\"Acceptance data does not exist for run %d\" % run_number)\n",
    "s = analyze.SPE(path)    \n",
    "\n",
    "ch = 0\n",
    "\n",
    "acc = s.acceptance(6, 'amplitude')\n",
    "#x, acc2, acc2_errs = analyze.ch_curve(ch, run_number) #x is s.data['bin_centers']\n",
    "#print(x, acc2, acc2_errs)\n",
    "plt.plot(x, acc[ch])\n",
    "#plt.errorbar(x, acc2, yerr=acc2_errs)\n",
    "plt.xlim(-10, 150)\n",
    "plt.show()"
   ]
  },
  {
   "cell_type": "code",
   "execution_count": null,
   "metadata": {
    "collapsed": true,
    "deletable": true,
    "editable": true
   },
   "outputs": [],
   "source": [
    "def acceptance_fraction(run_number, thresholds):\n",
    "    path = os.path.join(data_dir_base, 'run_%05d.h5' % run_number)\n",
    "    if not os.path.exists(path):\n",
    "        print(\"Acceptance data does not exist for run %d\" % run_number)\n",
    "    s = analyze.SPE(path)\n",
    "    frac_array = np.ones((248, s.big_array.shape[-1]))\n",
    "    ch_index = np.arange(248)\n",
    "    thresholds = np.array(thresholds)\n",
    "    bin0 = np.where(s.data['bin_centers'] == 0.5)[0][0]\n",
    "    for i in range(s.big_array.shape[-1]):\n",
    "        frac_array[:,i] = s.big_array[...,i][ch_index, thresholds[:248] + bin0]\n",
    "    acc_frac = np.mean(frac_array, axis=1)\n",
    "    acc_errs = np.std(frac_array, axis=1)\n",
    "    return acc_frac, acc_errs"
   ]
  },
  {
   "cell_type": "code",
   "execution_count": null,
   "metadata": {
    "collapsed": false,
    "deletable": true,
    "editable": true
   },
   "outputs": [],
   "source": [
    "thresholds = analyze.get_thresholds(analyze.find_regular_run(int(run)))\n",
    "new_accs = analyze.acceptance_3runs(*tuple(runlist), thresholds=thresholds)[0]\n",
    "print(accs)\n",
    "thresh = np.array(thresholds)\n",
    "len(thresh)"
   ]
  },
  {
   "cell_type": "code",
   "execution_count": null,
   "metadata": {
    "collapsed": false,
    "deletable": true,
    "editable": true
   },
   "outputs": [],
   "source": [
    "run_number = 15628\n",
    "path=os.path.join(data_dir_base, 'run_%05d.h5' % run_number)\n",
    "s = analyze.SPE(path)\n",
    "\n",
    "#acceptance fraction defined above, otherwise need to do analyze.acceptance_fraction\n",
    "frac, errs = acceptance_fraction(run_number, thresh)"
   ]
  },
  {
   "cell_type": "code",
   "execution_count": null,
   "metadata": {
    "collapsed": false,
    "deletable": true,
    "editable": true
   },
   "outputs": [],
   "source": [
    "arr = np.ones(5)\n",
    "arr[[2,4]] = [2,2]\n",
    "print(arr)\n",
    "arr=s.big_array"
   ]
  },
  {
   "cell_type": "code",
   "execution_count": null,
   "metadata": {
    "collapsed": true,
    "deletable": true,
    "editable": true
   },
   "outputs": [],
   "source": [
    "from channel_dict import channel_dict\n",
    "\n",
    "bot_run = 15625\n",
    "tb_run = 15627\n",
    "tr_run = 15628\n",
    "\n",
    "bottom = channel_dict['bottom_channels']\n",
    "topbulk = channel_dict['top_bulk']\n",
    "topring = channel_dict['top_outer_ring']\n",
    "\n",
    "real_acc, real_errs = np.ones(248), np.ones(248)\n",
    "\n",
    "for run, channels in zip([bot_run, tb_run, tr_run], [bottom, topbulk, topring]):\n",
    "    frac, errs = acceptance_fraction(run_number, thresh)\n",
    "    real_acc[channels] = frac[channels]\n",
    "    real_errs[channels] = errs[channels]"
   ]
  },
  {
   "cell_type": "code",
   "execution_count": null,
   "metadata": {
    "collapsed": false,
    "deletable": true,
    "editable": true
   },
   "outputs": [],
   "source": [
    "#Plots the acceptance vs threshold for each bin choice\n",
    "example_run = sorted(bottom_runs)[-1]\n",
    "runlist = file_to_list(find_file(example_run)[0])\n",
    "ch = 0\n",
    "s = analyze.SPE('data/run_%05d.h5' % runlist[2])\n",
    "x = s.data['bin_centers']\n",
    "corr_values = [4,5,6,7,8,9,10]\n",
    "\n",
    "plt.figure(figsize=(9,6))\n",
    "for i in range(s.big_array.shape[-1]):\n",
    "    accs = s.big_array[ch,:,i]\n",
    "    plt.plot(x, accs, label='corr value %d' % corr_values[i])\n",
    "plt.xlim(-10, 150)\n",
    "plt.legend(loc=(1.01, 0.6))\n",
    "plt.grid()\n",
    "plt.xlabel('threshold')\n",
    "plt.ylabel('spe acceptance')\n",
    "plt.savefig('example_systematic.png')\n",
    "plt.show()\n",
    "    \n"
   ]
  },
  {
   "cell_type": "code",
   "execution_count": null,
   "metadata": {
    "collapsed": false,
    "deletable": true,
    "editable": true
   },
   "outputs": [],
   "source": [
    "#Systematics\n",
    "\n",
    "ch = 193\n",
    "run = 11069\n",
    "s = analyze.SPE('data/run_%05d.h5' % run)\n",
    "\n",
    "x = s.data['bin_centers']\n",
    "\n",
    "#Bins vs LED/Noise Amplitude for individual channel\n",
    "\n",
    "plt.figure(figsize=(9,6))\n",
    "plt.plot(x, s.data['LED_amplitude'][:,ch], color ='black')\n",
    "plt.plot(x, s.data['noise_amplitude'][:,ch], color='red' )\n",
    "plt.xlabel('Bins')\n",
    "plt.ylabel('Amplitude')\n",
    "plt.xlim(-20, 50)\n",
    "plt.yscale('log')\n",
    "plt.show()\n",
    "\n",
    "#Bins vs Residual Value for individual channel\n",
    "val = 4\n",
    "plt.figure(figsize=(9,6))\n",
    "plt.plot(x, s.residual(val)[ch], color ='black')\n",
    "plt.plot(x, s.data['noise_amplitude'][:,ch], color='red' )\n",
    "plt.xlim(-20, 50)\n",
    "plt.xlabel('Bins')\n",
    "plt.ylabel('Residual')\n",
    "plt.yscale('log')\n",
    "plt.show()\n",
    "\n",
    "#Bins vs acceptance for individual channel\n",
    "plt.figure(figsize=(9,6))\n",
    "plt.plot(x, s.acceptance(val)[ch], color ='black')\n",
    "#plt.plot(x, s.data['noise_amplitude'][:,ch], color='red' )\n",
    "plt.xlabel('Bins')\n",
    "#plt.yscale('log')\n",
    "plt.ylabel('Acceptance')\n",
    "plt.xlim(-20, 50)\n",
    "plt.show()"
   ]
  },
  {
   "cell_type": "code",
   "execution_count": null,
   "metadata": {
    "collapsed": true,
    "deletable": true,
    "editable": true
   },
   "outputs": [],
   "source": []
  },
  {
   "cell_type": "code",
   "execution_count": null,
   "metadata": {
    "collapsed": true,
    "deletable": true,
    "editable": true
   },
   "outputs": [],
   "source": []
  }
 ],
 "metadata": {
  "kernelspec": {
   "display_name": "Python 3",
   "language": "python",
   "name": "python3"
  },
  "language_info": {
   "codemirror_mode": {
    "name": "ipython",
    "version": 3
   },
   "file_extension": ".py",
   "mimetype": "text/x-python",
   "name": "python",
   "nbconvert_exporter": "python",
   "pygments_lexer": "ipython3",
   "version": "3.4.4"
  }
 },
 "nbformat": 4,
 "nbformat_minor": 1
}
