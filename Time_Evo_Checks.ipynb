{
 "cells": [
  {
   "cell_type": "code",
   "execution_count": 2,
   "metadata": {
    "collapsed": false,
    "deletable": true,
    "editable": true
   },
   "outputs": [
    {
     "name": "stderr",
     "output_type": "stream",
     "text": [
      "Using TensorFlow backend.\n"
     ]
    }
   ],
   "source": [
    "import os\n",
    "import numpy as np\n",
    "import pandas as pd\n",
    "import matplotlib.pyplot as plt\n",
    "import matplotlib\n",
    "import analyze # takes some time since inits hax\n",
    "from channel_dict import channel_dict\n",
    "from tqdm import tqdm\n",
    "import datetime\n",
    "\n",
    "\n",
    "%matplotlib inline"
   ]
  },
  {
   "cell_type": "code",
   "execution_count": 3,
   "metadata": {
    "collapsed": true,
    "deletable": true,
    "editable": true
   },
   "outputs": [],
   "source": [
    "ACTUALLY_OFF = [1, 2, 12, 26, 34, 62, 65, 79, 86, 88, 102, 118, \n",
    "                130, 134, 135, 139, 148, 150, 152, 162, 178, 183,\n",
    "                190, 198, 206, 213, 214, 234, 239, 244]"
   ]
  },
  {
   "cell_type": "code",
   "execution_count": 4,
   "metadata": {
    "collapsed": false,
    "deletable": true,
    "editable": true
   },
   "outputs": [
    {
     "name": "stderr",
     "output_type": "stream",
     "text": [
      " 18%|█▊        | 18/100 [00:34<02:41,  1.97s/it]/home/awalsh272/SPE/SPE/analyze.py:63: RuntimeWarning: divide by zero encountered in true_divide\n",
      "  return 1 - residual.cumsum(axis=1) / residual.sum(axis=1)[:, np.newaxis]\n",
      "/home/awalsh272/SPE/SPE/analyze.py:63: RuntimeWarning: invalid value encountered in true_divide\n",
      "  return 1 - residual.cumsum(axis=1) / residual.sum(axis=1)[:, np.newaxis]\n",
      "/project/lgrandi/anaconda3/envs/pax_head/lib/python3.4/site-packages/numpy/core/_methods.py:112: RuntimeWarning: invalid value encountered in subtract\n",
      "  x = asanyarray(arr - arrmean)\n",
      " 29%|██▉       | 29/100 [01:00<02:49,  2.39s/it]"
     ]
    },
    {
     "name": "stdout",
     "output_type": "stream",
     "text": [
      "LED likely OFF for runlist_13433_13434_13435.txt\n"
     ]
    },
    {
     "name": "stderr",
     "output_type": "stream",
     "text": [
      " 32%|███▏      | 32/100 [01:08<02:40,  2.36s/it]"
     ]
    },
    {
     "name": "stdout",
     "output_type": "stream",
     "text": [
      "LED likely OFF for runlist_14088_14089_14090.txt\n"
     ]
    },
    {
     "name": "stderr",
     "output_type": "stream",
     "text": [
      " 54%|█████▍    | 54/100 [01:37<01:44,  2.27s/it]/home/awalsh272/SPE/SPE/analyze.py:31: RuntimeWarning: divide by zero encountered in log\n",
      "  occupancy_array[:,i] = -1*np.log(self.make_correction(val, 'amplitude'))\n",
      "100%|██████████| 100/100 [03:04<00:00,  2.15s/it]\n"
     ]
    }
   ],
   "source": [
    "#takes runlists and uses just bottom runs \n",
    "#finds acceptances and errors\n",
    "\n",
    "def data_exists(run_number):\n",
    "    return os.path.exists('./data/run_%05d.h5' % run_number)\n",
    "\n",
    "def all_data_exists(runlist):\n",
    "    return all([data_exists(run) for run in runlist])\n",
    "\n",
    "def file_to_list(runlist_file):\n",
    "    return [int(run) for run in runlist_file.split('.')[0].split('_')[1:4]]\n",
    "\n",
    "runlists = [f for f in os.listdir('./runlists')]\n",
    "\n",
    "bottom_runs = []\n",
    "accs = []\n",
    "errors = []\n",
    "\n",
    "missing_runs = []\n",
    "\n",
    "for f in tqdm(sorted(runlists)):\n",
    "    runlist = file_to_list(f)\n",
    "    if not all_data_exists(runlist):\n",
    "        #print('data missing for %s' % f)\n",
    "        for r in runlist:\n",
    "            if not data_exists(r):\n",
    "                missing_runs.append(r)\n",
    "        continue\n",
    "    bottom_run = runlist[0]\n",
    "    topbulk_run = runlist[1]\n",
    "    topring_run = runlist[2]\n",
    "    \n",
    "    thresholds = analyze.get_thresholds(analyze.find_regular_run(bottom_run))\n",
    "    \n",
    "    acc, acc_errs = analyze.acceptance_3runs(bottom_run, topbulk_run, topring_run, thresholds)\n",
    "    occ, occ_errs = analyze.occupancy_3runs(bottom_run, topbulk_run, topring_run)\n",
    "    \n",
    "    on_channels = np.where(occ > 0.05)[0]\n",
    "    \n",
    "    if len(on_channels) < 200:\n",
    "        print('LED likely OFF for %s' % f)\n",
    "        continue\n",
    "    \n",
    "    acc = acc[on_channels]\n",
    "    acc_errs = acc_errs[on_channels]\n",
    "    \n",
    "    accs.append(np.median(acc))\n",
    "    errors.append(np.sqrt((acc_errs**2).sum()) / len(on_channels))\n",
    "    bottom_runs.append(bottom_run)\n",
    "    "
   ]
  },
  {
   "cell_type": "code",
   "execution_count": 5,
   "metadata": {
    "collapsed": false,
    "deletable": true,
    "editable": true
   },
   "outputs": [
    {
     "name": "stdout",
     "output_type": "stream",
     "text": [
      "[13837]\n"
     ]
    }
   ],
   "source": [
    "#prints low acceptance bottom runs (<0.7)\n",
    "bottom_runs = np.array(bottom_runs)\n",
    "accs = np.array(accs)\n",
    "\n",
    "print(bottom_runs[np.where(accs < 0.7)])"
   ]
  },
  {
   "cell_type": "code",
   "execution_count": 17,
   "metadata": {
    "collapsed": false,
    "deletable": true,
    "editable": true
   },
   "outputs": [
    {
     "name": "stdout",
     "output_type": "stream",
     "text": [
      "(array([[ 1.,  1.,  1., ...,  0.,  0.,  0.],\n",
      "       [ 1.,  1.,  1., ...,  0.,  0.,  0.],\n",
      "       [ 1.,  1.,  1., ...,  0.,  0.,  0.],\n",
      "       ..., \n",
      "       [ 1.,  1.,  1., ...,  0.,  0.,  0.],\n",
      "       [ 1.,  1.,  1., ...,  0.,  0.,  0.],\n",
      "       [ 1.,  1.,  1., ...,  0.,  0.,  0.]]), array([[ 0.,  0.,  0., ...,  0.,  0.,  0.],\n",
      "       [ 0.,  0.,  0., ...,  0.,  0.,  0.],\n",
      "       [ 0.,  0.,  0., ...,  0.,  0.,  0.],\n",
      "       ..., \n",
      "       [ 0.,  0.,  0., ...,  0.,  0.,  0.],\n",
      "       [ 0.,  0.,  0., ...,  0.,  0.,  0.],\n",
      "       [ 0.,  0.,  0., ...,  0.,  0.,  0.]]))\n"
     ]
    },
    {
     "ename": "ValueError",
     "evalue": "shape mismatch: value array of shape (121,1099) could not be broadcast to indexing result of shape (121,)",
     "output_type": "error",
     "traceback": [
      "\u001b[0;31m---------------------------------------------------------------------------\u001b[0m",
      "\u001b[0;31mValueError\u001b[0m                                Traceback (most recent call last)",
      "\u001b[0;32m<ipython-input-17-abdb1e37216c>\u001b[0m in \u001b[0;36m<module>\u001b[0;34m()\u001b[0m\n\u001b[1;32m      4\u001b[0m \u001b[0mprint\u001b[0m \u001b[0;34m(\u001b[0m\u001b[0ms\u001b[0m\u001b[0;34m.\u001b[0m\u001b[0macceptance_by_channel\u001b[0m\u001b[0;34m)\u001b[0m\u001b[0;34m\u001b[0m\u001b[0m\n\u001b[1;32m      5\u001b[0m \u001b[0;34m\u001b[0m\u001b[0m\n\u001b[0;32m----> 6\u001b[0;31m \u001b[0mx\u001b[0m\u001b[0;34m,\u001b[0m \u001b[0macc\u001b[0m\u001b[0;34m,\u001b[0m \u001b[0merrs\u001b[0m \u001b[0;34m=\u001b[0m \u001b[0manalyze\u001b[0m\u001b[0;34m.\u001b[0m\u001b[0macceptance_curve_3runs\u001b[0m\u001b[0;34m(\u001b[0m\u001b[0;34m*\u001b[0m\u001b[0mrunlist\u001b[0m\u001b[0;34m)\u001b[0m\u001b[0;34m\u001b[0m\u001b[0m\n\u001b[0m\u001b[1;32m      7\u001b[0m \u001b[0;34m\u001b[0m\u001b[0m\n\u001b[1;32m      8\u001b[0m \u001b[0mplt\u001b[0m\u001b[0;34m.\u001b[0m\u001b[0mfigure\u001b[0m\u001b[0;34m(\u001b[0m\u001b[0mfigsize\u001b[0m \u001b[0;34m=\u001b[0m \u001b[0;34m(\u001b[0m\u001b[0;36m9\u001b[0m\u001b[0;34m,\u001b[0m\u001b[0;36m6\u001b[0m\u001b[0;34m)\u001b[0m\u001b[0;34m)\u001b[0m\u001b[0;34m\u001b[0m\u001b[0m\n",
      "\u001b[0;32m/home/awalsh272/SPE/SPE/analyze.py\u001b[0m in \u001b[0;36macceptance_curve_3runs\u001b[0;34m(bottom_run, topbulk_run, topring_run)\u001b[0m\n\u001b[1;32m    140\u001b[0m         \u001b[0ms\u001b[0m \u001b[0;34m=\u001b[0m \u001b[0mSPE\u001b[0m\u001b[0;34m(\u001b[0m\u001b[0mpath\u001b[0m\u001b[0;34m)\u001b[0m\u001b[0;34m\u001b[0m\u001b[0m\n\u001b[1;32m    141\u001b[0m         \u001b[0mfrac\u001b[0m\u001b[0;34m,\u001b[0m \u001b[0merrs\u001b[0m \u001b[0;34m=\u001b[0m \u001b[0ms\u001b[0m\u001b[0;34m.\u001b[0m\u001b[0macceptance_by_channel\u001b[0m\u001b[0;34m\u001b[0m\u001b[0m\n\u001b[0;32m--> 142\u001b[0;31m         \u001b[0mret_acc\u001b[0m\u001b[0;34m[\u001b[0m\u001b[0mch_list\u001b[0m\u001b[0;34m]\u001b[0m \u001b[0;34m=\u001b[0m \u001b[0mfrac\u001b[0m\u001b[0;34m[\u001b[0m\u001b[0mch_list\u001b[0m\u001b[0;34m]\u001b[0m\u001b[0;34m\u001b[0m\u001b[0m\n\u001b[0m\u001b[1;32m    143\u001b[0m         \u001b[0mret_errs\u001b[0m\u001b[0;34m[\u001b[0m\u001b[0mch_list\u001b[0m\u001b[0;34m]\u001b[0m \u001b[0;34m=\u001b[0m \u001b[0merrs\u001b[0m\u001b[0;34m[\u001b[0m\u001b[0mch_list\u001b[0m\u001b[0;34m]\u001b[0m\u001b[0;34m\u001b[0m\u001b[0m\n\u001b[1;32m    144\u001b[0m     \u001b[0;32mreturn\u001b[0m \u001b[0mret_acc\u001b[0m\u001b[0;34m,\u001b[0m \u001b[0mret_errs\u001b[0m\u001b[0;34m\u001b[0m\u001b[0m\n",
      "\u001b[0;31mValueError\u001b[0m: shape mismatch: value array of shape (121,1099) could not be broadcast to indexing result of shape (121,)"
     ]
    }
   ],
   "source": [
    "#makes acceptance curve for a single runlist\n",
    "runlist = tuple(file_to_list('runlist_13837_13838_13839.txt'))\n",
    "\n",
    "x, acc, errs = analyze.acceptance_curve_3runs(*runlist)\n",
    "\n",
    "plt.figure(figsize = (9,6))\n",
    "for curve, err in zip(acc, errs):\n",
    "    plt.plot(x, curve, color='grey')\n",
    "plt.xlim(-10,150)\n",
    "plt.ylim(0, 1.2)\n",
    "plt.show()\n"
   ]
  },
  {
   "cell_type": "code",
   "execution_count": 7,
   "metadata": {
    "collapsed": false,
    "deletable": true,
    "editable": true
   },
   "outputs": [],
   "source": [
    "runlist='runlist_14192_14193_14195.txt'\n",
    "runs = runlist.split('_')[1:4]\n",
    "bot_run = int(runs[0])\n",
    "tb_run = int(runs[1])\n",
    "tr_run = int(runs[2][:-4])\n",
    "\n",
    "thresholds = analyze.get_thresholds(analyze.find_regular_run(bot_run))\n",
    "acc, err = analyze.acceptance_3runs(bot_run, tb_run, tr_run, thresholds)\n",
    "occ, occ_err = analyze.occupancy_3runs(bot_run, tb_run, tr_run)"
   ]
  },
  {
   "cell_type": "code",
   "execution_count": 8,
   "metadata": {
    "collapsed": false,
    "deletable": true,
    "editable": true
   },
   "outputs": [
    {
     "data": {
      "image/png": "[encoded data removed]",
      "text/plain": [
       "<matplotlib.figure.Figure at 0x7fe1e6057a90>"
      ]
     },
     "metadata": {},
     "output_type": "display_data"
    }
   ],
   "source": [
    "#plot the occupancy of one runlist\n",
    "plt.hist(occ, bins=50, range=(0,1.1))\n",
    "plt.xlim(0,0.2)\n",
    "plt.show()"
   ]
  },
  {
   "cell_type": "code",
   "execution_count": 13,
   "metadata": {
    "collapsed": false
   },
   "outputs": [
    {
     "data": {
      "image/png": "[encoded data removed]",
      "text/plain": [
       "<matplotlib.figure.Figure at 0x7fe1e5e11be0>"
      ]
     },
     "metadata": {},
     "output_type": "display_data"
    }
   ],
   "source": [
    "#plot the acceptance of one runlist\n",
    "plt.hist(acc, bins=50, range=(0,1.1))\n",
    "plt.xlim(0, 1)\n",
    "plt.show()"
   ]
  },
  {
   "cell_type": "code",
   "execution_count": 10,
   "metadata": {
    "collapsed": false,
    "deletable": true,
    "editable": true
   },
   "outputs": [
    {
     "name": "stdout",
     "output_type": "stream",
     "text": [
      "in my_off but not actually: [137]\n",
      "opposite:  []\n"
     ]
    }
   ],
   "source": [
    "my_off = np.where(occ < 0.07)[0]\n",
    "print('in my_off but not actually:', [ch for ch in my_off if ch not in ACTUALLY_OFF])\n",
    "print('opposite: ', [ch for ch in ACTUALLY_OFF if ch not in my_off])"
   ]
  },
  {
   "cell_type": "code",
   "execution_count": 11,
   "metadata": {
    "collapsed": false,
    "deletable": true,
    "editable": true
   },
   "outputs": [],
   "source": [
    "from spe_acceptance import data_dir_base #/project/lgrandi/xenon1t/spe_acceptance/data\n",
    "path = os.path.join(data_dir_base, 'run_%05d.h5' % tr_run)\n",
    "s = analyze.SPE(path)\n",
    "vals_to_check = [3,4,5,6,7,8,9]\n",
    "occ_array = np.ones((248, len(vals_to_check)))\n",
    "for i, val in enumerate(vals_to_check):\n",
    "    occ_array[:,i] = -1*np.log(s.make_correction(val, 'amplitude'))\n",
    "occ = np.mean(occ_array, axis=1)\n",
    "myoff = np.where(occ < 0.1)[0]"
   ]
  },
  {
   "cell_type": "code",
   "execution_count": null,
   "metadata": {
    "collapsed": false,
    "deletable": true,
    "editable": true
   },
   "outputs": [],
   "source": [
    "plt.plot(s.data['bin_centers'], s.data['LED_amplitude'][:,0], color='black')\n",
    "plt.plot(s.data['bin_centers'], s.data['noise_amplitude'][:,0], color='red')\n",
    "plt.yscale('log')\n",
    "plt.xlim(-50, 250)\n",
    "plt.show()"
   ]
  },
  {
   "cell_type": "code",
   "execution_count": null,
   "metadata": {
    "collapsed": false,
    "deletable": true,
    "editable": true
   },
   "outputs": [],
   "source": [
    "run_number = 15628\n",
    "path = os.path.join(data_dir_base, 'run_%05d.h5' % run_number)\n",
    "if not os.path.exists(path):\n",
    "    print(\"Acceptance data does not exist for run %d\" % run_number)\n",
    "s = analyze.SPE(path)\n",
    "acc_fracs = []\n",
    "\n",
    "        "
   ]
  },
  {
   "cell_type": "code",
   "execution_count": 15,
   "metadata": {
    "collapsed": false,
    "deletable": true,
    "editable": true
   },
   "outputs": [
    {
     "ename": "AttributeError",
     "evalue": "'SPE' object has no attribute 'acceptance_curves'",
     "output_type": "error",
     "traceback": [
      "\u001b[0;31m---------------------------------------------------------------------------\u001b[0m",
      "\u001b[0;31mAttributeError\u001b[0m                            Traceback (most recent call last)",
      "\u001b[0;32m<ipython-input-15-7048143fc386>\u001b[0m in \u001b[0;36m<module>\u001b[0;34m()\u001b[0m\n\u001b[1;32m      2\u001b[0m \u001b[0;34m\u001b[0m\u001b[0m\n\u001b[1;32m      3\u001b[0m \u001b[0macc\u001b[0m \u001b[0;34m=\u001b[0m \u001b[0ms\u001b[0m\u001b[0;34m.\u001b[0m\u001b[0macceptance\u001b[0m\u001b[0;34m(\u001b[0m\u001b[0;36m6\u001b[0m\u001b[0;34m,\u001b[0m \u001b[0;34m'amplitude'\u001b[0m\u001b[0;34m)\u001b[0m\u001b[0;34m\u001b[0m\u001b[0m\n\u001b[0;32m----> 4\u001b[0;31m \u001b[0macc2\u001b[0m \u001b[0;34m=\u001b[0m \u001b[0ms\u001b[0m\u001b[0;34m.\u001b[0m\u001b[0macceptance_curves\u001b[0m\u001b[0;34m[\u001b[0m\u001b[0mch\u001b[0m\u001b[0;34m]\u001b[0m\u001b[0;34m\u001b[0m\u001b[0m\n\u001b[0m\u001b[1;32m      5\u001b[0m \u001b[0macc2_errs\u001b[0m \u001b[0;34m=\u001b[0m \u001b[0ms\u001b[0m\u001b[0;34m.\u001b[0m\u001b[0macceptance_errors\u001b[0m\u001b[0;34m[\u001b[0m\u001b[0mch\u001b[0m\u001b[0;34m]\u001b[0m\u001b[0;34m\u001b[0m\u001b[0m\n\u001b[1;32m      6\u001b[0m \u001b[0mplt\u001b[0m\u001b[0;34m.\u001b[0m\u001b[0mplot\u001b[0m\u001b[0;34m(\u001b[0m\u001b[0ms\u001b[0m\u001b[0;34m.\u001b[0m\u001b[0mdata\u001b[0m\u001b[0;34m[\u001b[0m\u001b[0;34m'bin_centers'\u001b[0m\u001b[0;34m]\u001b[0m\u001b[0;34m,\u001b[0m \u001b[0macc\u001b[0m\u001b[0;34m[\u001b[0m\u001b[0mch\u001b[0m\u001b[0;34m]\u001b[0m\u001b[0;34m)\u001b[0m\u001b[0;34m\u001b[0m\u001b[0m\n",
      "\u001b[0;31mAttributeError\u001b[0m: 'SPE' object has no attribute 'acceptance_curves'"
     ]
    }
   ],
   "source": [
    "ch = 0\n",
    "\n",
    "acc = s.acceptance(6, 'amplitude')\n",
    "acc2 = s.acceptance_curves[ch]\n",
    "acc2_errs = s.acceptance_errors[ch]\n",
    "plt.plot(s.data['bin_centers'], acc[ch])\n",
    "plt.errorbar(s.data['bin_centers'], acc2, yerr=acc2_errs)\n",
    "plt.xlim(-10, 150)\n",
    "plt.show()"
   ]
  },
  {
   "cell_type": "code",
   "execution_count": null,
   "metadata": {
    "collapsed": true,
    "deletable": true,
    "editable": true
   },
   "outputs": [],
   "source": [
    "def acceptance_fraction(run_number, thresholds):\n",
    "    path = os.path.join(data_dir_base, 'run_%05d.h5' % run_number)\n",
    "    if not os.path.exists(path):\n",
    "        print(\"Acceptance data does not exist for run %d\" % run_number)\n",
    "    s = analyze.SPE(path)\n",
    "    frac_array = np.ones((248, s.big_array.shape[-1]))\n",
    "    ch_index = np.arange(248)\n",
    "    thresholds = np.array(thresholds)\n",
    "    bin0 = np.where(s.data['bin_centers'] == 0.5)[0][0]\n",
    "    for i in range(s.big_array.shape[-1]):\n",
    "        frac_array[:,i] = s.big_array[...,i][ch_index, thresholds[:248] + bin0]\n",
    "    acc_frac = np.mean(frac_array, axis=1)\n",
    "    acc_errs = np.std(frac_array, axis=1)\n",
    "    return acc_frac, acc_errs"
   ]
  },
  {
   "cell_type": "code",
   "execution_count": null,
   "metadata": {
    "collapsed": false,
    "deletable": true,
    "editable": true
   },
   "outputs": [],
   "source": [
    "run_number = 15628\n",
    "path=os.path.join(data_dir_base, 'run_%05d.h5' % run_number)\n",
    "s = analyze.SPE(path)\n",
    "thresh = analyze.get_thresholds(analyze.find_regular_run(run_number))\n",
    "\n",
    "#acceptance fraction defined above, otherwise need to do analyze.acceptance_fraction\n",
    "frac, errs = acceptance_fraction(run_number, thresh)"
   ]
  },
  {
   "cell_type": "code",
   "execution_count": null,
   "metadata": {
    "collapsed": false,
    "deletable": true,
    "editable": true
   },
   "outputs": [],
   "source": [
    "arr = np.ones(5)\n",
    "arr[[2,4]] = [2,2]\n",
    "arr"
   ]
  },
  {
   "cell_type": "code",
   "execution_count": null,
   "metadata": {
    "collapsed": true,
    "deletable": true,
    "editable": true
   },
   "outputs": [],
   "source": [
    "from channel_dict import channel_dict\n",
    "\n",
    "bot_run = 15625\n",
    "tb_run = 15627\n",
    "tr_run = 15628\n",
    "\n",
    "bottom = channel_dict['bottom_channels']\n",
    "topbulk = channel_dict['top_bulk']\n",
    "topring = channel_dict['top_outer_ring']\n",
    "\n",
    "real_acc, real_errs = np.ones(248), np.ones(248)\n",
    "\n",
    "for run, channels in zip([bot_run, tb_run, tr_run], [bottom, topbulk, topring]):\n",
    "    frac, errs = acceptance_fraction(run_number, thresh)\n",
    "    real_acc[channels] = frac[channels]\n",
    "    real_errs[channels] = errs[channels]"
   ]
  },
  {
   "cell_type": "code",
   "execution_count": null,
   "metadata": {
    "collapsed": true,
    "deletable": true,
    "editable": true
   },
   "outputs": [],
   "source": [
    "arr  = s.big_array"
   ]
  },
  {
   "cell_type": "code",
   "execution_count": null,
   "metadata": {
    "collapsed": false,
    "deletable": true,
    "editable": true
   },
   "outputs": [],
   "source": [
    "corrections = s.make_correction(6, 'amplitude')\n",
    "corrections"
   ]
  },
  {
   "cell_type": "code",
   "execution_count": null,
   "metadata": {
    "collapsed": false,
    "deletable": true,
    "editable": true
   },
   "outputs": [],
   "source": [
    "chs = np.arange(248)\n",
    "thresh = np.array(thresh[:248])\n",
    "ch = 139\n",
    "\n",
    "frac_array = np.ones((248, arr.shape[-1]))\n",
    "plt.figure(figsize=(9,6))\n",
    "for i in range(s.big_array.shape[-1]):\n",
    "    tmp = arr[...,i]\n",
    "    frac_array[:,i] = tmp[chs, 100+thresh]\n",
    "    plt.plot(s.data['bin_centers'], s.big_array[ch,:,i])\n",
    "    #frac_array[:,i] = arr[...,i][list(np.arange(248)), thresh]\n",
    "\n",
    "\n",
    "plt.errorbar([thresh[ch]], np.mean(frac_array[ch]), yerr=np.std(frac_array[ch]))\n",
    "plt.xlim(0,150)\n",
    "frac_array[ch]"
   ]
  },
  {
   "cell_type": "code",
   "execution_count": null,
   "metadata": {
    "collapsed": false,
    "deletable": true,
    "editable": true
   },
   "outputs": [],
   "source": [
    "thresh = np.array(thresh)\n",
    "len(thresh)"
   ]
  },
  {
   "cell_type": "code",
   "execution_count": null,
   "metadata": {
    "collapsed": false,
    "deletable": true,
    "editable": true
   },
   "outputs": [],
   "source": [
    "plt.plot(s.data['bin_centers'], s.data['LED_amplitude'][:,ch])\n",
    "plt.plot(s.data['bin_centers'], s.data['noise_amplitude'][:,ch])\n",
    "plt.yscale('log')\n",
    "plt.xlim(-20,20)"
   ]
  }
 ],
 "metadata": {
  "kernelspec": {
   "display_name": "Python 3",
   "language": "python",
   "name": "python3"
  },
  "language_info": {
   "codemirror_mode": {
    "name": "ipython",
    "version": 3
   },
   "file_extension": ".py",
   "mimetype": "text/x-python",
   "name": "python",
   "nbconvert_exporter": "python",
   "pygments_lexer": "ipython3",
   "version": "3.4.4"
  }
 },
 "nbformat": 4,
 "nbformat_minor": 1
}
