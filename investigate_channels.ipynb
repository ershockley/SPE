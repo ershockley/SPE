{
 "cells": [
  {
   "cell_type": "code",
   "execution_count": null,
   "metadata": {
    "collapsed": false,
    "deletable": true,
    "editable": true
   },
   "outputs": [],
   "source": [
    "import matplotlib\n",
    "matplotlib.rc('font', size=16)\n",
    "import matplotlib.pyplot as plt\n",
    "import analyze\n",
    "from channel_dict import channel_dict\n",
    "import numpy as np\n",
    "from matplotlib import cm\n",
    "import os\n",
    "import pymongo \n",
    "import re\n",
    "from tqdm import tqdm\n",
    "from pax.configuration import load_configuration\n",
    "import hax\n",
    "from hax.pmt_plot import plot_on_pmt_arrays, pmt_data\n",
    "import pandas as pd"
   ]
  },
  {
   "cell_type": "code",
   "execution_count": null,
   "metadata": {
    "collapsed": false,
    "deletable": true,
    "editable": true
   },
   "outputs": [],
   "source": [
    "client=pymongo.MongoClient(\"mongodb://pax:%s@zenigata.uchicago.edu:27017/run\" % os.getenv('MONGO_PASSWORD'))\n",
    "collection = client['run']['runs_new']"
   ]
  },
  {
   "cell_type": "code",
   "execution_count": null,
   "metadata": {
    "collapsed": false,
    "deletable": true,
    "editable": true
   },
   "outputs": [],
   "source": [
    "analyze.plot_channel(245, 14089, xlims=(-5,200), ylims=(0.1,1e6))"
   ]
  },
  {
   "cell_type": "code",
   "execution_count": null,
   "metadata": {
    "collapsed": false,
    "deletable": true,
    "editable": true,
    "scrolled": false
   },
   "outputs": [],
   "source": [
    "runlist = [4848, 4956, 5039, 5152, 5242, 5358, 5442, \n",
    "           5557, 5646, 5755, 5949, 6052, 6247, 6358, \n",
    "           6551, 6648, 6754, 6835, 6893, 6939, 6958, \n",
    "           6985, 7068, 7101, 7269, 7351, 7448, 7486, \n",
    "           7570, 7647]\n",
    "\n",
    "#for run in [6940, 6959, 6986]:\n",
    "run = 6986\n",
    "for ch in channel_dict['top_outer_ring']:\n",
    "    analyze.plot_channel(ch, run, xlims=(-10, 70), ylims = (-100, 1e5), filedir=\"./\")\n",
    "    plt.show()\n",
    "    print(\"--------------------------------------------------------------------------\")"
   ]
  },
  {
   "cell_type": "code",
   "execution_count": null,
   "metadata": {
    "collapsed": true,
    "deletable": true,
    "editable": true
   },
   "outputs": [],
   "source": []
  }
 ],
 "metadata": {
  "anaconda-cloud": {},
  "kernelspec": {
   "display_name": "Python 3",
   "language": "python",
   "name": "python3"
  },
  "language_info": {
   "codemirror_mode": {
    "name": "ipython",
    "version": 3
   },
   "file_extension": ".py",
   "mimetype": "text/x-python",
   "name": "python",
   "nbconvert_exporter": "python",
   "pygments_lexer": "ipython3",
   "version": "3.4.4"
  }
 },
 "nbformat": 4,
 "nbformat_minor": 1
}
