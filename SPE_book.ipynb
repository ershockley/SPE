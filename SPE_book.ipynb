{
 "cells": [
  {
   "cell_type": "code",
   "execution_count": 1,
   "metadata": {
    "collapsed": false
   },
   "outputs": [],
   "source": [
    "import os\n",
    "import numpy as np\n",
    "import pandas as pd\n",
    "import matplotlib.pyplot as plt\n",
    "import matplotlib.colors as colors\n",
    "import matplotlib\n",
    "import analyze\n",
    "from analyze import SPE # takes some time since inits hax\n",
    "from channel_dict import channel_dict\n",
    "from tqdm import tqdm\n",
    "import datetime\n",
    "import pickle\n",
    "from scipy.stats import norm\n",
    "import shutil\n",
    "from multihist import Hist1d\n",
    "\n",
    "%matplotlib inline"
   ]
  },
  {
   "cell_type": "code",
   "execution_count": 2,
   "metadata": {
    "collapsed": true
   },
   "outputs": [],
   "source": [
    "import hax\n",
    "#hax already initiated when analyze is imported\n",
    "\n",
    "from spe_acceptance import data_dir_base, rawdata_dir\n",
    "\n",
    "\n",
    "def data_exists(run_number):\n",
    "    data_path=os.path.join(data_dir_base, 'run_%05d.h5' %int(run_number))\n",
    "    return os.path.exists(data_path)\n",
    "\n",
    "def all_data_exists(runlist):\n",
    "    return all([data_exists(run) for run in runlist])\n",
    "\n",
    "def file_to_list(runlist_file):\n",
    "    return [int(run) for run in runlist_file.split('.')[0].split('_')[1:4]]\n",
    "\n",
    "def get_run_time(run):\n",
    "    return hax.runs.datasets[hax.runs.datasets.number == run].start.values[0]\n",
    "    \n",
    "def find_file(run):\n",
    "    return [f for f in os.listdir('runlists') if any(int(run)==elem for elem in file_to_list(f))]\n",
    "\n",
    "def get_list(run, runlists):\n",
    "    for l in runlists:\n",
    "        if run in l:\n",
    "            return l\n"
   ]
  },
  {
   "cell_type": "markdown",
   "metadata": {},
   "source": [
    "# Load data"
   ]
  },
  {
   "cell_type": "code",
   "execution_count": 36,
   "metadata": {
    "collapsed": false
   },
   "outputs": [],
   "source": [
    "runlists = [file_to_list(f) for f in sorted(os.listdir('runlists') )if f.endswith('.txt')]\n",
    "resubmit_files = []\n",
    "missing_runs = []"
   ]
  },
  {
   "cell_type": "code",
   "execution_count": 37,
   "metadata": {
    "collapsed": false
   },
   "outputs": [
    {
     "name": "stderr",
     "output_type": "stream",
     "text": [
      "/home/ershockley/analysis/SPE/analyze.py:63: RuntimeWarning: divide by zero encountered in true_divide\n",
      "  acc =  1 - residual.cumsum(axis=1) / residual.sum(axis=1)[:, np.newaxis]\n",
      "/home/ershockley/analysis/SPE/analyze.py:63: RuntimeWarning: invalid value encountered in true_divide\n",
      "  acc =  1 - residual.cumsum(axis=1) / residual.sum(axis=1)[:, np.newaxis]\n"
     ]
    },
    {
     "name": "stdout",
     "output_type": "stream",
     "text": [
      "Need data for Runs 19757, 19758, 19759\n",
      "Need data for Runs 20700, 20701, 20702\n"
     ]
    }
   ],
   "source": [
    "bot = []\n",
    "low_acc_pmts = []\n",
    "off_pmts = []\n",
    "\n",
    "accs = []\n",
    "errs = []\n",
    "\n",
    "for l in runlists:\n",
    "    if not all_data_exists(l):\n",
    "        print('Need data for Runs %d, %d, %d' % (l[0], l[1], l[2]))\n",
    "        continue\n",
    "        \n",
    "    else:\n",
    "        C = analyze.SPECalibration(l)\n",
    "        bot.append(C.bottom_run)\n",
    "        off = C.off_channels\n",
    "        off_pmts.append(off)\n",
    "        accs.append(list(C.acc))\n",
    "        errs.append(list(C.acc_errs))\n",
    "        low_acc = np.where(C.acc < 0.5)[0]\n",
    "        low_acc = [c for c in low_acc if c not in off]\n",
    "        low_acc_pmts.append(low_acc)\n",
    "        #print(low_acc_pmts)"
   ]
  },
  {
   "cell_type": "code",
   "execution_count": 38,
   "metadata": {
    "collapsed": false,
    "scrolled": true
   },
   "outputs": [
    {
     "name": "stdout",
     "output_type": "stream",
     "text": [
      "LOW:  []\n",
      "16237\n",
      "---------------------------------------\n",
      "\n",
      "\n",
      "16343\n",
      "\tTURNED ON: [0, 3, 4, 5, 6, 7, 8, 9, 10, 11, 13, 14, 15, 16, 17, 18, 19, 20, 21, 22, 23, 24, 25, 27, 28, 29, 30, 31, 32, 33, 35, 36, 37, 38, 39, 40, 41, 42, 43, 44, 45, 46, 47, 48, 49, 50, 51, 52, 53, 54, 55, 56, 57, 58, 59, 60, 61, 63, 64, 66, 67, 68, 69, 70, 71, 72, 73, 74, 75, 76, 77, 78, 80, 81, 82, 83, 84, 85, 87, 89, 90, 91, 92, 93, 94, 95, 96, 97, 98, 99, 100, 101, 103, 104, 105, 106, 107, 108, 109, 110, 111, 112, 113, 114, 115, 116, 117, 119, 120, 121, 122, 123, 124, 125, 126, 127, 128, 129, 131, 132, 133, 136, 138, 140, 141, 142, 143, 144, 145, 146, 147, 149, 151, 153, 154, 155, 156, 157, 158, 159, 160, 161, 163, 164, 165, 166, 167, 168, 169, 170, 171, 172, 173, 174, 175, 176, 177, 179, 180, 181, 182, 184, 185, 186, 187, 188, 189, 191, 192, 193, 194, 195, 196, 197, 199, 200, 201, 202, 203, 204, 205, 207, 208, 209, 210, 211, 212, 215, 216, 217, 218, 219, 220, 221, 222, 223, 224, 225, 226, 227, 228, 229, 230, 231, 232, 233, 235, 236, 237, 238, 240, 241, 242, 243, 245, 246, 247]\n",
      "\tNOW LOW: [27, 31, 73, 203]\n",
      "---------------------------------------\n",
      "\n",
      "\n",
      "16523\n",
      "---------------------------------------\n",
      "\n",
      "\n",
      "16701\n",
      "---------------------------------------\n",
      "\n",
      "\n",
      "16984\n",
      "---------------------------------------\n",
      "\n",
      "\n",
      "17249\n",
      "---------------------------------------\n",
      "\n",
      "\n",
      "17454\n",
      "\tNOW LOW: [91]\n",
      "---------------------------------------\n",
      "\n",
      "\n",
      "17587\n",
      "\tNOT LOW ANYMORE: [91]\n",
      "---------------------------------------\n",
      "\n",
      "\n",
      "17782\n",
      "---------------------------------------\n",
      "\n",
      "\n",
      "17862\n",
      "\tNOW LOW: [87]\n",
      "---------------------------------------\n",
      "\n",
      "\n",
      "17939\n",
      "\tNOW LOW: [91]\n",
      "---------------------------------------\n",
      "\n",
      "\n",
      "17998\n",
      "\tTURNED ON: [234]\n",
      "\tNOW LOW: [234]\n",
      "---------------------------------------\n",
      "\n",
      "\n",
      "18190\n",
      "\tTURNED OFF: [91, 234]\n",
      "\tTURNED ON: [1, 12, 34, 86, 134, 148, 150, 190, 213, 239, 244]\n",
      "\tNOW LOW: [1]\n",
      "\tNOT LOW ANYMORE: [27, 73, 91, 203, 234]\n",
      "---------------------------------------\n",
      "\n",
      "\n",
      "18286\n",
      "\tTURNED OFF: [1, 150, 239, 244]\n",
      "\tNOT LOW ANYMORE: [1]\n",
      "---------------------------------------\n",
      "\n",
      "\n",
      "18383\n",
      "---------------------------------------\n",
      "\n",
      "\n",
      "18562\n",
      "\tTURNED OFF: [203, 213]\n",
      "---------------------------------------\n",
      "\n",
      "\n",
      "18846\n",
      "\tTURNED OFF: [87, 134]\n",
      "\tNOT LOW ANYMORE: [87]\n",
      "---------------------------------------\n",
      "\n",
      "\n",
      "18928\n",
      "---------------------------------------\n",
      "\n",
      "\n",
      "19178\n",
      "---------------------------------------\n",
      "\n",
      "\n",
      "19277\n",
      "\tTURNED OFF: [0, 3, 4, 5, 6, 7, 8, 9, 10, 11, 12, 13, 14, 15, 16, 17, 18, 19, 20, 21, 22, 23, 24, 25, 27, 28, 29, 30, 31, 32, 33, 34, 35, 36, 37, 38, 39, 40, 41, 42, 43, 44, 45, 46, 47, 48, 49, 50, 51, 52, 53, 54, 55, 56, 57, 58, 59, 60, 61, 63, 64, 66, 67, 68, 69, 70, 71, 72, 73, 74, 75, 76, 77, 78, 80, 81, 82, 83, 84, 85, 86, 89, 90, 92, 93, 94, 95, 96, 97, 98, 99, 100, 101, 103, 104, 105, 106, 107, 108, 109, 110, 111, 112, 113, 114, 115, 116, 117, 119, 120, 121, 122, 123, 124, 125, 126, 127, 128, 129, 131, 132, 133, 136, 138, 140, 141, 142, 143, 144, 145, 146, 147, 148, 149, 151, 153, 154, 155, 156, 157, 158, 159, 160, 161, 163, 164, 165, 166, 167, 168, 169, 170, 171, 172, 173, 174, 175, 176, 177, 179, 180, 181, 182, 184, 185, 186, 187, 188, 189, 190, 191, 192, 193, 194, 195, 196, 197, 199, 200, 201, 202, 204, 205, 207, 208, 209, 210, 211, 212, 215, 216, 217, 218, 219, 220, 221, 222, 223, 224, 225, 226, 227, 228, 229, 230, 231, 232, 233, 235, 236, 237, 238, 240, 241, 242, 243, 245, 246, 247]\n",
      "\tNOT LOW ANYMORE: [31]\n",
      "---------------------------------------\n",
      "\n",
      "\n",
      "19445\n",
      "\tTURNED ON: [0, 3, 4, 5, 6, 7, 8, 9, 10, 11, 12, 13, 14, 15, 16, 17, 18, 19, 20, 21, 22, 23, 24, 25, 27, 28, 29, 30, 31, 32, 33, 34, 35, 36, 37, 38, 39, 40, 41, 42, 43, 44, 45, 46, 47, 48, 49, 50, 51, 52, 53, 54, 55, 56, 57, 58, 59, 60, 61, 63, 64, 66, 67, 68, 69, 70, 71, 72, 73, 74, 75, 76, 77, 78, 80, 81, 82, 83, 84, 85, 86, 89, 90, 92, 93, 94, 95, 96, 97, 98, 99, 100, 101, 103, 104, 105, 106, 107, 108, 109, 110, 111, 112, 113, 114, 115, 116, 117, 119, 120, 121, 122, 123, 124, 125, 126, 127, 128, 129, 131, 132, 133, 136, 138, 140, 141, 142, 143, 144, 145, 146, 147, 148, 149, 151, 153, 154, 155, 156, 157, 158, 159, 160, 161, 163, 164, 165, 166, 167, 168, 169, 170, 171, 172, 173, 174, 175, 176, 177, 179, 180, 181, 182, 184, 185, 186, 187, 188, 189, 190, 191, 192, 193, 194, 195, 196, 197, 199, 200, 201, 202, 204, 205, 207, 208, 209, 210, 211, 212, 215, 216, 217, 218, 219, 220, 221, 222, 223, 224, 225, 226, 227, 228, 229, 230, 231, 232, 233, 235, 236, 237, 238, 240, 241, 242, 243, 245, 246, 247]\n",
      "\tNOW LOW: [31]\n",
      "---------------------------------------\n",
      "\n",
      "\n",
      "19636\n",
      "---------------------------------------\n",
      "\n",
      "\n",
      "19929\n",
      "\tTURNED OFF: [131, 247]\n",
      "---------------------------------------\n",
      "\n",
      "\n",
      "20178\n",
      "\tTURNED ON: [131, 247]\n",
      "---------------------------------------\n",
      "\n",
      "\n",
      "20286\n",
      "---------------------------------------\n",
      "\n",
      "\n",
      "20466\n",
      "---------------------------------------\n",
      "\n",
      "\n",
      "20891\n",
      "---------------------------------------\n",
      "\n",
      "\n",
      "20990\n",
      "\tTURNED OFF: [141, 201]\n",
      "---------------------------------------\n",
      "\n",
      "\n",
      "21179\n",
      "---------------------------------------\n",
      "\n",
      "\n",
      "21355\n",
      "---------------------------------------\n",
      "\n",
      "\n",
      "21531\n",
      "---------------------------------------\n",
      "\n",
      "\n",
      "21687\n",
      "---------------------------------------\n",
      "\n",
      "\n",
      "21961\n",
      "---------------------------------------\n",
      "\n",
      "\n",
      "22137\n",
      "\tTURNED OFF: [31]\n",
      "\tNOT LOW ANYMORE: [31]\n",
      "---------------------------------------\n",
      "\n",
      "\n",
      "22318\n",
      "---------------------------------------\n",
      "\n",
      "\n",
      "22493\n",
      "\tTURNED OFF: [80]\n",
      "\tTURNED ON: [2]\n",
      "\tNOW LOW: [2, 205]\n",
      "---------------------------------------\n",
      "\n",
      "\n",
      "22671\n",
      "\tTURNED OFF: [2]\n",
      "\tTURNED ON: [80]\n",
      "\tNOT LOW ANYMORE: [2, 205]\n",
      "---------------------------------------\n",
      "\n",
      "\n",
      "23052\n",
      "---------------------------------------\n",
      "\n",
      "\n",
      "23179\n",
      "---------------------------------------\n",
      "\n",
      "\n",
      "23363\n",
      "---------------------------------------\n",
      "\n",
      "\n",
      "23560\n",
      "---------------------------------------\n",
      "\n",
      "\n",
      "23737\n",
      "---------------------------------------\n",
      "\n",
      "\n",
      "23905\n",
      "\tNOW LOW: [71]\n",
      "---------------------------------------\n",
      "\n",
      "\n",
      "24112\n",
      "\tTURNED OFF: [0, 3, 4, 5, 6, 7, 8, 9, 10, 11, 12, 13, 14, 15, 16, 17, 18, 19, 20, 21, 22, 23, 24, 25, 27, 28, 29, 30, 32, 33, 34, 35, 36, 37, 38, 39, 40, 41, 42, 43, 44, 45, 46, 47, 48, 49, 50, 51, 52, 53, 54, 55, 56, 57, 58, 59, 60, 61, 63, 64, 66, 67, 68, 69, 70, 71, 72, 73, 74, 75, 76, 77, 78, 80, 81, 82, 83, 84, 85, 86, 89, 90, 92, 93, 94, 95, 96, 97, 98, 99, 100, 101, 103, 104, 105, 106, 107, 108, 109, 110, 111, 112, 113, 114, 115, 116, 117, 119, 120, 121, 122, 123, 124, 125, 126, 127, 128, 129, 131, 132, 133, 136, 138, 140, 142, 143, 144, 145, 146, 147, 148, 149, 151, 153, 154, 155, 156, 157, 158, 159, 160, 161, 163, 164, 165, 166, 167, 168, 169, 170, 171, 172, 173, 174, 175, 176, 177, 179, 180, 181, 182, 184, 185, 186, 187, 188, 189, 190, 191, 192, 193, 194, 195, 196, 197, 199, 200, 202, 204, 205, 207, 208, 209, 210, 211, 212, 215, 216, 217, 218, 219, 220, 221, 222, 223, 224, 225, 226, 227, 228, 229, 230, 231, 232, 233, 235, 236, 237, 238, 240, 241, 242, 243, 245, 246, 247]\n",
      "\tNOT LOW ANYMORE: [71]\n",
      "---------------------------------------\n",
      "\n",
      "\n"
     ]
    }
   ],
   "source": [
    "off = off_pmts[0]\n",
    "low_acc = low_acc_pmts[0]\n",
    "\n",
    "tmp_off=off\n",
    "tmp_low = low_acc\n",
    "\n",
    "print(\"LOW: \", low_acc)\n",
    "\n",
    "\n",
    "for b, chlist, low in zip(bot, off_pmts, low_acc_pmts):\n",
    "    diff1 = sorted(list(set(chlist) - set(tmp_off)))\n",
    "    diff2 = sorted(list(set(tmp_off) - set(chlist)))\n",
    "    \n",
    "    diff3 = sorted(list(set(low) - set(tmp_low)))\n",
    "    diff4 = sorted(list(set(tmp_low) - set(low)))\n",
    "    \n",
    "    print(b)\n",
    "    if len(diff1) > 0:\n",
    "        print(\"\\tTURNED OFF: {l}\".format(l=diff1))\n",
    "        tmp_off = list(set(tmp_off) | set(diff1))\n",
    "    \n",
    "    if len(diff2) > 0:\n",
    "        print(\"\\tTURNED ON: {l}\".format(l=diff2))\n",
    "        tmp_off = list(set(tmp_off) - set(diff2))\n",
    "        \n",
    "    if len(diff3) > 0:\n",
    "        print(\"\\tNOW LOW: {l}\".format(l=diff3))\n",
    "        tmp_low = list(set(tmp_low) | set(diff3))\n",
    "    \n",
    "    if len(diff4) > 0:\n",
    "        print(\"\\tNOT LOW ANYMORE: {l}\".format(l=diff4))\n",
    "        tmp_low = list(set(tmp_low) - set(diff4))\n",
    "        \n",
    "    \n",
    "    print(\"---------------------------------------\\n\\n\")\n",
    "    #print(list(diff1), list(diff2))"
   ]
  },
  {
   "cell_type": "code",
   "execution_count": 76,
   "metadata": {
    "collapsed": false
   },
   "outputs": [
    {
     "name": "stderr",
     "output_type": "stream",
     "text": [
      "/home/ershockley/analysis/SPE/analyze.py:63: RuntimeWarning: divide by zero encountered in true_divide\n",
      "  acc =  1 - residual.cumsum(axis=1) / residual.sum(axis=1)[:, np.newaxis]\n",
      "/home/ershockley/analysis/SPE/analyze.py:63: RuntimeWarning: invalid value encountered in true_divide\n",
      "  acc =  1 - residual.cumsum(axis=1) / residual.sum(axis=1)[:, np.newaxis]\n"
     ]
    },
    {
     "data": {
      "image/png": "[encoded data removed]",
      "text/plain": [
       "<matplotlib.figure.Figure at 0x7f7c25e5dd30>"
      ]
     },
     "metadata": {},
     "output_type": "display_data"
    }
   ],
   "source": [
    "cal = analyze.SPECalibration(get_list(21355, runlists))\n",
    "\n",
    "ch = 141\n",
    "S = cal.bottom_cal\n",
    "\n",
    "x = S.data['bin_centers']\n",
    "y1 = S.data['noise_amplitude'][:, ch]\n",
    "y2 = S.data['LED_amplitude'][:, ch]\n",
    "\n",
    "plt.plot(x, y1, color='k', drawstyle='steps-mid')\n",
    "plt.plot(x, y2, color='r', drawstyle='steps-mid')\n",
    "plt.xlim(-10, 300)\n",
    "plt.yscale('log')\n",
    "plt.show()\n"
   ]
  },
  {
   "cell_type": "markdown",
   "metadata": {},
   "source": [
    "# Build dataframe"
   ]
  },
  {
   "cell_type": "code",
   "execution_count": 67,
   "metadata": {
    "collapsed": false
   },
   "outputs": [],
   "source": [
    "skip_runs = [19277,  # LED was left on for noise run\n",
    "             22493,  # bad noise conditions\n",
    "             16237,  # LED off\n",
    "             19277,  # LED left on for noise run\n",
    "             19929,  # LED left on for noise run\n",
    "             24112,  # LED left on for noise run\n",
    "            ]\n",
    "\n",
    "df = pd.DataFrame(np.array(accs).T, columns=bot)\n",
    "df_errs = pd.DataFrame(np.array(errs).T, columns=bot)\n",
    "\n",
    "df = df.drop(skip_runs, axis=1)"
   ]
  },
  {
   "cell_type": "markdown",
   "metadata": {},
   "source": [
    "# Plot time dependence"
   ]
  },
  {
   "cell_type": "code",
   "execution_count": 69,
   "metadata": {
    "collapsed": false
   },
   "outputs": [],
   "source": [
    "X, Y = np.meshgrid(df.columns.values, df.index.values)\n",
    "\n",
    "def get_acc(run, ch):\n",
    "    return df.loc[ch, run]\n",
    "\n",
    "Z = np.zeros_like(X, dtype=float)\n",
    "\n",
    "for i, run in enumerate(df.columns.values):\n",
    "    for j, ch in enumerate(df.index.values):\n",
    "        Z[j, i] = get_acc(run, ch)\n",
    "    \n"
   ]
  },
  {
   "cell_type": "code",
   "execution_count": 70,
   "metadata": {
    "collapsed": false
   },
   "outputs": [],
   "source": [
    "import matplotlib.pyplot as plt\n",
    "import matplotlib as mpl\n",
    "\n",
    "cm = mpl.cm.viridis_r\n",
    "cmap = mpl.colors.ListedColormap(['blue', 'green', 'yellow', 'red', 'black'])\n",
    "\n",
    "bounds = [0, 0.1, 0.5, 0.]\n",
    "norm = mpl.colors.BoundaryNorm(bounds, cmap.N)"
   ]
  },
  {
   "cell_type": "code",
   "execution_count": 71,
   "metadata": {
    "collapsed": false
   },
   "outputs": [
    {
     "data": {
      "image/png": "[encoded data removed]",
      "text/plain": [
       "<matplotlib.figure.Figure at 0x7f7c25feff60>"
      ]
     },
     "metadata": {},
     "output_type": "display_data"
    }
   ],
   "source": [
    "cmap = mpl.cm.viridis_r\n",
    "cmap.set_under('grey')\n",
    "\n",
    "plt.figure(figsize=(12,8))\n",
    "c = plt.pcolor(X, Y, Z, vmin=0.1, cmap=cmap,  vmax=1)\n",
    "plt.xlabel(\"Run Number\")\n",
    "plt.ylabel(\"Channel\")\n",
    "plt.colorbar(c)\n",
    "plt.show()"
   ]
  },
  {
   "cell_type": "code",
   "execution_count": 72,
   "metadata": {
    "collapsed": false
   },
   "outputs": [
    {
     "name": "stderr",
     "output_type": "stream",
     "text": [
      "100%|██████████| 248/248 [00:42<00:00,  5.80it/s]\n"
     ]
    }
   ],
   "source": [
    "from tqdm import tqdm\n",
    "plotdir = 'time_plots_per_channel'\n",
    "os.makedirs(plotdir, exist_ok=True)\n",
    "for ch in tqdm(df.index):\n",
    "    a = df.loc[ch].values\n",
    "    \n",
    "    f = plt.figure()\n",
    "    plt.plot(df.columns, a, linestyle='None', marker='o', color='k')\n",
    "    plt.xlabel(\"Run number\")\n",
    "    plt.ylabel(\"Acceptance\")\n",
    "    plt.title(\"Ch %d\" % ch)\n",
    "    plt.ylim(-0.05, 1.05)\n",
    "    plt.grid()\n",
    "    plt.axhline(0.5, color='red', linestyle='dashed')\n",
    "    plt.savefig(os.path.join(plotdir, '%03d.png'%ch))\n",
    "    plt.close()\n",
    "    #plt.show()"
   ]
  },
  {
   "cell_type": "code",
   "execution_count": 79,
   "metadata": {
    "collapsed": false
   },
   "outputs": [
    {
     "data": {
      "text/plain": [
       "16343    0.655633\n",
       "16523    0.656547\n",
       "16701    0.657982\n",
       "16984    0.655034\n",
       "17249    0.665459\n",
       "17454    0.673087\n",
       "17587    0.623268\n",
       "17782    0.642049\n",
       "17862    0.626882\n",
       "17939    0.651179\n",
       "17998    0.635572\n",
       "18190    0.624034\n",
       "18286    0.691918\n",
       "18383    0.648912\n",
       "18562    0.660487\n",
       "18846    0.648139\n",
       "18928    0.655811\n",
       "19178    0.676653\n",
       "19445    0.659705\n",
       "19636    0.656162\n",
       "20178    0.635470\n",
       "20286    0.657611\n",
       "20466    0.639219\n",
       "20891    0.627300\n",
       "20990    0.612526\n",
       "21179    0.611960\n",
       "21355    0.616381\n",
       "21531    0.624607\n",
       "21687    0.630291\n",
       "21961    0.611168\n",
       "22137    0.602971\n",
       "22318    0.597442\n",
       "22671    0.544690\n",
       "23052    0.561177\n",
       "23179    0.547434\n",
       "23363    0.559775\n",
       "23560    0.557692\n",
       "23737    0.541100\n",
       "23905    0.505614\n",
       "Name: 45, dtype: float64"
      ]
     },
     "execution_count": 79,
     "metadata": {},
     "output_type": "execute_result"
    }
   ],
   "source": [
    "df.loc[45]"
   ]
  },
  {
   "cell_type": "code",
   "execution_count": null,
   "metadata": {
    "collapsed": false,
    "scrolled": false
   },
   "outputs": [],
   "source": [
    "check_channels = [2, 80, 87, 91, 205]\n",
    "\n",
    "for ch in check_channels:\n",
    "    a = df.loc[ch].values\n",
    "    \n",
    "    plt.plot(df.columns, a, linestyle='None', marker='o', color='k')\n",
    "    plt.xlabel(\"Run number\")\n",
    "    plt.ylabel(\"Acceptance\")\n",
    "    plt.title(\"Ch %d\" % ch)\n",
    "    plt.ylim(-0.05, 1)\n",
    "    plt.grid()\n",
    "    plt.show()"
   ]
  },
  {
   "cell_type": "code",
   "execution_count": null,
   "metadata": {
    "collapsed": false
   },
   "outputs": [],
   "source": [
    "run = df.columns[np.where(df.loc[205].values < 0.7)][0]\n",
    "\n",
    "l = get_list(run, runlists)\n",
    "c = analyze.SPECalibration(l)"
   ]
  },
  {
   "cell_type": "code",
   "execution_count": null,
   "metadata": {
    "collapsed": false
   },
   "outputs": [],
   "source": [
    "print(l)"
   ]
  },
  {
   "cell_type": "code",
   "execution_count": null,
   "metadata": {
    "collapsed": false
   },
   "outputs": [],
   "source": [
    "ch = 205\n",
    "\n",
    "cal = c.get_cal(ch)\n",
    "x = cal.data['bin_centers']\n",
    "noise = cal.data['noise_amplitude'][:, ch]\n",
    "led = cal.data['LED_amplitude'][:, ch]\n",
    "\n",
    "plt.plot(x, noise, color='k', drawstyle='steps-mid')\n",
    "plt.plot(x, led, color='r', drawstyle='steps-mid')\n",
    "plt.xlim(-10, 150)\n",
    "plt.yscale('log')\n",
    "plt.show()\n",
    "\n",
    "plt.plot(x, noise, color='k', drawstyle='steps-mid')\n",
    "plt.plot(x, led, color='r', drawstyle='steps-mid')\n",
    "plt.xlim(-10, 20)\n",
    "plt.yscale('log')\n",
    "plt.show()\n",
    "\n",
    "acc = cal.acceptance(val2corr2=8)[ch]\n",
    "\n",
    "plt.plot(x, acc)\n",
    "plt.xlim(-10, 20)\n",
    "plt.show()"
   ]
  },
  {
   "cell_type": "code",
   "execution_count": null,
   "metadata": {
    "collapsed": true
   },
   "outputs": [],
   "source": []
  }
 ],
 "metadata": {
  "kernelspec": {
   "display_name": "Python 3",
   "language": "python",
   "name": "python3"
  },
  "language_info": {
   "codemirror_mode": {
    "name": "ipython",
    "version": 3
   },
   "file_extension": ".py",
   "mimetype": "text/x-python",
   "name": "python",
   "nbconvert_exporter": "python",
   "pygments_lexer": "ipython3",
   "version": "3.4.4"
  }
 },
 "nbformat": 4,
 "nbformat_minor": 2
}
