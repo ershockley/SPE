{
 "cells": [
  {
   "cell_type": "markdown",
   "metadata": {},
   "source": [
    "# SPE Acceptance #"
   ]
  },
  {
   "cell_type": "markdown",
   "metadata": {},
   "source": [
    "This notebook runs most of the code needed to do SPE acceptance studies. It starts by making runlists that are used to group the different types of SPE runs together. These runlists are used to download the rawdata if it is unavailable on midway, and then submit midway jobs to process the raw data in way needed for this study. After the jobs finish (~6 hours), the data is read in and plotted in various ways. \n",
    "\n",
    "See the python modules in this repository for more details, especially spe_acceptance.py and analyze.py"
   ]
  },
  {
   "cell_type": "code",
   "execution_count": 1,
   "metadata": {
    "collapsed": false,
    "scrolled": true
   },
   "outputs": [
    {
     "name": "stderr",
     "output_type": "stream",
     "text": [
      "/project/lgrandi/anaconda3/envs/pax_head/lib/python3.4/site-packages/matplotlib/__init__.py:1350: UserWarning:  This call to matplotlib.use() has no effect\n",
      "because the backend has already been chosen;\n",
      "matplotlib.use() must be called *before* pylab, matplotlib.pyplot,\n",
      "or matplotlib.backends is imported for the first time.\n",
      "\n",
      "  warnings.warn(_use_error_msg)\n"
     ]
    }
   ],
   "source": [
    "import matplotlib\n",
    "matplotlib.rc('font', size=16)\n",
    "import matplotlib.pyplot as plt\n",
    "import analyze\n",
    "from channel_dict import channel_dict\n",
    "import numpy as np\n",
    "from matplotlib import cm\n",
    "import os\n",
    "import pymongo \n",
    "import re\n",
    "from tqdm import tqdm\n",
    "from pax.configuration import load_configuration\n",
    "import hax\n",
    "from hax.pmt_plot import plot_on_pmt_arrays, pmt_data\n",
    "import pandas as pd"
   ]
  },
  {
   "cell_type": "markdown",
   "metadata": {},
   "source": [
    "#### Make runlists for any new runs that have been taken ####"
   ]
  },
  {
   "cell_type": "code",
   "execution_count": null,
   "metadata": {
    "collapsed": false
   },
   "outputs": [],
   "source": [
    "from make_runlist_new import write_spe_lists\n",
    "# dry run\n",
    "write_spe_lists(write=False)"
   ]
  },
  {
   "cell_type": "code",
   "execution_count": null,
   "metadata": {
    "collapsed": false
   },
   "outputs": [],
   "source": [
    "# if happy with dry run, write the files\n",
    "wrote = write_spe_lists(write=True)\n",
    "print(\"We wrote these files:\")\n",
    "for f in wrote:\n",
    "    print('\\t' + f)"
   ]
  },
  {
   "cell_type": "code",
   "execution_count": null,
   "metadata": {
    "collapsed": false
   },
   "outputs": [],
   "source": [
    "with open(\"tmp_submit_file.txt\", \"w\") as f:\n",
    "    for file in wrote:\n",
    "        f.write(\"%s\\n\" % file)"
   ]
  },
  {
   "cell_type": "code",
   "execution_count": null,
   "metadata": {
    "collapsed": false,
    "scrolled": true
   },
   "outputs": [],
   "source": [
    "%%bash\n",
    "\n",
    "./notebook_submit.sh"
   ]
  },
  {
   "cell_type": "markdown",
   "metadata": {},
   "source": [
    "\n",
    "#### Check if jobs still running ####"
   ]
  },
  {
   "cell_type": "code",
   "execution_count": null,
   "metadata": {
    "collapsed": false
   },
   "outputs": [],
   "source": [
    "from subprocess import Popen, PIPE\n",
    "import time\n",
    "\n",
    "def jobs_running():\n",
    "    output = Popen([\"squeue\",\"--user\", os.environ['USER']], stdin=PIPE, stdout=PIPE, stderr=PIPE).stdout.read()\n",
    "    output = output.decode(\"utf-8\").split(\"\\n\")\n",
    "    jobs = len([l for l in output if 'spe' in l])\n",
    "    return (jobs > 0)\n",
    "\n",
    "# wait for jobs to finish\n",
    "print(\"waiting for jobs to finish\")\n",
    "while jobs_running():\n",
    "    print(\"..\", end='')\n",
    "    time.sleep(60)\n",
    "print(\"\\nDONE\")"
   ]
  },
  {
   "cell_type": "markdown",
   "metadata": {},
   "source": [
    "# Use the same runlist files to read in the data #"
   ]
  },
  {
   "cell_type": "code",
   "execution_count": 2,
   "metadata": {
    "collapsed": false
   },
   "outputs": [],
   "source": [
    "uri = 'mongodb://eb:%s@xenon1t-daq.lngs.infn.it:27017,copslx50.fysik.su.se:27017,zenigata.uchicago.edu:270\\\n",
    "17/run'\n",
    "uri = uri % os.environ.get('MONGO_PASSWORD')\n",
    "c = pymongo.MongoClient(uri,\n",
    "                        replicaSet='runs',\n",
    "                        readPreference='secondaryPreferred')\n",
    "db = c['run']\n",
    "collection = db['runs_new']\n",
    "\n",
    "# get runlist files so that we know which runs go together\n",
    "def get_runlist_files(dir, exclude = []):\n",
    "    runlist_files = ['%s/%s' % (dir, f) for f in os.listdir(dir) if f.startswith(\"runlist\") and f not in exclude and f.endswith(\".txt\")]\n",
    "    return runlist_files\n",
    "\n",
    "# find a regular run from which to extract self trigger thresholds\n",
    "def find_regular_run(LED_run):\n",
    "    query = {'source.type' : {'$ne' : 'LED'},\n",
    "             '$and' : [{'number' : {'$lt': LED_run+20}}, \n",
    "                       {'number' : {'$gt' : LED_run-20}}\n",
    "                      ]\n",
    "            }\n",
    "    cursor = collection.find(query, {'number' : True,\n",
    "                                     'reader' : True,\n",
    "                                     '_id' : False})\n",
    "    \n",
    "    \n",
    "    \n",
    "    runs = np.array([run['number'] for run in cursor \n",
    "                     if any([ r['register'] == '8060' \n",
    "                             for r in run['reader']['ini']['registers']])])\n",
    "    \n",
    "    if LED_run < 5144: #when thresholds changed\n",
    "        runs = runs[runs<5144]\n",
    "    elif LED_run > 5144:\n",
    "        runs = runs[runs>5144]\n",
    "    diff = abs(runs - LED_run)\n",
    "    \n",
    "    closest_run = runs[np.argmin(diff)]\n",
    "    \n",
    "    return closest_run\n",
    "        \n",
    "    \n",
    "def get_threshold_changes():\n",
    "    cursor = collection.find(\n",
    "        {\n",
    "            \"tags.name\": \"_sciencerun0\", \n",
    "            #\"source.type\": \"AmBe\",\n",
    "            #\"data\": {\"$elemMatch\": {\"type\": \"processed\", \"pax_version\": \"v6.4.2\", \"host\": \"midway-login1\"}}\n",
    "        }).sort(\"number\", 1)\n",
    "\n",
    "\n",
    "    # Loop\n",
    "    st_list = []\n",
    "\n",
    "    st_changes = []\n",
    "    for doc in cursor:\n",
    "\n",
    "        # Record self-trigger thresholds\n",
    "        checklist = []\n",
    "        for register in doc['reader']['ini']['registers']:\n",
    "            if register['register'][-2:] == '60':\n",
    "                checklist.append(register)\n",
    "        sortedcheck = sorted(checklist, key=lambda k: k['register'])\n",
    "\n",
    "        if sortedcheck != st_list:\n",
    "            #print(\"Registers changed run \" + str(doc['number']))\n",
    "            st_changes.append(doc['number'])\n",
    "            st_list = sortedcheck\n",
    "    return st_changes"
   ]
  },
  {
   "cell_type": "code",
   "execution_count": 3,
   "metadata": {
    "collapsed": false
   },
   "outputs": [],
   "source": [
    "runlist_files = get_runlist_files('/home/awalsh272/SPE/runlists',\n",
    "                                  exclude = ['runlist_6169_6170_6171.txt',\n",
    "                                             'runlist_4511_4512_4513.txt',\n",
    "                                             'runlist_4688_4689_4690.txt',\n",
    "                                             'runlist_6446_6447_6448.txt',\n",
    "                                             'runlist_12587_12588_12589.txt',\n",
    "                                             'runlist_13128_13129_13130.txt',\n",
    "                                             'runlist_14192_14193_14195.txt'])"
   ]
  },
  {
   "cell_type": "code",
   "execution_count": 4,
   "metadata": {
    "collapsed": false,
    "scrolled": false
   },
   "outputs": [
    {
     "name": "stdout",
     "output_type": "stream",
     "text": [
      "DONE\n"
     ]
    }
   ],
   "source": [
    "means = []\n",
    "medians = []\n",
    "stds = []\n",
    "bot_runs = []\n",
    "\n",
    "n_bins = 40\n",
    "\n",
    "acc_array = np.ones((len(runlist_files), len(channel_dict['all_channels'])))\n",
    "\n",
    "for file, runlist in enumerate(sorted(runlist_files)):\n",
    "    runlist = runlist.split('/')[-1].split('_')\n",
    "    bottom_run = int(runlist[1])\n",
    "    topbulk_run = int(runlist[2])\n",
    "    topring_run = int(runlist[3][:-4])\n",
    "    \n",
    "    csv_file = \"./acceptance_data/acceptances_%d_%d_%d.csv\" % (bottom_run, topbulk_run, topring_run)\n",
    "    \n",
    "    if os.path.exists(csv_file):\n",
    "        continue\n",
    "    \n",
    "    threshold_run = find_regular_run(bottom_run)\n",
    "    print(\"Threshold run: %d\" % threshold_run)\n",
    "    try:\n",
    "        thresholds = analyze.get_thresholds(threshold_run)\n",
    "    except KeyError:\n",
    "        thresholds = analyze.get_thresholds(threshold_run + 1)\n",
    "    \n",
    "    acceptances = analyze.get_acceptances_3runs(bottom_run, topring_run, \n",
    "                                                topbulk_run, thresholds, plot=True)\n",
    "    \n",
    "    \n",
    "    acc_array[file, :] *= acceptances\n",
    "    \n",
    "\n",
    "    with open(csv_file, \"w\") as f:\n",
    "        f.write(\"channel,acceptance\\n\")\n",
    "        for ch, acc in enumerate(acceptances):\n",
    "            f.write(\"%d,%0.4f\\n\" % (ch, acc))\n",
    "        \n",
    "    on_accs = acceptances\n",
    "    on_accs = np.delete(on_accs, analyze.excluded_pmts)\n",
    "    \n",
    "    means.append(np.mean(on_accs))\n",
    "    medians.append(np.median(on_accs))\n",
    "    stds.append(np.std(on_accs))\n",
    "    bot_runs.append(bottom_run)\n",
    "    plt.figure()\n",
    "    acc_hist, bins, patches = plt.hist(acceptances, bins = n_bins, range = (0,1))\n",
    "    plt.title(\"Runs %d %d %d\" % (bottom_run, topbulk_run, topring_run))\n",
    "    plt.xlabel(\"SPE acceptance fraction\")\n",
    "    plt.ylabel(\" # channels / bin (%d bins)\" % n_bins)\n",
    "    plt.show()\n",
    "    plt.savefig(\"/project/lgrandi/xenon1t/spe_acceptance/plots/hist_%d-%d-%d.png\" % \n",
    "                (bottom_run, topbulk_run, topring_run))\n",
    "    \n",
    "print('DONE')\n"
   ]
  },
  {
   "cell_type": "code",
   "execution_count": 90,
   "metadata": {
    "collapsed": false
   },
   "outputs": [
    {
     "data": {
      "image/png": "[encoded data removed]",
      "text/plain": [
       "<matplotlib.figure.Figure at 0x7fb6cfa94b70>"
      ]
     },
     "metadata": {},
     "output_type": "display_data"
    },
    {
     "name": "stdout",
     "output_type": "stream",
     "text": [
      "[6753, 6754, 6755, 6834, 6835, 6836, 6909, 6910, 6911, 6938, 6939, 6940, 6957, 6958, 6959, 6984, 6985, 6986, 7067, 7068, 7069, 7268, 7269, 7270, 7350, 7351, 7352, 7447, 7448, 7449, 7485, 7486, 7487, 7569, 7570, 7571, 7646, 7647, 7648, 7680, 7681, 7682, 7758, 7759, 7760, 7795, 7796, 7797, 7912, 7913, 7914, 7968, 7969, 7970, 8069, 8070, 8071, 8154, 8155, 8156, 8267, 8268, 8269, 8350, 8351, 8352, 8448, 8449, 8450, 8735, 8736, 8737, 8840, 8841, 8842, 8921, 8922, 8923, 9033, 9034, 9036, 9112, 9113, 9114, 9549, 9550, 9551, 9604, 9605, 9606, 9697, 9698, 9699, 9797, 9798, 9799, 10064, 10065, 10066, 11429, 11430, 11431, 11535, 11536, 11537, 11625, 11626, 11627, 11733, 11734, 11736, 11813, 11814, 11815, 12046, 12047, 12048, 12130, 12131, 12132, 12211, 12213, 12214, 12318, 12319, 12320, 12398, 12399, 12400, 12511, 12512, 12513, 12768, 12769, 12770, 12946, 12947, 12948, 13300, 13301, 13303, 13433, 13434, 13435, 13657, 13658, 13659, 13837, 13838, 13839, 14088, 14089, 14090]\n"
     ]
    }
   ],
   "source": [
    "#plot all occupancies as a function of run number\n",
    "    \n",
    "def get_occ(c):\n",
    "    return -1*np.log(c)\n",
    "\n",
    "run_numbers=[]\n",
    "\n",
    "all_run_numbers=[]\n",
    "\n",
    "bottom_runs=[]\n",
    "topb_runs=[]\n",
    "topring_runs=[]\n",
    "\n",
    "datadir = 'acceptance_data'\n",
    "acceptance_dict = {}\n",
    "\n",
    "start_run = 6731\n",
    "end_run = 1e6\n",
    "\n",
    "datadir = 'acceptance_data'\n",
    "acceptance_dict = {}\n",
    "\n",
    "for file in os.listdir(datadir):\n",
    "    bottom_run = int(file.split('_')[1])\n",
    "    topb_run=int(file.split('_')[2])\n",
    "    topring_run=int(file.split('_')[3].split('.')[0])\n",
    "    if not (start_run < bottom_run < end_run):\n",
    "        continue\n",
    "    bottom_runs.append(bottom_run)\n",
    "    topb_runs.append(topb_run)\n",
    "    topring_runs.append(topring_run)\n",
    "    all_run_numbers.append(bottom_run)\n",
    "    all_run_numbers.append(topb_run)\n",
    "    all_run_numbers.append(topring_run)\n",
    "    \n",
    "    data = pd.read_csv(datadir + '/' + file)\n",
    "    acceptance_dict[bottom_run] = data['acceptance'].values  \n",
    "    \n",
    "    #data = pd.read_csv(datadir + '/' + file)\n",
    "    #acceptance_dict[all_runs] = data['acceptance'].values\n",
    "    #acceptance_dict[topb_runs]=data['acceptance'].values\n",
    "    #acceptance_dict[topring_runs]=data['acceptance'].values\n",
    "#big_run_numbers.append(sorted(acceptance_dict.keys()))\n",
    "\n",
    "\n",
    "for file, runlist in enumerate(sorted(runlist_files)):\n",
    "    runlist = runlist.split('/')[-1].split('.')[0].split('_')[1:]\n",
    "    for number in runlist:            \n",
    "        run_numbers.append(number)\n",
    "        \n",
    "run_numbers = [int(r) for r in run_numbers]\n",
    "#big_run_numbers=big_run_numbers[0]\n",
    "#big_run_numbers=[int(r) for r in big_run_numbers]\n",
    "all_run_numbers=sorted(all_run_numbers)\n",
    "\n",
    "ch, corr = analyze.get_corrections(run_numbers[0])\n",
    "plt.hist(get_occ(corr), bins=20)\n",
    "plt.show()\n",
    "\n",
    "#print(run_numbers)\n",
    "print(all_run_numbers)"
   ]
  },
  {
   "cell_type": "code",
   "execution_count": 91,
   "metadata": {
    "collapsed": false
   },
   "outputs": [],
   "source": [
    "corrections=np.ones((len(all_run_numbers), 248))\n",
    "occs = np.ones_like(corrections)\n",
    "data = {}\n",
    "\n",
    "for i, run in enumerate(all_run_numbers):\n",
    "    ch, corr=analyze.get_corrections(run)\n",
    "    #corrections[i] = corr\n",
    "    #occs[i] = get_occ(corr)\n",
    "    data[run] = get_occ(corr)\n",
    "    "
   ]
  },
  {
   "cell_type": "code",
   "execution_count": 110,
   "metadata": {
    "collapsed": false
   },
   "outputs": [
    {
     "data": {
      "text/html": [
       "<div>\n",
       "<table border=\"1\" class=\"dataframe\">\n",
       "  <thead>\n",
       "    <tr style=\"text-align: right;\">\n",
       "      <th></th>\n",
       "      <th>6753</th>\n",
       "      <th>6754</th>\n",
       "      <th>6755</th>\n",
       "      <th>6834</th>\n",
       "      <th>6835</th>\n",
       "      <th>6836</th>\n",
       "      <th>6909</th>\n",
       "      <th>6910</th>\n",
       "      <th>6911</th>\n",
       "      <th>6938</th>\n",
       "      <th>...</th>\n",
       "      <th>13435</th>\n",
       "      <th>13657</th>\n",
       "      <th>13658</th>\n",
       "      <th>13659</th>\n",
       "      <th>13837</th>\n",
       "      <th>13838</th>\n",
       "      <th>13839</th>\n",
       "      <th>14088</th>\n",
       "      <th>14089</th>\n",
       "      <th>14090</th>\n",
       "    </tr>\n",
       "  </thead>\n",
       "  <tbody>\n",
       "    <tr>\n",
       "      <th>0</th>\n",
       "      <td>0.038230</td>\n",
       "      <td>0.113808</td>\n",
       "      <td>0.222339</td>\n",
       "      <td>0.041888</td>\n",
       "      <td>0.117414</td>\n",
       "      <td>0.227200</td>\n",
       "      <td>0.039912</td>\n",
       "      <td>0.109350</td>\n",
       "      <td>0.231116</td>\n",
       "      <td>0.047705</td>\n",
       "      <td>...</td>\n",
       "      <td>0.026902</td>\n",
       "      <td>0.036587</td>\n",
       "      <td>0.105177</td>\n",
       "      <td>0.218097</td>\n",
       "      <td>0.102751</td>\n",
       "      <td>0.180154</td>\n",
       "      <td>0.251755</td>\n",
       "      <td>0.000606</td>\n",
       "      <td>0.001503</td>\n",
       "      <td>-0.004075</td>\n",
       "    </tr>\n",
       "    <tr>\n",
       "      <th>1</th>\n",
       "      <td>-0.001883</td>\n",
       "      <td>0.002540</td>\n",
       "      <td>-0.001282</td>\n",
       "      <td>-0.001579</td>\n",
       "      <td>0.003873</td>\n",
       "      <td>-0.003419</td>\n",
       "      <td>0.001322</td>\n",
       "      <td>-0.001711</td>\n",
       "      <td>0.007939</td>\n",
       "      <td>0.002057</td>\n",
       "      <td>...</td>\n",
       "      <td>0.068912</td>\n",
       "      <td>-0.010789</td>\n",
       "      <td>-0.011541</td>\n",
       "      <td>-0.009371</td>\n",
       "      <td>0.016166</td>\n",
       "      <td>0.018397</td>\n",
       "      <td>-0.021073</td>\n",
       "      <td>0.000169</td>\n",
       "      <td>0.005216</td>\n",
       "      <td>-0.003670</td>\n",
       "    </tr>\n",
       "    <tr>\n",
       "      <th>2</th>\n",
       "      <td>0.039420</td>\n",
       "      <td>0.114525</td>\n",
       "      <td>0.229967</td>\n",
       "      <td>0.049492</td>\n",
       "      <td>0.118330</td>\n",
       "      <td>0.230571</td>\n",
       "      <td>0.042547</td>\n",
       "      <td>0.114166</td>\n",
       "      <td>0.242231</td>\n",
       "      <td>0.043013</td>\n",
       "      <td>...</td>\n",
       "      <td>0.056791</td>\n",
       "      <td>-0.002636</td>\n",
       "      <td>-0.005380</td>\n",
       "      <td>-0.000590</td>\n",
       "      <td>0.132581</td>\n",
       "      <td>0.138379</td>\n",
       "      <td>0.061004</td>\n",
       "      <td>-0.000295</td>\n",
       "      <td>0.009498</td>\n",
       "      <td>-0.001233</td>\n",
       "    </tr>\n",
       "    <tr>\n",
       "      <th>3</th>\n",
       "      <td>0.035104</td>\n",
       "      <td>0.102958</td>\n",
       "      <td>0.204696</td>\n",
       "      <td>0.033153</td>\n",
       "      <td>0.103067</td>\n",
       "      <td>0.206763</td>\n",
       "      <td>0.040585</td>\n",
       "      <td>0.101000</td>\n",
       "      <td>0.221220</td>\n",
       "      <td>0.037439</td>\n",
       "      <td>...</td>\n",
       "      <td>0.012689</td>\n",
       "      <td>0.037682</td>\n",
       "      <td>0.100288</td>\n",
       "      <td>0.201691</td>\n",
       "      <td>0.196525</td>\n",
       "      <td>0.252518</td>\n",
       "      <td>0.275920</td>\n",
       "      <td>0.001144</td>\n",
       "      <td>0.002562</td>\n",
       "      <td>-0.000444</td>\n",
       "    </tr>\n",
       "    <tr>\n",
       "      <th>4</th>\n",
       "      <td>0.046024</td>\n",
       "      <td>0.121627</td>\n",
       "      <td>0.249526</td>\n",
       "      <td>0.054110</td>\n",
       "      <td>0.134967</td>\n",
       "      <td>0.245959</td>\n",
       "      <td>0.043791</td>\n",
       "      <td>0.115570</td>\n",
       "      <td>0.252471</td>\n",
       "      <td>0.049389</td>\n",
       "      <td>...</td>\n",
       "      <td>0.053732</td>\n",
       "      <td>0.050743</td>\n",
       "      <td>0.129808</td>\n",
       "      <td>0.255023</td>\n",
       "      <td>0.129230</td>\n",
       "      <td>0.204264</td>\n",
       "      <td>0.282738</td>\n",
       "      <td>0.003173</td>\n",
       "      <td>0.002873</td>\n",
       "      <td>-0.007063</td>\n",
       "    </tr>\n",
       "  </tbody>\n",
       "</table>\n",
       "<p>5 rows × 153 columns</p>\n",
       "</div>"
      ],
      "text/plain": [
       "      6753      6754      6755      6834      6835      6836      6909   \\\n",
       "0  0.038230  0.113808  0.222339  0.041888  0.117414  0.227200  0.039912   \n",
       "1 -0.001883  0.002540 -0.001282 -0.001579  0.003873 -0.003419  0.001322   \n",
       "2  0.039420  0.114525  0.229967  0.049492  0.118330  0.230571  0.042547   \n",
       "3  0.035104  0.102958  0.204696  0.033153  0.103067  0.206763  0.040585   \n",
       "4  0.046024  0.121627  0.249526  0.054110  0.134967  0.245959  0.043791   \n",
       "\n",
       "      6910      6911      6938     ...        13435     13657     13658  \\\n",
       "0  0.109350  0.231116  0.047705    ...     0.026902  0.036587  0.105177   \n",
       "1 -0.001711  0.007939  0.002057    ...     0.068912 -0.010789 -0.011541   \n",
       "2  0.114166  0.242231  0.043013    ...     0.056791 -0.002636 -0.005380   \n",
       "3  0.101000  0.221220  0.037439    ...     0.012689  0.037682  0.100288   \n",
       "4  0.115570  0.252471  0.049389    ...     0.053732  0.050743  0.129808   \n",
       "\n",
       "      13659     13837     13838     13839     14088     14089     14090  \n",
       "0  0.218097  0.102751  0.180154  0.251755  0.000606  0.001503 -0.004075  \n",
       "1 -0.009371  0.016166  0.018397 -0.021073  0.000169  0.005216 -0.003670  \n",
       "2 -0.000590  0.132581  0.138379  0.061004 -0.000295  0.009498 -0.001233  \n",
       "3  0.201691  0.196525  0.252518  0.275920  0.001144  0.002562 -0.000444  \n",
       "4  0.255023  0.129230  0.204264  0.282738  0.003173  0.002873 -0.007063  \n",
       "\n",
       "[5 rows x 153 columns]"
      ]
     },
     "execution_count": 110,
     "metadata": {},
     "output_type": "execute_result"
    }
   ],
   "source": [
    "df = pd.DataFrame(data)\n",
    "\n",
    "bad_acc_runs=[12768, 12769, 12770 ,12130, 12131, 12132, 12211, 12213, 12214, 12398, 12399, 12400, 12511, 12512, 12513]\n",
    "\n",
    "df.head()\n",
    "#np.mean(df[11429])\n",
    "#for run in bad_acc_runs:\n",
    " #   print(run)\n",
    "  #  print(np.mean(df[run]))"
   ]
  },
  {
   "cell_type": "code",
   "execution_count": 102,
   "metadata": {
    "collapsed": false
   },
   "outputs": [
    {
     "name": "stdout",
     "output_type": "stream",
     "text": [
      "12130 0.175315536465\n",
      "12131 0.154656486808\n",
      "12132 0.198347183604\n",
      "12211 0.125609190084\n",
      "12213 0.147408525599\n",
      "12214 0.175748435414\n",
      "12398 0.155870713709\n",
      "12399 0.1683638283\n",
      "12400 0.212482649935\n",
      "12511 0.146835259455\n",
      "12512 0.123387364738\n",
      "12513 0.170878167919\n",
      "12768 0.114368691675\n",
      "12769 0.117801839623\n",
      "12770 0.150543419461\n"
     ]
    },
    {
     "data": {
      "image/png": "[encoded data removed]",
      "text/plain": [
       "<matplotlib.figure.Figure at 0x7fb6c61cacf8>"
      ]
     },
     "metadata": {},
     "output_type": "display_data"
    }
   ],
   "source": [
    "bottom_occs = []\n",
    "\n",
    "topb_occs=[]\n",
    "\n",
    "topring_occs=[]\n",
    "\n",
    "bottom_occs_all = []\n",
    "topring_occs_all = []\n",
    "topb_occs_all = []\n",
    "\n",
    "bad_acc_runs=[12768, 12769, 12770 ,12130, 12131, 12132, 12211, 12213, 12214, 12398, 12399, 12400, 12511, 12512, 12513]\n",
    "\n",
    "for r in df.columns:\n",
    "    if r in bottom_runs:\n",
    "        boccs = [o for ch, o in enumerate(df[r].values) if ch in channel_dict['bottom_channels']]\n",
    "        bottom_occs.append(np.mean(boccs))\n",
    "        bottom_occs_all.append(np.mean(df[r].values))\n",
    "        if r in bad_acc_runs:\n",
    "            print(r, np.mean(boccs))\n",
    "        if np.mean(boccs)>0.4:\n",
    "            print(r)\n",
    "    elif r in topb_runs:\n",
    "        tboccs= [o for ch, o in enumerate(df[r].values) if ch in channel_dict['top_bulk']]\n",
    "        topb_occs.append(np.mean(tboccs))\n",
    "        topb_occs_all.append(np.mean(df[r].values))\n",
    "        if r in bad_acc_runs:\n",
    "            print(r, np.mean(tboccs))\n",
    "        \n",
    "        #boccs = [o for ch, o in enumerate(df[r].values) if ch in channel_dict['bottom_channels']]\n",
    "        #bottom_occs.append(np.mean(boccs))\n",
    "        #bottom_occs_all.append(np.mean(df[r].values))\n",
    "        \n",
    "    elif r in topring_runs:\n",
    "        #tboccs= [o for ch, o in enumerate(df[r].values) if ch in channel_dict['top_bulk']]\n",
    "        #topb_occs.append(np.mean(tboccs))\n",
    "        #topb_occs_all.append(np.mean(df[r].values))\n",
    "        troccs= [o for ch, o in enumerate(df[r].values) if ch in channel_dict['top_outer_ring']]\n",
    "        topring_occs.append(np.mean(troccs))\n",
    "        topring_occs_all.append(np.mean(df[r].values))\n",
    "        if r in bad_acc_runs:\n",
    "            print(r, np.mean(troccs))\n",
    "\n",
    "fig = plt.figure()\n",
    "ax1 = fig.add_subplot(111)      \n",
    "ax1.scatter(bottom_runs, bottom_occs, color='r', label='Bottom Runs')\n",
    "ax1.scatter(topb_runs, topb_occs, color='g', label='Topbulk Runs')\n",
    "ax1.scatter(topring_runs, topring_occs, color='b', label='Topring Runs')\n",
    "plt.legend(bbox_to_anchor=(1.05, 1), loc=2, borderaxespad=0.)\n",
    "plt.tick_params(axis='both', labelsize=14)\n",
    "plt.xlabel(\"Run Number\")\n",
    "plt.ylabel(\"Average Occupancy[Avg PE/Trigger]\")\n",
    "plt.title(\"Average Occupancy vs Run Number\", fontsize=17)\n",
    "#plt.ylim(0.1, 0.25)\n",
    "plt.show()\n"
   ]
  },
  {
   "cell_type": "code",
   "execution_count": 118,
   "metadata": {
    "collapsed": false
   },
   "outputs": [
    {
     "name": "stdout",
     "output_type": "stream",
     "text": [
      "12768 {127: 0.052719524363268232, 128: 0.15541905503393239, 129: 0.15344529963810036, 130: 0.0055622010914463896, 131: 0.12289370786076695, 132: 0.1404094878577562, 133: 0.15446165742477375, 134: -0.016771372383136928, 135: -0.071169945159652692, 136: 0.13970714348863314, 137: -0.054438161184611422, 138: 0.1208636907304786, 139: -0.0040432341435863361, 140: 0.15516539063451626, 141: 0.14298520261342079, 142: 0.1409622407284031, 143: 0.1435734120885625, 144: 0.15971542845402037, 145: 0.18140082752467546, 146: 0.14248469921894738, 147: 0.14465648504592588, 148: -0.21508336662514058, 149: 0.1158010776851342, 150: -0.014798930416653741, 151: 0.15647712940946107, 152: -0.037315758931816788, 153: 0.1315150779589459, 154: 0.16301746208992773, 155: 0.17058342270108245, 156: 0.14891574358574061, 157: 0.13938973783899786, 158: 0.17028930623601077, 159: 0.12380429263596346, 160: 0.13209034612118833, 161: 0.12488229033298874, 162: -0.033564450992940906, 163: 0.13932700872392562, 164: 0.16339288444336267, 165: 0.14040541503313297, 166: 0.15539795190191899, 167: 0.14120649417189662, 168: 0.15137105487621896, 169: 0.13875082445867729, 170: 0.16499684516793928, 171: 0.13606953911210221, 172: 0.15652607237131297, 173: 0.17085090327291191, 174: 0.15172398469566992, 175: 0.12889456436499064, 176: 0.17640370004957634, 177: 0.17187918999626048, 178: -0.010126570339087575, 179: 0.13977834890216168, 180: 0.15183625700265593, 181: 0.14000240456996538, 182: 0.15453733435298428, 183: -0.014920326266483656, 184: 0.12133394512693076, 185: 0.15493620748122958, 186: 0.12313592275488792, 187: 0.14833514354266308, 188: 0.20483001487884772, 189: 0.15963647916202239, 190: -0.048333853681476059, 191: 0.12557409414465948, 192: 0.097951991322666493, 193: 0.13138309551216257, 194: 0.13361832871824558, 195: 0.12169834229609242, 196: 0.14775845871162707, 197: 0.18439575403956551, 198: -0.033463119305521413, 199: 0.1603721553455604, 200: 0.19327278904963513, 201: 0.1862906445582328, 202: 0.14956811485645055, 203: 0.14134328661778317, 204: 0.10596761210582177, 205: 0.095345383427954788, 206: -0.038462815154493048, 207: 0.18405155244232996, 208: 0.15842908946145592, 209: 0.17691234046839274, 210: 0.19483944512723159, 211: 0.16000438157530755, 212: 0.14878178362061509, 213: -0.027381249805486514, 214: -0.0022510266194721539, 215: 0.16522138462297478, 216: 0.10029407108920671, 217: 0.12308247507295163, 218: 0.17134325296168085, 219: 0.14785950737680439, 220: 0.14807537318689065, 221: 0.14435053588272606, 222: 0.13292075851128624, 223: 0.1454898592974968, 224: 0.13614882172091797, 225: 0.13469413721932241, 226: 0.11748319853176044, 227: 0.15494640945380814, 228: 0.13353626142732786, 229: 0.16499234370551485, 230: 0.10967749748312366, 231: 0.15479402322770305, 232: 0.12057303994201081, 233: 0.11944840058708897, 234: -0.070236335844919312, 235: 0.10952107973012794, 236: 0.12923320662470653, 237: 0.14290397386939077, 238: 0.15505392739989513, 239: -0.041909894098376699, 240: 0.1277359093982037, 241: 0.1495543221843679, 242: 0.10138337582245321, 243: 0.10026685625920717, 244: -0.043445421587586373, 245: 0.11231670822644324, 246: 0.12941567208443408, 247: 0.11770266808785318} average: 0.114368691675\n",
      "12769 {36: 0.13406481175189855, 37: 0.090176477179453998, 38: 0.10780459088482423, 39: 0.10454035878517985, 40: 0.14609141360236852, 41: 0.15080101244430397, 42: 0.11731591528385783, 43: 0.11106016061172337, 44: 0.13964251681197504, 45: 0.10728199161459703, 46: 0.078356684741968413, 47: 0.11533437600185094, 48: 0.12371655811314393, 49: 0.090364810263143011, 50: 0.12930780985258114, 51: 0.12350723782957802, 52: 0.09812955185797699, 53: 0.09896173117791579, 54: 0.12212436339534544, 55: 0.1237159016137036, 56: 0.10939097342022626, 57: 0.12482833263787316, 58: 0.11159730630524257, 59: 0.15930090580357417, 60: 0.11898859521945709, 61: 0.070883302690041963, 62: -0.0047951830777660269, 63: 0.12479652563158107, 64: 0.11840115550847069, 65: -0.087598761839969577, 66: 0.13078575049691507, 67: 0.12422379627695926, 68: 0.2111900869508648, 69: 0.1485146468206327, 70: 0.11668267077295937, 71: 0.15853559173177342, 72: 0.14262011089351564, 73: 0.12873504203414765, 74: 0.16785970615417176, 75: 0.12797446385505867, 76: 0.087826550123189587, 77: 0.1518251283640191, 78: 0.12271435366045583, 79: -0.0079976076739411654, 80: 0.13543813640730942, 81: 0.12217609371355756, 82: 0.14663155434611591, 83: 0.11911554020495935, 84: 0.098821086160949131, 85: 0.1191331371190552, 86: -0.010711756570355363, 87: 0.14886093812466497, 88: -0.026665130717413197, 89: 0.13624375448574311, 90: 0.14290124977987662, 91: 0.11662687585257103, 92: 0.14188185111042143, 93: 0.12309372259362122, 94: 0.14626176908005911, 95: 0.15112358503806969, 96: 0.13387605929847401, 97: 0.12438437833352349, 98: 0.16507404603186041, 99: 0.13498743659799342, 100: 0.14799384907152213, 101: 0.12458337889079467, 102: -0.053037484795675265, 103: 0.12662498874090505, 104: 0.11050579831597061, 105: 0.093484999755524503, 106: 0.18133091202649124, 107: 0.17162406741119449, 108: 0.12541781586823741, 109: 0.13914687544288931, 110: 0.11261369734196566, 111: 0.10439543808663329, 112: 0.14751434094101004, 113: 0.13364109888611753, 114: 0.067518340028434376, 115: 0.13868032829273422, 116: 0.11379984458977836, 117: 0.13036720779807934, 118: 0.0050206957696439731, 119: 0.19850269391611861, 120: 0.1957698006697523, 121: 0.17324201435702147, 122: 0.1230808470630389, 123: 0.15701028050963772, 124: 0.17145200294347457, 125: 0.096234483931933387, 126: 0.14461304625534224} average: 0.117801839623\n",
      "12770 {0: 0.18925718882747161, 1: -0.054631564738039685, 2: -0.050918923562709398, 3: 0.19237750052764935, 4: 0.22536526506287616, 5: 0.1270830901191807, 6: 0.13896285582388196, 7: 0.16039338445534301, 8: 0.13513845275583777, 9: 0.14405201261394468, 10: 0.18606044940256947, 11: 0.167805975526409, 12: 0.008661161476507289, 13: 0.17370764555733834, 14: 0.18144762184648081, 15: 0.22178024501087548, 16: 0.074900490819390375, 17: 0.19925639485689461, 18: 0.17654482341196942, 19: 0.19385911054254176, 20: 0.19934185147332287, 21: 0.19291816640845577, 22: 0.15386149532553214, 23: 0.22523864606880822, 24: 0.15494208207499346, 25: 0.16739259724214089, 26: -0.069534180113742378, 27: 0.21953035253098133, 28: 0.20563556284633705, 29: 0.16861745870695874, 30: 0.17898652869014064, 31: 0.14169209076627967, 32: 0.28057266220070193, 33: 0.24147226535438909, 34: -0.027083264355485456, 35: 0.19487560505718599} average: 0.150543419461\n"
     ]
    }
   ],
   "source": [
    "#checking occs of bad acc runs\n",
    "bad_acc_runs=[12768, 12769, 12770] #12130, 12131, 12132, 12211, 12213, 12214, 12398, 12399, 12400, 12511, 12512, 12513, 12768, 12769, 12770]\n",
    "good_runs=[11429,11430,11431]\n",
    "\n",
    "avg_occs=[]\n",
    "good_occs=[]\n",
    "\n",
    "for run in bad_acc_runs:\n",
    "    ch=[]\n",
    "    ch_occ={}\n",
    "    if run in bottom_runs:\n",
    "        ch=channel_dict[\"bottom_channels\"]\n",
    "    if run in topb_runs:\n",
    "        ch=channel_dict[\"top_bulk\"]\n",
    "    if run in topring_runs:\n",
    "        ch=channel_dict[\"top_outer_ring\"]\n",
    "    #print(run, \"Bad Run Occs\")\n",
    "    for i in ch:\n",
    "        ch_occ[i]=df[run][i]\n",
    "        occs=ch_occ.values()\n",
    "        #for r in range()\n",
    "        #if df[run][i]-df[run]\n",
    "        #if ch_occ[i]>0.3 or ch_occ[i]<0.05:\n",
    "            #print (run, i, ch_occ[i])\n",
    "    avg_occ=sum(occs)/len(occs)\n",
    "    avg_occs.append(avg_occ)\n",
    "    print(run, ch_occ, \"average: \"+str(avg_occs[-1]))\n",
    "\n",
    "for run in good_runs:\n",
    "    goodch=[]\n",
    "    good_ch_occ={}\n",
    "    if run in bottom_runs:\n",
    "        ch=channel_dict[\"bottom_channels\"]\n",
    "    if run in topb_runs:\n",
    "        ch=channel_dict[\"top_bulk\"]\n",
    "    if run in topring_runs:\n",
    "        ch=channel_dict[\"top_outer_ring\"]\n",
    "    #print(run, \"Bad Run Occs\")\n",
    "    for i in goodch:\n",
    "        good_ch_occ[i]=df[run][i]\n",
    "        occs=ch_occ.values()\n",
    "        #for r in range()\n",
    "        #if df[run][i]-df[run]\n",
    "        #if ch_occ[i]>0.3 or ch_occ[i]<0.05:\n",
    "            #print (run, i, ch_occ[i])\n",
    "    avg_occ=sum(occs)/len(occs)\n",
    "    avg_occs.append(avg_occ)\n",
    "    #print(run, ch_occ, \"average: \"+str(avg_occs[-1]))\n",
    "\n",
    "\n",
    "for i in range(min(len(avg_occs),len(good_occs))):\n",
    "    if abs(avg_occs[i]-good_occs[i])>0.03:\n",
    "        print (\"Big difference: \", avg_occs[i], good_occs[i]) \n",
    "    else:\n",
    "        print(\"occs are fine\")\n",
    "#print(ch_occ)\n",
    "\n",
    "#print channel_dict[\"bottom_channels\"]\n",
    "#print ch"
   ]
  },
  {
   "cell_type": "markdown",
   "metadata": {},
   "source": [
    "# Plot SPE acceptance as function of time #"
   ]
  },
  {
   "cell_type": "code",
   "execution_count": 104,
   "metadata": {
    "collapsed": false,
    "scrolled": true
   },
   "outputs": [
    {
     "data": {
      "text/html": [
       "<div>\n",
       "<table border=\"1\" class=\"dataframe\">\n",
       "  <thead>\n",
       "    <tr style=\"text-align: right;\">\n",
       "      <th></th>\n",
       "      <th>6753</th>\n",
       "      <th>6834</th>\n",
       "      <th>6909</th>\n",
       "      <th>6938</th>\n",
       "      <th>6957</th>\n",
       "      <th>6984</th>\n",
       "      <th>7067</th>\n",
       "      <th>7268</th>\n",
       "      <th>7350</th>\n",
       "      <th>7447</th>\n",
       "      <th>...</th>\n",
       "      <th>12318</th>\n",
       "      <th>12398</th>\n",
       "      <th>12511</th>\n",
       "      <th>12768</th>\n",
       "      <th>12946</th>\n",
       "      <th>13300</th>\n",
       "      <th>13433</th>\n",
       "      <th>13657</th>\n",
       "      <th>13837</th>\n",
       "      <th>14088</th>\n",
       "    </tr>\n",
       "  </thead>\n",
       "  <tbody>\n",
       "    <tr>\n",
       "      <th>0</th>\n",
       "      <td>0.9561</td>\n",
       "      <td>0.9312</td>\n",
       "      <td>0.9586</td>\n",
       "      <td>0.9231</td>\n",
       "      <td>0.9322</td>\n",
       "      <td>0.9261</td>\n",
       "      <td>0.9757</td>\n",
       "      <td>0.9343</td>\n",
       "      <td>0.9173</td>\n",
       "      <td>0.9458</td>\n",
       "      <td>...</td>\n",
       "      <td>0.9443</td>\n",
       "      <td>0.8893</td>\n",
       "      <td>1.0150</td>\n",
       "      <td>1.1117</td>\n",
       "      <td>0.9755</td>\n",
       "      <td>0.9421</td>\n",
       "      <td>-0.0008</td>\n",
       "      <td>0.9616</td>\n",
       "      <td>0.8496</td>\n",
       "      <td>0.0242</td>\n",
       "    </tr>\n",
       "    <tr>\n",
       "      <th>1</th>\n",
       "      <td>0.0000</td>\n",
       "      <td>0.0000</td>\n",
       "      <td>0.0000</td>\n",
       "      <td>0.0000</td>\n",
       "      <td>0.0000</td>\n",
       "      <td>0.0000</td>\n",
       "      <td>0.0000</td>\n",
       "      <td>0.0000</td>\n",
       "      <td>0.0000</td>\n",
       "      <td>0.0000</td>\n",
       "      <td>...</td>\n",
       "      <td>0.0000</td>\n",
       "      <td>0.0000</td>\n",
       "      <td>0.0000</td>\n",
       "      <td>0.0000</td>\n",
       "      <td>0.0000</td>\n",
       "      <td>0.0000</td>\n",
       "      <td>0.0000</td>\n",
       "      <td>0.0000</td>\n",
       "      <td>0.0000</td>\n",
       "      <td>0.0000</td>\n",
       "    </tr>\n",
       "    <tr>\n",
       "      <th>2</th>\n",
       "      <td>0.8705</td>\n",
       "      <td>0.8720</td>\n",
       "      <td>0.9227</td>\n",
       "      <td>0.9217</td>\n",
       "      <td>0.9290</td>\n",
       "      <td>0.9130</td>\n",
       "      <td>0.9286</td>\n",
       "      <td>0.9029</td>\n",
       "      <td>0.9078</td>\n",
       "      <td>0.9284</td>\n",
       "      <td>...</td>\n",
       "      <td>0.0077</td>\n",
       "      <td>0.0014</td>\n",
       "      <td>-0.0007</td>\n",
       "      <td>0.0000</td>\n",
       "      <td>0.0008</td>\n",
       "      <td>0.0000</td>\n",
       "      <td>0.0000</td>\n",
       "      <td>0.0000</td>\n",
       "      <td>0.0001</td>\n",
       "      <td>0.0000</td>\n",
       "    </tr>\n",
       "    <tr>\n",
       "      <th>3</th>\n",
       "      <td>0.9452</td>\n",
       "      <td>0.9339</td>\n",
       "      <td>0.9187</td>\n",
       "      <td>0.9268</td>\n",
       "      <td>0.9291</td>\n",
       "      <td>0.9116</td>\n",
       "      <td>0.9365</td>\n",
       "      <td>0.9197</td>\n",
       "      <td>0.9355</td>\n",
       "      <td>0.9291</td>\n",
       "      <td>...</td>\n",
       "      <td>0.9275</td>\n",
       "      <td>0.8563</td>\n",
       "      <td>0.9640</td>\n",
       "      <td>1.0200</td>\n",
       "      <td>0.9401</td>\n",
       "      <td>0.9175</td>\n",
       "      <td>0.0021</td>\n",
       "      <td>0.9313</td>\n",
       "      <td>0.7224</td>\n",
       "      <td>-3.2591</td>\n",
       "    </tr>\n",
       "    <tr>\n",
       "      <th>4</th>\n",
       "      <td>0.9406</td>\n",
       "      <td>0.9513</td>\n",
       "      <td>0.9692</td>\n",
       "      <td>0.9236</td>\n",
       "      <td>0.9557</td>\n",
       "      <td>0.9400</td>\n",
       "      <td>0.9399</td>\n",
       "      <td>0.9430</td>\n",
       "      <td>0.9766</td>\n",
       "      <td>0.9348</td>\n",
       "      <td>...</td>\n",
       "      <td>0.9586</td>\n",
       "      <td>0.8032</td>\n",
       "      <td>0.9902</td>\n",
       "      <td>1.0215</td>\n",
       "      <td>0.9777</td>\n",
       "      <td>0.9390</td>\n",
       "      <td>-0.0002</td>\n",
       "      <td>0.9237</td>\n",
       "      <td>0.8498</td>\n",
       "      <td>0.0034</td>\n",
       "    </tr>\n",
       "  </tbody>\n",
       "</table>\n",
       "<p>5 rows × 51 columns</p>\n",
       "</div>"
      ],
      "text/plain": [
       "    6753    6834    6909    6938    6957    6984    7067    7268    7350   \\\n",
       "0  0.9561  0.9312  0.9586  0.9231  0.9322  0.9261  0.9757  0.9343  0.9173   \n",
       "1  0.0000  0.0000  0.0000  0.0000  0.0000  0.0000  0.0000  0.0000  0.0000   \n",
       "2  0.8705  0.8720  0.9227  0.9217  0.9290  0.9130  0.9286  0.9029  0.9078   \n",
       "3  0.9452  0.9339  0.9187  0.9268  0.9291  0.9116  0.9365  0.9197  0.9355   \n",
       "4  0.9406  0.9513  0.9692  0.9236  0.9557  0.9400  0.9399  0.9430  0.9766   \n",
       "\n",
       "    7447    ...     12318   12398   12511   12768   12946   13300   13433  \\\n",
       "0  0.9458   ...    0.9443  0.8893  1.0150  1.1117  0.9755  0.9421 -0.0008   \n",
       "1  0.0000   ...    0.0000  0.0000  0.0000  0.0000  0.0000  0.0000  0.0000   \n",
       "2  0.9284   ...    0.0077  0.0014 -0.0007  0.0000  0.0008  0.0000  0.0000   \n",
       "3  0.9291   ...    0.9275  0.8563  0.9640  1.0200  0.9401  0.9175  0.0021   \n",
       "4  0.9348   ...    0.9586  0.8032  0.9902  1.0215  0.9777  0.9390 -0.0002   \n",
       "\n",
       "    13657   13837   14088  \n",
       "0  0.9616  0.8496  0.0242  \n",
       "1  0.0000  0.0000  0.0000  \n",
       "2  0.0000  0.0001  0.0000  \n",
       "3  0.9313  0.7224 -3.2591  \n",
       "4  0.9237  0.8498  0.0034  \n",
       "\n",
       "[5 rows x 51 columns]"
      ]
     },
     "execution_count": 104,
     "metadata": {},
     "output_type": "execute_result"
    }
   ],
   "source": [
    "# read in data files\n",
    "\n",
    "evo_data = pd.DataFrame(acceptance_dict)\n",
    "\n",
    "bad_bot_runs=[13837, 13433, 14088]\n",
    "for i in bad_bot_runs:\n",
    "    del evo_data[i]\n",
    "\n",
    "evo_data.head()"
   ]
  },
  {
   "cell_type": "code",
   "execution_count": 105,
   "metadata": {
    "collapsed": false
   },
   "outputs": [
    {
     "data": {
      "image/png": "[encoded data removed]",
      "text/plain": [
       "<matplotlib.figure.Figure at 0x7fb6c5fd41d0>"
      ]
     },
     "metadata": {},
     "output_type": "display_data"
    }
   ],
   "source": [
    "xx, yy = np.meshgrid(evo_data.columns, evo_data.index)\n",
    "\n",
    "plt.figure(figsize=(16,12))\n",
    "plt.pcolor(xx, yy, evo_data.values, cmap='viridis_r')\n",
    "plt.title(\"SPE acceptance evolution per channel\")\n",
    "plt.xlabel(\"Run number\")\n",
    "plt.ylabel(\"Channel\")\n",
    "plt.show()"
   ]
  },
  {
   "cell_type": "code",
   "execution_count": 106,
   "metadata": {
    "collapsed": false
   },
   "outputs": [],
   "source": [
    "# can now look at acceptace for individual run\n",
    "\n",
    "from matplotlib.ticker import AutoMinorLocator\n",
    "from matplotlib.dates import DayLocator, MonthLocator, DateFormatter, drange, AutoDateFormatter, AutoDateLocator\n",
    "from datetime import datetime\n",
    "\n",
    "def get_run_time(run):\n",
    "    return hax.runs.datasets[hax.runs.datasets.number == run].start.values[0]\n",
    "\n",
    "def plot_channel_evo(channel, dataframe, vlines=None):\n",
    "    plt.figure(figsize=(10, 6))\n",
    "    #times = [get_run_time(run) for run in dataframe.columns]\n",
    "    plt.scatter(dataframe.columns, dataframe.loc[[channel]])\n",
    "    plt.title('Channel %d' % channel)\n",
    "    plt.ylabel('SPE acceptance fraction')\n",
    "    plt.xlabel('Run number')\n",
    "    plt.ylim(-0.05, 1.1)\n",
    "    ax = plt.gca()\n",
    "    ax.yaxis.grid(True) #(b=True, which='major', color='0.65',linestyle='-')\n",
    "#    ax.xaxis.set_major_locator(MonthLocator())\n",
    "#    ax.xaxis.set_minor_locator(DayLocator())\n",
    "#    locator = AutoDateLocator()\n",
    "#    ax.xaxis.set_major_formatter(DateFormatter(\"%b '%y\"))\n",
    "    if vlines is not None:\n",
    "        n_regions = len(vlines) + 1\n",
    "        regions = []\n",
    "        for line in vlines:\n",
    "            regions.append(r for r in dataframe.columns if r < line)\n",
    "            print(np.mean(dataframe[regions].loc[[channel]]))\n",
    "#            plt.axvline(get_run_time(line))\n",
    "            plt.axvline(line)"
   ]
  },
  {
   "cell_type": "markdown",
   "metadata": {
    "collapsed": true
   },
   "source": [
    "## plot average acceptance vs run number ##"
   ]
  },
  {
   "cell_type": "code",
   "execution_count": 107,
   "metadata": {
    "collapsed": false
   },
   "outputs": [],
   "source": [
    "# ignore off channels (acceptance < 0.05)\n",
    "\n",
    "def custom_mean(df):\n",
    "    new_means = []\n",
    "    for col in sorted(df):\n",
    "        new_vals = [val for val in df[col] if val > 0.05]\n",
    "        new_means.append(np.mean(new_vals))\n",
    "    d = {}\n",
    "    for i, mean in enumerate(new_means):\n",
    "        d[df.columns[i]] = mean\n",
    "    return pd.DataFrame(d, index=['mean'])\n",
    "\n",
    "def custom_median(df):\n",
    "    new_meds = []\n",
    "    for col in sorted(df):\n",
    "        new_vals = [val for val in df[col] if val > 0.05]\n",
    "        new_meds.append(np.median(new_vals))\n",
    "    d = {}\n",
    "    for i, med in enumerate(new_meds):\n",
    "        d[df.columns[i]] = med\n",
    "    return pd.DataFrame(d, index=['median'])\n",
    "    "
   ]
  },
  {
   "cell_type": "code",
   "execution_count": 111,
   "metadata": {
    "collapsed": false
   },
   "outputs": [
    {
     "name": "stderr",
     "output_type": "stream",
     "text": [
      "/project/lgrandi/anaconda3/envs/pax_head/lib/python3.4/site-packages/numpy/core/_methods.py:59: RuntimeWarning: Mean of empty slice.\n",
      "  warnings.warn(\"Mean of empty slice.\", RuntimeWarning)\n",
      "/project/lgrandi/anaconda3/envs/pax_head/lib/python3.4/site-packages/numpy/core/_methods.py:70: RuntimeWarning: invalid value encountered in double_scalars\n",
      "  ret = ret.dtype.type(ret / rcount)\n"
     ]
    },
    {
     "data": {
      "image/png": "[encoded data removed]",
      "text/plain": [
       "<matplotlib.figure.Figure at 0x7fb6c5af5f98>"
      ]
     },
     "metadata": {},
     "output_type": "display_data"
    }
   ],
   "source": [
    "plt.figure(figsize=(14,10))\n",
    "plt.scatter(evo_data.columns, custom_mean(evo_data).values, label = 'average SPE acceptance', color='navy')\n",
    "plt.scatter(evo_data.columns, custom_median(evo_data).values, label = 'median SPE acceptance', color='green')\n",
    "plt.ylabel('SPE acceptance')\n",
    "plt.xlabel('Run number')\n",
    "plt.grid()\n",
    "plt.legend(loc='upper right')\n",
    "plt.ylim(0.8, 1.05)\n",
    "plt.savefig('acceptance_evolution.png')\n",
    "plt.show()"
   ]
  },
  {
   "cell_type": "markdown",
   "metadata": {},
   "source": [
    "## Runs where we saw changes in low acceptance pmts ## "
   ]
  },
  {
   "cell_type": "code",
   "execution_count": 114,
   "metadata": {
    "collapsed": false
   },
   "outputs": [],
   "source": [
    "# retrieve low acceptance pmts\n",
    "\n",
    "low_acc_dict = {}\n",
    "\n",
    "for col in evo_data:\n",
    "    low_acc_dict[col] = [ch for ch, a in enumerate(evo_data[col]) if a < 0.5]"
   ]
  },
  {
   "cell_type": "code",
   "execution_count": 115,
   "metadata": {
    "collapsed": false
   },
   "outputs": [
    {
     "name": "stdout",
     "output_type": "stream",
     "text": [
      "[0, 1, 2, 3, 4, 5, 6, 7, 8, 9, 10, 11, 12, 13, 14, 15, 16, 17, 18, 19, 20, 21, 22, 23, 24, 25, 26, 27, 28, 29, 30, 31, 32, 33, 34, 35, 36, 37, 38, 39, 40, 41, 42, 43, 44, 45, 46, 47, 48, 49, 50, 51, 52, 53, 54, 55, 56, 57, 58, 59, 60, 61, 62, 63, 64, 65, 66, 67, 68, 69, 70, 71, 72, 73, 74, 75, 76, 77, 78, 79, 80, 81, 82, 83, 84, 85, 86, 87, 88, 89, 90, 91, 92, 93, 94, 95, 96, 97, 98, 99, 100, 101, 102, 103, 104, 105, 106, 107, 108, 109, 110, 111, 112, 113, 114, 115, 116, 117, 118, 119, 120, 121, 122, 123, 124, 125, 126, 127, 128, 129, 130, 131, 132, 133, 134, 135, 136, 137, 138, 139, 140, 141, 142, 143, 144, 145, 146, 147, 148, 149, 150, 151, 152, 153, 154, 155, 156, 157, 158, 159, 160, 161, 162, 163, 164, 165, 166, 167, 168, 169, 170, 171, 172, 173, 174, 175, 176, 177, 178, 179, 180, 181, 182, 183, 184, 185, 186, 187, 188, 189, 190, 191, 192, 193, 194, 195, 196, 197, 198, 199, 200, 201, 202, 203, 204, 205, 206, 207, 208, 209, 210, 211, 212, 213, 214, 215, 216, 217, 218, 219, 220, 221, 222, 223, 224, 225, 226, 227, 228, 229, 230, 231, 232, 233, 234, 235, 236, 237, 238, 239, 240, 241, 242, 243, 244, 245, 246, 247]\n"
     ]
    }
   ],
   "source": [
    "low_acc_pmts = []\n",
    "for run, l in low_acc_dict.items():\n",
    "    low_acc_pmts = list(set(low_acc_pmts).union(set(l)))\n",
    "    \n",
    "print(sorted(low_acc_pmts))"
   ]
  },
  {
   "cell_type": "code",
   "execution_count": 116,
   "metadata": {
    "collapsed": false
   },
   "outputs": [],
   "source": [
    "last_list = 'init'\n",
    "changes = {}\n",
    "for key in sorted(low_acc_dict):\n",
    "    this_list = sorted(low_acc_dict[key])\n",
    "    if last_list == 'init':\n",
    "        last_list = this_list\n",
    "        \n",
    "    if this_list != last_list:\n",
    "        changed_pmts = set(last_list).symmetric_difference(set(this_list))\n",
    "        changes[key] = changed_pmts\n",
    "        \n",
    "    last_list = this_list"
   ]
  },
  {
   "cell_type": "code",
   "execution_count": 117,
   "metadata": {
    "collapsed": false
   },
   "outputs": [
    {
     "name": "stdout",
     "output_type": "stream",
     "text": [
      "Runs where we saw changes in low acceptance PMTS, and the PMTS that changed\n",
      "---------------------------------------------------------------------------\n",
      "6909 {48, 49, 51, 96}\n",
      "7912 {2}\n",
      "12398 {58}\n",
      "12511 {58}\n",
      "13433 {0, 3, 4, 5, 6, 7, 8, 9, 10, 11, 13, 14, 15, 16, 17, 18, 19, 20, 21, 22, 23, 24, 25, 28, 29, 30, 31, 32, 33, 35, 36, 37, 38, 39, 40, 41, 42, 43, 44, 45, 46, 47, 48, 49, 50, 51, 52, 53, 54, 55, 56, 57, 58, 59, 60, 61, 63, 64, 66, 67, 68, 69, 70, 71, 72, 74, 75, 76, 77, 78, 80, 81, 82, 83, 84, 85, 87, 89, 90, 92, 93, 94, 95, 96, 97, 98, 99, 100, 101, 103, 104, 105, 106, 107, 108, 109, 110, 111, 112, 113, 114, 115, 116, 117, 119, 120, 121, 122, 123, 124, 125, 126, 127, 128, 129, 131, 132, 133, 136, 138, 140, 141, 142, 143, 144, 145, 146, 147, 149, 151, 153, 154, 155, 156, 157, 158, 159, 160, 161, 163, 164, 165, 166, 168, 169, 170, 171, 172, 173, 174, 175, 176, 177, 179, 180, 181, 182, 184, 185, 186, 187, 188, 189, 191, 192, 193, 194, 195, 196, 197, 199, 200, 201, 202, 204, 205, 207, 208, 209, 210, 211, 212, 215, 216, 217, 218, 219, 220, 221, 222, 223, 224, 225, 226, 227, 228, 229, 230, 231, 232, 233, 235, 236, 237, 238, 240, 241, 242, 243, 245, 246, 247}\n",
      "13657 {0, 3, 4, 5, 6, 7, 8, 9, 10, 11, 13, 14, 15, 16, 17, 18, 19, 20, 21, 22, 23, 24, 25, 28, 29, 30, 31, 32, 33, 35, 36, 37, 38, 39, 40, 41, 42, 43, 44, 45, 46, 47, 48, 49, 50, 51, 52, 53, 54, 55, 56, 57, 58, 59, 60, 61, 63, 64, 66, 67, 68, 69, 70, 71, 72, 74, 75, 76, 77, 78, 80, 81, 82, 83, 84, 85, 87, 89, 90, 92, 93, 94, 95, 96, 97, 98, 99, 100, 101, 103, 104, 105, 106, 107, 108, 109, 110, 111, 112, 113, 114, 115, 116, 117, 119, 120, 121, 122, 123, 124, 125, 126, 127, 128, 129, 131, 132, 133, 136, 138, 140, 141, 142, 143, 144, 145, 146, 147, 149, 151, 153, 154, 155, 156, 157, 158, 159, 160, 161, 163, 164, 165, 166, 168, 169, 170, 171, 172, 173, 174, 175, 176, 177, 179, 180, 181, 182, 184, 185, 186, 187, 188, 189, 191, 192, 193, 194, 195, 196, 197, 199, 200, 201, 202, 204, 205, 207, 208, 209, 210, 211, 212, 215, 216, 217, 218, 219, 220, 221, 222, 223, 224, 225, 226, 227, 228, 229, 230, 231, 232, 233, 235, 236, 237, 238, 240, 241, 242, 243, 245, 246, 247}\n",
      "13837 {38, 39, 42, 43, 44, 45, 50, 58, 59, 69, 70, 71, 85, 92, 96, 98, 101, 104, 111, 113, 120, 132, 133, 136, 140, 142, 144, 146, 147, 151, 158, 160, 163, 168, 170, 171, 172, 179, 180, 181, 184, 185, 187, 191, 195, 202, 205, 211, 215, 217, 218, 219, 220, 222, 225, 232, 236, 240, 241, 242, 243, 247}\n",
      "14088 {0, 3, 4, 5, 6, 7, 8, 9, 10, 11, 13, 14, 15, 16, 17, 18, 19, 20, 21, 23, 24, 25, 28, 29, 30, 31, 32, 33, 35, 36, 37, 40, 41, 46, 47, 48, 49, 51, 52, 53, 54, 55, 56, 57, 60, 61, 63, 64, 66, 67, 68, 72, 74, 75, 76, 77, 78, 80, 81, 82, 83, 84, 87, 89, 90, 93, 95, 97, 99, 100, 103, 105, 106, 107, 108, 109, 110, 112, 114, 115, 116, 117, 119, 121, 122, 123, 124, 125, 126, 127, 128, 129, 131, 138, 141, 143, 145, 149, 153, 154, 155, 156, 157, 159, 161, 164, 165, 166, 169, 173, 174, 175, 176, 177, 182, 186, 188, 189, 192, 193, 194, 197, 199, 200, 201, 204, 207, 208, 209, 210, 212, 216, 221, 223, 224, 226, 227, 228, 229, 230, 231, 233, 235, 237, 238, 245, 246}\n"
     ]
    }
   ],
   "source": [
    "s = \"Runs where we saw changes in low acceptance PMTS, and the PMTS that changed\"\n",
    "print(s)\n",
    "print(\"-\" * len(s))\n",
    "\n",
    "for run in sorted(changes):\n",
    "    print(run, changes[run])"
   ]
  },
  {
   "cell_type": "code",
   "execution_count": 112,
   "metadata": {
    "collapsed": false
   },
   "outputs": [
    {
     "ename": "NameError",
     "evalue": "name 'changes' is not defined",
     "output_type": "error",
     "traceback": [
      "\u001b[0;31m---------------------------------------------------------------------------\u001b[0m",
      "\u001b[0;31mNameError\u001b[0m                                 Traceback (most recent call last)",
      "\u001b[0;32m<ipython-input-112-d52b7df50d68>\u001b[0m in \u001b[0;36m<module>\u001b[0;34m()\u001b[0m\n\u001b[1;32m      1\u001b[0m \u001b[0;31m# plot the evolution of the pmts that changed:\u001b[0m\u001b[0;34m\u001b[0m\u001b[0;34m\u001b[0m\u001b[0m\n\u001b[1;32m      2\u001b[0m \u001b[0mpmts_that_changed\u001b[0m \u001b[0;34m=\u001b[0m \u001b[0;34m[\u001b[0m\u001b[0;34m]\u001b[0m\u001b[0;34m\u001b[0m\u001b[0m\n\u001b[0;32m----> 3\u001b[0;31m \u001b[0;32mfor\u001b[0m \u001b[0mrun\u001b[0m \u001b[0;32min\u001b[0m \u001b[0mchanges\u001b[0m\u001b[0;34m:\u001b[0m\u001b[0;34m\u001b[0m\u001b[0m\n\u001b[0m\u001b[1;32m      4\u001b[0m     \u001b[0;32mfor\u001b[0m \u001b[0mch\u001b[0m \u001b[0;32min\u001b[0m \u001b[0mchanges\u001b[0m\u001b[0;34m[\u001b[0m\u001b[0mrun\u001b[0m\u001b[0;34m]\u001b[0m\u001b[0;34m:\u001b[0m\u001b[0;34m\u001b[0m\u001b[0m\n\u001b[1;32m      5\u001b[0m         \u001b[0mpmts_that_changed\u001b[0m\u001b[0;34m.\u001b[0m\u001b[0mappend\u001b[0m\u001b[0;34m(\u001b[0m\u001b[0mch\u001b[0m\u001b[0;34m)\u001b[0m\u001b[0;34m\u001b[0m\u001b[0m\n",
      "\u001b[0;31mNameError\u001b[0m: name 'changes' is not defined"
     ]
    }
   ],
   "source": [
    "# plot the evolution of the pmts that changed:\n",
    "pmts_that_changed = []\n",
    "for run in changes:\n",
    "    for ch in changes[run]:\n",
    "        pmts_that_changed.append(ch)\n",
    "\n",
    "for ch in pmts_that_changed:\n",
    "    plot_channel_evo(ch, evo_data)\n",
    "    plt.show()"
   ]
  },
  {
   "cell_type": "code",
   "execution_count": null,
   "metadata": {
    "collapsed": false
   },
   "outputs": [],
   "source": [
    "plot_channel_evo(137, evo_data)\n",
    "plt.show()"
   ]
  },
  {
   "cell_type": "code",
   "execution_count": null,
   "metadata": {
    "collapsed": true
   },
   "outputs": [],
   "source": []
  }
 ],
 "metadata": {
  "anaconda-cloud": {},
  "kernelspec": {
   "display_name": "xenon1t",
   "language": "python",
   "name": "xenon1t"
  },
  "language_info": {
   "codemirror_mode": {
    "name": "ipython",
    "version": 3
   },
   "file_extension": ".py",
   "mimetype": "text/x-python",
   "name": "python",
   "nbconvert_exporter": "python",
   "pygments_lexer": "ipython3",
   "version": "3.4.4"
  }
 },
 "nbformat": 4,
 "nbformat_minor": 1
}
