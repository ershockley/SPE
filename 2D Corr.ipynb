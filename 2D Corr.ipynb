{
 "cells": [
  {
   "cell_type": "code",
   "execution_count": 1,
   "metadata": {
    "collapsed": true
   },
   "outputs": [],
   "source": [
    "import numpy as np\n",
    "import pandas as pd\n",
    "import matplotlib.pyplot as plt\n",
    "\n",
    "%matplotlib inline"
   ]
  },
  {
   "cell_type": "code",
   "execution_count": 2,
   "metadata": {
    "collapsed": false
   },
   "outputs": [
    {
     "data": {
      "text/html": [
       "<div>\n",
       "<table border=\"1\" class=\"dataframe\">\n",
       "  <thead>\n",
       "    <tr style=\"text-align: right;\">\n",
       "      <th></th>\n",
       "      <th>led_amplitude</th>\n",
       "      <th>led_charge</th>\n",
       "      <th>noise_amplitude</th>\n",
       "      <th>noise_charge</th>\n",
       "    </tr>\n",
       "  </thead>\n",
       "  <tbody>\n",
       "    <tr>\n",
       "      <th>0</th>\n",
       "      <td>[4.0, 3.0, 4.0, 3.0, 173.0, 58.0, 6.0, 4.0, 2....</td>\n",
       "      <td>[11.4166666667, -17.5, -32.0, -45.0, 469.41666...</td>\n",
       "      <td>[2.0, 4.0, 4.0, 5.0, 6.0, 4.0, 6.0, 4.0, 4.0, ...</td>\n",
       "      <td>[8.33333333333, 1.66666666667, -34.5833333333,...</td>\n",
       "    </tr>\n",
       "    <tr>\n",
       "      <th>1</th>\n",
       "      <td>[5.0, 11.0, 5.0, 5.0, 8.0, 7.0, 9.0, 4.0, 5.0,...</td>\n",
       "      <td>[13.8333333333, 21.1666666667, -90.3333333333,...</td>\n",
       "      <td>[3.0, 3.0, 3.0, 3.0, 4.0, 5.0, 6.0, 4.0, 4.0, ...</td>\n",
       "      <td>[-14.0833333333, -6.08333333333, -2.25, 6.0833...</td>\n",
       "    </tr>\n",
       "    <tr>\n",
       "      <th>2</th>\n",
       "      <td>[6.0, 5.0, 5.0, 46.0, 5.0, 5.0, 7.0, 19.0, 4.0...</td>\n",
       "      <td>[-18.8333333333, -22.8333333333, 25.0, 201.416...</td>\n",
       "      <td>[4.0, 5.0, 5.0, 4.0, 4.0, 3.0, 5.0, 4.0, 3.0, ...</td>\n",
       "      <td>[-36.25, -0.166666666667, -15.25, 4.5, -7.0, -...</td>\n",
       "    </tr>\n",
       "    <tr>\n",
       "      <th>3</th>\n",
       "      <td>[4.0, 3.0, 3.0, 8.0, 4.0, 4.0, 6.0, 4.0, 5.0, ...</td>\n",
       "      <td>[5.75, -9.0, 8.41666666667, 53.4166666667, -4....</td>\n",
       "      <td>[5.0, 7.0, 5.0, 3.0, 4.0, 6.0, 6.0, 4.0, 6.0, ...</td>\n",
       "      <td>[-34.25, -22.0833333333, -1.08333333333, 24.0,...</td>\n",
       "    </tr>\n",
       "    <tr>\n",
       "      <th>4</th>\n",
       "      <td>[4.0, 4.0, 8.0, 3.0, 4.0, 5.0, 5.0, 3.0, 2.0, ...</td>\n",
       "      <td>[-11.25, 4.33333333333, 39.75, 23.5, -24.5, 59...</td>\n",
       "      <td>[6.0, 3.0, 3.0, 5.0, 6.0, 4.0, 6.0, 6.0, 3.0, ...</td>\n",
       "      <td>[6.91666666667, -38.0833333333, -40.3333333333...</td>\n",
       "    </tr>\n",
       "  </tbody>\n",
       "</table>\n",
       "</div>"
      ],
      "text/plain": [
       "                                       led_amplitude  \\\n",
       "0  [4.0, 3.0, 4.0, 3.0, 173.0, 58.0, 6.0, 4.0, 2....   \n",
       "1  [5.0, 11.0, 5.0, 5.0, 8.0, 7.0, 9.0, 4.0, 5.0,...   \n",
       "2  [6.0, 5.0, 5.0, 46.0, 5.0, 5.0, 7.0, 19.0, 4.0...   \n",
       "3  [4.0, 3.0, 3.0, 8.0, 4.0, 4.0, 6.0, 4.0, 5.0, ...   \n",
       "4  [4.0, 4.0, 8.0, 3.0, 4.0, 5.0, 5.0, 3.0, 2.0, ...   \n",
       "\n",
       "                                          led_charge  \\\n",
       "0  [11.4166666667, -17.5, -32.0, -45.0, 469.41666...   \n",
       "1  [13.8333333333, 21.1666666667, -90.3333333333,...   \n",
       "2  [-18.8333333333, -22.8333333333, 25.0, 201.416...   \n",
       "3  [5.75, -9.0, 8.41666666667, 53.4166666667, -4....   \n",
       "4  [-11.25, 4.33333333333, 39.75, 23.5, -24.5, 59...   \n",
       "\n",
       "                                     noise_amplitude  \\\n",
       "0  [2.0, 4.0, 4.0, 5.0, 6.0, 4.0, 6.0, 4.0, 4.0, ...   \n",
       "1  [3.0, 3.0, 3.0, 3.0, 4.0, 5.0, 6.0, 4.0, 4.0, ...   \n",
       "2  [4.0, 5.0, 5.0, 4.0, 4.0, 3.0, 5.0, 4.0, 3.0, ...   \n",
       "3  [5.0, 7.0, 5.0, 3.0, 4.0, 6.0, 6.0, 4.0, 6.0, ...   \n",
       "4  [6.0, 3.0, 3.0, 5.0, 6.0, 4.0, 6.0, 6.0, 3.0, ...   \n",
       "\n",
       "                                        noise_charge  \n",
       "0  [8.33333333333, 1.66666666667, -34.5833333333,...  \n",
       "1  [-14.0833333333, -6.08333333333, -2.25, 6.0833...  \n",
       "2  [-36.25, -0.166666666667, -15.25, 4.5, -7.0, -...  \n",
       "3  [-34.25, -22.0833333333, -1.08333333333, 24.0,...  \n",
       "4  [6.91666666667, -38.0833333333, -40.3333333333...  "
      ]
     },
     "execution_count": 2,
     "metadata": {},
     "output_type": "execute_result"
    }
   ],
   "source": [
    "df = pd.read_hdf('/project/lgrandi/shockley/update_run18930.hdf', 'data')\n",
    "\n",
    "df.head()"
   ]
  },
  {
   "cell_type": "code",
   "execution_count": 3,
   "metadata": {
    "collapsed": true
   },
   "outputs": [],
   "source": [
    "def get_ch(ch):\n",
    "    def func(row):\n",
    "        new_row = pd.Series()\n",
    "        for col in row.index:\n",
    "            new_row[col] = row[col][ch]\n",
    "        return new_row\n",
    "    return func\n",
    "    "
   ]
  },
  {
   "cell_type": "code",
   "execution_count": 4,
   "metadata": {
    "collapsed": true
   },
   "outputs": [],
   "source": [
    "new_df = df.apply(get_ch(175), axis=1)\n"
   ]
  },
  {
   "cell_type": "code",
   "execution_count": 5,
   "metadata": {
    "collapsed": false
   },
   "outputs": [
    {
     "data": {
      "text/html": [
       "<div>\n",
       "<table border=\"1\" class=\"dataframe\">\n",
       "  <thead>\n",
       "    <tr style=\"text-align: right;\">\n",
       "      <th></th>\n",
       "      <th>led_amplitude</th>\n",
       "      <th>led_charge</th>\n",
       "      <th>noise_amplitude</th>\n",
       "      <th>noise_charge</th>\n",
       "    </tr>\n",
       "  </thead>\n",
       "  <tbody>\n",
       "    <tr>\n",
       "      <th>0</th>\n",
       "      <td>5.0</td>\n",
       "      <td>1.000000</td>\n",
       "      <td>5.0</td>\n",
       "      <td>-7.083333</td>\n",
       "    </tr>\n",
       "    <tr>\n",
       "      <th>1</th>\n",
       "      <td>10.0</td>\n",
       "      <td>21.000000</td>\n",
       "      <td>5.0</td>\n",
       "      <td>-32.416667</td>\n",
       "    </tr>\n",
       "    <tr>\n",
       "      <th>2</th>\n",
       "      <td>124.0</td>\n",
       "      <td>277.666667</td>\n",
       "      <td>6.0</td>\n",
       "      <td>7.166667</td>\n",
       "    </tr>\n",
       "    <tr>\n",
       "      <th>3</th>\n",
       "      <td>8.0</td>\n",
       "      <td>30.750000</td>\n",
       "      <td>8.0</td>\n",
       "      <td>-19.916667</td>\n",
       "    </tr>\n",
       "    <tr>\n",
       "      <th>4</th>\n",
       "      <td>130.0</td>\n",
       "      <td>453.250000</td>\n",
       "      <td>6.0</td>\n",
       "      <td>2.833333</td>\n",
       "    </tr>\n",
       "  </tbody>\n",
       "</table>\n",
       "</div>"
      ],
      "text/plain": [
       "   led_amplitude  led_charge  noise_amplitude  noise_charge\n",
       "0            5.0    1.000000              5.0     -7.083333\n",
       "1           10.0   21.000000              5.0    -32.416667\n",
       "2          124.0  277.666667              6.0      7.166667\n",
       "3            8.0   30.750000              8.0    -19.916667\n",
       "4          130.0  453.250000              6.0      2.833333"
      ]
     },
     "execution_count": 5,
     "metadata": {},
     "output_type": "execute_result"
    }
   ],
   "source": [
    "new_df.head()"
   ]
  },
  {
   "cell_type": "code",
   "execution_count": 63,
   "metadata": {
    "collapsed": false
   },
   "outputs": [],
   "source": [
    "import multihist as mh\n",
    "\n",
    "led_hist = mh.Histdd(new_df['led_charge'], new_df['led_amplitude'], axis_names=['charge', 'amplitude'], bins=500, \n",
    "                 range=[(-100, 1000), (-100, 1000)])\n",
    "\n",
    "noise_hist = mh.Histdd(new_df['noise_charge'], new_df['noise_amplitude'], axis_names=['charge', 'amplitude'], bins=500, \n",
    "                 range=[(-100, 1000), (-100, 1000)])\n",
    "\n",
    "q_bins=noise_hist.bin_centers(axis='charge')\n",
    "amp_bins=noise_hist.bin_centers(axis='amplitude')\n",
    "\n",
    "amp_noise_percentile=noise_hist.percentile(33, \"amplitude\")\n",
    "charge_noise_percentile=noise_hist.percentile(33, 'charge')"
   ]
  },
  {
   "cell_type": "code",
   "execution_count": 64,
   "metadata": {
    "collapsed": true
   },
   "outputs": [],
   "source": [
    "def correction_threshold(f, hist):\n",
    "    \"\"\"returns bin to correct to, given an f value and a noise spectrum\"\"\"\n",
    "    fs = np.cumsum(hist)/np.sum(hist)\n",
    "    return np.where(np.absolute(fs - f) == min(np.absolute(fs - f)))[0]"
   ]
  },
  {
   "cell_type": "code",
   "execution_count": 78,
   "metadata": {
    "collapsed": false
   },
   "outputs": [
    {
     "name": "stdout",
     "output_type": "stream",
     "text": [
      "[-30.7] [-10.9] [ 8.9]\n"
     ]
    },
    {
     "name": "stderr",
     "output_type": "stream",
     "text": [
      "/cvmfs/xenon.opensciencegrid.org/releases/anaconda/2.4/envs/pax_v6.8.0/lib/python3.4/site-packages/matplotlib/axes/_axes.py:519: UserWarning: No labelled objects found. Use label='...' kwarg on individual plots.\n",
      "  warnings.warn(\"No labelled objects found. \"\n"
     ]
    },
    {
     "data": {
      "image/png": "[encoded data removed]",
      "text/plain": [
       "<matplotlib.figure.Figure at 0x7fcbf8892940>"
      ]
     },
     "metadata": {},
     "output_type": "display_data"
    },
    {
     "data": {
      "image/png": "[encoded data removed]",
      "text/plain": [
       "<matplotlib.figure.Figure at 0x7fcbec7f02b0>"
      ]
     },
     "metadata": {},
     "output_type": "display_data"
    }
   ],
   "source": [
    "f1=0.1\n",
    "f2=0.333\n",
    "f3=0.666 \n",
    "amp_thresh1=correction_threshold(f1, noise_hist.project('amplitude'))\n",
    "charge_thresh1=correction_threshold(f1, noise_hist.project('charge'))\n",
    "\n",
    "amp_thresh2=correction_threshold(f2, noise_hist.project('amplitude'))\n",
    "charge_thresh2=correction_threshold(f2, noise_hist.project('charge'))\n",
    "\n",
    "amp_thresh3=correction_threshold(f3,noise_hist.project('amplitude'))\n",
    "charge_thresh3=correction_threshold(f3,noise_hist.project('charge'))\n",
    "\n",
    "print(q_bins[charge_thresh1], q_bins[charge_thresh2], q_bins[charge_thresh3])\n",
    "\n",
    "noise_hist.plot(log_scale=True)\n",
    "plt.xlim(-100, 100)\n",
    "plt.ylim(-10, 30)\n",
    "plt.title('NOISE')\n",
    "plt.axvline(x=q_bins[charge_thresh1], color='k')\n",
    "plt.axhline(y=amp_bins[amp_thresh1], color='k')\n",
    "plt.axvline(x=q_bins[charge_thresh2], color='k')\n",
    "plt.axhline(y=amp_bins[amp_thresh2], color='k')\n",
    "plt.axvline(x=q_bins[charge_thresh3], color='k')\n",
    "plt.axhline(y=amp_bins[amp_thresh3], color='k')\n",
    "#amp_noise_percentile.plot(label='amp percentile', color='k')\n",
    "#charge_noise_percentile.plot(label='charge percentile', color='gray')\n",
    "plt.legend()\n",
    "plt.grid()\n",
    "plt.show()\n",
    "\n",
    "led_hist.plot(log_scale=True)\n",
    "#amp_noise_percentile.plot(label='amp percentile', color='k')\n",
    "#charge_noise_percentile.plot(label='charge percentile', color='gray')\n",
    "plt.xlim(-100, 100)\n",
    "plt.ylim(-10, 30)\n",
    "plt.title('LED')\n",
    "plt.axvline(x=q_bins[charge_thresh1], color='k')\n",
    "plt.axhline(y=amp_bins[amp_thresh1], color='k')\n",
    "plt.axvline(x=q_bins[charge_thresh2], color='k')\n",
    "plt.axhline(y=amp_bins[amp_thresh2], color='k')\n",
    "plt.axvline(x=q_bins[charge_thresh3], color='k')\n",
    "plt.axhline(y=amp_bins[amp_thresh3], color='k')\n",
    "plt.legend()\n",
    "plt.grid()\n",
    "plt.show()\n",
    "\n",
    "#led.plot(log_scale=True)\n",
    "#plt.xlim(-100, 100)\n",
    "#plt.ylim(-10, 30)\n",
    "#plt.title(\"Subtracted\")\n",
    "#plt.grid()\n",
    "#plt.show()"
   ]
  },
  {
   "cell_type": "code",
   "execution_count": null,
   "metadata": {
    "collapsed": true
   },
   "outputs": [],
   "source": []
  },
  {
   "cell_type": "code",
   "execution_count": null,
   "metadata": {
    "collapsed": true
   },
   "outputs": [],
   "source": []
  }
 ],
 "metadata": {
  "kernelspec": {
   "display_name": "Python 3",
   "language": "python",
   "name": "python3"
  },
  "language_info": {
   "codemirror_mode": {
    "name": "ipython",
    "version": 3
   },
   "file_extension": ".py",
   "mimetype": "text/x-python",
   "name": "python",
   "nbconvert_exporter": "python",
   "pygments_lexer": "ipython3",
   "version": "3.4.5"
  }
 },
 "nbformat": 4,
 "nbformat_minor": 2
}
