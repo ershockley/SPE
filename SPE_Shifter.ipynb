{
 "cells": [
  {
   "cell_type": "code",
   "execution_count": 1,
   "metadata": {
    "collapsed": false
   },
   "outputs": [],
   "source": [
    "import os\n",
    "import numpy as np\n",
    "import pandas as pd\n",
    "import matplotlib.pyplot as plt\n",
    "import matplotlib\n",
    "import analyze # takes some time since inits hax\n",
    "from channel_dict import channel_dict\n",
    "from tqdm import tqdm\n",
    "import datetime\n",
    "import pickle\n",
    "from scipy.stats import norm\n",
    "import shutil\n",
    "\n",
    "%matplotlib inline"
   ]
  },
  {
   "cell_type": "markdown",
   "metadata": {},
   "source": [
    "# Job Submission"
   ]
  },
  {
   "cell_type": "code",
   "execution_count": 2,
   "metadata": {
    "collapsed": false
   },
   "outputs": [
    {
     "name": "stdout",
     "output_type": "stream",
     "text": [
      "1208\n",
      "cursor has 1208 runs\n",
      "Number of runs and most recent run of each type\n",
      "blank 46 18382\n",
      "bottom 46 18383\n",
      "topbulk 46 18384\n",
      "topring 46 18385\n",
      "18189 18190 18191 18192\n"
     ]
    }
   ],
   "source": [
    "from make_runlist_new import write_spe_lists\n",
    "\n",
    "#dry run\n",
    "write_spe_lists(write=False)"
   ]
  },
  {
   "cell_type": "code",
   "execution_count": 3,
   "metadata": {
    "collapsed": false
   },
   "outputs": [
    {
     "name": "stdout",
     "output_type": "stream",
     "text": [
      "1208\n",
      "Number of runs and most recent run of each type\n",
      "blank 46 18382\n",
      "bottom 46 18383\n",
      "topbulk 46 18384\n",
      "topring 46 18385\n",
      "['./runlists/runlist_18190_18191_18192.txt']\n"
     ]
    }
   ],
   "source": [
    "#writes new runlists\n",
    "written=write_spe_lists(write=True)\n",
    "print(written)"
   ]
  },
  {
   "cell_type": "markdown",
   "metadata": {},
   "source": [
    "### This will take some time to run as job submission takes several hours. Alternatively, in the terminal you can run ./submit_jobs.sh ./runlists/[runlist name] for a single runlist, or ./large_submission.sh to submit jobs for all runlists in ./runlists"
   ]
  },
  {
   "cell_type": "code",
   "execution_count": 4,
   "metadata": {
    "collapsed": true
   },
   "outputs": [],
   "source": [
    "def submit_job(file):\n",
    "    command = \"./submit_jobs.sh %s\" % file\n",
    "    print(command)\n",
    "    !{command}"
   ]
  },
  {
   "cell_type": "code",
   "execution_count": 5,
   "metadata": {
    "collapsed": false
   },
   "outputs": [
    {
     "name": "stdout",
     "output_type": "stream",
     "text": [
      "./submit_jobs.sh ./runlists/runlist_18190_18191_18192.txt\n",
      "noise run: 18189\n",
      "LED runs: 18190\n",
      "18191\n",
      "18192\n",
      "Deactivate:Unsetting ROOT environment variables..\n",
      "Activate: ROOT has been sourced. Environment settings are ready. \n",
      "ROOTSYS=/project/lgrandi/anaconda3/envs/pax_v6.8.0\n",
      "ls: cannot access /project/lgrandi/xenon1t/spe_acceptance/rawdata/180406_1029: No such file or directory\n",
      "ls: cannot access /project/lgrandi/xenon1t/spe_acceptance/rawdata/180406_1044: No such file or directory\n",
      "ls: cannot access /project/lgrandi/xenon1t/spe_acceptance/rawdata/180406_1113: No such file or directory\n",
      "ls: cannot access /project/lgrandi/xenon1t/spe_acceptance/rawdata/180406_1203: No such file or directory\n",
      "Submitted batch job 45238129\n"
     ]
    }
   ],
   "source": [
    "for f in written:\n",
    "    submit_job(f)"
   ]
  },
  {
   "cell_type": "markdown",
   "metadata": {},
   "source": [
    "# Acc Vs Time"
   ]
  },
  {
   "cell_type": "markdown",
   "metadata": {},
   "source": [
    "### Calculating acceptance and error data"
   ]
  },
  {
   "cell_type": "code",
   "execution_count": 6,
   "metadata": {
    "collapsed": false
   },
   "outputs": [],
   "source": [
    "import hax\n",
    "#hax already initiated when analyze is imported\n",
    "\n",
    "from spe_acceptance import data_dir_base, rawdata_dir\n",
    "\n",
    "\n",
    "def data_exists(run_number):\n",
    "    data_path=os.path.join(data_dir_base, 'run_%05d.h5' %int(run_number))\n",
    "    return os.path.exists(data_path)\n",
    "\n",
    "def all_data_exists(runlist):\n",
    "    return all([data_exists(run) for run in runlist])\n",
    "\n",
    "def file_to_list(runlist_file):\n",
    "    return [int(run) for run in runlist_file.split('.')[0].split('_')[1:4]]\n",
    "\n",
    "def get_run_time(run):\n",
    "    return hax.runs.datasets[hax.runs.datasets.number == run].start.values[0]\n",
    "    \n",
    "def find_file(run):\n",
    "    return [f for f in os.listdir('runlists') if any(int(run)==elem for elem in file_to_list(f))]"
   ]
  },
  {
   "cell_type": "markdown",
   "metadata": {},
   "source": [
    "#### Retrieves previously loaded data from pickle file"
   ]
  },
  {
   "cell_type": "code",
<<<<<<< HEAD
   "execution_count": 4,
=======
   "execution_count": 7,
>>>>>>> b27ad2bb316a36e00a4ace2a3f8c9a1c79d4263d
   "metadata": {
    "collapsed": false
   },
   "outputs": [
    {
     "name": "stdout",
     "output_type": "stream",
     "text": [
      "Data already exists for:  ['runlist_9549_9550_9551.txt', 'runlist_12587_12588_12589.txt', 'runlist_7350_7351_7352.txt', 'runlist_6909_6910_6911.txt', 'runlist_6550_6551_6552.txt', 'runlist_7067_7068_7069.txt', 'runlist_12768_12769_12770.txt', 'runlist_11429_11430_11431.txt', 'runlist_7447_7448_7449.txt', 'runlist_16984_16985_16986.txt', 'runlist_10696_10697_10698.txt', 'runlist_6957_6958_6959.txt', 'runlist_13433_13434_13435.txt', 'runlist_12046_12047_12048.txt', 'runlist_17454_17455_17456.txt', 'runlist_7968_7969_7970.txt', 'runlist_7646_7647_7648.txt', 'runlist_11625_11626_11627.txt', 'runlist_10133_10134_10135.txt', 'runlist_8448_8449_8450.txt', 'runlist_7758_7759_7760.txt', 'runlist_6938_6939_6940.txt', 'runlist_16343_16344_16345.txt', 'runlist_9604_9605_9606.txt', 'runlist_9033_9034_9036.txt', 'runlist_7485_7486_7487.txt', 'runlist_11069_11070_11071.txt', 'runlist_7569_7570_7571.txt', 'runlist_16701_16702_16703.txt', 'runlist_8921_8922_8923.txt', 'runlist_15625_15627_15628.txt', 'runlist_14192_14193_14195.txt', 'runlist_13300_13301_13303.txt', 'runlist_15987_15988_15989.txt', 'runlist_6169_6170_6171.txt', 'runlist_6753_6754_6755.txt', 'runlist_7912_7913_7914.txt', 'runlist_12130_12131_12132.txt', 'runlist_5242_5244_5243.txt', 'runlist_5152_5154_5153.txt', 'runlist_8154_8155_8156.txt', 'runlist_13837_13838_13839.txt', 'runlist_17587_17588_17589.txt', 'runlist_12318_12319_12320.txt', 'runlist_8267_8268_8269.txt', 'runlist_10796_10797_10798.txt', 'runlist_6358_6359_6360.txt', 'runlist_14088_14089_14090.txt', 'runlist_5755_5756_5757.txt', 'runlist_9697_9698_9699.txt', 'runlist_13128_13129_13130.txt', 'runlist_5442_5444_5443.txt', 'runlist_10297_10298_10299.txt', 'runlist_9112_9113_9114.txt', 'runlist_11535_11536_11537.txt', 'runlist_17862_17863_17864.txt', 'runlist_9797_9798_9799.txt', 'runlist_11733_11734_11736.txt', 'runlist_12946_12947_12948.txt', 'runlist_8735_8736_8737.txt', 'runlist_7268_7269_7270.txt', 'runlist_16523_16524_16526.txt', 'runlist_10877_10878_10879.txt', 'runlist_8840_8841_8842.txt', 'runlist_7680_7681_7682.txt', 'runlist_6984_6985_6986.txt', 'runlist_11813_11814_11815.txt', 'runlist_15085_15086_15087.txt', 'runlist_16237_16238_16239.txt', 'runlist_10524_10525_10526.txt', 'runlist_8350_8351_8352.txt', 'runlist_5646_5648_5647.txt', 'runlist_6446_6447_6448.txt', 'runlist_8069_8070_8071.txt', 'runlist_15811_15812_15813.txt', 'runlist_10064_10065_10066.txt', 'runlist_17249_17250_17251.txt', 'runlist_14369_14370_14371.txt', 'runlist_17782_17783_17784.txt', 'runlist_7795_7796_7797.txt', 'runlist_6834_6835_6836.txt', 'runlist_14733_14734_14735.txt', 'runlist_10610_10611_10612.txt', 'runlist_9217_9218_9219.txt', 'runlist_5039_5041_5040.txt', 'runlist_15268_15270_15271.txt', 'runlist_13657_13658_13659.txt', 'runlist_12511_12512_12513.txt', 'runlist_11352_11353_11354.txt', 'runlist_8545_8546_8547.txt', 'runlist_14555_14556_14557.txt', 'runlist_9299_9300_9301.txt', 'runlist_15420_15421_15422.txt', 'runlist_8627_8628_8629.txt', 'runlist_12398_12399_12400.txt', 'runlist_14907_14908_14909.txt', 'runlist_5557_5559_5558.txt', 'runlist_12211_12213_12214.txt', 'runlist_11277_11278_11279.txt', 'runlist_10986_10987_10988.txt', 'runlist_5358_5360_5359.txt', 'runlist_17939_17940_17942.txt', 'runlist_7100_7101_7103.txt', 'runlist_6892_6893_6894.txt']\n"
<<<<<<< HEAD
=======
     ]
    },
    {
     "name": "stderr",
     "output_type": "stream",
     "text": [
      "/project/lgrandi/anaconda3/envs/pax_v6.8.0/lib/python3.4/site-packages/numpy/core/fromnumeric.py:2909: RuntimeWarning: Mean of empty slice.\n",
      "  out=out, **kwargs)\n",
      "/project/lgrandi/anaconda3/envs/pax_v6.8.0/lib/python3.4/site-packages/numpy/core/_methods.py:80: RuntimeWarning: invalid value encountered in double_scalars\n",
      "  ret = ret.dtype.type(ret / rcount)\n"
>>>>>>> b27ad2bb316a36e00a4ace2a3f8c9a1c79d4263d
     ]
    }
   ],
   "source": [
    "#all runlists\n",
    "runlists = [f for f in os.listdir('./runlists')]\n",
    "bottom_runs = []\n",
    "accs = []\n",
    "\n",
    "ch_acc_dict={}\n",
    "ch_err_l={}\n",
    "ch_err_u={}\n",
    "\n",
    "upper_errs=[]\n",
    "lower_errs=[]\n",
    "errors = []\n",
    "\n",
    "missing_runs = []\n",
    "LED_off = []\n",
    "resubmit_files = []\n",
    "\n",
    "with open('/project/lgrandi/xenon1t/spe_acceptance/ch_data/ch_data.pkl', 'rb') as cd:\n",
    "    if os.stat('/project/lgrandi/xenon1t/spe_acceptance/ch_data/ch_data.pkl').st_size==0:\n",
    "        print('No data in pickle file')\n",
    "        data=[]\n",
    "    else:\n",
    "        data=pickle.load(cd)\n",
    "saved_runlists=[]\n",
    "\n",
    "for runlist in runlists:\n",
    "    runs=file_to_list(runlist)\n",
    "    if not all_data_exists(runs):\n",
    "        resubmit_files.append(runlist)\n",
    "        for r in runs:\n",
    "            if not data_exists(r):\n",
    "                missing_runs.append(r)\n",
    "        continue\n",
    "    else:\n",
    "        bottom_runs.append(runs[0])\n",
    "\n",
    "for cd in data:\n",
    "    if len(data)==0:\n",
    "        continue\n",
    "        \n",
    "    saved_runlists.append(cd.runlist)\n",
    "    \n",
    "    acc=cd.acc\n",
    "    on_acc=cd.on_acc\n",
    "    acc_errs_l=cd.acc_errs_l\n",
    "    acc_errs_u=cd.acc_errs_u\n",
    "    acc_sys=cd.acc_sys\n",
    "    acc_stat=cd.acc_stat\n",
    "    occ=cd.occ\n",
    "    on_occ=cd.on_occ\n",
    "    occ_sys=cd.occ_sys\n",
    "    occ_stat=cd.occ_stat\n",
    "    \n",
    "    on_channels = np.where(occ > 0.05)[0]\n",
    "        \n",
    "    if len(on_channels) < 200:\n",
    "        LED_off.append(cd.runlist)\n",
    "    \n",
    "    ch_acc_dict[cd.runlist]=acc\n",
    "    \n",
    "    #mean along axis=1 to get by channel acc, errs\n",
    "    ch_err_l[cd.runlist]=np.mean(acc_errs_l**2, axis=1)\n",
    "    ch_err_u[cd.runlist]=np.mean(acc_errs_u**2, axis=1)\n",
    "    \n",
    "    runlist = file_to_list(cd.runlist)\n",
    "    \n",
    "    bottom_run = runlist[0]\n",
    "    topbulk_run = runlist[1]\n",
    "    topring_run = runlist[2]\n",
    "    \n",
    "    accs.append(np.mean(on_acc))\n",
    "    #mean along axis=0 to get average per runlist\n",
    "    lower_errs.append(np.mean(acc_errs_l**2))\n",
    "    upper_errs.append(np.mean(acc_errs_u**2))\n",
    "        \n",
    "print(\"Data already exists for: \", saved_runlists)"
   ]
  },
  {
   "cell_type": "markdown",
   "metadata": {},
   "source": [
    "#### Calculates acceptance, errors for new runlist"
   ]
  },
  {
   "cell_type": "code",
<<<<<<< HEAD
   "execution_count": 17,
=======
   "execution_count": 8,
>>>>>>> b27ad2bb316a36e00a4ace2a3f8c9a1c79d4263d
   "metadata": {
    "collapsed": false
   },
   "outputs": [
    {
     "name": "stdout",
     "output_type": "stream",
     "text": [
<<<<<<< HEAD
      "Newest Runlist:  runlist_17939_17940_17942.txt\n",
      "Data already in pickle file\n"
=======
      "Newest Runlist:  runlist_18190_18191_18192.txt\n"
     ]
    },
    {
     "name": "stderr",
     "output_type": "stream",
     "text": [
      "/home/awalsh272/SPE/SPE/analyze.py:72: RuntimeWarning: invalid value encountered in true_divide\n",
      "  sigma_corr_noise=corr_noise*np.sqrt( (sigma_corr/corrections)**2 + (sigma_noise/noise)**2)\n"
>>>>>>> b27ad2bb316a36e00a4ace2a3f8c9a1c79d4263d
     ]
    }
   ],
   "source": [
    "#just newest runlist\n",
    "\n",
    "newest_runlist= find_file(sorted(bottom_runs)[-1])[0]\n",
    "print(\"Newest Runlist: \", newest_runlist)\n",
    "runlist = file_to_list(newest_runlist)\n",
    "\n",
    "if str(newest_runlist) not in saved_runlists:\n",
    "    if not all_data_exists(runlist):\n",
    "        resubmit_files.append(newest_runlist)\n",
    "        for r in runlist:\n",
    "            if not data_exists(r):\n",
    "                missing_runs.append(r)\n",
    "            continue\n",
    "\n",
    "\n",
    "    bottom_run = runlist[0]\n",
    "    topbulk_run = runlist[1]\n",
    "    topring_run = runlist[2]\n",
    "\n",
    "    thresholds = analyze.get_thresholds(analyze.find_regular_run(bottom_run))\n",
    "\n",
    "    acc, acc_errs, acc_sys, acc_stat = analyze.acceptance_3runs(bottom_run, topbulk_run, topring_run, thresholds)\n",
    "    occ, occ_sys, occ_stat = analyze.occupancy_3runs(bottom_run, topbulk_run, topring_run)\n",
    "\n",
    "    on_channels = np.where(occ > 0.05)[0]\n",
    "\n",
    "    if len(on_channels) < 200:\n",
    "        LED_off.append(newest_runlist)\n",
    "\n",
    "    on_acc = acc[on_channels]\n",
    "    on_occ = occ[on_channels]\n",
    "\n",
    "    ch_acc_dict[newest_runlist]=acc\n",
    "\n",
    "    acc_errs_l = acc_errs[0]\n",
    "    acc_errs_u = acc_errs[1]\n",
    "\n",
    "    ch_err_l[newest_runlist]=np.mean(acc_errs_l**2, axis=1)\n",
    "    ch_err_u[newest_runlist]=np.mean(acc_errs_u**2, axis=1)\n",
    "\n",
    "    accs.append(np.mean(on_acc))\n",
    "    lower_errs.append(np.mean(acc_errs_l**2))\n",
    "    upper_errs.append(np.mean(acc_errs_u**2))\n",
    "    bottom_runs.append(bottom_run)\n",
    "\n",
    "    cd=analyze.ch_data(newest_runlist, get_run_time(bottom_run), acc, on_acc, acc_errs_l, acc_errs_u, acc_sys, acc_stat, occ, on_occ, occ_sys, occ_stat)\n",
    "    data.append(cd)\n",
    "\n",
    "else:\n",
    "    print(\"Data already in pickle file\")\n",
    "\n",
    "errors=np.array([lower_errs, upper_errs])"
   ]
  },
  {
   "cell_type": "markdown",
   "metadata": {},
   "source": [
    "#### Dumps all data into pickle file, prints runs with LED off and runs with missing data, deletes raw data for processed runs"
   ]
  },
  {
   "cell_type": "code",
<<<<<<< HEAD
   "execution_count": 18,
=======
   "execution_count": 9,
>>>>>>> b27ad2bb316a36e00a4ace2a3f8c9a1c79d4263d
   "metadata": {
    "collapsed": false
   },
   "outputs": [
    {
     "name": "stdout",
     "output_type": "stream",
     "text": [
      "9548\n",
      ":/project/lgrandi/xenon1t/spe_acceptance/rawdata/170514_0933 doesn't exist\n",
      "9549\n",
      ":/project/lgrandi/xenon1t/spe_acceptance/rawdata/170514_0946 doesn't exist\n",
      "9550\n",
      ":/project/lgrandi/xenon1t/spe_acceptance/rawdata/170514_0956 doesn't exist\n",
      "9551\n",
      ":/project/lgrandi/xenon1t/spe_acceptance/rawdata/170514_1007 doesn't exist\n",
      "12586\n",
      ":/project/lgrandi/xenon1t/spe_acceptance/rawdata/170901_0919 doesn't exist\n",
      "12587\n",
      ":/project/lgrandi/xenon1t/spe_acceptance/rawdata/170901_0928 doesn't exist\n",
      "12588\n",
      ":/project/lgrandi/xenon1t/spe_acceptance/rawdata/170901_0938 doesn't exist\n",
      "12589\n",
      ":/project/lgrandi/xenon1t/spe_acceptance/rawdata/170901_0947 doesn't exist\n",
      "7348\n",
      ":/project/lgrandi/xenon1t/spe_acceptance/rawdata/170223_1440 doesn't exist\n",
      "7350\n",
      ":/project/lgrandi/xenon1t/spe_acceptance/rawdata/170223_1507 doesn't exist\n",
      "7351\n",
      ":/project/lgrandi/xenon1t/spe_acceptance/rawdata/170223_1519 doesn't exist\n",
      "7352\n",
      ":/project/lgrandi/xenon1t/spe_acceptance/rawdata/170223_1531 doesn't exist\n",
      "6908\n",
      ":/project/lgrandi/xenon1t/spe_acceptance/rawdata/170208_1509 doesn't exist\n",
      "6909\n",
      ":/project/lgrandi/xenon1t/spe_acceptance/rawdata/170208_1519 doesn't exist\n",
      "6910\n",
      ":/project/lgrandi/xenon1t/spe_acceptance/rawdata/170208_1528 doesn't exist\n",
      "6911\n",
      ":/project/lgrandi/xenon1t/spe_acceptance/rawdata/170208_1538 doesn't exist\n",
      "6549\n",
      ":/project/lgrandi/xenon1t/spe_acceptance/rawdata/170124_1435 doesn't exist\n",
      "6550\n",
      ":/project/lgrandi/xenon1t/spe_acceptance/rawdata/170124_1444 doesn't exist\n",
      "6551\n",
      ":/project/lgrandi/xenon1t/spe_acceptance/rawdata/170124_1454 doesn't exist\n",
      "6552\n",
      ":/project/lgrandi/xenon1t/spe_acceptance/rawdata/170124_1503 doesn't exist\n",
      "7066\n",
      ":/project/lgrandi/xenon1t/spe_acceptance/rawdata/170213_1041 doesn't exist\n",
      "7067\n",
      ":/project/lgrandi/xenon1t/spe_acceptance/rawdata/170213_1054 doesn't exist\n",
      "7068\n",
      ":/project/lgrandi/xenon1t/spe_acceptance/rawdata/170213_1103 doesn't exist\n",
      "7069\n",
      ":/project/lgrandi/xenon1t/spe_acceptance/rawdata/170213_1114 doesn't exist\n",
      "12767\n",
      ":/project/lgrandi/xenon1t/spe_acceptance/rawdata/170908_0856 doesn't exist\n",
      "12768\n",
      ":/project/lgrandi/xenon1t/spe_acceptance/rawdata/170908_0905 doesn't exist\n",
      "12769\n",
      ":/project/lgrandi/xenon1t/spe_acceptance/rawdata/170908_0914 doesn't exist\n",
      "12770\n",
      ":/project/lgrandi/xenon1t/spe_acceptance/rawdata/170908_0925 doesn't exist\n",
      "11428\n",
      ":/project/lgrandi/xenon1t/spe_acceptance/rawdata/170721_0949 doesn't exist\n",
      "11429\n",
      ":/project/lgrandi/xenon1t/spe_acceptance/rawdata/170721_1000 doesn't exist\n",
      "11430\n",
      ":/project/lgrandi/xenon1t/spe_acceptance/rawdata/170721_1011 doesn't exist\n",
      "11431\n",
      ":/project/lgrandi/xenon1t/spe_acceptance/rawdata/170721_1022 doesn't exist\n",
      "7446\n",
      ":/project/lgrandi/xenon1t/spe_acceptance/rawdata/170227_0946 doesn't exist\n",
      "7447\n",
      ":/project/lgrandi/xenon1t/spe_acceptance/rawdata/170227_0955 doesn't exist\n",
      "7448\n",
      ":/project/lgrandi/xenon1t/spe_acceptance/rawdata/170227_1006 doesn't exist\n",
      "7449\n",
      ":/project/lgrandi/xenon1t/spe_acceptance/rawdata/170227_1015 doesn't exist\n",
      "16983\n",
      ":/project/lgrandi/xenon1t/spe_acceptance/rawdata/180219_1030 doesn't exist\n",
      "16984\n",
      ":/project/lgrandi/xenon1t/spe_acceptance/rawdata/180219_1040 doesn't exist\n",
      "16985\n",
      ":/project/lgrandi/xenon1t/spe_acceptance/rawdata/180219_1049 doesn't exist\n",
      "16986\n",
      ":/project/lgrandi/xenon1t/spe_acceptance/rawdata/180219_1059 doesn't exist\n",
      "10695\n",
      ":/project/lgrandi/xenon1t/spe_acceptance/rawdata/170623_0936 doesn't exist\n",
      "10696\n",
      ":/project/lgrandi/xenon1t/spe_acceptance/rawdata/170623_0946 doesn't exist\n",
      "10697\n",
      ":/project/lgrandi/xenon1t/spe_acceptance/rawdata/170623_0955 doesn't exist\n",
      "10698\n",
      ":/project/lgrandi/xenon1t/spe_acceptance/rawdata/170623_1004 doesn't exist\n",
      "6956\n",
      ":/project/lgrandi/xenon1t/spe_acceptance/rawdata/170209_1635 doesn't exist\n",
      "6957\n",
      ":/project/lgrandi/xenon1t/spe_acceptance/rawdata/170209_1644 doesn't exist\n",
      "6958\n",
      ":/project/lgrandi/xenon1t/spe_acceptance/rawdata/170209_1654 doesn't exist\n",
      "6959\n",
      ":/project/lgrandi/xenon1t/spe_acceptance/rawdata/170209_1703 doesn't exist\n",
      "13430\n",
      ":/project/lgrandi/xenon1t/spe_acceptance/rawdata/171004_0847 doesn't exist\n",
      "13433\n",
      ":/project/lgrandi/xenon1t/spe_acceptance/rawdata/171004_0954 doesn't exist\n",
      "13434\n",
      ":/project/lgrandi/xenon1t/spe_acceptance/rawdata/171004_1020 doesn't exist\n",
      "13435\n",
      ":/project/lgrandi/xenon1t/spe_acceptance/rawdata/171004_1030 doesn't exist\n",
      "12045\n",
      ":/project/lgrandi/xenon1t/spe_acceptance/rawdata/170812_1028 doesn't exist\n",
      "12046\n",
      ":/project/lgrandi/xenon1t/spe_acceptance/rawdata/170812_1037 doesn't exist\n",
      "12047\n",
      ":/project/lgrandi/xenon1t/spe_acceptance/rawdata/170812_1047 doesn't exist\n",
      "12048\n",
      ":/project/lgrandi/xenon1t/spe_acceptance/rawdata/170812_1057 doesn't exist\n",
      "17453\n",
      ":/project/lgrandi/xenon1t/spe_acceptance/rawdata/180310_1001 doesn't exist\n",
      "17454\n",
      ":/project/lgrandi/xenon1t/spe_acceptance/rawdata/180310_1014 doesn't exist\n",
      "17455\n",
      ":/project/lgrandi/xenon1t/spe_acceptance/rawdata/180310_1023 doesn't exist\n",
      "17456\n",
      ":/project/lgrandi/xenon1t/spe_acceptance/rawdata/180310_1033 doesn't exist\n",
      "7967\n",
      ":/project/lgrandi/xenon1t/spe_acceptance/rawdata/170317_1320 doesn't exist\n",
      "7968\n",
      ":/project/lgrandi/xenon1t/spe_acceptance/rawdata/170317_1330 doesn't exist\n",
      "7969\n",
      ":/project/lgrandi/xenon1t/spe_acceptance/rawdata/170317_1341 doesn't exist\n",
      "7970\n",
      ":/project/lgrandi/xenon1t/spe_acceptance/rawdata/170317_1350 doesn't exist\n",
      "7645\n",
      ":/project/lgrandi/xenon1t/spe_acceptance/rawdata/170306_1042 doesn't exist\n",
      "7646\n",
      ":/project/lgrandi/xenon1t/spe_acceptance/rawdata/170306_1052 doesn't exist\n",
      "7647\n",
      ":/project/lgrandi/xenon1t/spe_acceptance/rawdata/170306_1101 doesn't exist\n",
      "7648\n",
      ":/project/lgrandi/xenon1t/spe_acceptance/rawdata/170306_1110 doesn't exist\n",
      "11624\n",
      ":/project/lgrandi/xenon1t/spe_acceptance/rawdata/170728_1005 doesn't exist\n",
      "11625\n",
      ":/project/lgrandi/xenon1t/spe_acceptance/rawdata/170728_1018 doesn't exist\n",
      "11626\n",
      ":/project/lgrandi/xenon1t/spe_acceptance/rawdata/170728_1028 doesn't exist\n",
      "11627\n",
      ":/project/lgrandi/xenon1t/spe_acceptance/rawdata/170728_1037 doesn't exist\n",
      "17997\n",
      ":/project/lgrandi/xenon1t/spe_acceptance/rawdata/180331_1340 doesn't exist\n",
      "17998\n",
      ":/project/lgrandi/xenon1t/spe_acceptance/rawdata/180331_1359 doesn't exist\n",
      "17999\n",
      ":/project/lgrandi/xenon1t/spe_acceptance/rawdata/180331_1412 doesn't exist\n",
      "18000\n",
      ":/project/lgrandi/xenon1t/spe_acceptance/rawdata/180331_1423 doesn't exist\n",
      "10132\n",
      ":/project/lgrandi/xenon1t/spe_acceptance/rawdata/170602_0900 doesn't exist\n",
      "10133\n",
      ":/project/lgrandi/xenon1t/spe_acceptance/rawdata/170602_0913 doesn't exist\n",
      "10134\n",
      ":/project/lgrandi/xenon1t/spe_acceptance/rawdata/170602_0923 doesn't exist\n",
      "10135\n",
      ":/project/lgrandi/xenon1t/spe_acceptance/rawdata/170602_0932 doesn't exist\n",
      "8447\n",
      ":/project/lgrandi/xenon1t/spe_acceptance/rawdata/170404_0907 doesn't exist\n",
      "8448\n",
      ":/project/lgrandi/xenon1t/spe_acceptance/rawdata/170404_0917 doesn't exist\n",
      "8449\n",
      ":/project/lgrandi/xenon1t/spe_acceptance/rawdata/170404_0927 doesn't exist\n",
      "8450\n",
      ":/project/lgrandi/xenon1t/spe_acceptance/rawdata/170404_0937 doesn't exist\n",
      "7757\n",
      ":/project/lgrandi/xenon1t/spe_acceptance/rawdata/170310_1005 doesn't exist\n",
      "7758\n",
      ":/project/lgrandi/xenon1t/spe_acceptance/rawdata/170310_1015 doesn't exist\n",
      "7759\n",
      ":/project/lgrandi/xenon1t/spe_acceptance/rawdata/170310_1025 doesn't exist\n",
      "7760\n",
      ":/project/lgrandi/xenon1t/spe_acceptance/rawdata/170310_1034 doesn't exist\n",
      "6937\n",
      ":/project/lgrandi/xenon1t/spe_acceptance/rawdata/170209_0959 doesn't exist\n",
      "6938\n",
      ":/project/lgrandi/xenon1t/spe_acceptance/rawdata/170209_1008 doesn't exist\n",
      "6939\n",
      ":/project/lgrandi/xenon1t/spe_acceptance/rawdata/170209_1017 doesn't exist\n",
      "6940\n",
      ":/project/lgrandi/xenon1t/spe_acceptance/rawdata/170209_1026 doesn't exist\n",
      "16342\n",
      ":/project/lgrandi/xenon1t/spe_acceptance/rawdata/180126_1017 doesn't exist\n",
      "16343\n",
      ":/project/lgrandi/xenon1t/spe_acceptance/rawdata/180126_1026 doesn't exist\n",
      "16344\n",
      ":/project/lgrandi/xenon1t/spe_acceptance/rawdata/180126_1035 doesn't exist\n",
      "16345\n",
      ":/project/lgrandi/xenon1t/spe_acceptance/rawdata/180126_1044 doesn't exist\n",
      "9603\n",
      ":/project/lgrandi/xenon1t/spe_acceptance/rawdata/170516_1145 doesn't exist\n",
      "9604\n",
      ":/project/lgrandi/xenon1t/spe_acceptance/rawdata/170516_1158 doesn't exist\n",
      "9605\n",
      ":/project/lgrandi/xenon1t/spe_acceptance/rawdata/170516_1209 doesn't exist\n",
      "9606\n",
      ":/project/lgrandi/xenon1t/spe_acceptance/rawdata/170516_1222 doesn't exist\n",
      "9032\n",
      ":/project/lgrandi/xenon1t/spe_acceptance/rawdata/170425_1232 doesn't exist\n",
      "9033\n",
      ":/project/lgrandi/xenon1t/spe_acceptance/rawdata/170425_1242 doesn't exist\n",
      "9034\n",
      ":/project/lgrandi/xenon1t/spe_acceptance/rawdata/170425_1252 doesn't exist\n",
      "9036\n",
      ":/project/lgrandi/xenon1t/spe_acceptance/rawdata/170425_1309 doesn't exist\n",
      "7484\n",
      ":/project/lgrandi/xenon1t/spe_acceptance/rawdata/170228_1420 doesn't exist\n",
      "7485\n",
      ":/project/lgrandi/xenon1t/spe_acceptance/rawdata/170228_1431 doesn't exist\n",
      "7486\n",
      ":/project/lgrandi/xenon1t/spe_acceptance/rawdata/170228_1442 doesn't exist\n",
      "7487\n",
      ":/project/lgrandi/xenon1t/spe_acceptance/rawdata/170228_1457 doesn't exist\n",
      "11068\n",
      ":/project/lgrandi/xenon1t/spe_acceptance/rawdata/170707_0848 doesn't exist\n",
      "11069\n",
      ":/project/lgrandi/xenon1t/spe_acceptance/rawdata/170707_0858 doesn't exist\n",
      "11070\n",
      ":/project/lgrandi/xenon1t/spe_acceptance/rawdata/170707_0911 doesn't exist\n",
      "11071\n",
      ":/project/lgrandi/xenon1t/spe_acceptance/rawdata/170707_0921 doesn't exist\n",
      "7568\n",
      ":/project/lgrandi/xenon1t/spe_acceptance/rawdata/170303_1435 doesn't exist\n",
      "7569\n",
      ":/project/lgrandi/xenon1t/spe_acceptance/rawdata/170303_1444 doesn't exist\n",
      "7570\n",
      ":/project/lgrandi/xenon1t/spe_acceptance/rawdata/170303_1454 doesn't exist\n",
      "7571\n",
      ":/project/lgrandi/xenon1t/spe_acceptance/rawdata/170303_1506 doesn't exist\n",
      "16700\n",
      ":/project/lgrandi/xenon1t/spe_acceptance/rawdata/180209_0933 doesn't exist\n",
      "16701\n",
      ":/project/lgrandi/xenon1t/spe_acceptance/rawdata/180209_0943 doesn't exist\n",
      "16702\n",
      ":/project/lgrandi/xenon1t/spe_acceptance/rawdata/180209_0953 doesn't exist\n",
      "16703\n",
      ":/project/lgrandi/xenon1t/spe_acceptance/rawdata/180209_1002 doesn't exist\n",
      "8920\n",
      ":/project/lgrandi/xenon1t/spe_acceptance/rawdata/170421_0854 doesn't exist\n",
      "8921\n",
      ":/project/lgrandi/xenon1t/spe_acceptance/rawdata/170421_0905 doesn't exist\n",
      "8922\n",
      ":/project/lgrandi/xenon1t/spe_acceptance/rawdata/170421_0916 doesn't exist\n",
      "8923\n",
      ":/project/lgrandi/xenon1t/spe_acceptance/rawdata/170421_0925 doesn't exist\n",
      "15624\n",
      ":/project/lgrandi/xenon1t/spe_acceptance/rawdata/171229_1047 doesn't exist\n",
      "15625\n",
      ":/project/lgrandi/xenon1t/spe_acceptance/rawdata/171229_1103 doesn't exist\n",
      "15627\n",
      ":/project/lgrandi/xenon1t/spe_acceptance/rawdata/171229_1116 doesn't exist\n",
      "15628\n",
      ":/project/lgrandi/xenon1t/spe_acceptance/rawdata/171229_1125 doesn't exist\n",
      "14191\n",
      ":/project/lgrandi/xenon1t/spe_acceptance/rawdata/171103_0936 doesn't exist\n",
      "14192\n",
      ":/project/lgrandi/xenon1t/spe_acceptance/rawdata/171103_0945 doesn't exist\n",
      "14193\n",
      ":/project/lgrandi/xenon1t/spe_acceptance/rawdata/171103_0953 doesn't exist\n",
      "14195\n",
      ":/project/lgrandi/xenon1t/spe_acceptance/rawdata/171103_1026 doesn't exist\n",
      "13299\n",
      ":/project/lgrandi/xenon1t/spe_acceptance/rawdata/170929_0926 doesn't exist\n",
      "13300\n",
      ":/project/lgrandi/xenon1t/spe_acceptance/rawdata/170929_0936 doesn't exist\n",
      "13301\n",
      ":/project/lgrandi/xenon1t/spe_acceptance/rawdata/170929_0950 doesn't exist\n",
      "13303\n",
      ":/project/lgrandi/xenon1t/spe_acceptance/rawdata/170929_1001 doesn't exist\n",
      "15986\n",
      ":/project/lgrandi/xenon1t/spe_acceptance/rawdata/180112_1011 doesn't exist\n",
      "15987\n",
      ":/project/lgrandi/xenon1t/spe_acceptance/rawdata/180112_1020 doesn't exist\n",
      "15988\n",
      ":/project/lgrandi/xenon1t/spe_acceptance/rawdata/180112_1030 doesn't exist\n",
      "15989\n",
      ":/project/lgrandi/xenon1t/spe_acceptance/rawdata/180112_1039 doesn't exist\n",
      "6166\n",
      ":/project/lgrandi/xenon1t/spe_acceptance/rawdata/170110_1705 doesn't exist\n",
      "6169\n",
      ":/project/lgrandi/xenon1t/spe_acceptance/rawdata/170110_1740 doesn't exist\n",
      "6170\n",
      ":/project/lgrandi/xenon1t/spe_acceptance/rawdata/170110_1751 doesn't exist\n",
      "6171\n",
      ":/project/lgrandi/xenon1t/spe_acceptance/rawdata/170110_1802 doesn't exist\n",
      "6752\n",
      ":/project/lgrandi/xenon1t/spe_acceptance/rawdata/170203_1020 doesn't exist\n",
      "6753\n",
      ":/project/lgrandi/xenon1t/spe_acceptance/rawdata/170203_1031 doesn't exist\n",
      "6754\n",
      ":/project/lgrandi/xenon1t/spe_acceptance/rawdata/170203_1041 doesn't exist\n",
      "6755\n",
      ":/project/lgrandi/xenon1t/spe_acceptance/rawdata/170203_1051 doesn't exist\n",
      "6049\n",
      ":/project/lgrandi/xenon1t/spe_acceptance/rawdata/170106_1404 doesn't exist\n",
      "6052\n",
      ":/project/lgrandi/xenon1t/spe_acceptance/rawdata/170106_1438 doesn't exist\n",
      "6053\n",
      ":/project/lgrandi/xenon1t/spe_acceptance/rawdata/170106_1448 doesn't exist\n",
      "6054\n",
      ":/project/lgrandi/xenon1t/spe_acceptance/rawdata/170106_1457 doesn't exist\n",
      "7911\n",
      ":/project/lgrandi/xenon1t/spe_acceptance/rawdata/170315_1555 doesn't exist\n",
      "7912\n",
      ":/project/lgrandi/xenon1t/spe_acceptance/rawdata/170315_1607 doesn't exist\n",
      "7913\n",
      ":/project/lgrandi/xenon1t/spe_acceptance/rawdata/170315_1618 doesn't exist\n",
      "7914\n",
      ":/project/lgrandi/xenon1t/spe_acceptance/rawdata/170315_1628 doesn't exist\n",
      "12129\n",
      ":/project/lgrandi/xenon1t/spe_acceptance/rawdata/170815_0950 doesn't exist\n",
      "12130\n",
      ":/project/lgrandi/xenon1t/spe_acceptance/rawdata/170815_1000 doesn't exist\n",
      "12131\n",
      ":/project/lgrandi/xenon1t/spe_acceptance/rawdata/170815_1009 doesn't exist\n",
      "12132\n",
      ":/project/lgrandi/xenon1t/spe_acceptance/rawdata/170815_1019 doesn't exist\n",
      "5239\n",
      ":/project/lgrandi/xenon1t/spe_acceptance/rawdata/161209_1027 doesn't exist\n",
      "5242\n",
      ":/project/lgrandi/xenon1t/spe_acceptance/rawdata/161209_1102 doesn't exist\n",
      "5244\n",
      ":/project/lgrandi/xenon1t/spe_acceptance/rawdata/161209_1120 doesn't exist\n",
      "5243\n",
      ":/project/lgrandi/xenon1t/spe_acceptance/rawdata/161209_1111 doesn't exist\n",
      "5149\n",
      ":/project/lgrandi/xenon1t/spe_acceptance/rawdata/161206_1325 doesn't exist\n",
      "5152\n",
      ":/project/lgrandi/xenon1t/spe_acceptance/rawdata/161206_1406 doesn't exist\n",
      "5154\n",
      ":/project/lgrandi/xenon1t/spe_acceptance/rawdata/161206_1425 doesn't exist\n",
      "5153\n",
      ":/project/lgrandi/xenon1t/spe_acceptance/rawdata/161206_1415 doesn't exist\n",
      "8153\n",
      ":/project/lgrandi/xenon1t/spe_acceptance/rawdata/170324_1338 doesn't exist\n",
      "8154\n",
      ":/project/lgrandi/xenon1t/spe_acceptance/rawdata/170324_1348 doesn't exist\n",
      "8155\n",
      ":/project/lgrandi/xenon1t/spe_acceptance/rawdata/170324_1358 doesn't exist\n",
      "8156\n",
      ":/project/lgrandi/xenon1t/spe_acceptance/rawdata/170324_1408 doesn't exist\n",
      "13834\n",
      ":/project/lgrandi/xenon1t/spe_acceptance/rawdata/171020_1000 doesn't exist\n",
      "13837\n",
      ":/project/lgrandi/xenon1t/spe_acceptance/rawdata/171020_1047 doesn't exist\n",
      "13838\n",
      ":/project/lgrandi/xenon1t/spe_acceptance/rawdata/171020_1059 doesn't exist\n",
      "13839\n",
      ":/project/lgrandi/xenon1t/spe_acceptance/rawdata/171020_1110 doesn't exist\n",
      "17586\n",
      ":/project/lgrandi/xenon1t/spe_acceptance/rawdata/180315_1431 doesn't exist\n",
      "17587\n",
      ":/project/lgrandi/xenon1t/spe_acceptance/rawdata/180315_1442 doesn't exist\n",
      "17588\n",
      ":/project/lgrandi/xenon1t/spe_acceptance/rawdata/180315_1451 doesn't exist\n",
      "17589\n",
      ":/project/lgrandi/xenon1t/spe_acceptance/rawdata/180315_1500 doesn't exist\n",
      "12317\n",
      ":/project/lgrandi/xenon1t/spe_acceptance/rawdata/170822_0926 doesn't exist\n",
      "12318\n",
      ":/project/lgrandi/xenon1t/spe_acceptance/rawdata/170822_0940 doesn't exist\n",
      "12319\n",
      ":/project/lgrandi/xenon1t/spe_acceptance/rawdata/170822_0953 doesn't exist\n",
      "12320\n",
      ":/project/lgrandi/xenon1t/spe_acceptance/rawdata/170822_1004 doesn't exist\n",
      "8265\n",
      ":/project/lgrandi/xenon1t/spe_acceptance/rawdata/170328_1359 doesn't exist\n",
      "8267\n",
      ":/project/lgrandi/xenon1t/spe_acceptance/rawdata/170328_1418 doesn't exist\n",
      "8268\n",
      ":/project/lgrandi/xenon1t/spe_acceptance/rawdata/170328_1428 doesn't exist\n",
      "8269\n",
      ":/project/lgrandi/xenon1t/spe_acceptance/rawdata/170328_1439 doesn't exist\n",
      "10795\n",
      ":/project/lgrandi/xenon1t/spe_acceptance/rawdata/170627_0857 doesn't exist\n",
      "10796\n",
      ":/project/lgrandi/xenon1t/spe_acceptance/rawdata/170627_0907 doesn't exist\n",
      "10797\n",
      ":/project/lgrandi/xenon1t/spe_acceptance/rawdata/170627_0916 doesn't exist\n",
      "10798\n",
      ":/project/lgrandi/xenon1t/spe_acceptance/rawdata/170627_0925 doesn't exist\n",
      "6355\n",
      ":/project/lgrandi/xenon1t/spe_acceptance/rawdata/170117_1424 doesn't exist\n",
      "6358\n",
      ":/project/lgrandi/xenon1t/spe_acceptance/rawdata/170117_1457 doesn't exist\n",
      "6359\n",
      ":/project/lgrandi/xenon1t/spe_acceptance/rawdata/170117_1506 doesn't exist\n",
      "6360\n",
      ":/project/lgrandi/xenon1t/spe_acceptance/rawdata/170117_1516 doesn't exist\n",
      "14087\n",
      ":/project/lgrandi/xenon1t/spe_acceptance/rawdata/171030_1015 doesn't exist\n",
      "14088\n",
      ":/project/lgrandi/xenon1t/spe_acceptance/rawdata/171030_1035 doesn't exist\n",
      "14089\n",
      ":/project/lgrandi/xenon1t/spe_acceptance/rawdata/171030_1049 doesn't exist\n",
      "14090\n",
      ":/project/lgrandi/xenon1t/spe_acceptance/rawdata/171030_1101 doesn't exist\n",
      "5946\n",
      ":/project/lgrandi/xenon1t/spe_acceptance/rawdata/170103_1626 doesn't exist\n",
      "5949\n",
      ":/project/lgrandi/xenon1t/spe_acceptance/rawdata/170103_1659 doesn't exist\n",
      "5950\n",
      ":/project/lgrandi/xenon1t/spe_acceptance/rawdata/170103_1709 doesn't exist\n",
      "5951\n",
      ":/project/lgrandi/xenon1t/spe_acceptance/rawdata/170103_1718 doesn't exist\n",
      "5752\n",
      ":/project/lgrandi/xenon1t/spe_acceptance/rawdata/161227_1727 doesn't exist\n",
      "5755\n",
      ":/project/lgrandi/xenon1t/spe_acceptance/rawdata/161227_1814 doesn't exist\n",
      "5756\n",
      ":/project/lgrandi/xenon1t/spe_acceptance/rawdata/161227_1831 doesn't exist\n",
      "5757\n",
      ":/project/lgrandi/xenon1t/spe_acceptance/rawdata/161227_1842 doesn't exist\n",
      "9696\n",
      ":/project/lgrandi/xenon1t/spe_acceptance/rawdata/170519_1344 doesn't exist\n",
      "9697\n",
      ":/project/lgrandi/xenon1t/spe_acceptance/rawdata/170519_1355 doesn't exist\n",
      "9698\n",
      ":/project/lgrandi/xenon1t/spe_acceptance/rawdata/170519_1407 doesn't exist\n",
      "9699\n",
      ":/project/lgrandi/xenon1t/spe_acceptance/rawdata/170519_1417 doesn't exist\n",
      "13127\n",
      ":/project/lgrandi/xenon1t/spe_acceptance/rawdata/170922_0755 doesn't exist\n",
      "13128\n",
      ":/project/lgrandi/xenon1t/spe_acceptance/rawdata/170922_0803 doesn't exist\n",
      "13129\n",
      ":/project/lgrandi/xenon1t/spe_acceptance/rawdata/170922_0812 doesn't exist\n",
      "13130\n",
      ":/project/lgrandi/xenon1t/spe_acceptance/rawdata/170922_0821 doesn't exist\n",
      "5439\n",
      ":/project/lgrandi/xenon1t/spe_acceptance/rawdata/161216_1346 doesn't exist\n",
      "5442\n",
      ":/project/lgrandi/xenon1t/spe_acceptance/rawdata/161216_1423 doesn't exist\n",
      "5444\n",
      ":/project/lgrandi/xenon1t/spe_acceptance/rawdata/161216_1445 doesn't exist\n",
      "5443\n",
      ":/project/lgrandi/xenon1t/spe_acceptance/rawdata/161216_1435 doesn't exist\n",
      "6646\n",
      ":/project/lgrandi/xenon1t/spe_acceptance/rawdata/170130_1119 doesn't exist\n",
      "6647\n",
      ":/project/lgrandi/xenon1t/spe_acceptance/rawdata/170130_1128 doesn't exist\n",
      "6648\n",
      ":/project/lgrandi/xenon1t/spe_acceptance/rawdata/170130_1138 doesn't exist\n",
      "6649\n",
      ":/project/lgrandi/xenon1t/spe_acceptance/rawdata/170130_1147 doesn't exist\n",
      "10296\n",
      ":/project/lgrandi/xenon1t/spe_acceptance/rawdata/170608_1227 doesn't exist\n",
      "10297\n",
      ":/project/lgrandi/xenon1t/spe_acceptance/rawdata/170608_1239 doesn't exist\n",
      "10298\n",
      ":/project/lgrandi/xenon1t/spe_acceptance/rawdata/170608_1250 doesn't exist\n",
      "10299\n",
      ":/project/lgrandi/xenon1t/spe_acceptance/rawdata/170608_1301 doesn't exist\n",
      "9111\n",
      ":/project/lgrandi/xenon1t/spe_acceptance/rawdata/170428_0851 doesn't exist\n",
      "9112\n",
      ":/project/lgrandi/xenon1t/spe_acceptance/rawdata/170428_0901 doesn't exist\n",
      "9113\n",
      ":/project/lgrandi/xenon1t/spe_acceptance/rawdata/170428_0911 doesn't exist\n",
      "9114\n",
      ":/project/lgrandi/xenon1t/spe_acceptance/rawdata/170428_0922 doesn't exist\n",
      "4691\n",
      ":/project/lgrandi/xenon1t/spe_acceptance/rawdata/161118_1043 doesn't exist\n",
      "4688\n",
      ":/project/lgrandi/xenon1t/spe_acceptance/rawdata/161118_1007 doesn't exist\n",
      "4689\n",
      ":/project/lgrandi/xenon1t/spe_acceptance/rawdata/161118_1018 doesn't exist\n",
      "4690\n",
      ":/project/lgrandi/xenon1t/spe_acceptance/rawdata/161118_1027 doesn't exist\n",
      "11534\n",
      ":/project/lgrandi/xenon1t/spe_acceptance/rawdata/170725_0926 doesn't exist\n",
      "11535\n",
      ":/project/lgrandi/xenon1t/spe_acceptance/rawdata/170725_0935 doesn't exist\n",
      "11536\n",
      ":/project/lgrandi/xenon1t/spe_acceptance/rawdata/170725_0944 doesn't exist\n",
      "11537\n",
      ":/project/lgrandi/xenon1t/spe_acceptance/rawdata/170725_0953 doesn't exist\n",
      "17861\n",
      ":/project/lgrandi/xenon1t/spe_acceptance/rawdata/180326_0719 doesn't exist\n",
      "17862\n",
      ":/project/lgrandi/xenon1t/spe_acceptance/rawdata/180326_0730 doesn't exist\n",
      "17863\n",
      ":/project/lgrandi/xenon1t/spe_acceptance/rawdata/180326_0742 doesn't exist\n",
      "17864\n",
      ":/project/lgrandi/xenon1t/spe_acceptance/rawdata/180326_0754 doesn't exist\n",
      "9796\n",
      ":/project/lgrandi/xenon1t/spe_acceptance/rawdata/170523_0809 doesn't exist\n",
      "9797\n",
      ":/project/lgrandi/xenon1t/spe_acceptance/rawdata/170523_0819 doesn't exist\n",
      "9798\n",
      ":/project/lgrandi/xenon1t/spe_acceptance/rawdata/170523_0828 doesn't exist\n",
      "9799\n",
      ":/project/lgrandi/xenon1t/spe_acceptance/rawdata/170523_0839 doesn't exist\n",
      "11732\n",
      ":/project/lgrandi/xenon1t/spe_acceptance/rawdata/170801_1231 doesn't exist\n",
      "11733\n",
      ":/project/lgrandi/xenon1t/spe_acceptance/rawdata/170801_1248 doesn't exist\n",
      "11734\n",
      ":/project/lgrandi/xenon1t/spe_acceptance/rawdata/170801_1257 doesn't exist\n",
      "11736\n",
      ":/project/lgrandi/xenon1t/spe_acceptance/rawdata/170801_1308 doesn't exist\n",
      "12945\n",
      ":/project/lgrandi/xenon1t/spe_acceptance/rawdata/170915_0919 doesn't exist\n",
      "12946\n",
      ":/project/lgrandi/xenon1t/spe_acceptance/rawdata/170915_0928 doesn't exist\n",
      "12947\n",
      ":/project/lgrandi/xenon1t/spe_acceptance/rawdata/170915_0937 doesn't exist\n",
      "12948\n",
      ":/project/lgrandi/xenon1t/spe_acceptance/rawdata/170915_0946 doesn't exist\n",
      "8734\n",
      ":/project/lgrandi/xenon1t/spe_acceptance/rawdata/170414_1239 doesn't exist\n",
      "8735\n",
      ":/project/lgrandi/xenon1t/spe_acceptance/rawdata/170414_1248 doesn't exist\n",
      "8736\n",
      ":/project/lgrandi/xenon1t/spe_acceptance/rawdata/170414_1258 doesn't exist\n",
      "8737\n",
      ":/project/lgrandi/xenon1t/spe_acceptance/rawdata/170414_1307 doesn't exist\n",
      "7267\n",
      ":/project/lgrandi/xenon1t/spe_acceptance/rawdata/170220_1103 doesn't exist\n",
      "7268\n",
      ":/project/lgrandi/xenon1t/spe_acceptance/rawdata/170220_1114 doesn't exist\n",
      "7269\n",
      ":/project/lgrandi/xenon1t/spe_acceptance/rawdata/170220_1123 doesn't exist\n",
      "7270\n",
      ":/project/lgrandi/xenon1t/spe_acceptance/rawdata/170220_1137 doesn't exist\n",
      "16522\n",
      ":/project/lgrandi/xenon1t/spe_acceptance/rawdata/180202_1010 doesn't exist\n",
      "16523\n",
      ":/project/lgrandi/xenon1t/spe_acceptance/rawdata/180202_1019 doesn't exist\n",
      "16524\n",
      ":/project/lgrandi/xenon1t/spe_acceptance/rawdata/180202_1029 doesn't exist\n",
      "16526\n",
      ":/project/lgrandi/xenon1t/spe_acceptance/rawdata/180202_1040 doesn't exist\n",
      "10876\n",
      ":/project/lgrandi/xenon1t/spe_acceptance/rawdata/170630_0818 doesn't exist\n",
      "10877\n",
      ":/project/lgrandi/xenon1t/spe_acceptance/rawdata/170630_0828 doesn't exist\n",
      "10878\n",
      ":/project/lgrandi/xenon1t/spe_acceptance/rawdata/170630_0837 doesn't exist\n",
      "10879\n",
      ":/project/lgrandi/xenon1t/spe_acceptance/rawdata/170630_0846 doesn't exist\n",
      "8839\n",
      ":/project/lgrandi/xenon1t/spe_acceptance/rawdata/170418_1012 doesn't exist\n",
      "8840\n",
      ":/project/lgrandi/xenon1t/spe_acceptance/rawdata/170418_1023 doesn't exist\n",
      "8841\n",
      ":/project/lgrandi/xenon1t/spe_acceptance/rawdata/170418_1033 doesn't exist\n",
      "8842\n",
      ":/project/lgrandi/xenon1t/spe_acceptance/rawdata/170418_1042 doesn't exist\n",
      "7679\n",
      ":/project/lgrandi/xenon1t/spe_acceptance/rawdata/170307_1300 doesn't exist\n",
      "7680\n",
      ":/project/lgrandi/xenon1t/spe_acceptance/rawdata/170307_1310 doesn't exist\n",
      "7681\n",
      ":/project/lgrandi/xenon1t/spe_acceptance/rawdata/170307_1319 doesn't exist\n",
      "7682\n",
      ":/project/lgrandi/xenon1t/spe_acceptance/rawdata/170307_1329 doesn't exist\n",
      "6983\n",
      ":/project/lgrandi/xenon1t/spe_acceptance/rawdata/170210_1003 doesn't exist\n",
      "6984\n",
      ":/project/lgrandi/xenon1t/spe_acceptance/rawdata/170210_1013 doesn't exist\n",
      "6985\n",
      ":/project/lgrandi/xenon1t/spe_acceptance/rawdata/170210_1022 doesn't exist\n",
      "6986\n",
      ":/project/lgrandi/xenon1t/spe_acceptance/rawdata/170210_1032 doesn't exist\n",
      "11812\n",
      ":/project/lgrandi/xenon1t/spe_acceptance/rawdata/170804_0941 doesn't exist\n",
      "11813\n",
      ":/project/lgrandi/xenon1t/spe_acceptance/rawdata/170804_0951 doesn't exist\n",
      "11814\n",
      ":/project/lgrandi/xenon1t/spe_acceptance/rawdata/170804_1005 doesn't exist\n",
      "11815\n",
      ":/project/lgrandi/xenon1t/spe_acceptance/rawdata/170804_1016 doesn't exist\n",
      "15084\n",
      ":/project/lgrandi/xenon1t/spe_acceptance/rawdata/171208_1213 doesn't exist\n",
      "15085\n",
      ":/project/lgrandi/xenon1t/spe_acceptance/rawdata/171208_1223 doesn't exist\n",
      "15086\n",
      ":/project/lgrandi/xenon1t/spe_acceptance/rawdata/171208_1241 doesn't exist\n",
      "15087\n",
      ":/project/lgrandi/xenon1t/spe_acceptance/rawdata/171208_1256 doesn't exist\n",
      "16235\n",
      ":/project/lgrandi/xenon1t/spe_acceptance/rawdata/180122_1046 doesn't exist\n",
      "16237\n",
      ":/project/lgrandi/xenon1t/spe_acceptance/rawdata/180122_1101 doesn't exist\n",
      "16238\n",
      ":/project/lgrandi/xenon1t/spe_acceptance/rawdata/180122_1111 doesn't exist\n",
      "16239\n",
      ":/project/lgrandi/xenon1t/spe_acceptance/rawdata/180122_1120 doesn't exist\n",
      "10523\n",
      ":/project/lgrandi/xenon1t/spe_acceptance/rawdata/170617_0734 doesn't exist\n",
      "10524\n",
      ":/project/lgrandi/xenon1t/spe_acceptance/rawdata/170617_0744 doesn't exist\n",
      "10525\n",
      ":/project/lgrandi/xenon1t/spe_acceptance/rawdata/170617_0754 doesn't exist\n",
      "10526\n",
      ":/project/lgrandi/xenon1t/spe_acceptance/rawdata/170617_0805 doesn't exist\n",
      "8349\n",
      ":/project/lgrandi/xenon1t/spe_acceptance/rawdata/170331_1624 doesn't exist\n",
      "8350\n",
      ":/project/lgrandi/xenon1t/spe_acceptance/rawdata/170331_1635 doesn't exist\n",
      "8351\n",
      ":/project/lgrandi/xenon1t/spe_acceptance/rawdata/170331_1645 doesn't exist\n",
      "8352\n",
      ":/project/lgrandi/xenon1t/spe_acceptance/rawdata/170331_1655 doesn't exist\n",
      "5642\n",
      ":/project/lgrandi/xenon1t/spe_acceptance/rawdata/161223_1356 doesn't exist\n",
      "5646\n",
      ":/project/lgrandi/xenon1t/spe_acceptance/rawdata/161223_1446 doesn't exist\n",
      "5648\n",
      ":/project/lgrandi/xenon1t/spe_acceptance/rawdata/161223_1506 doesn't exist\n",
      "5647\n",
      ":/project/lgrandi/xenon1t/spe_acceptance/rawdata/161223_1456 doesn't exist\n",
      "6445\n",
      ":/project/lgrandi/xenon1t/spe_acceptance/rawdata/170120_1150 doesn't exist\n",
      "6446\n",
      ":/project/lgrandi/xenon1t/spe_acceptance/rawdata/170120_1201 doesn't exist\n",
      "6447\n",
      ":/project/lgrandi/xenon1t/spe_acceptance/rawdata/170120_1210 doesn't exist\n",
      "6448\n",
      ":/project/lgrandi/xenon1t/spe_acceptance/rawdata/170120_1219 doesn't exist\n",
      "8068\n",
      ":/project/lgrandi/xenon1t/spe_acceptance/rawdata/170321_1044 doesn't exist\n",
      "8069\n",
      ":/project/lgrandi/xenon1t/spe_acceptance/rawdata/170321_1054 doesn't exist\n",
      "8070\n",
      ":/project/lgrandi/xenon1t/spe_acceptance/rawdata/170321_1104 doesn't exist\n",
      "8071\n",
      ":/project/lgrandi/xenon1t/spe_acceptance/rawdata/170321_1114 doesn't exist\n",
      "4845\n",
      ":/project/lgrandi/xenon1t/spe_acceptance/rawdata/161125_1031 doesn't exist\n",
      "4848\n",
      ":/project/lgrandi/xenon1t/spe_acceptance/rawdata/161125_1108 doesn't exist\n",
      "4851\n",
      ":/project/lgrandi/xenon1t/spe_acceptance/rawdata/161125_1128 doesn't exist\n",
      "4850\n",
      ":/project/lgrandi/xenon1t/spe_acceptance/rawdata/161125_1118 doesn't exist\n",
      "15810\n",
      ":/project/lgrandi/xenon1t/spe_acceptance/rawdata/180105_1039 doesn't exist\n",
      "15811\n",
      ":/project/lgrandi/xenon1t/spe_acceptance/rawdata/180105_1049 doesn't exist\n",
      "15812\n",
      ":/project/lgrandi/xenon1t/spe_acceptance/rawdata/180105_1059 doesn't exist\n",
      "15813\n",
      ":/project/lgrandi/xenon1t/spe_acceptance/rawdata/180105_1119 doesn't exist\n",
      "10063\n",
      ":/project/lgrandi/xenon1t/spe_acceptance/rawdata/170530_1818 doesn't exist\n",
      "10064\n",
      ":/project/lgrandi/xenon1t/spe_acceptance/rawdata/170530_1830 doesn't exist\n",
      "10065\n",
      ":/project/lgrandi/xenon1t/spe_acceptance/rawdata/170530_1839 doesn't exist\n",
      "10066\n",
      ":/project/lgrandi/xenon1t/spe_acceptance/rawdata/170530_1849 doesn't exist\n",
      "18289\n",
      ":/project/lgrandi/xenon1t/spe_acceptance/rawdata/180409_1647 doesn't exist\n",
      "18286\n",
      ":/project/lgrandi/xenon1t/spe_acceptance/rawdata/180409_1617 doesn't exist\n",
      "18287\n",
      ":/project/lgrandi/xenon1t/spe_acceptance/rawdata/180409_1626 doesn't exist\n",
      "18288\n",
      ":/project/lgrandi/xenon1t/spe_acceptance/rawdata/180409_1638 doesn't exist\n",
      "17248\n",
      ":/project/lgrandi/xenon1t/spe_acceptance/rawdata/180302_1028 doesn't exist\n",
      "17249\n",
      ":/project/lgrandi/xenon1t/spe_acceptance/rawdata/180302_1043 doesn't exist\n",
      "17250\n",
      ":/project/lgrandi/xenon1t/spe_acceptance/rawdata/180302_1052 doesn't exist\n",
      "17251\n",
      ":/project/lgrandi/xenon1t/spe_acceptance/rawdata/180302_1102 doesn't exist\n",
      "14368\n",
      ":/project/lgrandi/xenon1t/spe_acceptance/rawdata/171110_0936 doesn't exist\n",
      "14369\n",
      ":/project/lgrandi/xenon1t/spe_acceptance/rawdata/171110_0947 doesn't exist\n",
      "14370\n",
      ":/project/lgrandi/xenon1t/spe_acceptance/rawdata/171110_0956 doesn't exist\n",
      "14371\n",
      ":/project/lgrandi/xenon1t/spe_acceptance/rawdata/171110_1006 doesn't exist\n",
      "17781\n",
      ":/project/lgrandi/xenon1t/spe_acceptance/rawdata/180323_0912 doesn't exist\n",
      "17782\n",
      ":/project/lgrandi/xenon1t/spe_acceptance/rawdata/180323_0922 doesn't exist\n",
      "17783\n",
      ":/project/lgrandi/xenon1t/spe_acceptance/rawdata/180323_0932 doesn't exist\n",
      "17784\n",
      ":/project/lgrandi/xenon1t/spe_acceptance/rawdata/180323_1004 doesn't exist\n",
      "7794\n",
      ":/project/lgrandi/xenon1t/spe_acceptance/rawdata/170311_1403 doesn't exist\n",
      "7795\n",
      ":/project/lgrandi/xenon1t/spe_acceptance/rawdata/170311_1414 doesn't exist\n",
      "7796\n",
      ":/project/lgrandi/xenon1t/spe_acceptance/rawdata/170311_1423 doesn't exist\n",
      "7797\n",
      ":/project/lgrandi/xenon1t/spe_acceptance/rawdata/170311_1432 doesn't exist\n",
      "6833\n",
      ":/project/lgrandi/xenon1t/spe_acceptance/rawdata/170206_1002 doesn't exist\n",
      "6834\n",
      ":/project/lgrandi/xenon1t/spe_acceptance/rawdata/170206_1013 doesn't exist\n",
      "6835\n",
      ":/project/lgrandi/xenon1t/spe_acceptance/rawdata/170206_1022 doesn't exist\n",
      "6836\n",
      ":/project/lgrandi/xenon1t/spe_acceptance/rawdata/170206_1032 doesn't exist\n",
      "14732\n",
      ":/project/lgrandi/xenon1t/spe_acceptance/rawdata/171124_1336 doesn't exist\n",
      "14733\n",
      ":/project/lgrandi/xenon1t/spe_acceptance/rawdata/171124_1347 doesn't exist\n",
      "14734\n",
      ":/project/lgrandi/xenon1t/spe_acceptance/rawdata/171124_1357 doesn't exist\n",
      "14735\n",
      ":/project/lgrandi/xenon1t/spe_acceptance/rawdata/171124_1406 doesn't exist\n",
      "10609\n",
      ":/project/lgrandi/xenon1t/spe_acceptance/rawdata/170620_0909 doesn't exist\n",
      "10610\n",
      ":/project/lgrandi/xenon1t/spe_acceptance/rawdata/170620_0919 doesn't exist\n",
      "10611\n",
      ":/project/lgrandi/xenon1t/spe_acceptance/rawdata/170620_0928 doesn't exist\n",
      "10612\n",
      ":/project/lgrandi/xenon1t/spe_acceptance/rawdata/170620_0937 doesn't exist\n",
      "9216\n",
      ":/project/lgrandi/xenon1t/spe_acceptance/rawdata/170502_0925 doesn't exist\n",
      "9217\n",
      ":/project/lgrandi/xenon1t/spe_acceptance/rawdata/170502_0936 doesn't exist\n",
      "9218\n",
      ":/project/lgrandi/xenon1t/spe_acceptance/rawdata/170502_0947 doesn't exist\n",
      "9219\n",
      ":/project/lgrandi/xenon1t/spe_acceptance/rawdata/170502_0958 doesn't exist\n",
      "5033\n",
      ":/project/lgrandi/xenon1t/spe_acceptance/rawdata/161202_1128 doesn't exist\n",
      "5039\n",
      ":/project/lgrandi/xenon1t/spe_acceptance/rawdata/161202_1228 doesn't exist\n",
      "5041\n",
      ":/project/lgrandi/xenon1t/spe_acceptance/rawdata/161202_1247 doesn't exist\n",
      "5040\n",
      ":/project/lgrandi/xenon1t/spe_acceptance/rawdata/161202_1237 doesn't exist\n",
      "15267\n",
      ":/project/lgrandi/xenon1t/spe_acceptance/rawdata/171215_1521 doesn't exist\n",
      "15268\n",
      ":/project/lgrandi/xenon1t/spe_acceptance/rawdata/171215_1531 doesn't exist\n",
      "15270\n",
      ":/project/lgrandi/xenon1t/spe_acceptance/rawdata/171215_1541 doesn't exist\n",
      "15271\n",
      ":/project/lgrandi/xenon1t/spe_acceptance/rawdata/171215_1550 doesn't exist\n",
      "13656\n",
      ":/project/lgrandi/xenon1t/spe_acceptance/rawdata/171013_0824 doesn't exist\n",
      "13657\n",
      ":/project/lgrandi/xenon1t/spe_acceptance/rawdata/171013_0835 doesn't exist\n",
      "13658\n",
      ":/project/lgrandi/xenon1t/spe_acceptance/rawdata/171013_0845 doesn't exist\n",
      "13659\n",
      ":/project/lgrandi/xenon1t/spe_acceptance/rawdata/171013_0857 doesn't exist\n",
      "12510\n",
      ":/project/lgrandi/xenon1t/spe_acceptance/rawdata/170829_1412 doesn't exist\n",
      "12511\n",
      ":/project/lgrandi/xenon1t/spe_acceptance/rawdata/170829_1422 doesn't exist\n",
      "12512\n",
      ":/project/lgrandi/xenon1t/spe_acceptance/rawdata/170829_1433 doesn't exist\n",
      "12513\n",
      ":/project/lgrandi/xenon1t/spe_acceptance/rawdata/170829_1442 doesn't exist\n",
      "11351\n",
      ":/project/lgrandi/xenon1t/spe_acceptance/rawdata/170718_0906 doesn't exist\n",
      "11352\n",
      ":/project/lgrandi/xenon1t/spe_acceptance/rawdata/170718_0916 doesn't exist\n",
      "11353\n",
      ":/project/lgrandi/xenon1t/spe_acceptance/rawdata/170718_0925 doesn't exist\n",
      "11354\n",
      ":/project/lgrandi/xenon1t/spe_acceptance/rawdata/170718_0935 doesn't exist\n",
      "4514\n",
      ":/project/lgrandi/xenon1t/spe_acceptance/rawdata/161111_1800 doesn't exist\n",
      "4511\n",
      ":/project/lgrandi/xenon1t/spe_acceptance/rawdata/161111_1728 doesn't exist\n",
      "4512\n",
      ":/project/lgrandi/xenon1t/spe_acceptance/rawdata/161111_1741 doesn't exist\n",
      "4513\n",
      ":/project/lgrandi/xenon1t/spe_acceptance/rawdata/161111_1751 doesn't exist\n",
      "8544\n",
      ":/project/lgrandi/xenon1t/spe_acceptance/rawdata/170407_1415 doesn't exist\n",
      "8545\n",
      ":/project/lgrandi/xenon1t/spe_acceptance/rawdata/170407_1426 doesn't exist\n",
      "8546\n",
      ":/project/lgrandi/xenon1t/spe_acceptance/rawdata/170407_1435 doesn't exist\n",
      "8547\n",
      ":/project/lgrandi/xenon1t/spe_acceptance/rawdata/170407_1444 doesn't exist\n",
      "14554\n",
      ":/project/lgrandi/xenon1t/spe_acceptance/rawdata/171117_1349 doesn't exist\n",
      "14555\n",
      ":/project/lgrandi/xenon1t/spe_acceptance/rawdata/171117_1402 doesn't exist\n",
      "14556\n",
      ":/project/lgrandi/xenon1t/spe_acceptance/rawdata/171117_1412 doesn't exist\n",
      "14557\n",
      ":/project/lgrandi/xenon1t/spe_acceptance/rawdata/171117_1422 doesn't exist\n",
      "4951\n",
      ":/project/lgrandi/xenon1t/spe_acceptance/rawdata/161129_1102 doesn't exist\n",
      "4956\n",
      ":/project/lgrandi/xenon1t/spe_acceptance/rawdata/161129_1155 doesn't exist\n",
      "4958\n",
      ":/project/lgrandi/xenon1t/spe_acceptance/rawdata/161129_1212 doesn't exist\n",
      "4957\n",
      ":/project/lgrandi/xenon1t/spe_acceptance/rawdata/161129_1203 doesn't exist\n",
      "6244\n",
      ":/project/lgrandi/xenon1t/spe_acceptance/rawdata/170113_1346 doesn't exist\n",
      "6247\n",
      ":/project/lgrandi/xenon1t/spe_acceptance/rawdata/170113_1419 doesn't exist\n",
      "6248\n",
      ":/project/lgrandi/xenon1t/spe_acceptance/rawdata/170113_1429 doesn't exist\n",
      "6249\n",
      ":/project/lgrandi/xenon1t/spe_acceptance/rawdata/170113_1438 doesn't exist\n",
      "18189\n",
      ":/project/lgrandi/xenon1t/spe_acceptance/rawdata/180406_1029 doesn't exist\n",
      "18190\n",
      ":/project/lgrandi/xenon1t/spe_acceptance/rawdata/180406_1044 doesn't exist\n",
      "18191\n",
      ":/project/lgrandi/xenon1t/spe_acceptance/rawdata/180406_1113 doesn't exist\n",
      "18192\n",
      ":/project/lgrandi/xenon1t/spe_acceptance/rawdata/180406_1203 doesn't exist\n",
      "9298\n",
      ":/project/lgrandi/xenon1t/spe_acceptance/rawdata/170505_0921 doesn't exist\n",
      "9299\n",
      ":/project/lgrandi/xenon1t/spe_acceptance/rawdata/170505_0932 doesn't exist\n",
      "9300\n",
      ":/project/lgrandi/xenon1t/spe_acceptance/rawdata/170505_0947 doesn't exist\n",
      "9301\n",
      ":/project/lgrandi/xenon1t/spe_acceptance/rawdata/170505_0958 doesn't exist\n",
      "15419\n",
      ":/project/lgrandi/xenon1t/spe_acceptance/rawdata/171221_1017 doesn't exist\n",
      "15420\n",
      ":/project/lgrandi/xenon1t/spe_acceptance/rawdata/171221_1028 doesn't exist\n",
      "15421\n",
      ":/project/lgrandi/xenon1t/spe_acceptance/rawdata/171221_1037 doesn't exist\n",
      "15422\n",
      ":/project/lgrandi/xenon1t/spe_acceptance/rawdata/171221_1048 doesn't exist\n",
      "8626\n",
      ":/project/lgrandi/xenon1t/spe_acceptance/rawdata/170410_1237 doesn't exist\n",
      "8627\n",
      ":/project/lgrandi/xenon1t/spe_acceptance/rawdata/170410_1247 doesn't exist\n",
      "8628\n",
      ":/project/lgrandi/xenon1t/spe_acceptance/rawdata/170410_1256 doesn't exist\n",
      "8629\n",
      ":/project/lgrandi/xenon1t/spe_acceptance/rawdata/170410_1305 doesn't exist\n",
      "12397\n",
      ":/project/lgrandi/xenon1t/spe_acceptance/rawdata/170825_0856 doesn't exist\n",
      "12398\n",
      ":/project/lgrandi/xenon1t/spe_acceptance/rawdata/170825_0906 doesn't exist\n",
      "12399\n",
      ":/project/lgrandi/xenon1t/spe_acceptance/rawdata/170825_0916 doesn't exist\n",
      "12400\n",
      ":/project/lgrandi/xenon1t/spe_acceptance/rawdata/170825_0928 doesn't exist\n",
      "14906\n",
      ":/project/lgrandi/xenon1t/spe_acceptance/rawdata/171201_1056 doesn't exist\n",
      "14907\n",
      ":/project/lgrandi/xenon1t/spe_acceptance/rawdata/171201_1111 doesn't exist\n",
      "14908\n",
      ":/project/lgrandi/xenon1t/spe_acceptance/rawdata/171201_1121 doesn't exist\n",
      "14909\n",
      ":/project/lgrandi/xenon1t/spe_acceptance/rawdata/171201_1134 doesn't exist\n",
      "5554\n",
      ":/project/lgrandi/xenon1t/spe_acceptance/rawdata/161220_1405 doesn't exist\n",
      "5557\n",
      ":/project/lgrandi/xenon1t/spe_acceptance/rawdata/161220_1438 doesn't exist\n",
      "5559\n",
      ":/project/lgrandi/xenon1t/spe_acceptance/rawdata/161220_1458 doesn't exist\n",
      "5558\n",
      ":/project/lgrandi/xenon1t/spe_acceptance/rawdata/161220_1448 doesn't exist\n",
      "12210\n",
      ":/project/lgrandi/xenon1t/spe_acceptance/rawdata/170818_0846 doesn't exist\n",
      "12211\n",
      ":/project/lgrandi/xenon1t/spe_acceptance/rawdata/170818_0856 doesn't exist\n",
      "12213\n",
      ":/project/lgrandi/xenon1t/spe_acceptance/rawdata/170818_0907 doesn't exist\n",
      "12214\n",
      ":/project/lgrandi/xenon1t/spe_acceptance/rawdata/170818_0917 doesn't exist\n",
      "11276\n",
      ":/project/lgrandi/xenon1t/spe_acceptance/rawdata/170715_1048 doesn't exist\n",
      "11277\n",
      ":/project/lgrandi/xenon1t/spe_acceptance/rawdata/170715_1059 doesn't exist\n",
      "11278\n",
      ":/project/lgrandi/xenon1t/spe_acceptance/rawdata/170715_1108 doesn't exist\n",
      "11279\n",
      ":/project/lgrandi/xenon1t/spe_acceptance/rawdata/170715_1118 doesn't exist\n",
      "10985\n",
      ":/project/lgrandi/xenon1t/spe_acceptance/rawdata/170704_0918 doesn't exist\n",
      "10986\n",
      ":/project/lgrandi/xenon1t/spe_acceptance/rawdata/170704_0928 doesn't exist\n",
      "10987\n",
      ":/project/lgrandi/xenon1t/spe_acceptance/rawdata/170704_0937 doesn't exist\n",
      "10988\n",
      ":/project/lgrandi/xenon1t/spe_acceptance/rawdata/170704_0946 doesn't exist\n",
      "5355\n",
      ":/project/lgrandi/xenon1t/spe_acceptance/rawdata/161213_1433 doesn't exist\n",
      "5358\n",
      ":/project/lgrandi/xenon1t/spe_acceptance/rawdata/161213_1509 doesn't exist\n",
      "5360\n",
      ":/project/lgrandi/xenon1t/spe_acceptance/rawdata/161213_1526 doesn't exist\n",
      "5359\n",
      ":/project/lgrandi/xenon1t/spe_acceptance/rawdata/161213_1518 doesn't exist\n",
      "17938\n",
      ":/project/lgrandi/xenon1t/spe_acceptance/rawdata/180329_0943 doesn't exist\n",
      "17939\n",
      ":/project/lgrandi/xenon1t/spe_acceptance/rawdata/180329_1004 doesn't exist\n",
      "17940\n",
      ":/project/lgrandi/xenon1t/spe_acceptance/rawdata/180329_1015 doesn't exist\n",
      "17942\n",
      ":/project/lgrandi/xenon1t/spe_acceptance/rawdata/180329_1024 doesn't exist\n",
      "7099\n",
      ":/project/lgrandi/xenon1t/spe_acceptance/rawdata/170214_1014 doesn't exist\n",
      "7100\n",
      ":/project/lgrandi/xenon1t/spe_acceptance/rawdata/170214_1026 doesn't exist\n",
      "7101\n",
      ":/project/lgrandi/xenon1t/spe_acceptance/rawdata/170214_1037 doesn't exist\n",
      "7103\n",
      ":/project/lgrandi/xenon1t/spe_acceptance/rawdata/170214_1056 doesn't exist\n",
      "6891\n",
      ":/project/lgrandi/xenon1t/spe_acceptance/rawdata/170208_1011 doesn't exist\n",
      "6892\n",
      ":/project/lgrandi/xenon1t/spe_acceptance/rawdata/170208_1022 doesn't exist\n",
      "6893\n",
      ":/project/lgrandi/xenon1t/spe_acceptance/rawdata/170208_1031 doesn't exist\n",
      "6894\n",
      ":/project/lgrandi/xenon1t/spe_acceptance/rawdata/170208_1041 doesn't exist\n",
      "These runs are missing data:  [17998, 17999, 18000, 6052, 6053, 5949, 5950, 5951, 6647, 4688, 4689, 4848, 4851, 4850, 18288, 4511, 4512, 4513, 4956, 4958, 4957, 6248, 6249]\n",
      "LED likely off for these files:  ['runlist_13433_13434_13435.txt', 'runlist_14088_14089_14090.txt', 'runlist_16237_16238_16239.txt', 'runlist_11277_11278_11279.txt']\n"
     ]
    }
   ],
   "source": [
    "from spe_acceptance import change_permissions\n",
    "\n",
    "with open('/project/lgrandi/xenon1t/spe_acceptance/ch_data/ch_data.pkl', 'wb') as cd:\n",
    "    pickle.dump(data, cd)\n",
    "change_permissions('/project/lgrandi/xenon1t/spe_acceptance/ch_data/ch_data.pkl')"
   ]
  },
  {
   "cell_type": "code",
   "execution_count": null,
   "metadata": {
    "collapsed": true
   },
   "outputs": [],
   "source": [
    "#Delete raw data after processed data is in the pickle file\n",
    "from get_name import get_name\n",
    "no_data=[]\n",
    "for runlist in runlists:\n",
    "    with open(os.path.join('./runlists', runlist)) as r:\n",
    "        for run in r.readlines():\n",
    "            name=get_name(int(run))\n",
    "            path=os.path.join(rawdata_dir, name)\n",
    "            if not os.path.exists(path):\n",
    "                no_data.append(run)\n",
    "                continue\n",
    "            if os.path.exists(path):\n",
    "                if os.path.exists(os.path.join(data_dir_base, run)):\n",
    "                    shutil.rmtree(path)\n",
    "                    print(\"Deleting raw data for: \", run, name)\n",
    "    \n",
    "print(\"These runs are missing data: \", missing_runs)\n",
    "print(\"LED likely off for these files: \", LED_off)"
   ]
  },
  {
   "cell_type": "markdown",
   "metadata": {},
   "source": [
    "#### Resubmits jobs for runs missing data"
   ]
  },
  {
   "cell_type": "code",
   "execution_count": null,
   "metadata": {
    "collapsed": false
   },
   "outputs": [],
   "source": [
    "for f in resubmit_files:\n",
    "    runs=file_to_list(f)\n",
    "    submit=os.path.join('./runlists', f)\n",
    "    if runs[0]<6731:\n",
    "        continue\n",
    "    submit_job(submit)"
   ]
  },
  {
   "cell_type": "markdown",
   "metadata": {},
   "source": [
    "#### Acceptance dataframe with channels as row index, runlists as column index"
   ]
  },
  {
   "cell_type": "code",
<<<<<<< HEAD
   "execution_count": 19,
=======
   "execution_count": null,
>>>>>>> b27ad2bb316a36e00a4ace2a3f8c9a1c79d4263d
   "metadata": {
    "collapsed": false
   },
   "outputs": [],
   "source": [
    "acc_df=pd.DataFrame(ch_acc_dict)\n",
    "channels_df=pd.DataFrame({\"channels\": [i for i in range(0,248)]})\n",
    "ch_df=pd.concat([acc_df, channels_df], axis=1)\n",
    "ch_df.set_index('channels', inplace=True)"
   ]
  },
  {
   "cell_type": "markdown",
   "metadata": {},
   "source": [
    "#### Lower, upper errors dataframes with channels as row index, runlist as column index"
   ]
  },
  {
   "cell_type": "code",
<<<<<<< HEAD
   "execution_count": 20,
=======
   "execution_count": null,
>>>>>>> b27ad2bb316a36e00a4ace2a3f8c9a1c79d4263d
   "metadata": {
    "collapsed": false
   },
   "outputs": [],
   "source": [
    "lerr_df=pd.DataFrame(ch_err_l)\n",
    "ch_lerr_df=pd.concat([lerr_df, channels_df], axis=1)\n",
    "ch_lerr_df.set_index('channels', inplace=True)"
   ]
  },
  {
   "cell_type": "code",
<<<<<<< HEAD
   "execution_count": 21,
=======
   "execution_count": null,
>>>>>>> b27ad2bb316a36e00a4ace2a3f8c9a1c79d4263d
   "metadata": {
    "collapsed": false
   },
   "outputs": [],
   "source": [
    "uerr_df=pd.DataFrame(ch_err_u)\n",
    "ch_uerr_df=pd.concat([uerr_df, channels_df], axis=1)\n",
    "ch_uerr_df.set_index('channels', inplace=True)"
   ]
  },
  {
   "cell_type": "markdown",
   "metadata": {},
   "source": [
    "## Newest Runlist"
   ]
  },
  {
   "cell_type": "markdown",
   "metadata": {},
   "source": [
    "#### Finds newest runlist, gets acceptance and occupancy "
   ]
  },
  {
   "cell_type": "markdown",
   "metadata": {},
   "source": [
    "#### Channels that look off, note that this includes both channels that are actually off and channels that aren't performing properly"
   ]
  },
  {
   "cell_type": "code",
<<<<<<< HEAD
   "execution_count": 22,
   "metadata": {
    "collapsed": false
   },
   "outputs": [
    {
     "name": "stdout",
     "output_type": "stream",
     "text": [
      "Channels that look off for runlist_17939_17940_17942.txt:  [  1  12  26  34  62  65  79  86  88 102 118 130 134 135 137 148 150 152\n",
      " 162 178 183 190 198 206 213 214 234 239 244]\n"
     ]
    }
   ],
=======
   "execution_count": null,
   "metadata": {
    "collapsed": false
   },
   "outputs": [],
>>>>>>> b27ad2bb316a36e00a4ace2a3f8c9a1c79d4263d
   "source": [
    "#prints list of off pmts\n",
    "my_off = np.where(occ < 0.05)[0]\n",
    "print(\"Channels that look off for %s: \" %newest_runlist , my_off)"
   ]
  },
  {
   "cell_type": "markdown",
   "metadata": {},
   "source": [
    "#### Acceptance histogram for one runlist"
   ]
  },
  {
   "cell_type": "code",
<<<<<<< HEAD
   "execution_count": 23,
   "metadata": {
    "collapsed": false
   },
   "outputs": [
    {
     "data": {
      "image/png": "iVBORw0KGgoAAAANSUhEUgAAAbsAAAEdCAYAAACVLMntAAAABHNCSVQICAgIfAhkiAAAAAlwSFlz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\nwb2KcOxkAAAAAElFTkSuQmCC\n",
      "text/plain": [
       "<matplotlib.figure.Figure at 0x7f9d33612550>"
      ]
     },
     "metadata": {},
     "output_type": "display_data"
    }
   ],
=======
   "execution_count": null,
   "metadata": {
    "collapsed": false
   },
   "outputs": [],
>>>>>>> b27ad2bb316a36e00a4ace2a3f8c9a1c79d4263d
   "source": [
    "#plot the acceptance of one runlist\n",
    "plt.hist(on_acc, bins=50, range=(0,1.1))\n",
    "plt.title(\"Acceptance for %s \" %newest_runlist)\n",
    "plt.xlabel(\"SPE Acceptance\")\n",
    "plt.ylabel(\"Counts\")\n",
    "plt.xlim(0, 1)\n",
    "plt.show()"
   ]
  },
  {
   "cell_type": "markdown",
   "metadata": {},
   "source": [
    "#### Occupancy histogram for one runlist"
   ]
  },
  {
   "cell_type": "code",
<<<<<<< HEAD
   "execution_count": 24,
   "metadata": {
    "collapsed": false
   },
   "outputs": [
    {
     "ename": "NameError",
     "evalue": "name 'on_occ' is not defined",
     "output_type": "error",
     "traceback": [
      "\u001b[0;31m---------------------------------------------------------------------------\u001b[0m",
      "\u001b[0;31mNameError\u001b[0m                                 Traceback (most recent call last)",
      "\u001b[0;32m<ipython-input-24-ea20594ee69e>\u001b[0m in \u001b[0;36m<module>\u001b[0;34m()\u001b[0m\n\u001b[1;32m      1\u001b[0m \u001b[0;31m#plot the occupancy of one runlist\u001b[0m\u001b[0;34m\u001b[0m\u001b[0;34m\u001b[0m\u001b[0m\n\u001b[0;32m----> 2\u001b[0;31m \u001b[0mplt\u001b[0m\u001b[0;34m.\u001b[0m\u001b[0mhist\u001b[0m\u001b[0;34m(\u001b[0m\u001b[0mon_occ\u001b[0m\u001b[0;34m,\u001b[0m \u001b[0mbins\u001b[0m\u001b[0;34m=\u001b[0m\u001b[0;36m50\u001b[0m\u001b[0;34m,\u001b[0m \u001b[0mrange\u001b[0m\u001b[0;34m=\u001b[0m\u001b[0;34m(\u001b[0m\u001b[0;36m0\u001b[0m\u001b[0;34m,\u001b[0m\u001b[0;36m1.1\u001b[0m\u001b[0;34m)\u001b[0m\u001b[0;34m)\u001b[0m\u001b[0;34m\u001b[0m\u001b[0m\n\u001b[0m\u001b[1;32m      3\u001b[0m \u001b[0mplt\u001b[0m\u001b[0;34m.\u001b[0m\u001b[0mtitle\u001b[0m\u001b[0;34m(\u001b[0m\u001b[0;34m\"Occupancy for %s \"\u001b[0m \u001b[0;34m%\u001b[0m\u001b[0mnewest_runlist\u001b[0m\u001b[0;34m)\u001b[0m\u001b[0;34m\u001b[0m\u001b[0m\n\u001b[1;32m      4\u001b[0m \u001b[0mplt\u001b[0m\u001b[0;34m.\u001b[0m\u001b[0mxlabel\u001b[0m\u001b[0;34m(\u001b[0m\u001b[0;34m\"Occupancy\"\u001b[0m\u001b[0;34m)\u001b[0m\u001b[0;34m\u001b[0m\u001b[0m\n\u001b[1;32m      5\u001b[0m \u001b[0mplt\u001b[0m\u001b[0;34m.\u001b[0m\u001b[0mylabel\u001b[0m\u001b[0;34m(\u001b[0m\u001b[0;34m\"Counts\"\u001b[0m\u001b[0;34m)\u001b[0m\u001b[0;34m\u001b[0m\u001b[0m\n",
      "\u001b[0;31mNameError\u001b[0m: name 'on_occ' is not defined"
     ]
    }
   ],
=======
   "execution_count": null,
   "metadata": {
    "collapsed": false
   },
   "outputs": [],
>>>>>>> b27ad2bb316a36e00a4ace2a3f8c9a1c79d4263d
   "source": [
    "#plot the occupancy of one runlist\n",
    "plt.hist(on_occ, bins=50, range=(0,1.1))\n",
    "plt.title(\"Occupancy for %s \" %newest_runlist)\n",
    "plt.xlabel(\"Occupancy\")\n",
    "plt.ylabel(\"Counts\")\n",
    "plt.xlim(0,0.2)\n",
    "plt.show()"
   ]
  },
  {
   "cell_type": "markdown",
   "metadata": {},
   "source": [
    "#### Acceptance of all channels for the newest runlist"
   ]
  },
  {
   "cell_type": "code",
<<<<<<< HEAD
   "execution_count": 25,
   "metadata": {
    "collapsed": false
   },
   "outputs": [
    {
     "data": {
      "text/plain": [
       "<matplotlib.figure.Figure at 0x7f9d335ce630>"
      ]
     },
     "metadata": {},
     "output_type": "display_data"
    },
    {
     "data": {
      "image/png": "iVBORw0KGgoAAAANSUhEUgAAAtoAAAH2CAYAAABOaCvjAAAABHNCSVQICAgIfAhkiAAAAAlwSFlz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\ngg==\n",
      "text/plain": [
       "<matplotlib.figure.Figure at 0x7f9d335ce0b8>"
      ]
     },
     "metadata": {},
     "output_type": "display_data"
    }
   ],
=======
   "execution_count": null,
   "metadata": {
    "collapsed": false
   },
   "outputs": [],
>>>>>>> b27ad2bb316a36e00a4ace2a3f8c9a1c79d4263d
   "source": [
    "#plot acceptance of each channel\n",
    "plt.figure()\n",
    "plt.figure(figsize=(12,8))\n",
    "plt.errorbar(on_channels, on_acc, yerr=[ch_lerr_df.loc[on_channels, newest_runlist], ch_uerr_df.loc[on_channels,newest_runlist]], marker='.', linestyle='none')\n",
    "plt.ylabel('Acceptance Fraction')\n",
    "plt.xlabel('Channel #')\n",
    "plt.title('Acc by Ch for %s' %newest_runlist)\n",
    "plt.show()"
   ]
  },
  {
   "cell_type": "markdown",
   "metadata": {},
   "source": [
    "#### Prints low acceptance channels"
   ]
  },
  {
   "cell_type": "code",
<<<<<<< HEAD
   "execution_count": 26,
   "metadata": {
    "collapsed": false
   },
   "outputs": [
    {
     "name": "stdout",
     "output_type": "stream",
     "text": [
      "Low acc ch for runlist_17939_17940_17942.txt:  [27, 73, 139, 203]\n"
     ]
    }
   ],
=======
   "execution_count": null,
   "metadata": {
    "collapsed": false
   },
   "outputs": [],
>>>>>>> b27ad2bb316a36e00a4ace2a3f8c9a1c79d4263d
   "source": [
    "#prints list of low acc ch\n",
    "cha_dict_new={}\n",
    "\n",
    "for ch, a in zip(on_channels, on_acc):\n",
    "    cha_dict_new[a]=ch\n",
    "    \n",
    "new_low_acc_ch=[]\n",
    "for a in on_acc:\n",
    "    if a<0.5:\n",
    "        new_low_acc_ch.append(cha_dict_new[a])\n",
    "        \n",
    "print('Low acc ch for %s: ' %newest_runlist, new_low_acc_ch)"
   ]
  },
  {
   "cell_type": "markdown",
   "metadata": {},
   "source": [
    "#### Mean, Median, Errors for runlist"
   ]
  },
  {
   "cell_type": "code",
<<<<<<< HEAD
   "execution_count": 27,
   "metadata": {
    "collapsed": false
   },
   "outputs": [
    {
     "name": "stdout",
     "output_type": "stream",
     "text": [
      "Runlist:  runlist_17939_17940_17942.txt\n",
      "Mean Acceptance:  0.903018412197\n",
      "Median Acceptance:  0.929947166594\n",
      "Errors [l,u]:  [0.0034371215971806444, 0.0033825297811397748]\n"
     ]
    }
   ],
=======
   "execution_count": null,
   "metadata": {
    "collapsed": false
   },
   "outputs": [],
>>>>>>> b27ad2bb316a36e00a4ace2a3f8c9a1c79d4263d
   "source": [
    "#maybe including off channels in mean\n",
    "acc_mean=np.nanmean(ch_acc_dict[newest_runlist][on_channels])\n",
    "acc_median=np.nanmedian(ch_acc_dict[newest_runlist])\n",
    "\n",
    "print(\"Runlist: \", newest_runlist)\n",
    "print(\"Mean Acceptance: \", acc_mean)\n",
    "print(\"Median Acceptance: \", acc_median)\n",
    "print(\"Errors [l,u]: \", [np.nanmean(ch_err_l[newest_runlist]), np.nanmean(ch_err_u[newest_runlist])])"
   ]
  },
  {
   "cell_type": "markdown",
   "metadata": {},
   "source": [
    "## Average Acceptance per Runlist"
   ]
  },
  {
   "cell_type": "code",
<<<<<<< HEAD
   "execution_count": 28,
=======
   "execution_count": null,
>>>>>>> b27ad2bb316a36e00a4ace2a3f8c9a1c79d4263d
   "metadata": {
    "collapsed": false,
    "scrolled": false
   },
<<<<<<< HEAD
   "outputs": [
    {
     "data": {
      "image/png": "iVBORw0KGgoAAAANSUhEUgAAAukAAAILCAYAAABVSAKCAAAABHNCSVQICAgIfAhkiAAAAAlwSFlz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\n0oUQQgghhGgYqqQLIYQQQgjRMP4PRhKTwkQTuOoAAAAASUVORK5CYII=\n",
      "text/plain": [
       "<matplotlib.figure.Figure at 0x7f9d336a12e8>"
      ]
     },
     "metadata": {},
     "output_type": "display_data"
    }
   ],
=======
   "outputs": [],
>>>>>>> b27ad2bb316a36e00a4ace2a3f8c9a1c79d4263d
   "source": [
    "#plot acceptance vs time using full runlists\n",
    "\n",
    "import matplotlib.dates as mdates\n",
    "years = mdates.YearLocator()   # every year\n",
    "months = mdates.MonthLocator()  # every month\n",
    "fmt = mdates.DateFormatter('%Y-%m')\n",
    "\n",
    "bottom_runs = np.array(bottom_runs)\n",
    "dates = np.array([get_run_time(run) for run in bottom_runs])\n",
    "accs = np.array(accs)\n",
    "\n",
    "noisy_runs = [12768, 13837]\n",
    "sr1 = np.where(bottom_runs > 6731)\n",
    "sr1 = [i for i in sr1[0] if bottom_runs[i] not in noisy_runs]\n",
    "plot_dates = dates[sr1]\n",
    "plot_runs = bottom_runs[sr1]\n",
    "plot_accs = accs[sr1]\n",
    "plot_errors = [errors[0][sr1],errors[1][sr1]]\n",
    "\n",
    "f, ax = plt.subplots(figsize=(12,8))\n",
    "ax.errorbar(plot_dates, plot_accs, yerr=plot_errors, linestyle='None', marker='.')\n",
    "ax.set_ylim(0.75, 1.0)\n",
    "plt.xticks(ax.get_xticks(), ax.get_xticklabels(), rotation=20)\n",
    "ax.xaxis.set_major_locator(months)\n",
    "ax.xaxis.set_major_formatter(fmt)\n",
    "ax.grid()\n",
    "ax.set_xlabel('date')\n",
    "ax.set_ylabel('spe acceptance')\n",
    "plt.title(\"Acceptance vs Time\")\n",
    "plt.savefig('new_moneyplot.png')\n",
    "plt.show()"
   ]
  },
  {
   "cell_type": "markdown",
   "metadata": {},
   "source": [
    "#### Mean, Median, Errors for all runlists"
   ]
  },
  {
   "cell_type": "code",
<<<<<<< HEAD
   "execution_count": 29,
   "metadata": {
    "collapsed": false
   },
   "outputs": [
    {
     "name": "stdout",
     "output_type": "stream",
     "text": [
      "All Runlists\n",
      "Mean : 0.902266578382\n",
      "Median : 0.90608861653\n",
      "Errors [l, u]:  [0.0040667911153181163, 0.0040408281307515552]\n"
     ]
    }
   ],
=======
   "execution_count": null,
   "metadata": {
    "collapsed": false
   },
   "outputs": [],
>>>>>>> b27ad2bb316a36e00a4ace2a3f8c9a1c79d4263d
   "source": [
    "#add table of mean/median w errors for time evo, print days that are outliers\n",
    "\n",
    "evo_mean=np.nanmean(plot_accs)\n",
    "evo_median=np.nanmedian(plot_accs)\n",
    "evo_errs=[np.nanmean(plot_errors[0]), np.nanmean(plot_errors[1])]\n",
    "\n",
    "evo_std=np.nanstd(plot_accs)\n",
    "\n",
    "print(\"All Runlists\")\n",
    "print(\"Mean :\", evo_mean)\n",
    "print(\"Median :\", evo_median)\n",
    "print(\"Errors [l, u]: \", evo_errs)"
   ]
  },
  {
   "cell_type": "markdown",
   "metadata": {},
   "source": [
    "## Acceptance for Individual Channels"
   ]
  },
  {
   "cell_type": "markdown",
   "metadata": {},
   "source": [
    "### One Channel"
   ]
  },
  {
   "cell_type": "markdown",
   "metadata": {},
   "source": [
    "#### Plots acceptances of one channel for all runlists"
   ]
  },
  {
   "cell_type": "code",
<<<<<<< HEAD
   "execution_count": 35,
=======
   "execution_count": null,
>>>>>>> b27ad2bb316a36e00a4ace2a3f8c9a1c79d4263d
   "metadata": {
    "collapsed": false,
    "scrolled": false
   },
<<<<<<< HEAD
   "outputs": [
    {
     "data": {
      "image/png": "iVBORw0KGgoAAAANSUhEUgAAAukAAAILCAYAAABVSAKCAAAABHNCSVQICAgIfAhkiAAAAAlwSFlz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\nhRBCCCGEaBn/D5PSpzaN5AzcAAAAAElFTkSuQmCC\n",
      "text/plain": [
       "<matplotlib.figure.Figure at 0x7f9d333da8d0>"
      ]
     },
     "metadata": {},
     "output_type": "display_data"
    }
   ],
=======
   "outputs": [],
>>>>>>> b27ad2bb316a36e00a4ace2a3f8c9a1c79d4263d
   "source": [
    "ch=3\n",
    "\n",
    "#list of lists of runlists\n",
    "sr1_rl=[find_file(i) for i in bottom_runs[sr1]]\n",
    "\n",
    "#list of runlists\n",
    "sr1_rl=[runlist for elem in sr1_rl for runlist in elem]\n",
    "\n",
    "plt.figure(figsize=(12,8))\n",
    "plt.errorbar(plot_dates, ch_df.loc[ch, sr1_rl] , yerr=[ch_lerr_df.loc[ch, sr1_rl], ch_uerr_df.loc[ch, sr1_rl]], linestyle='None', marker='.')\n",
    "plt.ylim(0.75, 1.1)\n",
    "plt.xticks(ax.get_xticks(), ax.get_xticklabels(), rotation=20)\n",
    "ax.xaxis.set_major_locator(months)\n",
    "ax.xaxis.set_major_formatter(fmt)\n",
    "plt.grid()\n",
    "plt.title(\"Channel %s\" %ch)\n",
    "plt.xlabel('date')\n",
    "plt.ylabel('spe acceptance')\n",
    "plt.show()"
   ]
  },
  {
   "cell_type": "markdown",
   "metadata": {},
   "source": [
    "#### Prints runlists with low acceptance for one channel"
   ]
  },
  {
   "cell_type": "code",
<<<<<<< HEAD
   "execution_count": 31,
=======
   "execution_count": null,
>>>>>>> b27ad2bb316a36e00a4ace2a3f8c9a1c79d4263d
   "metadata": {
    "collapsed": false
   },
   "outputs": [],
   "source": [
    "#prints list of low acc runlists\n",
    "\n",
    "ch_accs=np.array(ch_df.loc[ch])\n",
    "\n",
    "low_acc=np.where(ch_accs<0.5)\n",
    "\n",
    "low_acc_rl=list(ch_df.columns[low_acc])\n",
    "        \n",
    "print('Low acc runlists for ch %s: ' %ch, low_acc_rl)"
   ]
  },
  {
   "cell_type": "markdown",
   "metadata": {
    "collapsed": true
   },
   "source": [
    "# Further Analysis"
   ]
  },
  {
   "cell_type": "markdown",
   "metadata": {},
   "source": [
    "### Find outliers, plot the acceptance curve, acceptance histogram, and occupancy histogram"
   ]
  },
  {
   "cell_type": "markdown",
   "metadata": {},
   "source": [
    "#### Change the index in run=outliers[index] in order to change which outlier gets plotted"
   ]
  },
  {
   "cell_type": "code",
<<<<<<< HEAD
   "execution_count": 32,
   "metadata": {
    "collapsed": false
   },
   "outputs": [
    {
     "name": "stdout",
     "output_type": "stream",
     "text": [
      "Outliers : [ 6550 12130  5152 13837  6446  5039 12398  5557 12768 12511]\n",
      "Run:  6550\n"
     ]
    },
    {
     "data": {
      "image/png": "iVBORw0KGgoAAAANSUhEUgAAAkEAAAGKCAYAAAALw5VHAAAABHNCSVQICAgIfAhkiAAAAAlwSFlz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\n",
      "text/plain": [
       "<matplotlib.figure.Figure at 0x7f9d335244e0>"
      ]
     },
     "metadata": {},
     "output_type": "display_data"
    }
   ],
=======
   "execution_count": null,
   "metadata": {
    "collapsed": false
   },
   "outputs": [],
>>>>>>> b27ad2bb316a36e00a4ace2a3f8c9a1c79d4263d
   "source": [
    "#Find outliers, plot acc of one of them\n",
    "\n",
    "outlier_indices_low = np.array(np.where(accs < (evo_mean-1.5*evo_std))).flatten()\n",
    "outlier_indices_high= np.array(np.where(accs > (evo_mean+1.5*evo_std))).flatten()\n",
    "\n",
    "outlier_indices=outlier_indices_low.tolist() + outlier_indices_high.tolist()\n",
    "\n",
    "outliers = bottom_runs[outlier_indices]\n",
    "print(\"Outliers :\", outliers)\n",
    "run = outliers[0] #change index to change which outlier\n",
    "print('Run: ',run)\n",
    "runlist = file_to_list(find_file(run)[0])\n",
    "\n",
    "bot_run=runlist[0]\n",
    "tb_run=runlist[1]\n",
    "tr_run=runlist[2]\n",
    "\n",
    "x, acc, err = analyze.acceptance_curve_3runs(bot_run, tb_run, tr_run)\n",
    "\n",
    "plt.figure(figsize=(9,6))\n",
    "for ch, a in enumerate(acc):\n",
    "    plt.plot(x, a, color='black', linewidth=1, alpha=0.6)\n",
    "    plt.title(\"Acceptance curve for: %d\" %run)\n",
    "    \n",
    "plt.xlim(-10, 200)\n",
    "plt.xlabel('threshold')\n",
    "plt.ylabel('spe acceptance')\n",
    "plt.show()"
   ]
  },
  {
   "cell_type": "code",
   "execution_count": null,
   "metadata": {
    "collapsed": false
   },
   "outputs": [],
   "source": [
    "#doesn't save the data\n",
    "thresholds = analyze.get_thresholds(analyze.find_regular_run(bot_run))\n",
    "acc, acc_errs, acc_sys, acc_stat = analyze.acceptance_3runs(bot_run, tb_run, tr_run, thresholds)\n",
    "occ, occ_sys, occ_stat = analyze.occupancy_3runs(bot_run, tb_run, tr_run)\n",
    "\n",
    "on_channels = np.where(occ > 0.05)[0]\n",
    "\n",
    "acc=acc[on_channels]\n",
    "occ=occ[on_channels]"
   ]
  },
  {
   "cell_type": "code",
   "execution_count": null,
   "metadata": {
    "collapsed": false
   },
   "outputs": [],
   "source": [
    "#plot the occupancy of one runlist\n",
    "plt.hist(occ, bins=50, range=(0,1.1))\n",
    "plt.title(\"Occupancy for %s \" %find_file(run)[0])\n",
    "plt.xlabel(\"Occupancy\")\n",
    "plt.ylabel(\"Counts\")\n",
    "plt.xlim(0,0.2)\n",
    "plt.show()"
   ]
  },
  {
   "cell_type": "code",
   "execution_count": null,
   "metadata": {
    "collapsed": false
   },
   "outputs": [],
   "source": [
    "#plot the acceptance of one runlist\n",
    "plt.hist(acc, bins=50, range=(0,1.1))\n",
    "plt.title(\"Acceptance for %s \" %find_file(run)[0])\n",
    "plt.xlabel(\"SPE Acceptance\")\n",
    "plt.ylabel(\"Counts\")\n",
    "plt.xlim(0, 1)\n",
    "plt.show()"
   ]
  },
  {
   "cell_type": "code",
   "execution_count": null,
   "metadata": {
    "collapsed": false
   },
   "outputs": [],
   "source": [
    "runlist= find_file(run)[0]\n",
    "\n",
    "#plot acceptance of each channel\n",
    "plt.figure()\n",
    "plt.figure(figsize=(12,8))\n",
    "plt.errorbar(on_channels, acc, yerr=[ch_lerr_df.loc[on_channels, runlist], ch_uerr_df.loc[on_channels,runlist]], marker='.', linestyle='none')\n",
    "plt.ylabel('Acceptance Fraction')\n",
    "plt.xlabel('Channel #')\n",
    "plt.title('Acc by Ch for %s' %runlist)\n",
    "plt.show()"
   ]
  },
  {
   "cell_type": "code",
   "execution_count": null,
   "metadata": {
    "collapsed": false
   },
   "outputs": [],
   "source": [
    "cha_dict={}\n",
    "\n",
    "for ch, a in zip(on_channels, acc):\n",
    "    cha_dict[a]=ch\n",
    "    \n",
    "low_acc_ch=[]\n",
    "for a in acc:\n",
    "    if a<0.5:\n",
    "        low_acc_ch.append(cha_dict[a])\n",
    "        \n",
    "print('Low acc ch: ', low_acc_ch)"
   ]
  },
  {
   "cell_type": "code",
   "execution_count": null,
   "metadata": {
    "collapsed": true
   },
   "outputs": [],
   "source": []
  },
  {
   "cell_type": "code",
   "execution_count": null,
   "metadata": {
    "collapsed": true
   },
   "outputs": [],
   "source": []
  }
 ],
 "metadata": {
  "kernelspec": {
   "display_name": "Python 3",
   "language": "python",
   "name": "python3"
  },
  "language_info": {
   "codemirror_mode": {
    "name": "ipython",
    "version": 3
   },
   "file_extension": ".py",
   "mimetype": "text/x-python",
   "name": "python",
   "nbconvert_exporter": "python",
   "pygments_lexer": "ipython3",
   "version": "3.4.4"
  }
 },
 "nbformat": 4,
 "nbformat_minor": 2
}
