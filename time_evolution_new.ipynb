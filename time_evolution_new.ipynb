{
 "cells": [
  {
   "cell_type": "code",
   "execution_count": 17,
   "metadata": {
    "collapsed": false,
    "deletable": true,
    "editable": true
   },
   "outputs": [],
   "source": [
    "import os\n",
    "import numpy as np\n",
    "import pandas as pd\n",
    "import matplotlib.pyplot as plt\n",
    "import matplotlib\n",
    "import analyze # takes some time since inits hax\n",
    "from channel_dict import channel_dict\n",
    "from tqdm import tqdm\n",
    "import datetime\n",
    "\n",
    "\n",
    "%matplotlib inline"
   ]
  },
  {
   "cell_type": "code",
   "execution_count": 18,
   "metadata": {
    "collapsed": false,
    "deletable": true,
    "editable": true
   },
   "outputs": [
    {
     "name": "stdout",
     "output_type": "stream",
     "text": [
      "1035\n",
      "cursor has 1035 runs\n",
      "Number of runs and most recent run of each type\n",
      "blank 30 15810\n",
      "bottom 30 15811\n",
      "topbulk 30 15812\n",
      "topring 30 15813\n"
     ]
    }
   ],
   "source": [
    "#make runlists\n",
    "from make_runlist_new import write_spe_lists\n",
    "# dry run\n",
    "write_spe_lists(write=False)"
   ]
  },
  {
   "cell_type": "code",
   "execution_count": null,
   "metadata": {
    "collapsed": false,
    "deletable": true,
    "editable": true
   },
   "outputs": [],
   "source": [
    "# if happy with dry run, write the files\n",
    "wrote = write_spe_lists(write=True)\n",
    "print(\"We wrote these files:\")\n",
    "for f in wrote:\n",
    "    print('\\t' + f)"
   ]
  },
  {
   "cell_type": "code",
   "execution_count": null,
   "metadata": {
    "collapsed": true,
    "deletable": true,
    "editable": true
   },
   "outputs": [],
   "source": [
    "#write runlists to files to be submitted \n",
    "with open(\"tmp_submit_file.txt\", \"w\") as f:\n",
    "    for file in wrote:\n",
    "        f.write(\"%s\\n\" % file)"
   ]
  },
  {
   "cell_type": "code",
   "execution_count": null,
   "metadata": {
    "collapsed": false,
    "deletable": true,
    "editable": true
   },
   "outputs": [],
   "source": [
    "#submit runlists to midway\n",
    "%%bash\n",
    "\n",
    "./notebook_submit.sh"
   ]
  },
  {
   "cell_type": "code",
   "execution_count": null,
   "metadata": {
    "collapsed": true,
    "deletable": true,
    "editable": true
   },
   "outputs": [],
   "source": [
    "ACTUALLY_OFF = [1, 2, 12, 26, 34, 62, 65, 79, 86, 88, 102, 118, \n",
    "                130, 134, 135, 139, 148, 150, 152, 162, 178, 183,\n",
    "                190, 198, 206, 213, 214, 234, 239, 244]"
   ]
  },
  {
   "cell_type": "code",
   "execution_count": 19,
   "metadata": {
    "collapsed": false,
    "deletable": true,
    "editable": true
   },
   "outputs": [
    {
     "name": "stderr",
     "output_type": "stream",
     "text": [
      " 18%|█▊        | 18/100 [00:40<03:10,  2.33s/it]/home/awalsh272/SPE/SPE/analyze.py:63: RuntimeWarning: divide by zero encountered in true_divide\n",
      "  return 1 - residual.cumsum(axis=1) / residual.sum(axis=1)[:, np.newaxis]\n",
      "/home/awalsh272/SPE/SPE/analyze.py:63: RuntimeWarning: invalid value encountered in true_divide\n",
      "  return 1 - residual.cumsum(axis=1) / residual.sum(axis=1)[:, np.newaxis]\n",
      "/project/lgrandi/anaconda3/envs/pax_head/lib/python3.4/site-packages/numpy/core/_methods.py:112: RuntimeWarning: invalid value encountered in subtract\n",
      "  x = asanyarray(arr - arrmean)\n",
      " 29%|██▉       | 29/100 [01:09<03:11,  2.70s/it]"
     ]
    },
    {
     "name": "stdout",
     "output_type": "stream",
     "text": [
      "LED likely OFF for runlist_13433_13434_13435.txt\n"
     ]
    },
    {
     "name": "stderr",
     "output_type": "stream",
     "text": [
      " 32%|███▏      | 32/100 [01:18<03:11,  2.81s/it]"
     ]
    },
    {
     "name": "stdout",
     "output_type": "stream",
     "text": [
      "LED likely OFF for runlist_14088_14089_14090.txt\n"
     ]
    },
    {
     "name": "stderr",
     "output_type": "stream",
     "text": [
      " 54%|█████▍    | 54/100 [01:53<02:14,  2.93s/it]/home/awalsh272/SPE/SPE/analyze.py:31: RuntimeWarning: divide by zero encountered in log\n",
      "  occupancy_array[:,i] = -1*np.log(self.make_correction(val, 'amplitude'))\n",
      "100%|██████████| 100/100 [03:43<00:00,  2.66s/it]\n"
     ]
    }
   ],
   "source": [
    "#takes runlists and uses just bottom runs \n",
    "#finds acceptances and errors\n",
    "\n",
    "def data_exists(run_number):\n",
    "    return os.path.exists('./data/run_%05d.h5' % run_number)\n",
    "\n",
    "def all_data_exists(runlist):\n",
    "    return all([data_exists(run) for run in runlist])\n",
    "\n",
    "def file_to_list(runlist_file):\n",
    "    return [int(run) for run in runlist_file.split('.')[0].split('_')[1:4]]\n",
    "\n",
    "runlists = [f for f in os.listdir('./runlists')]\n",
    "\n",
    "bottom_runs = []\n",
    "accs = []\n",
    "errors = []\n",
    "\n",
    "missing_runs = []\n",
    "\n",
    "for f in tqdm(sorted(runlists)):\n",
    "    runlist = file_to_list(f)\n",
    "    if not all_data_exists(runlist):\n",
    "        #print('data missing for %s' % f)\n",
    "        for r in runlist:\n",
    "            if not data_exists(r):\n",
    "                missing_runs.append(r)\n",
    "        continue\n",
    "    bottom_run = runlist[0]\n",
    "    topbulk_run = runlist[1]\n",
    "    topring_run = runlist[2]\n",
    "    \n",
    "    thresholds = analyze.get_thresholds(analyze.find_regular_run(bottom_run))\n",
    "    \n",
    "    acc, acc_errs = analyze.acceptance_3runs(bottom_run, topbulk_run, topring_run, thresholds)\n",
    "    occ, occ_errs = analyze.occupancy_3runs(bottom_run, topbulk_run, topring_run)\n",
    "    \n",
    "    on_channels = np.where(occ > 0.05)[0]\n",
    "    \n",
    "    if len(on_channels) < 200:\n",
    "        print('LED likely OFF for %s' % f)\n",
    "        continue\n",
    "    \n",
    "    acc = acc[on_channels]\n",
    "    acc_errs = acc_errs[on_channels]\n",
    "    \n",
    "    accs.append(np.median(acc))\n",
    "    errors.append(np.sqrt((acc_errs**2).sum()) / len(on_channels))\n",
    "    bottom_runs.append(bottom_run)\n",
    "    "
   ]
  },
  {
   "cell_type": "code",
   "execution_count": 20,
   "metadata": {
    "collapsed": false,
    "deletable": true,
    "editable": true
   },
   "outputs": [
    {
     "data": {
      "image/png": "[encoded data removed]",
      "text/plain": [
       "<matplotlib.figure.Figure at 0x7f72e0059390>"
      ]
     },
     "metadata": {},
     "output_type": "display_data"
    }
   ],
   "source": [
    "#acceptance vs run number \n",
    "plt.errorbar(bottom_runs, accs, yerr=errors, linestyle='None', marker='.')\n",
    "plt.xlabel(\"Run Number\")\n",
    "plt.ylabel(\"Acceptance Fraction\")\n",
    "plt.ylim(0.5, 1.05)\n",
    "plt.title(\"Acceptance Fraction vs Run Number\")\n",
    "plt.show()"
   ]
  },
  {
   "cell_type": "code",
   "execution_count": 21,
   "metadata": {
    "collapsed": false,
    "deletable": true,
    "editable": true
   },
   "outputs": [
    {
     "name": "stdout",
     "output_type": "stream",
     "text": [
      "[datetime.datetime(2016, 12, 2, 0, 0), datetime.datetime(2016, 12, 6, 0, 0), datetime.datetime(2016, 12, 9, 0, 0), datetime.datetime(2016, 12, 13, 0, 0), datetime.datetime(2016, 12, 16, 0, 0), datetime.datetime(2016, 12, 20, 0, 0), datetime.datetime(2016, 12, 23, 0, 0), datetime.datetime(2016, 12, 27, 0, 0), datetime.datetime(2017, 1, 10, 0, 0), datetime.datetime(2017, 1, 17, 0, 0), datetime.datetime(2017, 1, 20, 0, 0), datetime.datetime(2017, 1, 24, 0, 0), datetime.datetime(2017, 2, 3, 0, 0), datetime.datetime(2017, 2, 8, 0, 0), datetime.datetime(2017, 2, 8, 0, 0), datetime.datetime(2017, 2, 9, 0, 0), datetime.datetime(2017, 2, 9, 0, 0), datetime.datetime(2017, 2, 10, 0, 0), datetime.datetime(2017, 2, 13, 0, 0), datetime.datetime(2017, 2, 20, 0, 0), datetime.datetime(2017, 2, 23, 0, 0), datetime.datetime(2017, 2, 27, 0, 0), datetime.datetime(2017, 2, 28, 0, 0), datetime.datetime(2017, 3, 3, 0, 0), datetime.datetime(2017, 3, 6, 0, 0), datetime.datetime(2017, 3, 7, 0, 0), datetime.datetime(2017, 3, 10, 0, 0), datetime.datetime(2017, 3, 11, 0, 0), datetime.datetime(2017, 3, 15, 0, 0), datetime.datetime(2017, 3, 17, 0, 0), datetime.datetime(2017, 3, 21, 0, 0), datetime.datetime(2017, 3, 24, 0, 0), datetime.datetime(2017, 3, 28, 0, 0), datetime.datetime(2017, 3, 31, 0, 0), datetime.datetime(2017, 4, 4, 0, 0), datetime.datetime(2017, 4, 7, 0, 0), datetime.datetime(2017, 4, 10, 0, 0), datetime.datetime(2017, 4, 14, 0, 0), datetime.datetime(2017, 4, 18, 0, 0), datetime.datetime(2017, 4, 21, 0, 0), datetime.datetime(2017, 4, 25, 0, 0), datetime.datetime(2017, 4, 28, 0, 0), datetime.datetime(2017, 5, 2, 0, 0), datetime.datetime(2017, 5, 5, 0, 0), datetime.datetime(2017, 5, 14, 0, 0), datetime.datetime(2017, 5, 16, 0, 0), datetime.datetime(2017, 5, 19, 0, 0), datetime.datetime(2017, 5, 23, 0, 0), datetime.datetime(2017, 5, 30, 0, 0), datetime.datetime(2017, 6, 2, 0, 0), datetime.datetime(2017, 6, 8, 0, 0), datetime.datetime(2017, 6, 17, 0, 0), datetime.datetime(2017, 6, 20, 0, 0), datetime.datetime(2017, 6, 23, 0, 0), datetime.datetime(2017, 6, 27, 0, 0), datetime.datetime(2017, 6, 30, 0, 0), datetime.datetime(2017, 7, 4, 0, 0), datetime.datetime(2017, 7, 7, 0, 0), datetime.datetime(2017, 7, 21, 0, 0), datetime.datetime(2017, 7, 28, 0, 0), datetime.datetime(2017, 8, 1, 0, 0), datetime.datetime(2017, 8, 4, 0, 0), datetime.datetime(2017, 8, 12, 0, 0), datetime.datetime(2017, 8, 15, 0, 0), datetime.datetime(2017, 8, 18, 0, 0), datetime.datetime(2017, 8, 22, 0, 0), datetime.datetime(2017, 8, 25, 0, 0), datetime.datetime(2017, 8, 29, 0, 0), datetime.datetime(2017, 9, 1, 0, 0), datetime.datetime(2017, 9, 8, 0, 0), datetime.datetime(2017, 9, 15, 0, 0), datetime.datetime(2017, 9, 22, 0, 0), datetime.datetime(2017, 9, 29, 0, 0), datetime.datetime(2017, 10, 13, 0, 0), datetime.datetime(2017, 10, 20, 0, 0), datetime.datetime(2017, 11, 3, 0, 0), datetime.datetime(2017, 11, 17, 0, 0), datetime.datetime(2017, 12, 21, 0, 0), datetime.datetime(2017, 12, 29, 0, 0)]\n"
     ]
    }
   ],
   "source": [
    "#make a dictionary of runs and dates\n",
    "from make_runlist_new import get_dates\n",
    "date_dict=get_dates(bottom_runs)\n",
    "\n",
    "date_list=[]\n",
    "\n",
    "#list of ordered dates\n",
    "\n",
    "for i in date_dict.values():\n",
    "    #turn dates into strings\n",
    "    i=datetime.datetime.strftime(i, '%x')\n",
    "    #so they can be reformated as dates again\n",
    "    i=datetime.datetime.strptime(i, '%x')\n",
    "    date_list.append(i)\n",
    "\n",
    "date_list=sorted(date_list)\n",
    "print (date_list)\n",
    "\n",
    "dates = matplotlib.dates.date2num(date_list)"
   ]
  },
  {
   "cell_type": "code",
   "execution_count": 22,
   "metadata": {
    "collapsed": false,
    "deletable": true,
    "editable": true
   },
   "outputs": [
    {
     "name": "stdout",
     "output_type": "stream",
     "text": [
      "79 79 79\n"
     ]
    },
    {
     "data": {
      "image/png": "[encoded data removed]",
      "text/plain": [
       "<matplotlib.figure.Figure at 0x7f72e05c34a8>"
      ]
     },
     "metadata": {},
     "output_type": "display_data"
    }
   ],
   "source": [
    "#plot acceptances vs time\n",
    "print(len(dates), len(accs), len(bottom_runs))\n",
    "plt.plot_date(dates, accs, linestyle='None', marker='.')\n",
    "#plt.errorbar(dates, accs, yerr=errors, linestyle='None', marker='.')\n",
    "plt.xlabel(\"Time\")\n",
    "plt.ylabel(\"Acceptance Fraction\")\n",
    "plt.ylim(0.5, 1.05)\n",
    "plt.title(\"Acceptance Fraction vs Time\")\n",
    "plt.show()"
   ]
  },
  {
   "cell_type": "code",
   "execution_count": null,
   "metadata": {
    "collapsed": true,
    "deletable": true,
    "editable": true
   },
   "outputs": [],
   "source": [
    "from spe_acceptance import data_dir_base #/project/lgrandi/xenon1t/spe_acceptance/data\n",
    "\n",
    "def acceptance_curve_3runs(bottom_run, topbulk_run, topring_run):\n",
    "    ret_acc, ret_errs = np.ones((248, 1099)), np.ones((248, 1099))\n",
    "    run_list = [bottom_run, topbulk_run, topring_run]\n",
    "    channel_lists = [channel_dict['bottom_channels'],\n",
    "                     channel_dict['top_bulk'],\n",
    "                     channel_dict['top_outer_ring']]\n",
    "    for run, ch_list in zip(run_list, channel_lists):\n",
    "        path = os.path.join(data_dir_base, 'run_%05d.h5' % run)\n",
    "        if not os.path.exists(path):\n",
    "            print(\"Acceptance data does not exist for run %d\" % run)\n",
    "        s = analyze.SPE(path)\n",
    "        frac, errs = s.acceptance_by_channel\n",
    "        ret_acc[ch_list,:] = frac[ch_list,:]\n",
    "        ret_errs[ch_list,:] = errs[ch_list,:]\n",
    "        x = s.data['bin_centers']\n",
    "    return x, ret_acc, ret_errs"
   ]
  },
  {
   "cell_type": "code",
   "execution_count": null,
   "metadata": {
    "collapsed": false,
    "deletable": true,
    "editable": true
   },
   "outputs": [],
   "source": [
    "bottom_runs = np.array(bottom_runs)\n",
    "accs = np.array(accs)\n",
    "\n",
    "print(bottom_runs[np.where(accs < 0.7)])"
   ]
  },
  {
   "cell_type": "code",
   "execution_count": null,
   "metadata": {
    "collapsed": false,
    "deletable": true,
    "editable": true
   },
   "outputs": [],
   "source": [
    "runlist = tuple(file_to_list('runlist_13837_13838_13839.txt'))\n",
    "\n",
    "x, acc, errs = acceptance_curve_3runs(*runlist)\n",
    "\n",
    "\n",
    "plt.figure(figsize = (9,6))\n",
    "for curve, err in zip(acc, errs):\n",
    "    plt.plot(x, curve, color='grey')\n",
    "plt.xlim(-10,150)\n",
    "plt.ylim(0, 1.2)\n",
    "plt.show()\n"
   ]
  },
  {
   "cell_type": "code",
   "execution_count": null,
   "metadata": {
    "collapsed": false,
    "deletable": true,
    "editable": true
   },
   "outputs": [],
   "source": [
    "runlist='runlist_14192_14193_14195.txt'\n",
    "runs = runlist.split('_')[1:4]\n",
    "bot_run = int(runs[0])\n",
    "tb_run = int(runs[1])\n",
    "tr_run = int(runs[2][:-4])\n",
    "\n",
    "thresholds = analyze.get_thresholds(analyze.find_regular_run(bot_run))\n",
    "acc, err = analyze.acceptance_3runs(bot_run, tb_run, tr_run, thresholds)\n",
    "occ, occ_err = analyze.occupancy_3runs(bot_run, tb_run, tr_run)"
   ]
  },
  {
   "cell_type": "code",
   "execution_count": null,
   "metadata": {
    "collapsed": false,
    "deletable": true,
    "editable": true
   },
   "outputs": [],
   "source": [
    "plt.hist(occ, bins=50, range=(0,1.1))\n",
    "plt.xlim(0,0.2)\n",
    "plt.show()"
   ]
  },
  {
   "cell_type": "code",
   "execution_count": null,
   "metadata": {
    "collapsed": false,
    "deletable": true,
    "editable": true
   },
   "outputs": [],
   "source": [
    "myoff = np.where(occ < 0.07)[0]\n",
    "print('in my_off but not actually:', [ch for ch in myoff if ch not in ACTUALLY_OFF])\n",
    "print('opposite: ', [ch for ch in ACTUALLY_OFF if ch not in myoff])"
   ]
  },
  {
   "cell_type": "code",
   "execution_count": null,
   "metadata": {
    "collapsed": false,
    "deletable": true,
    "editable": true
   },
   "outputs": [],
   "source": [
    "path = os.join(data_dir_base, 'run_%05d.h5' % tr_run)\n",
    "s = analyze.SPE(path)\n",
    "vals_to_check = [3,4,5,6,7,8,9]\n",
    "occ_array = np.ones((248, len(vals_to_check)))\n",
    "for i, val in enumerate(vals_to_check):\n",
    "    occ_array[:,i] = -1*np.log(s.make_correction(val, 'amplitude'))\n",
    "occ = np.mean(occ_array, axis=1)\n",
    "myoff = np.where(occ < 0.1)[0]"
   ]
  },
  {
   "cell_type": "code",
   "execution_count": null,
   "metadata": {
    "collapsed": true,
    "deletable": true,
    "editable": true
   },
   "outputs": [],
   "source": []
  },
  {
   "cell_type": "code",
   "execution_count": null,
   "metadata": {
    "collapsed": false,
    "deletable": true,
    "editable": true
   },
   "outputs": [],
   "source": [
    "plt.plot(s.data['bin_centers'], s.data['LED_amplitude'][:,0], color='black')\n",
    "plt.plot(s.data['bin_centers'], s.data['noise_amplitude'][:,0], color='red')\n",
    "plt.yscale('log')\n",
    "plt.xlim(-50, 250)\n",
    "plt.show()"
   ]
  },
  {
   "cell_type": "code",
   "execution_count": null,
   "metadata": {
    "collapsed": false,
    "deletable": true,
    "editable": true
   },
   "outputs": [],
   "source": [
    "run_number = 15628\n",
    "path = os.path.join(data_dir_base, 'run_%05d.h5' % run_number)\n",
    "if not os.path.exists(path):\n",
    "    print(\"Acceptance data does not exist for run %d\" % run_number)\n",
    "s = analyze.SPE(path)\n",
    "acc_fracs = []\n",
    "\n",
    "        "
   ]
  },
  {
   "cell_type": "code",
   "execution_count": null,
   "metadata": {
    "collapsed": false,
    "deletable": true,
    "editable": true
   },
   "outputs": [],
   "source": [
    "ch = 0\n",
    "\n",
    "acc = s.acceptance(6, 'amplitude')\n",
    "acc2 = s.acceptance_curves[ch]\n",
    "acc2_errs = s.acceptance_errors[ch]\n",
    "plt.plot(s.data['bin_centers'], acc[ch])\n",
    "plt.errorbar(s.data['bin_centers'], acc2, yerr=acc2_errs)\n",
    "plt.xlim(-10, 150)\n",
    "plt.show()"
   ]
  },
  {
   "cell_type": "code",
   "execution_count": null,
   "metadata": {
    "collapsed": true,
    "deletable": true,
    "editable": true
   },
   "outputs": [],
   "source": [
    "def acceptance_fraction(run_number, thresholds):\n",
    "    path = os.path.join(data_dir_base, 'run_%05d.h5' % run_number)\n",
    "    if not os.path.exists(path):\n",
    "        print(\"Acceptance data does not exist for run %d\" % run_number)\n",
    "    s = analyze.SPE(path)\n",
    "    frac_array = np.ones((248, s.big_array.shape[-1]))\n",
    "    ch_index = np.arange(248)\n",
    "    thresholds = np.array(thresholds)\n",
    "    bin0 = np.where(s.data['bin_centers'] == 0.5)[0][0]\n",
    "    for i in range(s.big_array.shape[-1]):\n",
    "        frac_array[:,i] = s.big_array[...,i][ch_index, thresholds[:248] + bin0]\n",
    "    acc_frac = np.mean(frac_array, axis=1)\n",
    "    acc_errs = np.std(frac_array, axis=1)\n",
    "    return acc_frac, acc_errs"
   ]
  },
  {
   "cell_type": "code",
   "execution_count": null,
   "metadata": {
    "collapsed": false,
    "deletable": true,
    "editable": true
   },
   "outputs": [],
   "source": [
    "run_number = 15628\n",
    "path=os.path.join(data_dir_base, 'run_%05d.h5' % run_number)\n",
    "s = analyze.SPE(path)\n",
    "thresh = analyze.get_thresholds(analyze.find_regular_run(run_number))\n",
    "\n",
    "#acceptance fraction defined above, otherwise need to do analyze.acceptance_fraction\n",
    "frac, errs = acceptance_fraction(run_number, thresh)"
   ]
  },
  {
   "cell_type": "code",
   "execution_count": null,
   "metadata": {
    "collapsed": false,
    "deletable": true,
    "editable": true
   },
   "outputs": [],
   "source": [
    "arr = np.ones(5)\n",
    "arr[[2,4]] = [2,2]\n",
    "arr"
   ]
  },
  {
   "cell_type": "code",
   "execution_count": null,
   "metadata": {
    "collapsed": true,
    "deletable": true,
    "editable": true
   },
   "outputs": [],
   "source": [
    "from channel_dict import channel_dict\n",
    "\n",
    "bot_run = 15625\n",
    "tb_run = 15627\n",
    "tr_run = 15628\n",
    "\n",
    "bottom = channel_dict['bottom_channels']\n",
    "topbulk = channel_dict['top_bulk']\n",
    "topring = channel_dict['top_outer_ring']\n",
    "\n",
    "real_acc, real_errs = np.ones(248), np.ones(248)\n",
    "\n",
    "for run, channels in zip([bot_run, tb_run, tr_run], [bottom, topbulk, topring]):\n",
    "    frac, errs = acceptance_fraction(run_number, thresh)\n",
    "    real_acc[channels] = frac[channels]\n",
    "    real_errs[channels] = errs[channels]"
   ]
  },
  {
   "cell_type": "code",
   "execution_count": null,
   "metadata": {
    "collapsed": true,
    "deletable": true,
    "editable": true
   },
   "outputs": [],
   "source": [
    "arr  = s.big_array"
   ]
  },
  {
   "cell_type": "code",
   "execution_count": null,
   "metadata": {
    "collapsed": false,
    "deletable": true,
    "editable": true
   },
   "outputs": [],
   "source": [
    "corrections = s.make_correction(6, 'amplitude')\n",
    "corrections"
   ]
  },
  {
   "cell_type": "code",
   "execution_count": null,
   "metadata": {
    "collapsed": false,
    "deletable": true,
    "editable": true
   },
   "outputs": [],
   "source": [
    "chs = np.arange(248)\n",
    "thresh = np.array(thresh[:248])\n",
    "ch = 139\n",
    "\n",
    "frac_array = np.ones((248, arr.shape[-1]))\n",
    "plt.figure(figsize=(9,6))\n",
    "for i in range(s.big_array.shape[-1]):\n",
    "    tmp = arr[...,i]\n",
    "    frac_array[:,i] = tmp[chs, 100+thresh]\n",
    "    plt.plot(s.data['bin_centers'], s.big_array[ch,:,i])\n",
    "    #frac_array[:,i] = arr[...,i][list(np.arange(248)), thresh]\n",
    "\n",
    "\n",
    "plt.errorbar([thresh[ch]], np.mean(frac_array[ch]), yerr=np.std(frac_array[ch]))\n",
    "plt.xlim(0,150)\n",
    "frac_array[ch]"
   ]
  },
  {
   "cell_type": "code",
   "execution_count": null,
   "metadata": {
    "collapsed": false,
    "deletable": true,
    "editable": true
   },
   "outputs": [],
   "source": [
    "thresh = np.array(thresh)\n",
    "len(thresh)"
   ]
  },
  {
   "cell_type": "code",
   "execution_count": null,
   "metadata": {
    "collapsed": false,
    "deletable": true,
    "editable": true
   },
   "outputs": [],
   "source": [
    "plt.plot(s.data['bin_centers'], s.data['LED_amplitude'][:,ch])\n",
    "plt.plot(s.data['bin_centers'], s.data['noise_amplitude'][:,ch])\n",
    "plt.yscale('log')\n",
    "plt.xlim(-20,20)"
   ]
  }
 ],
 "metadata": {
  "kernelspec": {
   "display_name": "Python 3",
   "language": "python",
   "name": "python3"
  },
  "language_info": {
   "codemirror_mode": {
    "name": "ipython",
    "version": 3
   },
   "file_extension": ".py",
   "mimetype": "text/x-python",
   "name": "python",
   "nbconvert_exporter": "python",
   "pygments_lexer": "ipython3",
   "version": "3.4.4"
  }
 },
 "nbformat": 4,
 "nbformat_minor": 1
}
