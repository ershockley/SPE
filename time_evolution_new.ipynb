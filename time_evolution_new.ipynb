{
 "cells": [
  {
   "cell_type": "code",
   "execution_count": 1,
   "metadata": {
    "collapsed": false,
    "deletable": true,
    "editable": true
   },
   "outputs": [],
   "source": [
    "import os\n",
    "import numpy as np\n",
    "import pandas as pd\n",
    "import matplotlib.pyplot as plt\n",
    "import matplotlib\n",
    "import analyze # takes some time since inits hax\n",
    "from channel_dict import channel_dict\n",
    "from tqdm import tqdm\n",
    "import datetime\n",
    "\n",
    "%matplotlib inline"
   ]
  },
  {
   "cell_type": "markdown",
   "metadata": {
    "deletable": true,
    "editable": true
   },
   "source": [
    "### Job Submission"
   ]
  },
  {
   "cell_type": "code",
   "execution_count": null,
   "metadata": {
    "collapsed": false,
    "deletable": true,
    "editable": true
   },
   "outputs": [],
   "source": [
    "#job submission\n",
    "\n",
    "#dry run\n",
    "from make_runlist_new import write_spe_lists\n",
    "\n",
    "write_spe_lists(write=False)"
   ]
  },
  {
   "cell_type": "code",
   "execution_count": null,
   "metadata": {
    "collapsed": false,
    "deletable": true,
    "editable": true
   },
   "outputs": [],
   "source": [
    "#writes actual runlists\n",
    "\n",
    "written=write_spe_lists(write=True)"
   ]
  },
  {
   "cell_type": "code",
   "execution_count": null,
   "metadata": {
    "collapsed": true,
    "deletable": true,
    "editable": true
   },
   "outputs": [],
   "source": [
    "def submit_job(file):\n",
    "    command = \"./submit_jobs.sh %s\" % os.path.join('runlists', file)\n",
    "    print(command)\n",
    "    !{command}"
   ]
  },
  {
   "cell_type": "code",
   "execution_count": null,
   "metadata": {
    "collapsed": true,
    "deletable": true,
    "editable": true
   },
   "outputs": [],
   "source": [
    "#submit jobs for new runlists\n",
    "for f in written:\n",
    "    submit_job(f)"
   ]
  },
  {
   "cell_type": "markdown",
   "metadata": {
    "deletable": true,
    "editable": true
   },
   "source": [
    "### Acc vs Time Plot"
   ]
  },
  {
   "cell_type": "code",
   "execution_count": 2,
   "metadata": {
    "collapsed": true,
    "deletable": true,
    "editable": true
   },
   "outputs": [],
   "source": [
    "ACTUALLY_OFF = [1, 2, 12, 26, 34, 62, 65, 79, 86, 88, 102, 118, \n",
    "                130, 134, 135, 139, 148, 150, 152, 162, 178, 183,\n",
    "                190, 198, 206, 213, 214, 234, 239, 244]"
   ]
  },
  {
   "cell_type": "code",
   "execution_count": null,
   "metadata": {
    "collapsed": false,
    "deletable": true,
    "editable": true
   },
   "outputs": [],
   "source": [
    "import hax\n",
    "#hax already initiated when analyze is imported\n",
    "\n",
    "from spe_acceptance import data_dir_base\n",
    "\n",
    "\n",
    "def data_exists(run_number):\n",
    "    data_path=os.path.join(data_dir_base, 'run_%05d.h5' %run_number)\n",
    "    return os.path.exists(data_path)\n",
    "\n",
    "def all_data_exists(runlist):\n",
    "    return all([data_exists(run) for run in runlist])\n",
    "\n",
    "def file_to_list(runlist_file):\n",
    "    return [int(run) for run in runlist_file.split('.')[0].split('_')[1:4]]\n",
    "\n",
    "def get_run_time(run):\n",
    "    return hax.runs.datasets[hax.runs.datasets.number == run].start.values[0]"
   ]
  },
  {
   "cell_type": "code",
   "execution_count": null,
   "metadata": {
    "collapsed": false,
    "deletable": true,
    "editable": true,
    "scrolled": true
   },
   "outputs": [
    {
     "name": "stderr",
     "output_type": "stream",
     "text": [
      "  0%|          | 0/102 [00:00<?, ?it/s]/home/awalsh272/SPE/SPE/analyze.py:56: RuntimeWarning: invalid value encountered in true_divide\n",
      "  sigma_corr=corr*np.sqrt((sigma_led/led)**2 + (sigma_noise/noise)**2)\n",
      "/home/awalsh272/SPE/SPE/analyze.py:69: RuntimeWarning: invalid value encountered in true_divide\n",
      "  sigma_corr_noise=corr_noise*np.sqrt( (sigma_corr/corrections)**2 + (sigma_noise/noise)**2)\n",
      "  5%|▍         | 5/102 [19:20<6:14:41, 231.77s/it]/home/awalsh272/SPE/SPE/analyze.py:102: RuntimeWarning: divide by zero encountered in true_divide\n",
      "  acc =  1 - residual.cumsum(axis=1) / residual.sum(axis=1)[:, np.newaxis]\n",
      "/home/awalsh272/SPE/SPE/analyze.py:102: RuntimeWarning: invalid value encountered in true_divide\n",
      "  acc =  1 - residual.cumsum(axis=1) / residual.sum(axis=1)[:, np.newaxis]\n",
      " 55%|█████▍    | 56/102 [2:38:44<2:56:58, 230.84s/it]/home/awalsh272/SPE/SPE/analyze.py:37: RuntimeWarning: divide by zero encountered in log\n",
      "  occupancy_array[:,i] = -1*np.log(corr)\n",
      "/project/lgrandi/anaconda3/envs/pax_head/lib/python3.4/site-packages/numpy/core/_methods.py:112: RuntimeWarning: invalid value encountered in subtract\n",
      "  x = asanyarray(arr - arrmean)\n",
      "100%|██████████| 102/102 [5:13:25<00:00, 222.68s/it] "
     ]
    },
    {
     "name": "stdout",
     "output_type": "stream",
     "text": [
      "These runs are missing data:  [11278, 11279, 11352, 11353, 11354, 11535, 11536, 14370, 14371, 14734, 14735, 14907, 15087, 15268, 15811, 15812, 15813, 15987, 15988, 15989, 16237, 16238, 16239, 4511, 4512, 4513, 4688, 4689, 4848, 4851, 4850, 4956, 4958, 4957, 5949, 5950, 5951, 6052, 6053, 6248, 6249, 6647, 6836, 7100]\n",
      "LED likely off for these files:  ['runlist_13433_13434_13435.txt', 'runlist_14088_14089_14090.txt']\n"
     ]
    },
    {
     "name": "stderr",
     "output_type": "stream",
     "text": [
      "\n"
     ]
    }
   ],
   "source": [
    "runlists = [f for f in os.listdir('./runlists')]\n",
    "\n",
    "bottom_runs = []\n",
    "accs = []\n",
    "errors = []\n",
    "\n",
    "missing_runs = []\n",
    "LED_off = []\n",
    "resubmit_files = []\n",
    "\n",
    "for f in tqdm(sorted(runlists)):\n",
    "    runlist = file_to_list(f)\n",
    "    if not all_data_exists(runlist):\n",
    "        resubmit_files.append(f)\n",
    "        #print('data missing for %s' % f)\n",
    "        for r in runlist:\n",
    "            if not data_exists(r):\n",
    "                missing_runs.append(r)\n",
    "        continue\n",
    "        \n",
    "    bottom_run = runlist[0]\n",
    "    topbulk_run = runlist[1]\n",
    "    topring_run = runlist[2]\n",
    "    \n",
    "    thresholds = analyze.get_thresholds(analyze.find_regular_run(bottom_run))\n",
    "    \n",
    "    acc, acc_errs = analyze.acceptance_3runs(bottom_run, topbulk_run, topring_run, thresholds)\n",
    "    occ, occ_errs = analyze.occupancy_3runs(bottom_run, topbulk_run, topring_run)\n",
    "    \n",
    "    on_channels = np.where(occ > 0.05)[0]\n",
    "    \n",
    "    if len(on_channels) < 200:\n",
    "        LED_off.append(f)\n",
    "        #print('LED likely OFF for %s' % f)\n",
    "        continue\n",
    "    \n",
    "    acc = acc[on_channels]\n",
    "    acc_errs = acc_errs[on_channels]\n",
    "    \n",
    "    accs.append(np.mean(acc))\n",
    "    errors.append(np.sqrt((acc_errs**2).sum()) / len(on_channels))\n",
    "    bottom_runs.append(bottom_run)\n",
    "    \n",
    "print(\"These runs are missing data: \", missing_runs)\n",
    "print(\"LED likely off for these files: \", LED_off)"
   ]
  },
  {
   "cell_type": "code",
   "execution_count": null,
   "metadata": {
    "collapsed": false,
    "deletable": true,
    "editable": true
   },
   "outputs": [],
   "source": [
    "#get noise rms for acc vs time plot\n",
    "#explains outliers \n",
    "\n",
    "noise_runs = []\n",
    "noise_rms = []\n",
    "noise_errors = [[],[]]\n",
    "\n",
    "with open('./noise_rms.csv') as f:\n",
    "    for num, line in enumerate(f.readlines()):\n",
    "        if num==0:\n",
    "            continue\n",
    "        line = line.split(',')\n",
    "        run, rms, lower, upper = int(line[0]), float(line[1]), float(line[2]), float(line[3])\n",
    "        noise_runs.append(run)\n",
    "        noise_rms.append(rms)\n",
    "        noise_errors[0].append(lower)\n",
    "        noise_errors[1].append(upper)\n",
    "        \n",
    "noise_dates = [get_run_time(run) for run in noise_runs]"
   ]
  },
  {
   "cell_type": "code",
   "execution_count": null,
   "metadata": {
    "collapsed": false,
    "deletable": true,
    "editable": true
   },
   "outputs": [
    {
     "data": {
      "image/png": "[encoded data removed]",
      "text/plain": [
       "<matplotlib.figure.Figure at 0x7f7e90676828>"
      ]
     },
     "metadata": {},
     "output_type": "display_data"
    }
   ],
   "source": [
    "#plot acceptance vs time \n",
    "\n",
    "import matplotlib.dates as mdates\n",
    "years = mdates.YearLocator()   # every year\n",
    "months = mdates.MonthLocator()  # every month\n",
    "fmt = mdates.DateFormatter('%Y-%m')\n",
    "\n",
    "dates = np.array([get_run_time(run) for run in bottom_runs])\n",
    "bottom_runs = np.array(bottom_runs)\n",
    "accs = np.array(accs)\n",
    "errors = np.array(errors)\n",
    "\n",
    "noisy_runs = [12768, 13837]\n",
    "\n",
    "sr1 = np.where(bottom_runs > 6731)\n",
    "sr1 = [i for i in sr1[0] if bottom_runs[i] not in noisy_runs]\n",
    "\n",
    "plot_dates = dates[sr1]\n",
    "plot_runs = bottom_runs[sr1]\n",
    "plot_accs = accs[sr1]\n",
    "plot_errors = errors[sr1]\n",
    "\n",
    "f, ax = plt.subplots(figsize=(12,8))\n",
    "#plt.errorbar(bottom_runs, accs, yerr=errors, linestyle='None', marker='.')\n",
    "ax.errorbar(plot_dates, plot_accs, yerr=plot_errors, linestyle='None', marker='.')\n",
    "ax.set_ylim(0.75, 1.0)\n",
    "plt.xticks(ax.get_xticks(), ax.get_xticklabels(), rotation=20)\n",
    "ax.xaxis.set_major_locator(months)\n",
    "ax.xaxis.set_major_formatter(fmt)\n",
    "ax.grid()\n",
    "ax.set_xlabel('data')\n",
    "ax.set_ylabel('spe acceptance')\n",
    "\n",
    "ax2 = ax.twinx()\n",
    "ax2.scatter(noise_dates, noise_rms, color='red')\n",
    "ax2.tick_params('y', colors='red')\n",
    "ax2.set_ylabel('noise rms', color='red')\n",
    "ax2.set_ylim(1.8,3.8)\n",
    "plt.savefig('new_moneyplot.png')\n",
    "plt.show()"
   ]
  },
  {
   "cell_type": "markdown",
   "metadata": {
    "deletable": true,
    "editable": true
   },
   "source": [
    "### Resubmit jobs without all needed data"
   ]
  },
  {
   "cell_type": "code",
   "execution_count": null,
   "metadata": {
    "collapsed": false,
    "deletable": true,
    "editable": true
   },
   "outputs": [],
   "source": [
    "#submits jobs that didn't work the first time\n",
    "for f in resubmit_files:\n",
    "    submit_job(f)"
   ]
  }
 ],
 "metadata": {
  "kernelspec": {
   "display_name": "Python 3",
   "language": "python",
   "name": "python3"
  },
  "language_info": {
   "codemirror_mode": {
    "name": "ipython",
    "version": 3
   },
   "file_extension": ".py",
   "mimetype": "text/x-python",
   "name": "python",
   "nbconvert_exporter": "python",
   "pygments_lexer": "ipython3",
   "version": "3.4.4"
  }
 },
 "nbformat": 4,
 "nbformat_minor": 1
}
